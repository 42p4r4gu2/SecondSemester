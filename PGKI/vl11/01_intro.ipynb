{
 "cells": [
  {
   "attachments": {},
   "cell_type": "markdown",
   "metadata": {},
   "source": [
    "# Lecture 11: MatplotLib"
   ]
  },
  {
   "attachments": {},
   "cell_type": "markdown",
   "metadata": {},
   "source": [
    "---\n",
    "### Content\n",
    "\n",
    "1. [Introduction](./01_intro.ipynb)\n",
    "\n",
    "2. [Simple Plots](./02_simple_plots.ipynb)\n",
    "\n",
    "3. [Figures](./03_figures.ipynb)"
   ]
  },
  {
   "attachments": {},
   "cell_type": "markdown",
   "metadata": {},
   "source": [
    "\n",
    "---\n",
    "## 1. Introduction \n",
    "    1.1 Examples\n",
    "    1.2 Installation\n",
    "    1.3 Matplotlib in JupyterLab\n",
    "    1.4 Imports\n",
    "    1.5 Resources\n",
    "    1.6 Anatomy of a Figure\n",
    "    1.7 Matplotlob Application Interfaces \n",
    "\n",
    "---\n",
    "### 1.1 Examples\n",
    "\n",
    "**Matplotlib** is a popular python package for producing high-quality figures and visualizing data.\n",
    "\n",
    "\n",
    "#### Example 1\n",
    "\n",
    "<div>\n",
    "<img src=\"figs/example_01.png\" width=\"500\"/>\n",
    "</div>\n",
    "\n",
    "\n",
    "#### Example 2\n",
    "\n",
    "<div>\n",
    "<img src=\"figs/example_02.png\" width=\"500\"/>\n",
    "</div>\n",
    "\n",
    "#### Example 3\n",
    "\n",
    "<div>\n",
    "<img src=\"figs/example_03.webp\" width=\"500\"/>\n",
    "</div>\n",
    "\n",
    "#### Example 4\n",
    "\n",
    "<div>\n",
    "<img src=\"figs/example_04.png\" width=\"500\"/>\n",
    "</div>"
   ]
  },
  {
   "attachments": {},
   "cell_type": "markdown",
   "metadata": {},
   "source": [
    "---\n",
    "### 1.2 Installation\n",
    "\n",
    "Install  \n",
    "+ via Anaconda GUI\n",
    "+ via CLI with `conda install matplotlib`\n",
    "+ via CLI with `pip install matplotlib`\n",
    "\n",
    "If you are not familiar with installing via command line interface (CLI) use the Anaconda GUI. "
   ]
  },
  {
   "attachments": {},
   "cell_type": "markdown",
   "metadata": {},
   "source": [
    "---\n",
    "### 1.3 Matblotlib in JupyterLab\n",
    "\n",
    "For interactive matblotlib sessions in JupyterLab, test Matplotlib's backend:"
   ]
  },
  {
   "cell_type": "code",
   "execution_count": 2,
   "metadata": {},
   "outputs": [
    {
     "name": "stdout",
     "output_type": "stream",
     "text": [
      "module://matplotlib_inline.backend_inline\n"
     ]
    }
   ],
   "source": [
    "import matplotlib\n",
    "print(matplotlib.get_backend())"
   ]
  },
  {
   "attachments": {},
   "cell_type": "markdown",
   "metadata": {},
   "source": [
    "If the output does not use a `backend_inline`, insert \n",
    "\n",
    "```python\n",
    "    %matplotlib inline\n",
    "```\n",
    "as the **first command** into the notebook.\n",
    "\n",
    "**Remark:**\n",
    "`%command_name` is a so-called *magic* command. More information abour magics can be found in the [IPython Tutorial](https://ipython.readthedocs.io/en/stable/interactive/magics.html)."
   ]
  },
  {
   "attachments": {},
   "cell_type": "markdown",
   "metadata": {},
   "source": [
    "---\n",
    "### 1.4 Imports\n",
    "\n",
    "The following imports are recommended:"
   ]
  },
  {
   "cell_type": "code",
   "execution_count": 3,
   "metadata": {},
   "outputs": [],
   "source": [
    "import numpy as np\n",
    "import matplotlib.pyplot as plt"
   ]
  },
  {
   "attachments": {},
   "cell_type": "markdown",
   "metadata": {},
   "source": [
    "---\n",
    "### 1.5 Ressources\n",
    "\n",
    "[**matplotlib.org**](https://matplotlib.org)\n",
    "+ Documentation\n",
    "+ Getting Started \n",
    "+ Examples & Plot Types\n",
    "+ References\n",
    "+ Cheat Sheets\n",
    "+ Tutorials & User Guides\n",
    "+ ...\n",
    "\n"
   ]
  },
  {
   "cell_type": "markdown",
   "metadata": {},
   "source": [
    "---\n",
    "### 1.6 Anatomy of a Figure\n",
    "<div>\n",
    "<img src=\"figs/anatomy.webp\" width=\"500\"/>\n",
    "</div>\n",
    "\n",
    "\n",
    "\n",
    "##### Figure\n",
    "\n",
    "+ top-level container for all the plot elements\n",
    "\n",
    "+ can be regarded as a canvas for multiple Axes objects\n",
    "\n",
    "\n",
    "##### Axes\n",
    "\n",
    "+ represents a single 'plot' (subplot)\n",
    "\n",
    "+ contains the drawing area for the data\n",
    "\n",
    "+ consists of x- and y-axis, ticks, labels, ...\n",
    "\n",
    "    \n",
    "##### Axis\n",
    "\n",
    "+ represents a 'coordinate-axis'\n",
    "\n",
    "+ sets its scale, ticks, tick labels, ..."
   ]
  },
  {
   "attachments": {},
   "cell_type": "markdown",
   "metadata": {},
   "source": [
    "---\n",
    "### 1.6 Matplotlob Application Interfaces \n",
    "\n",
    "There are two major interfaces to use Matplotlib:\n",
    "\n",
    "+ Explicit - object-oriented interface\n",
    "    \n",
    "+ Implicit - functional interface\n",
    "\n",
    "<br>\n",
    "\n",
    "**Explicit: Object-oriented interface**\n",
    "    \n",
    "+ explicitly create and manage *Figures* and *Axes*\n",
    "\n",
    "+ call methods on those objects using OO-style\n",
    "\n",
    "+ advanced plotting with more control over the display\n",
    "\n",
    "<br>\n",
    "\n",
    "**Implicit: Functional interface**\n",
    "\n",
    "+ implicitly create and manage *Figures* and *Axes*\n",
    "\n",
    "+ keeps rack of the last *Figure* and *Axes* created\n",
    "\n",
    "+ simple and easy to use for quick and interactive plotting\n",
    "\n",
    "+ plot elements are added to current *Figure* and *Axes*\n",
    "    \n",
    "<br>\n",
    "\n",
    "**Remark:** See [[>](https://realpython.com/python-matplotlib-guide/#stateful-versus-stateless-approaches)] for an explanation of both interfaces."
   ]
  }
 ],
 "metadata": {
  "kernelspec": {
   "display_name": "Python 3 (ipykernel)",
   "language": "python",
   "name": "python3"
  },
  "language_info": {
   "codemirror_mode": {
    "name": "ipython",
    "version": 3
   },
   "file_extension": ".py",
   "mimetype": "text/x-python",
   "name": "python",
   "nbconvert_exporter": "python",
   "pygments_lexer": "ipython3",
   "version": "3.11.7"
  }
 },
 "nbformat": 4,
 "nbformat_minor": 4
}
