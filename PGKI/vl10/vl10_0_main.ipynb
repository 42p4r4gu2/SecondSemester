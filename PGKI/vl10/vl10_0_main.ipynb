{
 "cells": [
  {
   "attachments": {},
   "cell_type": "markdown",
   "id": "dc5ff5c7",
   "metadata": {},
   "source": [
    "# Lecture 9: NumPy"
   ]
  },
  {
   "attachments": {},
   "cell_type": "markdown",
   "id": "6ead0ffd",
   "metadata": {},
   "source": [
    "---\n",
    "### Content\n",
    "\n",
    "**Part 2**\n",
    "\n",
    "4. [Shape Manipulation](./vl10_4_shapes.ipynb)\n",
    "\n",
    "5. [Broadcasting](./vl10_5_broadcasting.ipynb)\n",
    "\n",
    "6. [Advanced Indexing](./vl10_6_advanced_indexing.ipynb)\n",
    "\n",
    "7. [Matrix Multiplication](./vl10_7_matmul.ipynb)\n",
    "\n",
    "<br>\n",
    "\n",
    "**Part 1**\n",
    "\n",
    "0. Preliminaries\n",
    "\n",
    "1. Introduction to NumPy\n",
    "\n",
    "2. NumPy Arrays\n",
    "\n",
    "3. Operations on NumPy Arrays"
   ]
  },
  {
   "cell_type": "markdown",
   "id": "eb550635",
   "metadata": {},
   "source": []
  }
 ],
 "metadata": {
  "kernelspec": {
   "display_name": "Python 3 (ipykernel)",
   "language": "python",
   "name": "python3"
  },
  "language_info": {
   "codemirror_mode": {
    "name": "ipython",
    "version": 3
   },
   "file_extension": ".py",
   "mimetype": "text/x-python",
   "name": "python",
   "nbconvert_exporter": "python",
   "pygments_lexer": "ipython3",
   "version": "3.11.3"
  }
 },
 "nbformat": 4,
 "nbformat_minor": 5
}
