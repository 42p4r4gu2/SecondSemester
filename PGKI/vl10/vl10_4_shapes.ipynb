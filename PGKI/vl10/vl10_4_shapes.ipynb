{
 "cells": [
  {
   "cell_type": "code",
   "execution_count": 1,
   "id": "2bcf801e-37c4-48d2-b5d5-8c4f515377ce",
   "metadata": {},
   "outputs": [],
   "source": [
    "import numpy as np"
   ]
  },
  {
   "attachments": {},
   "cell_type": "markdown",
   "id": "bc7e1226",
   "metadata": {},
   "source": [
    "\n",
    "## 4. Shape Manipulations\n",
    "\n",
    "\n",
    "1. Overview\n",
    "\n",
    "2. `flatten` and `ravel`\n",
    "\n",
    "3. `resize` and `reshape`\n",
    "\n",
    "4. `transpose`\n",
    "\n",
    "5. Appendix A\n",
    "\n",
    "\n",
    "<br>\n",
    "\n",
    "#### Summary\n",
    "\n",
    "| Method/Function    | Type      | Reference | Returns\n",
    "|--------------------|-----------|-----------|-------------------------------|\n",
    "| `ndarray.flatten`  | method    | copy      | flattened copy of input array |\n",
    "| `ndarray.ravel`    | method    | view      | flattened view of input array |\n",
    "| `numpy.ravel`      | function  | view      | flattened view of input array |\n",
    "||\n",
    "| `ndarray.resize`   | method    | in-place  | reshaped input array of specified size |\n",
    "| `numpy.resize`     | function  | copy      | reshaped copy of specified size        |\n",
    "| `ndarray.reshape`  | method    | view      | reshaped view of same size             |\n",
    "| `numpy.reshape`    | function  | view      | reshaped view of same size             |\n",
    "||\n",
    "| `ndarray.transpose` | method   | view      | array with permuted axes |\n",
    "| `numpy.transpose`   | function | view      | array with permuted axes |\n",
    "| `ndarray.T`         | method   | view      | array with permuted axes |\n"
   ]
  },
  {
   "attachments": {},
   "cell_type": "markdown",
   "id": "d82fa926",
   "metadata": {},
   "source": [
    "---\n",
    "\n",
    "### 3.1. Overview\n",
    "\n",
    "\n",
    "**Application example:**\n",
    "\n",
    "+ Transform data into the required format for different algorithms \n",
    "\n",
    "+ The MNIST dataset consists of images of handwritten digits\n",
    "    \n",
    "+ Each image is represented by a 784-dimensional feature vector of pixel intensities\n",
    "    \n",
    "+ 1D representation is convenient for many machine learning classifiers\n",
    "    \n",
    "+ However, conv-nets require that MNIST images to be represented as 28 x 28 pixel matrices\n",
    "    \n",
    "+ Use shape manipulations to easily transform the data from one representation to the other\n",
    "\n",
    "\n",
    "<br>\n",
    "\n",
    "**Organization of NumPy Arrays:** \n",
    "\n",
    "+ N-dimensional arrays consist of \n",
    "\n",
    "    + raw array data (data buffer) stored as a **contiguous block** in memory\n",
    "\n",
    "    + metadata that describes how to interpret the data in the data buffer\n",
    "\n",
    "+ Memory layout\n",
    "\n",
    "    + elements can be stored in **row-major order** (C) or in **column-major order** (Fortran)\n",
    "\n",
    "    + an indexing code maps an N-dimensional index into a one-dimensional index\n",
    "\n",
    "+ Metadata\n",
    "\n",
    "    + offset and size information\n",
    "\n",
    "    + number of dimensions\n",
    "\n",
    "    + stride: separation between elements for each dimension\n",
    "\n",
    "    + ...\n",
    "    \n",
    "<br>\n",
    "\n",
    "**Example:** Internally, the elements of the following matrix\n",
    "\n",
    "$$\n",
    "A = \\begin{pmatrix}\n",
    "0 & 1 \\\\\n",
    "2 & 3\n",
    "\\end{pmatrix}\n",
    "$$\n",
    "\n",
    "can be stored contiguously in memory, for example in \n",
    "\n",
    "+ row-major order `0 1 2 3` as in C or in \n",
    "\n",
    "+ column-major order `0 2 1 3` as in Fortran\n",
    "\n",
    "Here, the elements are stored in row-major order as in C (C contiguous)."
   ]
  },
  {
   "cell_type": "code",
   "execution_count": 2,
   "id": "eba84dc9-1403-4e60-8c35-6526996ebfd1",
   "metadata": {},
   "outputs": [
    {
     "name": "stdout",
     "output_type": "stream",
     "text": [
      "matrix A:\n",
      "[[0 1 2]\n",
      " [2 3 3]]\n",
      "\n",
      "  C_CONTIGUOUS : True\n",
      "  F_CONTIGUOUS : False\n",
      "  OWNDATA : True\n",
      "  WRITEABLE : True\n",
      "  ALIGNED : True\n",
      "  WRITEBACKIFCOPY : False\n",
      "\n",
      "strides: (24, 8)\n"
     ]
    }
   ],
   "source": [
    "A = np.array([[0, 1, 2], [2, 3, 3]]) \n",
    "\n",
    "print('matrix A:')\n",
    "print(A)\n",
    "\n",
    "print()\n",
    "print(A.flags)\n",
    "print('strides:', A.strides)"
   ]
  },
  {
   "attachments": {},
   "cell_type": "markdown",
   "id": "751a3891",
   "metadata": {},
   "source": [
    "**Shape manipulations**\n",
    "\n",
    "+ Do not alter the memory layout\n",
    "\n",
    "+ Alter the metadata associated with the array\n",
    "\n",
    "<br>\n",
    "\n",
    "**Copies and Views:** \n",
    "\n",
    "+ Copies \n",
    "    \n",
    "    + duplicate the data buffer and metadata\n",
    "\n",
    "    + changes made to the copy do not reflect on the original array\n",
    "\n",
    "+ Views \n",
    "\n",
    "    + access the original data buffer by changing the metadata (e.g. stride)\n",
    "\n",
    "    + create a new way of looking at the data\n",
    "\n",
    "    + faster and less memory consuming than creating copies\n",
    "\n",
    "<br>\n",
    "\n",
    "**Note:** \n",
    "\n",
    "+ Some methods/functions aim to return a view may return a copy instead\n",
    "\n",
    "+ Copies are returned if a view is not possible"
   ]
  },
  {
   "attachments": {},
   "cell_type": "markdown",
   "id": "aca961f9-e63c-4552-9fd2-edab4550524c",
   "metadata": {},
   "source": [
    "---\n",
    "### 4.2. `flatten` and `ravel`\n",
    "\n",
    "\n",
    "#### **4.2.1. Overview**\n",
    "\n",
    "The `flatten` and `ravel` function / method *flatten* a multidimensional array onto a single axis.\n",
    "\n",
    "\n",
    "| Method/Function    | Type      | Reference | Returns\n",
    "|--------------------|-----------|-----------|-------------------------------|\n",
    "| `ndarray.flatten`  | method    | copy      | flattened copy of input array |\n",
    "| `ndarray.ravel`    | method    | view      | flattened view of input array |\n",
    "| `numpy.ravel`      | function  | view      | flattened view of input array |\n",
    "\n",
    "\n",
    "<br>\n",
    "\n",
    "**Note:** `ravel` \n",
    "\n",
    "+ returns a flattened view of the input array whenever possible, and a copy otherwise\n",
    "\n",
    "+ is usually faster than `flatten`\n",
    "\n",
    "+ there is no `np.flatten()`\n",
    "\n",
    "\n",
    "<br>\n",
    "\n",
    "#### **4.2.2. Example**\n",
    "By default, flatten and ravel flatten in row-major order. \n",
    "\n",
    "<div style=\"text-align: left;\">\n",
    "<img src=\"./figs/flatten.png\" alt=\"tensors\" width=\"300\">\n",
    "</div>"
   ]
  },
  {
   "attachments": {},
   "cell_type": "markdown",
   "id": "398434fa",
   "metadata": {},
   "source": [
    "#### **4.2.3 `flatten`**"
   ]
  },
  {
   "cell_type": "code",
   "execution_count": 3,
   "id": "1468641a-8c58-48de-a7c5-71b80b4edcc7",
   "metadata": {},
   "outputs": [
    {
     "name": "stdout",
     "output_type": "stream",
     "text": [
      "[[1 2 3]\n",
      " [4 5 6]]\n"
     ]
    }
   ],
   "source": [
    "# input 2D array to be flattened\n",
    "A = np.array([[1, 2, 3], [4, 5, 6]])\n",
    "print(A)"
   ]
  },
  {
   "cell_type": "code",
   "execution_count": 4,
   "id": "984f7a33",
   "metadata": {},
   "outputs": [
    {
     "name": "stdout",
     "output_type": "stream",
     "text": [
      "[1 2 3 4 5 6]\n"
     ]
    }
   ],
   "source": [
    "# flatten\n",
    "a_flatten = A.flatten()\n",
    "print(a_flatten)"
   ]
  },
  {
   "attachments": {},
   "cell_type": "markdown",
   "id": "e8abdb32",
   "metadata": {},
   "source": [
    "The `flatten` method returns a copy: "
   ]
  },
  {
   "cell_type": "code",
   "execution_count": 5,
   "id": "6db750db",
   "metadata": {},
   "outputs": [
    {
     "name": "stdout",
     "output_type": "stream",
     "text": [
      "\n",
      "original:\n",
      "[[1 2 3]\n",
      " [4 5 6]]\n",
      "\n",
      "flattened:\n",
      "[-1  2  3  4  5  6]\n",
      "\n",
      "a_flatten is a view of A? False\n"
     ]
    }
   ],
   "source": [
    "# modify flattened arrary\n",
    "a_flatten[0] = -1\n",
    "\n",
    "# check effect\n",
    "print()\n",
    "print('original:')\n",
    "print(A)\n",
    "\n",
    "print()\n",
    "print('flattened:')\n",
    "print(a_flatten)\n",
    "\n",
    "print()\n",
    "print('a_flatten is a view of A?', np.shares_memory(a_flatten, A))"
   ]
  },
  {
   "attachments": {},
   "cell_type": "markdown",
   "id": "6eaf3a74",
   "metadata": {},
   "source": [
    "#### **4.2.3. `ravel`** (view)"
   ]
  },
  {
   "cell_type": "code",
   "execution_count": 6,
   "id": "e8f4079d",
   "metadata": {},
   "outputs": [
    {
     "name": "stdout",
     "output_type": "stream",
     "text": [
      "[[1 2 3]\n",
      " [4 5 6]]\n"
     ]
    }
   ],
   "source": [
    "# input 2D array to be flattened\n",
    "A = np.array([[1, 2, 3], [4, 5, 6]])\n",
    "print(A)"
   ]
  },
  {
   "cell_type": "code",
   "execution_count": 7,
   "id": "8e659e1a",
   "metadata": {},
   "outputs": [
    {
     "name": "stdout",
     "output_type": "stream",
     "text": [
      "[1 2 3 4 5 6]\n"
     ]
    }
   ],
   "source": [
    "# ravel function\n",
    "a_ravel = np.ravel(A)\n",
    "print(a_ravel)"
   ]
  },
  {
   "attachments": {},
   "cell_type": "markdown",
   "id": "cbc827c5",
   "metadata": {},
   "source": [
    "The `ravel` function returns a view:"
   ]
  },
  {
   "cell_type": "code",
   "execution_count": 8,
   "id": "da6cda21",
   "metadata": {},
   "outputs": [
    {
     "name": "stdout",
     "output_type": "stream",
     "text": [
      "\n",
      "original:\n",
      "[[-1  2  3]\n",
      " [ 4  5  6]]\n",
      "\n",
      "raveled:\n",
      "[-1  2  3  4  5  6]\n",
      "\n",
      "a_ravel is a view of A? True\n"
     ]
    }
   ],
   "source": [
    "# modify raveled arrary\n",
    "a_ravel[0] = -1\n",
    "\n",
    "# check effect\n",
    "print()\n",
    "print('original:')\n",
    "print(A)\n",
    "\n",
    "print()\n",
    "print('raveled:')\n",
    "print(a_ravel)\n",
    "\n",
    "print()\n",
    "print('a_ravel is a view of A?', np.shares_memory(a_ravel, A))\n"
   ]
  },
  {
   "attachments": {},
   "cell_type": "markdown",
   "id": "896b2b62-dce5-4403-9f5b-0e2b50c5b717",
   "metadata": {},
   "source": [
    "---\n",
    "\n",
    "### 4.3. `resize` and `reshape`\n",
    "\n",
    "\n",
    "#### **4.3.1. Overview**\n",
    "\n",
    "Both `resize` and `reshape` functions / methods change the shape of an array. The `resize` function / method can also change the size of the input array.\n",
    "\n",
    "\n",
    "| Method/Function   | Type     | Reference | Returns\n",
    "|-------------------|----------|-----------|----------------------------------------|\n",
    "| `ndarray.resize`  | method   | in-place  | reshaped input array of specified size |\n",
    "| `numpy.resize`    | function | copy      | reshaped copy of specified size        |\n",
    "| `ndarray.reshape` | method   | view      | reshaped view of same size             |\n",
    "| `numpy.reshape`   | function | view      | reshaped view of same size             |\n",
    "\n",
    "<br>\n",
    "\n",
    "**Note:** \n",
    "\n",
    "+ `ndarray.resize` resizes in-place\n",
    "\n",
    "+ `ndarray.resize` with different size raises an error if the input array is referenced or a reference\n",
    "\n",
    "+ `reshape` returns a view of the input array if possible, otherwise, it returns a copy\n",
    "\n",
    "+ `resize` and `reshape` are more general than `flatten` and `ravel`"
   ]
  },
  {
   "attachments": {},
   "cell_type": "markdown",
   "id": "cde5b65d",
   "metadata": {},
   "source": [
    "#### **4.3.2. `ndarray.resize`** (in-place)\n",
    "\n",
    "Resize array in-place to the same size but different shape:"
   ]
  },
  {
   "cell_type": "code",
   "execution_count": 11,
   "id": "f033de0d",
   "metadata": {},
   "outputs": [
    {
     "name": "stdout",
     "output_type": "stream",
     "text": [
      "input array x:\n",
      "[0 1 2 3 4 5]\n"
     ]
    }
   ],
   "source": [
    "# input array\n",
    "x = np.arange(6)\n",
    "print('input array x:')\n",
    "print(x)"
   ]
  },
  {
   "cell_type": "code",
   "execution_count": 13,
   "id": "7bdccbc6",
   "metadata": {},
   "outputs": [
    {
     "name": "stdout",
     "output_type": "stream",
     "text": [
      "resized array x:\n",
      "[[0 1 2]\n",
      " [3 4 5]]\n"
     ]
    }
   ],
   "source": [
    "# resize\n",
    "x.resize((2, 3))\n",
    "\n",
    "print('resized array x:')\n",
    "print(x)"
   ]
  },
  {
   "attachments": {},
   "cell_type": "markdown",
   "id": "141ab7c7",
   "metadata": {},
   "source": [
    "#### **4.3.3. `numpy.resize`** (copy)\n",
    "\n",
    "Return resized copy of input array of the same size but different shape:"
   ]
  },
  {
   "cell_type": "code",
   "execution_count": 14,
   "id": "02bd44c9",
   "metadata": {},
   "outputs": [
    {
     "name": "stdout",
     "output_type": "stream",
     "text": [
      "input array x:\n",
      "[0 1 2 3 4 5]\n"
     ]
    }
   ],
   "source": [
    "# input array\n",
    "x = np.arange(6)\n",
    "\n",
    "print('input array x:')\n",
    "print(x)"
   ]
  },
  {
   "cell_type": "code",
   "execution_count": 15,
   "id": "55c913a1",
   "metadata": {},
   "outputs": [
    {
     "name": "stdout",
     "output_type": "stream",
     "text": [
      "resized array A:\n",
      "[[0 1 2]\n",
      " [3 4 5]]\n",
      "\n",
      "A is a view of x? False\n"
     ]
    }
   ],
   "source": [
    "# resize\n",
    "A = np.resize(x, (2, 3))\n",
    "\n",
    "print('resized array A:')\n",
    "print(A)\n",
    "\n",
    "print()\n",
    "print('A is a view of x?', np.shares_memory(A, x))"
   ]
  },
  {
   "attachments": {},
   "cell_type": "markdown",
   "id": "a9bc2432",
   "metadata": {},
   "source": [
    "#### **4.3.4. `ndarray.reshape`** (view)\n",
    "\n",
    "Return view of reshaped input array of the same size:"
   ]
  },
  {
   "cell_type": "code",
   "execution_count": 16,
   "id": "6880c53a",
   "metadata": {},
   "outputs": [
    {
     "name": "stdout",
     "output_type": "stream",
     "text": [
      "input array x:\n",
      "[0 1 2 3 4 5]\n"
     ]
    }
   ],
   "source": [
    "# input array to be reshaped\n",
    "x = np.arange(6)\n",
    "print('input array x:')\n",
    "print(x)"
   ]
  },
  {
   "cell_type": "code",
   "execution_count": 17,
   "id": "9304b7f5",
   "metadata": {},
   "outputs": [
    {
     "name": "stdout",
     "output_type": "stream",
     "text": [
      "reshaped array A:\n",
      "[[0 1 2]\n",
      " [3 4 5]]\n",
      "\n",
      "A is a view of x? True\n"
     ]
    }
   ],
   "source": [
    "# reshape\n",
    "print('reshaped array A:')\n",
    "A = x.reshape((2, 3))\n",
    "print(A)\n",
    "\n",
    "print()\n",
    "print('A is a view of x?', np.shares_memory(A, x))"
   ]
  },
  {
   "attachments": {},
   "cell_type": "markdown",
   "id": "56889d42",
   "metadata": {},
   "source": [
    "---\n",
    "### 4.3. `transpose`"
   ]
  },
  {
   "attachments": {},
   "cell_type": "markdown",
   "id": "2ffcad00",
   "metadata": {},
   "source": [
    "The `transpose` function / method returns an array with its axes reversed by default. For a 2-D array, this is the standard matrix transpose. For an N-dimensional array, if axes are given, their order indicates how the axes are permuted. \n",
    "\n",
    "\n",
    "| Method/Function     | Type     | Reference | Returns\n",
    "|---------------------|----------|-----------|--------------------------|\n",
    "| `ndarray.transpose` | method   | view      | array with permuted axes |\n",
    "| `numpy.transpose`   | function | view      | array with permuted axes |\n",
    "| `ndarray.T`         | method   | view      | array with permuted axes |\n",
    "\n",
    "<br>\n",
    "\n",
    "#### **Example** (2D Array)"
   ]
  },
  {
   "cell_type": "code",
   "execution_count": 18,
   "id": "22c95812",
   "metadata": {},
   "outputs": [
    {
     "name": "stdout",
     "output_type": "stream",
     "text": [
      "[[0 1 2]\n",
      " [3 4 5]]\n"
     ]
    }
   ],
   "source": [
    "# input array to be transposed\n",
    "A = np.arange(6).reshape(2, 3)\n",
    "print(A)"
   ]
  },
  {
   "cell_type": "code",
   "execution_count": 19,
   "id": "81c9aba7",
   "metadata": {},
   "outputs": [
    {
     "name": "stdout",
     "output_type": "stream",
     "text": [
      "[[0 3]\n",
      " [1 4]\n",
      " [2 5]]\n",
      "\n",
      "B is a view of A? True\n"
     ]
    }
   ],
   "source": [
    "# transpose\n",
    "B = A.transpose()\n",
    "\n",
    "print(B)\n",
    "print()\n",
    "print('B is a view of A?', np.shares_memory(B, A))"
   ]
  },
  {
   "attachments": {},
   "cell_type": "markdown",
   "id": "063389b6",
   "metadata": {},
   "source": [
    "---\n",
    "---\n",
    "## Appendix A\n",
    "\n",
    "Appendix A explores the shape manipulation functions and methods introduced in this notebook. "
   ]
  },
  {
   "attachments": {},
   "cell_type": "markdown",
   "id": "f3dcfd32",
   "metadata": {},
   "source": [
    "---\n",
    "###  A.1. `ravel` (copy)\n",
    "\n",
    "When `ravel` fails to return a view, it returns a copy. "
   ]
  },
  {
   "cell_type": "code",
   "execution_count": 20,
   "id": "43c9c58d",
   "metadata": {},
   "outputs": [
    {
     "name": "stdout",
     "output_type": "stream",
     "text": [
      "[[1 2 3]\n",
      " [4 5 6]]\n"
     ]
    }
   ],
   "source": [
    "# input 2D array to be flattened\n",
    "A = np.array([[1, 2, 3], [4, 5, 6]])\n",
    "print(A)"
   ]
  },
  {
   "cell_type": "code",
   "execution_count": 23,
   "id": "33f98ec8",
   "metadata": {},
   "outputs": [
    {
     "name": "stdout",
     "output_type": "stream",
     "text": [
      "col : [2 5]\n",
      "row : [4 5 6]\n",
      "\n",
      "col is a view of A? True\n",
      "row is a view of A? True\n",
      "\n",
      "col is contiguous: False\n",
      "row is contiguous: True\n"
     ]
    }
   ],
   "source": [
    "# 1d column sliced from A\n",
    "col = A[:, 1]\n",
    "\n",
    "# 1d row sliced from A\n",
    "row = A[1, :]\n",
    "\n",
    "print('col :', col)\n",
    "print('row :', row)\n",
    "print()\n",
    "\n",
    "print('col is a view of A?', np.shares_memory(col, A))\n",
    "print('row is a view of A?', np.shares_memory(row, A))\n",
    "print()\n",
    "\n",
    "print('col is contiguous:', col.flags['C_CONTIGUOUS'])\n",
    "print('row is contiguous:', row.flags['C_CONTIGUOUS'])"
   ]
  },
  {
   "attachments": {},
   "cell_type": "markdown",
   "id": "63529d79",
   "metadata": {},
   "source": [
    "The 2D array `A` is stored in row-major order. A slice that selects a row of `A` results in a contiguous view, while a slice that selects a column results in a non-contiguous view of the data. Applying `ravel` gives a view of `row` and a copy of `col`:"
   ]
  },
  {
   "cell_type": "code",
   "execution_count": 25,
   "id": "9ebeb643",
   "metadata": {},
   "outputs": [
    {
     "name": "stdout",
     "output_type": "stream",
     "text": [
      "col_ravel is a view of col? False\n",
      "row_ravel is a view of col? True\n",
      "row_ravel is a view of A? True\n"
     ]
    }
   ],
   "source": [
    "col_ravel = np.ravel(col)\n",
    "row_ravel = np.ravel(row)\n",
    "\n",
    "print('col_ravel is a view of col?', np.shares_memory(col_ravel, col))\n",
    "print('row_ravel is a view of col?', np.shares_memory(row_ravel, row))\n",
    "print('row_ravel is a view of A?', np.shares_memory(row_ravel, A))\n"
   ]
  },
  {
   "attachments": {},
   "cell_type": "markdown",
   "id": "b2d4ce12",
   "metadata": {},
   "source": [
    "**Note:** `row` and `col` are flat (1D arrays). Applying `ravel` on a 1D array returns an unchanged view (or copy) of the original array."
   ]
  },
  {
   "attachments": {},
   "cell_type": "markdown",
   "id": "59b21a2e",
   "metadata": {},
   "source": [
    "---\n",
    "### A.2. `resize` to a larger size\n",
    "\n",
    "\n",
    "#### A.2.1. `numpy.resize`\n",
    "\n",
    "Resize array to a larger size using the `numpy.resize` function:"
   ]
  },
  {
   "cell_type": "code",
   "execution_count": 27,
   "id": "7ff82597",
   "metadata": {},
   "outputs": [
    {
     "name": "stdout",
     "output_type": "stream",
     "text": [
      "input array x:\n",
      "[0 1 2 3 4 5]\n",
      "\n",
      "resized array A:\n",
      "[[0 1 2 3]\n",
      " [4 5 0 1]\n",
      " [2 3 4 5]]\n",
      "\n",
      "A is a view of x? False\n"
     ]
    }
   ],
   "source": [
    "# input array to be resized\n",
    "x = np.arange(6)\n",
    "print('input array x:')\n",
    "print(x)\n",
    "print()\n",
    "\n",
    "# resize\n",
    "print('resized array A:')\n",
    "A = np.resize(x, (3, 4))\n",
    "print(A)\n",
    "\n",
    "print()\n",
    "print('A is a view of x?', np.shares_memory(A, x))"
   ]
  },
  {
   "attachments": {},
   "cell_type": "markdown",
   "id": "63b31c5d",
   "metadata": {},
   "source": [
    "The `numpy.resize` returns a copy when reshaping to a larger size. The copy replicates the elements of the input array. \n",
    "\n"
   ]
  },
  {
   "attachments": {},
   "cell_type": "markdown",
   "id": "99d303cc",
   "metadata": {},
   "source": [
    "#### A.3.2. `ndarray.resize` \n",
    "\n",
    "Resize array in-place to a larger size using the `ndarray.resize` method:"
   ]
  },
  {
   "cell_type": "code",
   "execution_count": 28,
   "id": "bba1ab49",
   "metadata": {},
   "outputs": [
    {
     "name": "stdout",
     "output_type": "stream",
     "text": [
      "input array x:\n",
      "[0 1 2 3 4 5]\n",
      "id : 123842498032912\n"
     ]
    }
   ],
   "source": [
    "# input array\n",
    "x = np.arange(6)\n",
    "\n",
    "print('input array x:')\n",
    "print(x)\n",
    "print('id :', id(x))"
   ]
  },
  {
   "cell_type": "code",
   "execution_count": 29,
   "id": "9be5247f",
   "metadata": {},
   "outputs": [
    {
     "name": "stdout",
     "output_type": "stream",
     "text": [
      "resized array x:\n",
      "[[0 1 2 3 4 5]\n",
      " [0 0 0 0 0 0]\n",
      " [0 0 0 0 0 0]\n",
      " [0 0 0 0 0 0]]\n",
      "\n",
      "id : 123842498032912\n"
     ]
    }
   ],
   "source": [
    "# resize\n",
    "x.resize((4, 6))\n",
    "\n",
    "print('resized array x:')\n",
    "print(x)\n",
    "print()\n",
    "print('id :', id(x))"
   ]
  },
  {
   "attachments": {},
   "cell_type": "markdown",
   "id": "4d7385ab",
   "metadata": {},
   "source": [
    "The `ndarray.resize` method resizes in-place by adding zeros.\n",
    "\n",
    "\n",
    "**Note:**\n",
    "\n",
    "+ Exercise: explore `resize` to smaller size\n",
    "\n",
    "+ `numpy.resize` to a different size raises an error if input array is referenced or is a reference\n",
    "\n"
   ]
  },
  {
   "cell_type": "code",
   "execution_count": 30,
   "id": "1e5cd363",
   "metadata": {},
   "outputs": [],
   "source": [
    "x = np.arange(6)\n",
    "a = x               \n",
    "\n",
    "# error: different size and 'x' is referenced by 'a'\n",
    "#x.resize((4, 3))\n",
    "\n",
    "# error: different size and 'a' references x\n",
    "#a.resize(4, 3)\n"
   ]
  },
  {
   "attachments": {},
   "cell_type": "markdown",
   "id": "bcdcda70",
   "metadata": {},
   "source": [
    "---\n",
    "### A.4. `transpose` (3D Array - Default Order)"
   ]
  },
  {
   "cell_type": "code",
   "execution_count": 32,
   "id": "e2a87000",
   "metadata": {},
   "outputs": [
    {
     "name": "stdout",
     "output_type": "stream",
     "text": [
      "[[[9 7 9 5]\n",
      "  [4 9 0 8]\n",
      "  [7 0 3 2]]\n",
      "\n",
      " [[1 4 5 7]\n",
      "  [0 0 8 3]\n",
      "  [0 1 0 6]]]\n"
     ]
    }
   ],
   "source": [
    "# input array to be transposed\n",
    "A =  np.random.randint(0, 10, (2, 3, 4))\n",
    "print(A)"
   ]
  },
  {
   "cell_type": "code",
   "execution_count": 33,
   "id": "c40abd27",
   "metadata": {},
   "outputs": [
    {
     "name": "stdout",
     "output_type": "stream",
     "text": [
      "Shape of B: (4, 3, 2)\n",
      "\n",
      "Array B:\n",
      "[[[9 1]\n",
      "  [4 0]\n",
      "  [7 0]]\n",
      "\n",
      " [[7 4]\n",
      "  [9 0]\n",
      "  [0 1]]\n",
      "\n",
      " [[9 5]\n",
      "  [0 8]\n",
      "  [3 0]]\n",
      "\n",
      " [[5 7]\n",
      "  [8 3]\n",
      "  [2 6]]]\n",
      "\n",
      "B is a view of A? True\n"
     ]
    }
   ],
   "source": [
    "# transpose\n",
    "B = A.transpose()\n",
    "\n",
    "print('Shape of B:', B.shape)\n",
    "print()\n",
    "print('Array B:')\n",
    "print(B)\n",
    "print()\n",
    "print('B is a view of A?', np.shares_memory(B, A))"
   ]
  },
  {
   "attachments": {},
   "cell_type": "markdown",
   "id": "b2d5f1bd",
   "metadata": {},
   "source": [
    "---\n",
    "### A.5. `transpose` (3D Array - Specified Order)"
   ]
  },
  {
   "cell_type": "code",
   "execution_count": 34,
   "id": "06b31aa3",
   "metadata": {},
   "outputs": [
    {
     "name": "stdout",
     "output_type": "stream",
     "text": [
      "[[[8 1 7 3]\n",
      "  [6 8 2 1]\n",
      "  [6 2 2 2]]\n",
      "\n",
      " [[0 9 7 4]\n",
      "  [1 8 3 9]\n",
      "  [7 7 5 9]]]\n"
     ]
    }
   ],
   "source": [
    "# array to be transposed\n",
    "A =  np.random.randint(0, 10, (2, 3, 4))\n",
    "print(A)"
   ]
  },
  {
   "cell_type": "code",
   "execution_count": 36,
   "id": "bdd725a4",
   "metadata": {},
   "outputs": [
    {
     "name": "stdout",
     "output_type": "stream",
     "text": [
      "Shape of B: (3, 2, 4)\n",
      "\n",
      "Array B:\n",
      "[[[8 1 7 3]\n",
      "  [0 9 7 4]]\n",
      "\n",
      " [[6 8 2 1]\n",
      "  [1 8 3 9]]\n",
      "\n",
      " [[6 2 2 2]\n",
      "  [7 7 5 9]]]\n",
      "\n",
      "B is a view of A? True\n"
     ]
    }
   ],
   "source": [
    "# transpose in given order\n",
    "B = A.transpose([1, 0, 2])\n",
    "\n",
    "print('Shape of B:', B.shape)\n",
    "print()\n",
    "print('Array B:')\n",
    "print(B)\n",
    "print()\n",
    "print('B is a view of A?', np.shares_memory(B, A))"
   ]
  },
  {
   "cell_type": "code",
   "execution_count": null,
   "id": "3078eb62",
   "metadata": {},
   "outputs": [],
   "source": []
  }
 ],
 "metadata": {
  "kernelspec": {
   "display_name": "Python 3 (ipykernel)",
   "language": "python",
   "name": "python3"
  },
  "language_info": {
   "codemirror_mode": {
    "name": "ipython",
    "version": 3
   },
   "file_extension": ".py",
   "mimetype": "text/x-python",
   "name": "python",
   "nbconvert_exporter": "python",
   "pygments_lexer": "ipython3",
   "version": "3.11.7"
  },
  "toc-showcode": false,
  "toc-showtags": true
 },
 "nbformat": 4,
 "nbformat_minor": 5
}
