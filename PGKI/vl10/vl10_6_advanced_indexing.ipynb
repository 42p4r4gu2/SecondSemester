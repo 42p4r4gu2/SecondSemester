{
 "cells": [
  {
   "cell_type": "code",
   "execution_count": 1,
   "id": "2bcf801e-37c4-48d2-b5d5-8c4f515377ce",
   "metadata": {},
   "outputs": [],
   "source": [
    "import numpy as np"
   ]
  },
  {
   "attachments": {},
   "cell_type": "markdown",
   "id": "bc7e1226",
   "metadata": {},
   "source": [
    "\n",
    "## 6. Advanced Indexing\n",
    "\n",
    "\n",
    "1. Overview\n",
    "\n",
    "2. Boolean indexing\n",
    "\n",
    "3. Fancy indexing\n",
    "\n",
    "4. Summary\n"
   ]
  },
  {
   "attachments": {},
   "cell_type": "markdown",
   "id": "5a03685f",
   "metadata": {},
   "source": [
    "---\n",
    "\n",
    "### 6.1. Overview\n",
    "\n",
    "\n",
    "NumPy offers three types of indexing: \n",
    "\n",
    "+ **Multidimensional indexing:** indexing of higher dimensional arrays with a single pair of square brackets (see Section 2.4).\n",
    "\n",
    "+ **Boolean indexing:** indexing of arrays using boolean masks.\n",
    "\n",
    "+ **Fancy indexing:** indexing of arays using other arrays or lists of indices.\n",
    "\n",
    "In this section, we consider boolean and fancy indexing."
   ]
  },
  {
   "attachments": {},
   "cell_type": "markdown",
   "id": "eb54bd26",
   "metadata": {},
   "source": [
    "---\n",
    "### 6.2. Boolean Indexing\n",
    "\n",
    "\n",
    "**Principle:** Select data based on a condition"
   ]
  },
  {
   "cell_type": "markdown",
   "id": "b98d2084",
   "metadata": {},
   "source": [
    "\n",
    "\n",
    "**Application examples**\n",
    "\n",
    "+ Filtering customer data\n",
    "\n",
    "    + Given: dataset of customer information\n",
    "\n",
    "    + Goal: select only the customers from a certain region, age, gender, ...\n",
    "\n",
    "+ Detecting outliers\n",
    "\n",
    "    + Given: dataset of patient information\n",
    "\n",
    "    + Goal: select all patients with abnormal blood pressure"
   ]
  },
  {
   "attachments": {},
   "cell_type": "markdown",
   "id": "e6f36f8a",
   "metadata": {},
   "source": [
    "\n",
    "**Boolean Indexing** \n",
    "\n",
    "Boolean indexing selects data based on a condition using boolean masks.\n",
    "\n",
    "+ Step 1: Create Boolean Mask\n",
    "\n",
    "    + array of the same shape as the original array\n",
    "\n",
    "    + contains `True` values for which the condition holds\n",
    "    \n",
    "    + contains `False` values for which the condition is violated\n",
    "\n",
    "    + use comparision operators (<, >, ==, etc.) or functions that return Boolean arrays\n",
    "\n",
    "\n",
    "+ Step 2: Apply Boolean Mask\n",
    "\n",
    "    + use Boolean mask to index the original array\n",
    "\n",
    "    + resulting array contains only the elements for which the mask is `True`\n",
    "\n",
    "    + Boolean masks can also be used to modify elements in the original array"
   ]
  },
  {
   "attachments": {},
   "cell_type": "markdown",
   "id": "9e504ecf",
   "metadata": {},
   "source": [
    "**Example:**"
   ]
  },
  {
   "cell_type": "code",
   "execution_count": 2,
   "id": "47399ea9",
   "metadata": {},
   "outputs": [
    {
     "name": "stdout",
     "output_type": "stream",
     "text": [
      "x : [0 1 2 3 4 5]\n"
     ]
    }
   ],
   "source": [
    "# base array to be indexed\n",
    "x = np.arange(6)\n",
    "print('x :', x)"
   ]
  },
  {
   "cell_type": "code",
   "execution_count": 3,
   "id": "c317a16a",
   "metadata": {},
   "outputs": [
    {
     "name": "stdout",
     "output_type": "stream",
     "text": [
      "y : [0 2 4]\n"
     ]
    }
   ],
   "source": [
    "# boolean mask as list of True and False values\n",
    "mask = [True, False, True, False, True, False]\n",
    "y = x[mask]\n",
    "print('y :', y)"
   ]
  },
  {
   "cell_type": "code",
   "execution_count": 4,
   "id": "8e77df39",
   "metadata": {},
   "outputs": [
    {
     "name": "stdout",
     "output_type": "stream",
     "text": [
      "mask : [ True False  True False  True False]\n",
      "y    : [0 2 4]\n"
     ]
    }
   ],
   "source": [
    "# boolean mask as expression that evaluates to Boolean array\n",
    "mask = x % 2 == 0\n",
    "print('mask :', mask)\n",
    "\n",
    "y = x[mask]\n",
    "print('y    :', y)"
   ]
  },
  {
   "cell_type": "code",
   "execution_count": 5,
   "id": "ed22bc3d",
   "metadata": {},
   "outputs": [
    {
     "name": "stdout",
     "output_type": "stream",
     "text": [
      "y : [0 2 4]\n"
     ]
    }
   ],
   "source": [
    "# combine Boolean mask creation and application\n",
    "y = x[x % 2 == 0]\n",
    "print('y :', y)"
   ]
  },
  {
   "cell_type": "markdown",
   "id": "241ec793",
   "metadata": {},
   "source": [
    "**Question:** What is the output?\n",
    "\n",
    "```python\n",
    "    y = x[x % 2]\n",
    "    print('y :', y)\n",
    "```"
   ]
  },
  {
   "attachments": {},
   "cell_type": "markdown",
   "id": "77b93346",
   "metadata": {},
   "source": [
    "---\n",
    "### 6.3. Fancy Indexing\n",
    "\n",
    "**Principle:** Select data based on indices"
   ]
  },
  {
   "attachments": {},
   "cell_type": "markdown",
   "id": "c231a412",
   "metadata": {},
   "source": [
    "**Application examples**\n",
    "\n",
    "+ Splitting a dataset\n",
    "\n",
    "    + Given: dataset of input-output examples\n",
    "\n",
    "    + Goal: randomly split data into a train and test set \n",
    "\n",
    "+ Select k nearest neighbors\n",
    "\n",
    "    + Given: list of distances\n",
    "\n",
    "    + Goal: get class labels of k-nearest neighbors\n",
    "\n",
    "    + Solution: \n",
    "\n",
    "        + select indices of the k smallest distances \n",
    "\n",
    "        + use indices to select class labels"
   ]
  },
  {
   "cell_type": "markdown",
   "id": "4ba287d7",
   "metadata": {},
   "source": [
    "\n",
    "**Fancy Indexing**\n",
    "\n",
    "+ index arrays using arrays of indices\n",
    "\n",
    "+ pass an array of indices to the indexing operator `[]`\n",
    "\n",
    "+ resulting array has the same shape as the indexing array \n",
    "\n",
    "+ resulting array contains the values at the specified indices\n",
    "\n",
    "+ can also be used with multi-dimensional arrays\n",
    "\n",
    "\n"
   ]
  },
  {
   "attachments": {},
   "cell_type": "markdown",
   "id": "9eff5d5b",
   "metadata": {},
   "source": [
    "**Example:** 1D arrays"
   ]
  },
  {
   "cell_type": "code",
   "execution_count": 6,
   "id": "c8ab997f",
   "metadata": {},
   "outputs": [
    {
     "name": "stdout",
     "output_type": "stream",
     "text": [
      "x : [10 20 30 40 50]\n"
     ]
    }
   ],
   "source": [
    "# base array to be indexed\n",
    "x = np.arange(10, 60, 10)\n",
    "print('x :', x)"
   ]
  },
  {
   "cell_type": "code",
   "execution_count": 7,
   "id": "4cbc1056",
   "metadata": {},
   "outputs": [
    {
     "name": "stdout",
     "output_type": "stream",
     "text": [
      "y : [10 30 50]\n"
     ]
    }
   ],
   "source": [
    "# select elements at indices 0, 2, and 4\n",
    "indices = [0, 2, 4]\n",
    "\n",
    "y = x[indices]\n",
    "print('y :', y)"
   ]
  },
  {
   "cell_type": "code",
   "execution_count": 8,
   "id": "ff05cc30",
   "metadata": {},
   "outputs": [
    {
     "name": "stdout",
     "output_type": "stream",
     "text": [
      "y : [10 20 10 20 20 10 20]\n"
     ]
    }
   ],
   "source": [
    "# select elements at indices 0, 1, 0, 1, 1, 0, 1\n",
    "indices = [0, 1, 0, 1, 1, 0, 1]\n",
    "\n",
    "y = x[indices]\n",
    "print('y :', y)"
   ]
  },
  {
   "cell_type": "code",
   "execution_count": 9,
   "id": "50262951",
   "metadata": {},
   "outputs": [
    {
     "name": "stdout",
     "output_type": "stream",
     "text": [
      "[[20 30]\n",
      " [40 50]]\n"
     ]
    }
   ],
   "source": [
    "# select elements at 1, 2, 3, 4 and reshape\n",
    "indices = np.array(((1, 2), (3, 4)))\n",
    "\n",
    "y = x[indices]\n",
    "print(y)"
   ]
  },
  {
   "attachments": {},
   "cell_type": "markdown",
   "id": "5b8f2df7",
   "metadata": {},
   "source": [
    "**Example:** multi-dimensional arrays"
   ]
  },
  {
   "cell_type": "code",
   "execution_count": 10,
   "id": "7870cb59",
   "metadata": {},
   "outputs": [
    {
     "name": "stdout",
     "output_type": "stream",
     "text": [
      "[[10 20]\n",
      " [30 40]\n",
      " [50 60]]\n"
     ]
    }
   ],
   "source": [
    "# base array to be indexed\n",
    "A = np.arange(10, 70, 10).reshape(3, 2)\n",
    "print(A)"
   ]
  },
  {
   "cell_type": "code",
   "execution_count": 11,
   "id": "51b5e513",
   "metadata": {},
   "outputs": [
    {
     "name": "stdout",
     "output_type": "stream",
     "text": [
      "[20 50 30]\n"
     ]
    }
   ],
   "source": [
    "# select elements at (0, 1), (2, 0), and (1, 0)\n",
    "i = [0, 2, 1]\n",
    "j = [1, 0, 0]\n",
    "\n",
    "B = A[i, j]\n",
    "print(B)"
   ]
  },
  {
   "cell_type": "code",
   "execution_count": null,
   "id": "0b5c1f86",
   "metadata": {},
   "outputs": [],
   "source": [
    "# select rows with index 0 and 1\n",
    "B = A[[0, 1]]\n",
    "print(B)"
   ]
  },
  {
   "cell_type": "code",
   "execution_count": null,
   "id": "67e752a2",
   "metadata": {},
   "outputs": [],
   "source": [
    "# select columns with index 0 and 2\n",
    "B = A[:, [0, 1]]\n",
    "print(B)"
   ]
  },
  {
   "attachments": {},
   "cell_type": "markdown",
   "id": "5d1bda72",
   "metadata": {},
   "source": [
    "---\n",
    "\n",
    "### 6.4. Summary\n",
    "\n",
    "The following figure illustrates boolean and fancy indexing (source: scipy)."
   ]
  },
  {
   "attachments": {},
   "cell_type": "markdown",
   "id": "d41283d7",
   "metadata": {},
   "source": [
    "<br>\n",
    "\n",
    "<div style=\"text-align: center;\">\n",
    "<img src=\"./figs/fancy_indexing.png\" alt=\"tensors\" width=\"600\">\n",
    "</div>\n",
    "\n",
    "<br>"
   ]
  }
 ],
 "metadata": {
  "kernelspec": {
   "display_name": "Python 3 (ipykernel)",
   "language": "python",
   "name": "python3"
  },
  "language_info": {
   "codemirror_mode": {
    "name": "ipython",
    "version": 3
   },
   "file_extension": ".py",
   "mimetype": "text/x-python",
   "name": "python",
   "nbconvert_exporter": "python",
   "pygments_lexer": "ipython3",
   "version": "3.11.5"
  },
  "toc-showcode": false,
  "toc-showtags": true
 },
 "nbformat": 4,
 "nbformat_minor": 5
}
