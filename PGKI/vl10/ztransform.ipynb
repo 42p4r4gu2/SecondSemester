{
 "cells": [
  {
   "cell_type": "code",
   "execution_count": 1,
   "metadata": {},
   "outputs": [],
   "source": [
    "import numpy as np"
   ]
  },
  {
   "attachments": {},
   "cell_type": "markdown",
   "metadata": {},
   "source": [
    "---\n",
    "### Random Data Set\n",
    "\n",
    "The data set consists of 20 observations, each of which has 3 features. The features are drawn from a uniform distribution over the interval [0, 10]."
   ]
  },
  {
   "cell_type": "code",
   "execution_count": 2,
   "metadata": {},
   "outputs": [
    {
     "name": "stdout",
     "output_type": "stream",
     "text": [
      "[[7.15208664 4.38455889 3.00655195]\n",
      " [2.30295947 2.8145709  5.85215825]\n",
      " [6.55742832 2.78547776 1.10989561]\n",
      " [0.39994874 7.41750176 4.16553135]\n",
      " [8.44796744 2.12939411 1.26979983]\n",
      " [1.6828356  2.48802323 9.81002931]\n",
      " [5.2005383  6.20294121 9.33280652]\n",
      " [6.79160834 7.03412208 9.72893938]\n",
      " [4.03607118 4.62171936 5.74486434]\n",
      " [7.20925042 2.87987279 7.87953822]\n",
      " [0.50444031 6.47020674 5.00916707]\n",
      " [1.56883609 3.63469978 5.41928957]\n",
      " [2.8178671  5.70196316 0.12204981]\n",
      " [0.47175259 5.38054639 2.63213582]\n",
      " [3.71520851 9.25513189 8.89521702]\n",
      " [4.39098054 3.75318856 8.33172323]\n",
      " [7.85972727 9.05794396 1.94947855]\n",
      " [8.66963871 4.12475231 2.38386073]\n",
      " [8.72755432 2.50527797 1.46810237]\n",
      " [1.59494753 8.58532124 8.09769986]]\n"
     ]
    }
   ],
   "source": [
    "X = np.random.uniform(0, 10, (20, 3))\n",
    "print(X)"
   ]
  },
  {
   "attachments": {},
   "cell_type": "markdown",
   "metadata": {},
   "source": [
    "---\n",
    "### Mean and Standard Deviation"
   ]
  },
  {
   "cell_type": "code",
   "execution_count": 6,
   "metadata": {},
   "outputs": [
    {
     "name": "stdout",
     "output_type": "stream",
     "text": [
      "avg = [4.50508237 5.0613607  5.11044194]\n",
      "std = [2.90645289 2.24984545 3.17323811]\n"
     ]
    }
   ],
   "source": [
    "avg = X.mean(0) # np.mean(X, axis = 0)\n",
    "std = X.std(0)  # np.std(X, axis = 0)\n",
    "print(\"avg =\", avg)\n",
    "print(\"std =\", std)"
   ]
  },
  {
   "attachments": {},
   "cell_type": "markdown",
   "metadata": {},
   "source": [
    "---\n",
    "### Shapes"
   ]
  },
  {
   "cell_type": "code",
   "execution_count": 7,
   "metadata": {},
   "outputs": [
    {
     "name": "stdout",
     "output_type": "stream",
     "text": [
      "shape of X   : (20, 3)\n",
      "shape of avg : (3,)\n",
      "shape of std : (3,)\n"
     ]
    }
   ],
   "source": [
    "print('shape of X   :', X.shape)\n",
    "print('shape of avg :', avg.shape)\n",
    "print('shape of std :', std.shape)"
   ]
  },
  {
   "attachments": {},
   "cell_type": "markdown",
   "metadata": {},
   "source": [
    "---\n",
    "### Z-Transform using Broadcasting\n",
    "\n",
    "+ shape of X   : (20, 3)\n",
    "+ shape of avg : (3, )\n",
    "+ shape of std : (3, )\n",
    "+ shape of Z   : (20, 3)"
   ]
  },
  {
   "cell_type": "code",
   "execution_count": 9,
   "metadata": {},
   "outputs": [
    {
     "name": "stdout",
     "output_type": "stream",
     "text": [
      "[[-0.84146066 -1.4467578   1.71531231]\n",
      " [-0.61965588 -0.9329933   0.48361217]\n",
      " [ 0.21528818  1.19198555  0.30414104]\n",
      " [ 0.37688878 -0.17862304 -0.79713196]\n",
      " [ 1.51544081  0.53590279  0.01177384]\n",
      " [-0.78207613 -1.38158004 -0.80210993]\n",
      " [ 1.47752129  1.5758383   1.66312838]\n",
      " [-1.10032001  0.02794799 -0.31809712]\n",
      " [ 0.95270729 -1.33238627  0.93078808]\n",
      " [-1.30434527  1.4496286  -1.63637482]\n",
      " [ 1.53615888  0.12378957 -0.43736475]\n",
      " [-1.04376645 -1.35823058 -1.42493927]\n",
      " [-1.02162125  1.07560656  1.63253162]\n",
      " [ 0.82609238 -0.14977276 -1.06369056]\n",
      " [-0.88995642  1.53162068 -0.12426139]\n",
      " [-0.01612317  0.16961962  1.21782077]\n",
      " [ 0.62428023 -0.50607176 -0.63617542]\n",
      " [ 1.52618665 -0.96757644  0.55134838]\n",
      " [-0.93673444 -0.07241336 -0.56921218]\n",
      " [-0.49450482  0.64446569 -0.70109919]]\n"
     ]
    }
   ],
   "source": [
    "Z = (X - avg)/std\n",
    "print(Z)"
   ]
  },
  {
   "attachments": {},
   "cell_type": "markdown",
   "metadata": {},
   "source": [
    "---\n",
    "### Test\n",
    "\n",
    "Test whether Z has approx. mean zero and standard deviation one."
   ]
  },
  {
   "cell_type": "code",
   "execution_count": 10,
   "metadata": {},
   "outputs": [
    {
     "name": "stdout",
     "output_type": "stream",
     "text": [
      "avg(Z)= [1.36002321e-16 2.77555756e-17 4.88498131e-16]\n",
      "std(Z)= [1. 1. 1.]\n"
     ]
    }
   ],
   "source": [
    "print(\"avg(Z)=\", Z.mean(0))\n",
    "print(\"std(Z)=\", Z.std(0))"
   ]
  }
 ],
 "metadata": {
  "kernelspec": {
   "display_name": "Python 3 (ipykernel)",
   "language": "python",
   "name": "python3"
  },
  "language_info": {
   "codemirror_mode": {
    "name": "ipython",
    "version": 3
   },
   "file_extension": ".py",
   "mimetype": "text/x-python",
   "name": "python",
   "nbconvert_exporter": "python",
   "pygments_lexer": "ipython3",
   "version": "3.11.5"
  }
 },
 "nbformat": 4,
 "nbformat_minor": 4
}
