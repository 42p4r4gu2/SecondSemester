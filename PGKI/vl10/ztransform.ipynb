{
 "cells": [
  {
   "cell_type": "code",
   "execution_count": 1,
   "metadata": {},
   "outputs": [],
   "source": [
    "import numpy as np"
   ]
  },
  {
   "attachments": {},
   "cell_type": "markdown",
   "metadata": {},
   "source": [
    "---\n",
    "### Random Data Set\n",
    "\n",
    "The data set consists of 20 observations, each of which has 3 features. The features are drawn from a uniform distribution over the interval [0, 10]."
   ]
  },
  {
   "cell_type": "code",
   "execution_count": 2,
   "metadata": {},
   "outputs": [
    {
     "name": "stdout",
     "output_type": "stream",
     "text": [
      "[[6.53140345 8.34610363 8.66731159]\n",
      " [7.25244672 7.57082208 1.65056723]\n",
      " [1.75565544 2.72725078 9.96751375]\n",
      " [7.39804744 2.21485412 6.87023316]\n",
      " [8.99208538 7.85410212 4.63423882]\n",
      " [9.10296512 6.40871167 3.30725753]\n",
      " [7.48428342 4.96993838 0.60593505]\n",
      " [2.88855184 6.8362105  7.57081584]\n",
      " [3.13775761 7.75282914 9.98928723]\n",
      " [3.06706867 1.27577139 6.61288834]\n",
      " [4.71731947 2.77083655 7.58529383]\n",
      " [6.37000488 0.59866279 8.02150853]\n",
      " [9.22527427 1.05137547 0.09659293]\n",
      " [1.63575493 0.81940339 8.26724155]\n",
      " [9.59983645 5.20967323 2.44673643]\n",
      " [9.49652682 4.52911489 9.92496121]\n",
      " [9.58275999 4.42030019 5.19352626]\n",
      " [3.84997322 0.26022101 1.42828936]\n",
      " [6.04745606 8.20080576 4.35272997]\n",
      " [3.89968193 0.04904881 7.54154336]]\n"
     ]
    }
   ],
   "source": [
    "X = np.random.uniform(0, 10, (20, 3))\n",
    "print(X)"
   ]
  },
  {
   "attachments": {},
   "cell_type": "markdown",
   "metadata": {},
   "source": [
    "---\n",
    "### Mean and Standard Deviation"
   ]
  },
  {
   "cell_type": "code",
   "execution_count": 3,
   "metadata": {},
   "outputs": [
    {
     "name": "stdout",
     "output_type": "stream",
     "text": [
      "avg = [6.10174266 4.19330179 5.7367236 ]\n",
      "std = [2.71257043 2.89739452 3.1573403 ]\n"
     ]
    }
   ],
   "source": [
    "avg = X.mean(0) # np.mean(X, axis = 0)\n",
    "std = X.std(0)  # np.std(X, axis = 0)\n",
    "print(\"avg =\", avg)\n",
    "print(\"std =\", std)"
   ]
  },
  {
   "attachments": {},
   "cell_type": "markdown",
   "metadata": {},
   "source": [
    "---\n",
    "### Shapes"
   ]
  },
  {
   "cell_type": "code",
   "execution_count": 5,
   "metadata": {},
   "outputs": [
    {
     "name": "stdout",
     "output_type": "stream",
     "text": [
      "shape of X   : (20, 3)\n",
      "shape of avg : (3,)\n",
      "shape of std : (3,)\n"
     ]
    }
   ],
   "source": [
    "print('shape of X   :', X.shape)\n",
    "print('shape of avg :', avg.shape)\n",
    "print('shape of std :', std.shape)"
   ]
  },
  {
   "attachments": {},
   "cell_type": "markdown",
   "metadata": {},
   "source": [
    "---\n",
    "### Z-Transform using Broadcasting\n",
    "\n",
    "+ shape of X   : (20, 3)\n",
    "+ shape of avg : (3, )\n",
    "+ shape of std : (3, )\n",
    "+ shape of Z   : (20, 3)"
   ]
  },
  {
   "cell_type": "code",
   "execution_count": 7,
   "metadata": {},
   "outputs": [
    {
     "name": "stdout",
     "output_type": "stream",
     "text": [
      "[[ 0.15839618  1.43328836  0.92818249]\n",
      " [ 0.42421168  1.16570949 -1.29417674]\n",
      " [-1.60220253 -0.50598944  1.33998548]\n",
      " [ 0.47788797 -0.68283683  0.35900773]\n",
      " [ 1.06553647  1.2634801  -0.34918148]\n",
      " [ 1.10641273  0.76462141 -0.76946602]\n",
      " [ 0.50967921  0.26804654 -1.62503502]\n",
      " [-1.18455572  0.91216736  0.58089787]\n",
      " [-1.09268501  1.22852698  1.34688162]\n",
      " [-1.11874477 -1.00694965  0.27750089]\n",
      " [-0.51037318 -0.49094634  0.58548337]\n",
      " [ 0.09889595 -1.24064534  0.72364228]\n",
      " [ 1.15150249 -1.08439714 -1.78635501]\n",
      " [-1.64640434 -1.16445944  0.8014714 ]\n",
      " [ 1.28958635  0.35078807 -1.04201222]\n",
      " [ 1.25150084  0.11590175  1.32650814]\n",
      " [ 1.28329104  0.0783457  -0.1720427 ]\n",
      " [-0.83012386 -1.35745435 -1.36457709]\n",
      " [-0.02001297  1.38314059 -0.43834161]\n",
      " [-0.81179854 -1.43033783  0.57162662]]\n"
     ]
    }
   ],
   "source": [
    "Z = (X - avg)/std\n",
    "print(Z)"
   ]
  },
  {
   "attachments": {},
   "cell_type": "markdown",
   "metadata": {},
   "source": [
    "---\n",
    "### Test\n",
    "\n",
    "Test whether Z has approx. mean zero and standard deviation one."
   ]
  },
  {
   "cell_type": "code",
   "execution_count": 9,
   "metadata": {},
   "outputs": [
    {
     "name": "stdout",
     "output_type": "stream",
     "text": [
      "avg(Z)= [-1.49880108e-16 -2.88657986e-16 -2.72004641e-16]\n",
      "std(Z)= [1. 1. 1.]\n"
     ]
    }
   ],
   "source": [
    "print(\"avg(Z)=\", Z.mean(0))\n",
    "print(\"std(Z)=\", Z.std(0))"
   ]
  }
 ],
 "metadata": {
  "kernelspec": {
   "display_name": "Python 3 (ipykernel)",
   "language": "python",
   "name": "python3"
  },
  "language_info": {
   "codemirror_mode": {
    "name": "ipython",
    "version": 3
   },
   "file_extension": ".py",
   "mimetype": "text/x-python",
   "name": "python",
   "nbconvert_exporter": "python",
   "pygments_lexer": "ipython3",
   "version": "3.11.7"
  }
 },
 "nbformat": 4,
 "nbformat_minor": 4
}
