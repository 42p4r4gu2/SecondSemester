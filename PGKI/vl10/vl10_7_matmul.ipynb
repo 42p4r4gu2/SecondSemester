{
 "cells": [
  {
   "cell_type": "code",
   "execution_count": null,
   "id": "2bcf801e-37c4-48d2-b5d5-8c4f515377ce",
   "metadata": {},
   "outputs": [],
   "source": [
    "import numpy as np"
   ]
  },
  {
   "attachments": {},
   "cell_type": "markdown",
   "id": "bc7e1226",
   "metadata": {},
   "source": [
    "\n",
    "## 7. Matrix Multiplication\n",
    "\n",
    "\n",
    "1. Overview\n",
    "\n",
    "2. Dot Product\n",
    "\n",
    "3. Matrix-Vector Product\n",
    "\n",
    "4. Matrix-Matrix Product\n"
   ]
  },
  {
   "attachments": {},
   "cell_type": "markdown",
   "id": "5a03685f",
   "metadata": {},
   "source": [
    "---\n",
    "\n",
    "### 6.1. Overview\n",
    "\n",
    "+ `numpy.dot(x, y)`\n",
    "\n",
    "    + returns dot product of two arrays `x` and `y` \n",
    "\n",
    "<br>\n",
    "\n",
    "+ `numpy.matmul(x, y)` \n",
    "\n",
    "    + returns matrix product of two arrays `x` and `y` \n",
    "\n",
    "<br>\n",
    "    \n",
    "+ Recommended Usage\n",
    "\n",
    "    + use `*` for scalar multiplication\n",
    "\n",
    "    + use `dot` for inner products between vectors\n",
    "\n",
    "    + use any of `dot`, `matmul`, or `@` for matrix-vector products\n",
    "\n",
    "    + use `matmul` or `@` for matrix-matrix products \n",
    "\n",
    "<br>\n",
    "\n",
    "+ Note: \n",
    "\n",
    "    + `dot` can be used as function and as method\n",
    "\n",
    "    + `dot` and `matmul` can operate on higher-dimensional arrays (see docs)\n"
   ]
  },
  {
   "attachments": {},
   "cell_type": "markdown",
   "id": "eb54bd26",
   "metadata": {},
   "source": [
    "---\n",
    "### 6.2.Dot Product"
   ]
  },
  {
   "cell_type": "code",
   "execution_count": null,
   "id": "ad470c69",
   "metadata": {},
   "outputs": [],
   "source": [
    "x = np.arange(0, 3)\n",
    "y = np.arange(1, 4)\n",
    "\n",
    "print('x:', x)\n",
    "print('y:', y)"
   ]
  },
  {
   "cell_type": "code",
   "execution_count": null,
   "id": "e21078c7",
   "metadata": {},
   "outputs": [],
   "source": [
    "z = np.dot(x, y)\n",
    "print('np.dot(x, y)    :', z)\n",
    "\n",
    "z = x.dot(y)\n",
    "print('x.dot(y)        :', z)\n",
    "\n",
    "z = x@y\n",
    "print('x@y             :', z)\n",
    "\n",
    "z = np.matmul(x, y)\n",
    "print('np.matmul(x, y) :', z)"
   ]
  },
  {
   "attachments": {},
   "cell_type": "markdown",
   "id": "9343d935",
   "metadata": {},
   "source": [
    "---\n",
    "### 6.3. Matrix-Vector Product"
   ]
  },
  {
   "cell_type": "code",
   "execution_count": null,
   "id": "7cca6cae",
   "metadata": {},
   "outputs": [],
   "source": [
    "A = np.ones((3, 2))\n",
    "x = np.array([1, 2])\n",
    "\n",
    "print('Matrix A:')\n",
    "print(A)\n",
    "print()\n",
    "\n",
    "print('Vector x:')\n",
    "print(x)"
   ]
  },
  {
   "cell_type": "code",
   "execution_count": null,
   "id": "ef0e9681",
   "metadata": {},
   "outputs": [],
   "source": [
    "b = np.dot(A, x)\n",
    "print('np.dot(A, x)    :', b)\n",
    "\n",
    "b = A.dot(x)\n",
    "print('A.dot(x)        :', b)\n",
    "\n",
    "b = A@x\n",
    "print('A@x             :', b)\n",
    "\n",
    "b = np.matmul(A, x)\n",
    "print('np.matmul(A, x) :', b)"
   ]
  },
  {
   "attachments": {},
   "cell_type": "markdown",
   "id": "9e504ecf",
   "metadata": {},
   "source": [
    "---\n",
    "### 6.4. Matrix-Matrix Product"
   ]
  },
  {
   "cell_type": "code",
   "execution_count": null,
   "id": "47399ea9",
   "metadata": {},
   "outputs": [],
   "source": [
    "A = np.ones((3, 3))\n",
    "B = np.diag([1, 2, 3])\n",
    "\n",
    "print('Matrix A:')\n",
    "print(A)\n",
    "print()\n",
    "\n",
    "print('Matrix B:')\n",
    "print(B)"
   ]
  },
  {
   "cell_type": "code",
   "execution_count": null,
   "id": "c317a16a",
   "metadata": {},
   "outputs": [],
   "source": [
    "C = np.dot(A, B)\n",
    "print('np.dot(A, B)    :', C, sep='\\n', end='\\n\\n')\n",
    "\n",
    "C = A.dot(B)\n",
    "print('A.dot(B)        :', C, sep='\\n', end='\\n\\n')\n",
    "\n",
    "C = A@B\n",
    "print('A@B             :', C, sep='\\n', end='\\n\\n')\n",
    "\n",
    "C = np.matmul(A, B)\n",
    "print('np.matmul(A, B) :', C, sep='\\n', end='\\n\\n')"
   ]
  }
 ],
 "metadata": {
  "kernelspec": {
   "display_name": "Python 3 (ipykernel)",
   "language": "python",
   "name": "python3"
  },
  "language_info": {
   "codemirror_mode": {
    "name": "ipython",
    "version": 3
   },
   "file_extension": ".py",
   "mimetype": "text/x-python",
   "name": "python",
   "nbconvert_exporter": "python",
   "pygments_lexer": "ipython3",
   "version": "3.11.5"
  },
  "toc-showcode": false,
  "toc-showtags": true
 },
 "nbformat": 4,
 "nbformat_minor": 5
}
