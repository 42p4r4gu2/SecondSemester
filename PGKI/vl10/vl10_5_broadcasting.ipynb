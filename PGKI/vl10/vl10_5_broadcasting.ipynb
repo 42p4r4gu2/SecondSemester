{
 "cells": [
  {
   "cell_type": "code",
   "execution_count": 2,
   "id": "2bcf801e-37c4-48d2-b5d5-8c4f515377ce",
   "metadata": {},
   "outputs": [],
   "source": [
    "import numpy as np"
   ]
  },
  {
   "attachments": {},
   "cell_type": "markdown",
   "id": "bc7e1226",
   "metadata": {},
   "source": [
    "\n",
    "## 5. Broadcasting\n",
    "\n",
    "\n",
    "1. Overview\n",
    "\n",
    "2. Broadcasting Rules\n",
    "\n",
    "3. Example: Scalar and 1D Array\n",
    "\n",
    "4. Example: 1D Array and 2D Array\n",
    "\n",
    "5. Example: Column and Row\n",
    "\n",
    "6. Example: Failure\n",
    "\n",
    "7. Application: Standardization\n",
    "\n",
    "8. Appendix A\n"
   ]
  },
  {
   "attachments": {},
   "cell_type": "markdown",
   "id": "5a03685f",
   "metadata": {},
   "source": [
    "---\n",
    "\n",
    "### 5.1. Overview\n",
    "\n",
    "\n",
    "**Vectorization:**\n",
    "\n",
    "+ performs operations on entire array rather than iterating over individual elements\n",
    "\n",
    "+ looping occurs in optimized, precompiled C instead of Python\n",
    "\n",
    "+ requires that multiple array operands have compatible shape\n",
    "    \n",
    "<br>\n",
    "\n",
    "**Broadcasting:**\n",
    "\n",
    "+ term that describes how NumPy handles operations between arrays of different shapes\n",
    "\n",
    "+ replicates the smaller array to match the shape of the larger array\n",
    "\n",
    "+ allows for vectorized operations without making unnecessary data copies \n",
    "\n",
    "+ usually results in efficient algorithm implementations\n",
    "\n",
    "<br>\n",
    "\n",
    "**Note:** \n",
    "\n",
    "+ broadcasting specifies rules for making arrays of different shapes compatible for vectorization\n",
    "\n",
    "+ broadcasting can sometimes lead to inefficient memory use and slow computation (see Appendix A)"
   ]
  },
  {
   "attachments": {},
   "cell_type": "markdown",
   "id": "eb54bd26",
   "metadata": {},
   "source": [
    "---\n",
    "### 5.2. Broadcasting Rules\n",
    "\n",
    "1. **Rule 1:** If the arrays don't have the same number of dimensions, pad the shape of the array with fewer dimensions with ones on the left until both arrays have the same number of dimensions.\n",
    "\n",
    "2. **Rule 2:** If one array has size one in one dimension, expand its size in that dimension to match the size of the other array in the same dimension.\n",
    "\n",
    "3. **Rule 3:** If the arrays have different sizes in any dimension and neither is one, raise an error. \n"
   ]
  },
  {
   "attachments": {},
   "cell_type": "markdown",
   "id": "ff2027c7",
   "metadata": {},
   "source": [
    "---\n",
    "### 5.3. Example: Scalar and 1D Array"
   ]
  },
  {
   "cell_type": "code",
   "execution_count": 3,
   "id": "eba84dc9-1403-4e60-8c35-6526996ebfd1",
   "metadata": {},
   "outputs": [
    {
     "name": "stdout",
     "output_type": "stream",
     "text": [
      "a : 5\n",
      "x : [0 1 2]\n"
     ]
    }
   ],
   "source": [
    "a = np.array(5)         # scalar\n",
    "x = np.arange(3)        # 1D array\n",
    "\n",
    "print('a :', a)\n",
    "print('x :', x)"
   ]
  },
  {
   "cell_type": "code",
   "execution_count": 4,
   "id": "75c68091",
   "metadata": {},
   "outputs": [
    {
     "name": "stdout",
     "output_type": "stream",
     "text": [
      "Broadcasted addition:\n",
      "z : [5 6 7]\n"
     ]
    }
   ],
   "source": [
    "print('Broadcasted addition:')\n",
    "z = x + a\n",
    "print('z :', z)\n"
   ]
  },
  {
   "cell_type": "code",
   "execution_count": 5,
   "id": "b11b3b32",
   "metadata": {},
   "outputs": [
    {
     "name": "stdout",
     "output_type": "stream",
     "text": [
      "Shapes and Dimensions:\n",
      "shape x : (3,)\n",
      "shape a : ()\n",
      "ndim  x : 1\n",
      "ndim  a : 0\n"
     ]
    }
   ],
   "source": [
    "print('Shapes and Dimensions:')\n",
    "print('shape x :', x.shape)\n",
    "print('shape a :', a.shape)\n",
    "print('ndim  x :', x.ndim)\n",
    "print('ndim  a :', a.ndim)"
   ]
  },
  {
   "attachments": {},
   "cell_type": "markdown",
   "id": "9c5a576a",
   "metadata": {},
   "source": [
    "**Rule 1:** If the arrays don't have the same number of dimensions, pad the shape of the array with fewer dimensions with ones on the left until both arrays have the same number of dimensions.\n",
    "\n",
    "+ `x.ndim = 1` is larger than `a.ndim = 0` \n",
    "\n",
    "+ pad shape `()` of `a` with ones from the left until `ndim = 1`\n",
    "\n",
    "+ shape of `a` changes from `()` to `(1,)`\n",
    "\n",
    "+ `a` becomes `a' = [5]`\n",
    "\n",
    "**Rule 2:** If one array has size one in one dimension, expand its size in that dimension to match the size of the other array in the same dimension.\n",
    "\n",
    "+ shapes of `x` and `a` differ in the first dimension (`3` vs `1`)\n",
    "\n",
    "+ stretch first dimension of `a'` from `1` to `3` to obtain shape `(3,)`\n",
    "\n",
    "+ `a'` becomes `a'' = [5, 5, 5]`\n",
    "\n",
    "Finally, compute `x + a''`. The next figure illustrates broadcasting of the above example:\n",
    "\n",
    "<br>\n",
    "\n",
    "<div style=\"text-align: center;\">\n",
    "<img src=\"./figs/broadcasting_01.png\" alt=\"tensors\" width=\"450\">\n",
    "</div>"
   ]
  },
  {
   "attachments": {},
   "cell_type": "markdown",
   "id": "2385bb06",
   "metadata": {},
   "source": [
    "**Important Note** \n",
    "\n",
    "The stretching analogy shown in the following examples is only conceptual. NumPy uses the original scalar without actually making copies so that broadcasting operations are as memory and computationally efficient as possible."
   ]
  },
  {
   "attachments": {},
   "cell_type": "markdown",
   "id": "1d26f478",
   "metadata": {},
   "source": [
    "---\n",
    "### 5.4. Example: 1D Array and 2D Array"
   ]
  },
  {
   "cell_type": "code",
   "execution_count": 6,
   "id": "9bfdfda8",
   "metadata": {},
   "outputs": [
    {
     "name": "stdout",
     "output_type": "stream",
     "text": [
      "Matrix A:\n",
      "[[1. 1. 1.]\n",
      " [1. 1. 1.]\n",
      " [1. 1. 1.]]\n",
      "\n",
      "Vector b:\n",
      "[0 1 2]\n"
     ]
    }
   ],
   "source": [
    "A = np.ones((3, 3))\n",
    "b = np.arange(3)\n",
    "\n",
    "print('Matrix A:')\n",
    "print(A)\n",
    "print()\n",
    "\n",
    "print('Vector b:')\n",
    "print(b)"
   ]
  },
  {
   "cell_type": "code",
   "execution_count": 7,
   "id": "a2134ceb",
   "metadata": {},
   "outputs": [
    {
     "name": "stdout",
     "output_type": "stream",
     "text": [
      "Broadcasted Addition:\n",
      "[[1. 2. 3.]\n",
      " [1. 2. 3.]\n",
      " [1. 2. 3.]]\n"
     ]
    }
   ],
   "source": [
    "print('Broadcasted Addition:')\n",
    "C = A + b\n",
    "print(C)"
   ]
  },
  {
   "cell_type": "code",
   "execution_count": 8,
   "id": "d7c1f2fb",
   "metadata": {},
   "outputs": [
    {
     "name": "stdout",
     "output_type": "stream",
     "text": [
      "Shapes and Dimensions:\n",
      "shape A : (3, 3)\n",
      "shape b : (3,)\n",
      "ndim  A : 2\n",
      "ndim  b : 1\n"
     ]
    }
   ],
   "source": [
    "print('Shapes and Dimensions:')\n",
    "print('shape A :', A.shape)\n",
    "print('shape b :', b.shape)\n",
    "print('ndim  A :', A.ndim)\n",
    "print('ndim  b :', b.ndim)"
   ]
  },
  {
   "attachments": {},
   "cell_type": "markdown",
   "id": "de94402f",
   "metadata": {},
   "source": [
    "**Rule 1:** If the arrays don't have the same number of dimensions, pad the shape of the array with fewer dimensions with ones on the left until both arrays have the same number of dimensions.\n",
    "\n",
    "+ `A.ndim = 2` is larger than `b.ndim = 1` \n",
    "\n",
    "+ pad shape `(3,)` of `b` with ones from the left until `ndim = 2`\n",
    "\n",
    "+ shape of `b` changes from `(3, )` to `(1, 3)`\n",
    "\n",
    "+ `b` becomes `b' = [[0, 1, 2]]`\n",
    "\n",
    "**Rule 2:** If one array has size one in one dimension, expand its size in that dimension to match the size of the other array in the same dimension.\n",
    "\n",
    "+ shapes differ in the first dimension (`3` vs `1`)\n",
    "\n",
    "+ stretch first dimension of `b'` from `1` to `3` to obtain shape `(3, 3)`\n",
    "\n",
    "+ `b'` becomes `b'' = [[0, 1, 2], [0, 1, 2], [0, 1, 2]]`\n",
    "\n",
    "Finally, compute `A + b''`. The next figure illustrates the above example:\n",
    "\n",
    "<br>\n",
    "\n",
    "<div style=\"text-align: center;\">\n",
    "<img src=\"./figs/broadcasting_02.png\" alt=\"tensors\" width=\"450\">\n",
    "</div>\n",
    "\n",
    "<br>"
   ]
  },
  {
   "attachments": {},
   "cell_type": "markdown",
   "id": "10a16019",
   "metadata": {},
   "source": [
    "---\n",
    "### 5.5. Example: Column and Row"
   ]
  },
  {
   "cell_type": "code",
   "execution_count": 10,
   "id": "0c72f6bb",
   "metadata": {},
   "outputs": [
    {
     "name": "stdout",
     "output_type": "stream",
     "text": [
      "column x :\n",
      "[[0]\n",
      " [1]\n",
      " [2]]\n",
      "\n",
      "row y :\n",
      "[0 1 2]\n"
     ]
    }
   ],
   "source": [
    "x = np.arange(3).reshape(3, 1)\n",
    "y = np.arange(3)\n",
    "\n",
    "print('column x :')\n",
    "print(x)\n",
    "print()\n",
    "print('row y :')\n",
    "print(y)"
   ]
  },
  {
   "cell_type": "code",
   "execution_count": 11,
   "id": "7883015c",
   "metadata": {},
   "outputs": [
    {
     "name": "stdout",
     "output_type": "stream",
     "text": [
      "Broadcasted addition:\n",
      "[[0 1 2]\n",
      " [1 2 3]\n",
      " [2 3 4]]\n"
     ]
    }
   ],
   "source": [
    "print('Broadcasted addition:')\n",
    "z = x + y\n",
    "print(z)"
   ]
  },
  {
   "cell_type": "code",
   "execution_count": 12,
   "id": "3278845f",
   "metadata": {},
   "outputs": [
    {
     "name": "stdout",
     "output_type": "stream",
     "text": [
      "Shapes and Dimensions:\n",
      "shape x : (3, 1)\n",
      "shape y : (3,)\n",
      "ndim  x : 2\n",
      "ndim  y : 1\n"
     ]
    }
   ],
   "source": [
    "print('Shapes and Dimensions:')\n",
    "print('shape x :', x.shape)\n",
    "print('shape y :', y.shape)\n",
    "print('ndim  x :', x.ndim)\n",
    "print('ndim  y :', y.ndim)"
   ]
  },
  {
   "attachments": {},
   "cell_type": "markdown",
   "id": "d0f049c0",
   "metadata": {},
   "source": [
    "**Rule 1:** If the arrays don't have the same number of dimensions, pad the shape of the array with fewer dimensions with ones on the left until both arrays have the same number of dimensions.\n",
    "\n",
    "+ `x.ndim = 2` is larger than `y.ndim = 1` \n",
    "\n",
    "+ pad shape `(3,)` of `y` with ones from the left until `ndim = 2`\n",
    "\n",
    "+ shape of `y` changes from `(3,)` to `(1, 3)`\n",
    "\n",
    "+ `y` becomes `y' = [[0, 1, 2]]`\n",
    "\n",
    "**Rule 2:** If one array has size one in one dimension, expand its size in that dimension to match the size of the other array in the same dimension.\n",
    "\n",
    "+ shapes differ in the first and second dimensions \n",
    "\n",
    "+ stretch `x`:\n",
    "\n",
    "    + stretch second dimension of `x` from `1` to `3` to obtain shape `(3, 3)`\n",
    "\n",
    "    + `x` becomes `x' = [[0, 0, 0], [1, 1, 1], [2, 2, 2]]`\n",
    "\n",
    "+ stretch `y`:\n",
    "\n",
    "    + stretch first dimension of `y'` from `1` to `3` to obtain shape `(3, 3)`\n",
    "\n",
    "    + `y'` becomes `y'' = [[0, 1, 2], [0, 1, 2], [0, 1, 2]]`\n",
    "\n",
    "Finally, compute `x' + y''`. The next figure illustrates the above example:\n",
    "\n",
    "<br>\n",
    "\n",
    "<div style=\"text-align: center;\">\n",
    "<img src=\"./figs/broadcasting_03.png\" alt=\"tensors\" width=\"450\">\n",
    "</div>\n",
    "\n",
    "<br>"
   ]
  },
  {
   "attachments": {},
   "cell_type": "markdown",
   "id": "b5affd4f",
   "metadata": {},
   "source": [
    "---\n",
    "### 5.6. Example: Failure"
   ]
  },
  {
   "cell_type": "code",
   "execution_count": 13,
   "id": "97abd5d4",
   "metadata": {},
   "outputs": [
    {
     "name": "stdout",
     "output_type": "stream",
     "text": [
      "Matrix A:\n",
      "[[0 1 2]\n",
      " [3 4 5]]\n",
      "\n",
      "Vector b:\n",
      "[0 1]\n"
     ]
    }
   ],
   "source": [
    "A = np.arange(6).reshape(2, 3)\n",
    "b = np.arange(2)\n",
    "\n",
    "print('Matrix A:')\n",
    "print(A)\n",
    "print()\n",
    "\n",
    "print('Vector b:')\n",
    "print(b)"
   ]
  },
  {
   "cell_type": "code",
   "execution_count": 14,
   "id": "46165cc3",
   "metadata": {},
   "outputs": [
    {
     "name": "stdout",
     "output_type": "stream",
     "text": [
      "Broadcasting fails\n"
     ]
    },
    {
     "ename": "ValueError",
     "evalue": "operands could not be broadcast together with shapes (2,3) (2,) ",
     "output_type": "error",
     "traceback": [
      "\u001b[0;31m---------------------------------------------------------------------------\u001b[0m",
      "\u001b[0;31mValueError\u001b[0m                                Traceback (most recent call last)",
      "Cell \u001b[0;32mIn[14], line 2\u001b[0m\n\u001b[1;32m      1\u001b[0m \u001b[38;5;28mprint\u001b[39m(\u001b[38;5;124m'\u001b[39m\u001b[38;5;124mBroadcasting fails\u001b[39m\u001b[38;5;124m'\u001b[39m)\n\u001b[0;32m----> 2\u001b[0m C \u001b[38;5;241m=\u001b[39m \u001b[43mA\u001b[49m\u001b[43m \u001b[49m\u001b[38;5;241;43m+\u001b[39;49m\u001b[43m \u001b[49m\u001b[43mb\u001b[49m\n",
      "\u001b[0;31mValueError\u001b[0m: operands could not be broadcast together with shapes (2,3) (2,) "
     ]
    }
   ],
   "source": [
    "print('Broadcasting fails')\n",
    "C = A + b"
   ]
  },
  {
   "cell_type": "code",
   "execution_count": 15,
   "id": "e5be622e",
   "metadata": {},
   "outputs": [
    {
     "name": "stdout",
     "output_type": "stream",
     "text": [
      "Shapes and Dimensions:\n",
      "shape A : (2, 3)\n",
      "shape b : (2,)\n",
      "ndim  A : 2\n",
      "ndim  b : 1\n"
     ]
    }
   ],
   "source": [
    "print('Shapes and Dimensions:')\n",
    "print('shape A :', A.shape)\n",
    "print('shape b :', b.shape)\n",
    "print('ndim  A :', A.ndim)\n",
    "print('ndim  b :', b.ndim)"
   ]
  },
  {
   "attachments": {},
   "cell_type": "markdown",
   "id": "3dc60334",
   "metadata": {},
   "source": [
    "**Rule 1:** If the arrays don't have the same number of dimensions, pad the shape of the array with fewer dimensions with ones on the left until both arrays have the same number of dimensions.\n",
    "\n",
    "+ `A.ndim = 2` is larger than `b.ndim = 1` \n",
    "\n",
    "+ pad shape `(2,)` of `b` with ones from the left until `ndim == 2`\n",
    "\n",
    "+ shape of `b` changes from `(2,)` to `(1, 2)`\n",
    "\n",
    "+ `b` becomes `b' = [[0, 1]]`\n",
    "\n",
    "**Rule 2:** If one array has size one in one dimension, expand its size in that dimension to match the size of the other array in the same dimension.\n",
    "\n",
    "+ shapes differ in the first and second dimensions \n",
    "\n",
    "+ stretch first dimension of `b'` from `1` to `2` to obtain shape `(2, 2)`\n",
    "\n",
    "+ `b'` becomes `b'' = [[0, 1], [0, 1]]`\n",
    "\n",
    "**Rule 3:** If the arrays have different sizes in any dimension and neither is one, raise an error. \n",
    "\n",
    "+ shape `A` is `(2, 3)`\n",
    "\n",
    "+ shape `b''` is `(2, 2)`\n",
    "\n",
    "+ shapes disagree in last dimension (`3` vs `2`)\n",
    "\n",
    "+ neither of both values is one\n",
    "\n",
    "+ **Error**"
   ]
  },
  {
   "attachments": {},
   "cell_type": "markdown",
   "id": "a050f764",
   "metadata": {},
   "source": [
    "---\n",
    "### 5.7. Application: Standardization\n",
    "\n",
    "Standardization is a common preprocessing step in data analysis and machine learning. It involves transforming the data so that it has zero mean and unit standard deviation.\n",
    "\n",
    "Let $\\mathbf{X} \\in \\mathbb{R}^{m \\times n}$ be a feature matrix with $m$ observations and $n$ features. The Z-Transform (Standardization) of $\\mathbf{X}$ is defined as:\n",
    "\n",
    "$$\n",
    "    \\mathbf{Z} = \\frac{\\mathbf{X} - \\mathbf{\\mu}}{\\mathbf{\\sigma}}\n",
    "$$\n",
    "\n",
    "where $\\mathbf{\\mu} \\in \\mathbb{R}^n$ is the vector of column means and $\\mathbf{\\sigma} \\in \\mathbb{R}^n$ is the vector of column standard deviations. Subtraction and division are performed elementwise after broadcasting.\n",
    "\n",
    "In detail: The elements of $\\mathbf{\\mu} = (\\mu_1, \\ldots, \\mu_n)$ are given by:\n",
    "\n",
    "$$\n",
    "    \\mu_j = \\frac{1}{m}\\sum_{i=1}^m x_{ij}\n",
    "$$\n",
    "\n",
    "and the squared elements of $\\mathbf{\\sigma} = (\\sigma_1, \\ldots, \\sigma_n)$ are given by:\n",
    "\n",
    "$$\n",
    "    \\sigma_j^2 = \\frac{1}{m}\\sum_{i=1}^m (x_{ij} - \\mu_j)^2.\n",
    "$$\n",
    "\n",
    "Then the elements of $\\mathbf{Z}$ are of the form\n",
    "\n",
    "$$\n",
    "    z_{ij} = \\frac{x_{ij}-\\mu_j}{\\sigma_j}.\n",
    "$$\n",
    "\n",
    "For an implementation using brodacasting, see the notebook: [ztransform.ipynb](./ztransform.ipynb).\n"
   ]
  },
  {
   "cell_type": "markdown",
   "id": "a89ca014",
   "metadata": {},
   "source": [
    "---\n",
    "### 5.8. Appendix A\n",
    "\n",
    "Example when looping is faster than broadcasting (example and answer are taken from [[>](https://stackoverflow.com/questions/49632993/why-python-broadcasting-in-the-example-below-is-slower-than-a-simple-loop)])"
   ]
  },
  {
   "cell_type": "code",
   "execution_count": null,
   "id": "990af0b9",
   "metadata": {},
   "outputs": [],
   "source": [
    "A = np.random.random((1000, 100000))\n",
    "x = A[0]"
   ]
  },
  {
   "cell_type": "code",
   "execution_count": null,
   "id": "6e5452e1",
   "metadata": {},
   "outputs": [],
   "source": [
    "def loop(A, x):\n",
    "  n = A.shape[0]\n",
    "  y = np.zeros(n)\n",
    "  for i in range(n):\n",
    "    y[i] = np.sum((A[i] - x)**2)\n",
    "  return y\n",
    "\n",
    "def bcast(A, x):\n",
    "  return np.sum((A - x)**2, axis=1)\n",
    "\n",
    "print('looping:')\n",
    "%timeit loop(A, x) \n",
    "\n",
    "print('broadcasting:')\n",
    "%timeit bcast(A, x)"
   ]
  },
  {
   "cell_type": "markdown",
   "id": "cc8fc073",
   "metadata": {},
   "source": [
    "**Reason:** In the broadcast version, each element of `A` is subtracted from `x`. By the time the last row of `A` is processed, the results of processing the first row have been evicted from the cache, so for the second step these differences are loaded back into the cache and squared. Finally, they are loaded and processed a third time for summation. Since `A` is quite large, parts of the cache are cleared at each step to accommodate all the data.\n",
    "\n",
    "In the looped version, each row is processed completely in one smaller step, resulting in fewer cache misses and overall faster code."
   ]
  }
 ],
 "metadata": {
  "kernelspec": {
   "display_name": "Python 3 (ipykernel)",
   "language": "python",
   "name": "python3"
  },
  "language_info": {
   "codemirror_mode": {
    "name": "ipython",
    "version": 3
   },
   "file_extension": ".py",
   "mimetype": "text/x-python",
   "name": "python",
   "nbconvert_exporter": "python",
   "pygments_lexer": "ipython3",
   "version": "3.11.5"
  },
  "toc-showcode": false,
  "toc-showtags": true
 },
 "nbformat": 4,
 "nbformat_minor": 5
}
