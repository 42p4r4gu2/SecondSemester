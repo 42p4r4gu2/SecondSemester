{
 "cells": [
  {
   "attachments": {},
   "cell_type": "markdown",
   "id": "dc5ff5c7",
   "metadata": {},
   "source": [
    "# Lecture 9: NumPy (Part 1)"
   ]
  },
  {
   "attachments": {},
   "cell_type": "markdown",
   "id": "6ead0ffd",
   "metadata": {},
   "source": [
    "---\n",
    "### Content\n",
    "\n",
    "\n",
    "**Part 1**\n",
    "\n",
    "0. [Preliminaries](./vl09_0_main.ipynb)\n",
    "\n",
    "1. [Introduction to NumPy](./vl09_1_intro.ipynb)\n",
    "\n",
    "2. [NumPy Arrays](./vl09_2_arrays.ipynb)\n",
    "\n",
    "3. [Operations on NumPy Arrays](./vl09_3_arrays.ipynb)\n",
    "\n",
    "**Part 2**\n",
    "\n",
    "4. Shape Manipulation\n",
    "\n",
    "5. Broadcasting\n",
    "\n",
    "6. Advanced Indexing\n",
    "\n",
    "7. Advanced Indexing"
   ]
  },
  {
   "attachments": {},
   "cell_type": "markdown",
   "id": "eb1ac472",
   "metadata": {},
   "source": [
    "---\n",
    "## 0. Preliminaries\n",
    "\n",
    "<br>\n",
    "\n",
    "\n",
    "<hr style=\"border-top: 0.5px dashed #7f7f7f;\">\n",
    "\n",
    "### Installing NumPy\n",
    "\n",
    "1. Anaconda: NumPy is included.\n",
    "\n",
    "2. Others: use `conda install numpy` or `pip install numpy` in the terminal.\n",
    "\n",
    "\n",
    "<br>\n",
    "\n",
    "<hr style=\"border-top: 0.5px dashed #7f7f7f;\">\n",
    "\n",
    "### Using NumPy\n",
    "\n",
    "To access NumPy and its functions in your Python code, you need to import it:\n",
    "\n",
    "```python\n",
    "    import numpy as np\n",
    "```\n",
    "\n",
    "It is standard practice of the Python community to abbreviate `numpy` as `np` and to reference to its members using the prefix `np.`.\n",
    "\n",
    "<br>\n",
    "\n",
    "<hr style=\"border-top: 0.5px dashed #7f7f7f;\">\n",
    "\n",
    "### Documentation\n",
    "\n",
    "This notebook gives a brief overview of NumPy. For complete documentation and additional resources, please visit NumPy's website:\n",
    "\n",
    "- [Official Documentation](https://numpy.org/doc/)\n",
    "- [NumPy User Guide](https://numpy.org/doc/stable/user/index.html)\n",
    "- [NumPy Reference](https://numpy.org/doc/stable/reference/index.html)\n",
    "- [NumPy Tutorials](https://numpy.org/doc/stable/user/tutorials_index.html)\n",
    "- [NumPy Community](https://numpy.org/community/)\n",
    "\n",
    "Note that the functions presented in this lecture are not described in full detail. "
   ]
  },
  {
   "cell_type": "markdown",
   "id": "d641a13f",
   "metadata": {},
   "source": []
  }
 ],
 "metadata": {
  "kernelspec": {
   "display_name": "Python 3 (ipykernel)",
   "language": "python",
   "name": "python3"
  },
  "language_info": {
   "codemirror_mode": {
    "name": "ipython",
    "version": 3
   },
   "file_extension": ".py",
   "mimetype": "text/x-python",
   "name": "python",
   "nbconvert_exporter": "python",
   "pygments_lexer": "ipython3",
   "version": "3.11.3"
  }
 },
 "nbformat": 4,
 "nbformat_minor": 5
}
