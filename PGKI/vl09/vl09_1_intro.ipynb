{
 "cells": [
  {
   "cell_type": "code",
   "execution_count": 3,
   "id": "40656048-85ea-4bb8-9622-809d01f2e3ae",
   "metadata": {},
   "outputs": [],
   "source": [
    "import numpy as np"
   ]
  },
  {
   "cell_type": "markdown",
   "id": "9b2aec07",
   "metadata": {},
   "source": [
    "## 1. Introduction to NumPy\n",
    "\n",
    "1. What is NumPy?\n",
    "\n",
    "3. Example: Vectorization\n",
    "\n",
    "3. Example: Broadcasting \n",
    "\n",
    "4. Benefits of NumPy\n"
   ]
  },
  {
   "cell_type": "markdown",
   "id": "58069970",
   "metadata": {},
   "source": [
    "---\n",
    "\n",
    "### 1.1. What is NumPy?\n",
    "\n",
    "+ NumPy stands for Numerical Python\n",
    "\n",
    "+ NumPy is a powerful library for numerical computing in Python\n",
    "\n",
    "+ NumPy efficiently handles large, multi-dimensional arrays\n",
    "\n",
    "+ NumPy provides high-level mathematical functions to operate on these arrays"
   ]
  },
  {
   "cell_type": "markdown",
   "metadata": {},
   "source": [
    "---\n",
    "\n",
    "### 1.2 Example: Vectorization\n",
    "\n",
    "The goal of vectorization is to eleminate slow Python `for` loops. As an example, consider the problem of computing the dot product $\\mathbf{x}^{\\top}\\mathbf{y} = x_1 y_1 + \\cdots + x_n y_n$ of two vectors $\\mathbf{x}$ and $\\mathbf{y}$ from $\\mathbb{R}^n$ in Python and NumPy. \n",
    "\n",
    "**Solution with Python lists:**"
   ]
  },
  {
   "cell_type": "code",
   "execution_count": 1,
   "id": "3f5f39fd",
   "metadata": {},
   "outputs": [
    {
     "name": "stdout",
     "output_type": "stream",
     "text": [
      "z = 10\n"
     ]
    }
   ],
   "source": [
    "x = [1, 2, 3]\n",
    "y = [3, 2, 1]\n",
    "\n",
    "### dot product ###############################################################\n",
    "z = 0\n",
    "for x_i, y_i in zip(x, y):\n",
    "    z += x_i * y_i\n",
    "###############################################################################\n",
    "\n",
    "print(f'z = {z}')"
   ]
  },
  {
   "attachments": {},
   "cell_type": "markdown",
   "id": "6d75fb35-7c68-4bd7-ba18-3ffd0510fd95",
   "metadata": {},
   "source": [
    "**Solution with NumPy arrays:**"
   ]
  },
  {
   "cell_type": "code",
   "execution_count": 4,
   "id": "a69e71c6-c0ec-408d-b246-2bd6294484a7",
   "metadata": {},
   "outputs": [
    {
     "name": "stdout",
     "output_type": "stream",
     "text": [
      "10\n"
     ]
    }
   ],
   "source": [
    "# create numpy arrays\n",
    "x = np.array([1, 2, 3])\n",
    "y = np.array([3, 2, 1])\n",
    "\n",
    "### dot product ###############################################################\n",
    "z = np.dot(x, y)\n",
    "###############################################################################\n",
    "\n",
    "print(z)"
   ]
  },
  {
   "cell_type": "markdown",
   "id": "f541faa3",
   "metadata": {},
   "source": [
    "The [`timer.ipynb`](./timer.ipynb) notebook demonstrates the speedup achieved by using NumPy. "
   ]
  },
  {
   "cell_type": "markdown",
   "metadata": {},
   "source": [
    "---\n",
    "### 1.3. Example: Broadcasting\n",
    "As second example, we compute the scalar multiplication $a \\cdot \\mathbf{x} = (ax_1, \\ldots, a x_n)$, where $a \\in \\mathbf{R}$ is a scalar and $\\mathbf{x} \\in \\mathbf{R}^n$ is a vector. \n",
    "\n",
    "**Solution with with Python lists:**"
   ]
  },
  {
   "cell_type": "code",
   "execution_count": 5,
   "id": "278087b3-32c6-438a-b2f2-c802c05ca682",
   "metadata": {},
   "outputs": [
    {
     "name": "stdout",
     "output_type": "stream",
     "text": [
      "[2, 4, 6]\n"
     ]
    }
   ],
   "source": [
    "a = 2\n",
    "x = [1, 2, 3]\n",
    "\n",
    "### scalar multiplication #####################################################\n",
    "z = []\n",
    "for x_i in x:\n",
    "    z.append(a * x_i)\n",
    "###############################################################################\n",
    "\n",
    "print(z)"
   ]
  },
  {
   "attachments": {},
   "cell_type": "markdown",
   "id": "60b5f9d8",
   "metadata": {},
   "source": [
    "**Solution with NumPy arrays**"
   ]
  },
  {
   "cell_type": "code",
   "execution_count": 6,
   "id": "ccfb1cf8",
   "metadata": {},
   "outputs": [
    {
     "name": "stdout",
     "output_type": "stream",
     "text": [
      "[2 4 6]\n"
     ]
    }
   ],
   "source": [
    "a = 2\n",
    "x = np.array([1, 2, 3])\n",
    "\n",
    "### scalar multiplication #####################################################\n",
    "z = a * x\n",
    "###############################################################################\n",
    "\n",
    "print(z)"
   ]
  },
  {
   "cell_type": "markdown",
   "id": "4859ce23",
   "metadata": {},
   "source": [
    "The scalar `a` and the array `x` have different shapes. To multiply `a` with `x`, NumPy uses a concept called **broadcasting**. Broadcasting allows operations between arrays of different shapes by automatically expanding the smaller array to match the shape of the larger array.\n",
    "\n",
    "In the case of scalar multiplication, broadcasting works conceptually as follows:\n",
    "\n",
    "1. Expansion: The scalar `a=2` is expanded to an array `a_expanded = [2, 2, 2]` of the same shape as `x`. \n",
    "\n",
    "2. Elementwise multiplication: Then elementwise multiplication `a_expanded * x = [2, 2, 2] * [1, 2, 3]` is performed. "
   ]
  },
  {
   "cell_type": "markdown",
   "metadata": {},
   "source": [
    "---\n",
    "\n",
    "### 1.4. Benefits of NumPy\n",
    "\n",
    "NumPy is the the foundation of Python's scientific computing ecosystem \n",
    "and is widely used in data science and machine learning for the following reasons: \n",
    "\n",
    "\n",
    "+ **Integration with other libraries:** \n",
    "\n",
    "    + Pandas for data manipulation\n",
    "    \n",
    "    + Matplotlib for visualization\n",
    "    \n",
    "    + SciPy for advanced scientific computations\n",
    "    \n",
    "    + Scikit-learn for machine learning\n",
    "    \n",
    "    + ...\n",
    "\n",
    "    $\\Rightarrow$ Integration with these libraries in the Python ecosystem enables a streamlined workflow for data scientists.\n",
    "    \n",
    "    \n",
    "<br>\n",
    "    \n",
    "+ **Efficiency:** \n",
    "\n",
    "    + Efficient memory management for storage and retrieval of large datasets.\n",
    "    \n",
    "    + Optimized algorithms for faster execution times.\n",
    "    \n",
    "<br>\n",
    "\n",
    "+ **Vectorization:** \n",
    "    \n",
    "    + NumPy provides operations on entire arrays rather than iterating over individual elements. \n",
    "    \n",
    "    + Vectorized operations often use optimized, precompiled C code \n",
    "    \n",
    "    + Precompiled C code is substantialy faster than traditional Python loops.\n",
    "    \n",
    "<br>\n",
    "\n",
    "+ **Broadcasting:** \n",
    "\n",
    "    + Broadcasting allows operations on arrays of different shapes.\n",
    "\n",
    "<br>\n",
    "\n",
    "+ **Concise code:** \n",
    "\n",
    "    + Vectorization and broadcasting lead to more concise and clearer code.\n",
    "    \n",
    "    + Loops are replaced by statement that look more like math equations. \n",
    "\n",
    "\n"
   ]
  },
  {
   "attachments": {},
   "cell_type": "markdown",
   "id": "024d4337",
   "metadata": {},
   "source": []
  }
 ],
 "metadata": {
  "kernelspec": {
   "display_name": "Python 3 (ipykernel)",
   "language": "python",
   "name": "python3"
  },
  "language_info": {
   "codemirror_mode": {
    "name": "ipython",
    "version": 3
   },
   "file_extension": ".py",
   "mimetype": "text/x-python",
   "name": "python",
   "nbconvert_exporter": "python",
   "pygments_lexer": "ipython3",
   "version": "3.11.5"
  }
 },
 "nbformat": 4,
 "nbformat_minor": 5
}
