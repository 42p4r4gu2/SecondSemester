{
 "cells": [
  {
   "cell_type": "code",
   "execution_count": 1,
   "id": "2bcf801e-37c4-48d2-b5d5-8c4f515377ce",
   "metadata": {},
   "outputs": [],
   "source": [
    "import numpy as np"
   ]
  },
  {
   "attachments": {},
   "cell_type": "markdown",
   "id": "bc7e1226",
   "metadata": {},
   "source": [
    "\n",
    "## 3. Operations on NumPy Arrays\n",
    "\n",
    "\n",
    "1. Overview\n",
    "\n",
    "2. Arithmetic Operations\n",
    "\n",
    "3. Logical Operations\n",
    "\n",
    "4. Comparison Operations\n",
    "\n",
    "5. Math Functions\n",
    "\n",
    "6. Reduction Functions"
   ]
  },
  {
   "attachments": {},
   "cell_type": "markdown",
   "id": "5a03685f",
   "metadata": {},
   "source": [
    "---\n",
    "\n",
    "### 3.1. Overview\n",
    "\n",
    "\n",
    "This sections covers some common operations on NumPy arrays. The functions in 3.2 - 3.5 are ufuncs:\n",
    "\n",
    "+ `ufuncs`\n",
    "\n",
    "    + short for 'universal functions'\n",
    "\n",
    "    + functions that operate element-wise on arrays\n",
    "\n",
    "    + efficient, because they are implemented in C \n",
    "\n",
    "    + broadcasting: can operate on arrays of different (but compatible) shapes\n",
    "\n",
    "<br>\n",
    "\n",
    "+ Examples: \n",
    "\n",
    "    + arithmetic operators\n",
    "    \n",
    "    + logical operators\n",
    "\n",
    "    + comparison operators\n",
    "    \n",
    "    + math functions: sin, cos, exp, log, ... \n",
    "    \n",
    "<br>\n",
    "    \n",
    "+ Documentation:\n",
    "\n",
    "    + [Mathematical functions](https://numpy.org/doc/stable/reference/routines.math.html#mathematical-functions)\n",
    "\n",
    "    + [Universal functions](https://numpy.org/doc/stable/reference/ufuncs.html#available-ufuncs) \n",
    "    \n",
    "    + [Sums, products, and differences](https://numpy.org/doc/stable/reference/routines.math.html#sums-products-differences)\n",
    "\n",
    "    + [Statistics](https://numpy.org/doc/stable/reference/routines.statistics.html#statistics)\n",
    "\n",
    "    + [Extrema finding](https://numpy.org/doc/stable/reference/routines.math.html#extrema-finding)\n",
    "\n",
    "    \n",
    "<br>\n",
    "\n",
    "+ **Note:** \n",
    "\n",
    "    + There are many more important functions than are covered here. \n",
    "\n",
    "    + Functions have additional parameters not covereed here.\n",
    "    \n",
    "    + Search the documentation before hand coding your own function. \n",
    "\n",
    "\n",
    "<br>\n",
    "\n",
    "**Example:** elementwise addition with `+`"
   ]
  },
  {
   "cell_type": "code",
   "execution_count": 2,
   "id": "eba84dc9-1403-4e60-8c35-6526996ebfd1",
   "metadata": {},
   "outputs": [
    {
     "name": "stdout",
     "output_type": "stream",
     "text": [
      "[5 7 9]\n"
     ]
    }
   ],
   "source": [
    "x = np.array([1, 2, 3])\n",
    "y = np.array([4, 5, 6])\n",
    "\n",
    "z = x + y\n",
    "\n",
    "print(z)"
   ]
  },
  {
   "attachments": {},
   "cell_type": "markdown",
   "id": "aca961f9-e63c-4552-9fd2-edab4550524c",
   "metadata": {},
   "source": [
    "---\n",
    "### 3.2 Arithmetic Operations\n",
    "\n",
    "The following table shows the arithmetic operators and their corresponding ufuncs:\n",
    "\n",
    "\n",
    "<div style=\"text-align: left;\">\n",
    "<img src=\"./figs/ufuncs_arithmetic.png\" alt=\"tensors\" width=\"550\">\n",
    "</div>\n",
    "\n",
    "Arithmetic operators such as `+`, `-`, and `*` automatically call their respective ufuncs `np.add`, `np.subtract`, and `np.multiply` when used on arrays. Using ufuncs directly provides additional functionality, such as specifying an output array with the `out` parameter to reduce memory usage and improve performance.\n",
    "\n",
    "**Example:** elementwise addition with `add`"
   ]
  },
  {
   "cell_type": "code",
   "execution_count": 4,
   "id": "1468641a-8c58-48de-a7c5-71b80b4edcc7",
   "metadata": {},
   "outputs": [
    {
     "name": "stdout",
     "output_type": "stream",
     "text": [
      "x : [1 2 3]\n",
      "y : [4 5 6]\n",
      "z : [5 7 9]\n",
      "z : [ 6  9 12]\n"
     ]
    }
   ],
   "source": [
    "x = np.array([1, 2, 3])\n",
    "y = np.array([4, 5, 6])\n",
    "\n",
    "print('x :', x)\n",
    "print('y :', y)\n",
    "\n",
    "z = np.add(x, y)\n",
    "print('z :', z)\n",
    "\n",
    "np.add(2 * x, y, out=z)\n",
    "print('z :', z)"
   ]
  },
  {
   "attachments": {},
   "cell_type": "markdown",
   "id": "896b2b62-dce5-4403-9f5b-0e2b50c5b717",
   "metadata": {},
   "source": [
    "---\n",
    "\n",
    "### 3.3. Logical Operations\n",
    "\n",
    "The following table shows the bitwise logical operators and their corresponding ufuncs when applied to boolean ndarrays:\n",
    "\n",
    "<div style=\"text-align: left;\">\n",
    "<img src=\"./figs/ufuncs_logical.png\" alt=\"tensors\" width=\"550\">\n",
    "</div>\n",
    "\n",
    "**Warning:** Combining arrays with the Python keywords `and` and `or` will result in a ValueError. \n",
    "\n",
    "<br>\n",
    "\n",
    "**Example:**"
   ]
  },
  {
   "cell_type": "code",
   "execution_count": 7,
   "id": "f1dc2e15-d5b5-4893-9a69-0e81c6ef2693",
   "metadata": {},
   "outputs": [
    {
     "name": "stdout",
     "output_type": "stream",
     "text": [
      "x   |   y : [3 2 0]\n",
      "x np.or y : [ True  True False]\n"
     ]
    }
   ],
   "source": [
    "x = np.array([1, 0, 0])\n",
    "y = np.array([2, 2, 0])\n",
    "\n",
    "print('x   |   y :', x | y)\n",
    "print('x np.or y :', np.logical_or(x, y))\n",
    "\n",
    "# raises ValueError:\n",
    "#print('x or y :', x or y)"
   ]
  },
  {
   "attachments": {},
   "cell_type": "markdown",
   "id": "c00f4690-2b81-495e-ba8d-1136bcc1c04b",
   "metadata": {},
   "source": [
    "**ValueError:** There is no one commonly understood way to evaluate an array in Boolean context. Consider the array `x = [1, 0]` for example. It could be possibly evaluated as \n",
    "\n",
    "+ `True` because at least one element is evaluated as `True`\n",
    "\n",
    "+ `False` because not all elements are evaluated as `True`\n",
    "\n",
    "+ `True` because the array is not empty. \n",
    "\n",
    "The NumPy developers refused to decide for one alternative and decided to raise a ValueError whenever arrays are evaluated in Boolean context using Python's `and` and `or`."
   ]
  },
  {
   "attachments": {},
   "cell_type": "markdown",
   "id": "c60c145d-ba6f-4a0b-bd5c-c35c32f42017",
   "metadata": {},
   "source": [
    "---\n",
    "### 3.4. Comparison Operators\n",
    "\n",
    "The following table shows the logical operators and their corresponding ufuncs:\n",
    "\n",
    "<div style=\"text-align: left;\">\n",
    "<img src=\"./figs/ufuncs_comparison.png\" alt=\"tensors\" width=\"550\">\n",
    "</div>\n",
    "\n",
    "\n",
    "**Example:** Operator precedence"
   ]
  },
  {
   "cell_type": "code",
   "execution_count": 9,
   "id": "7581954f-872e-4c6b-bdfe-6262e4ddbc1a",
   "metadata": {},
   "outputs": [
    {
     "name": "stdout",
     "output_type": "stream",
     "text": [
      "[ True False  True  True  True]\n"
     ]
    },
    {
     "ename": "ValueError",
     "evalue": "The truth value of an array with more than one element is ambiguous. Use a.any() or a.all()",
     "output_type": "error",
     "traceback": [
      "\u001b[0;31m---------------------------------------------------------------------------\u001b[0m",
      "\u001b[0;31mValueError\u001b[0m                                Traceback (most recent call last)",
      "Cell \u001b[0;32mIn[9], line 8\u001b[0m\n\u001b[1;32m      5\u001b[0m \u001b[38;5;28mprint\u001b[39m((x \u001b[38;5;241m>\u001b[39m \u001b[38;5;241m2\u001b[39m) \u001b[38;5;241m|\u001b[39m (x \u001b[38;5;241m==\u001b[39m y))\n\u001b[1;32m      7\u001b[0m \u001b[38;5;66;03m# ValueError:\u001b[39;00m\n\u001b[0;32m----> 8\u001b[0m \u001b[38;5;28mprint\u001b[39m(x \u001b[38;5;241m>\u001b[39m \u001b[38;5;241m2\u001b[39m \u001b[38;5;241m|\u001b[39m x \u001b[38;5;241m==\u001b[39m y)\n",
      "\u001b[0;31mValueError\u001b[0m: The truth value of an array with more than one element is ambiguous. Use a.any() or a.all()"
     ]
    }
   ],
   "source": [
    "x = np.array([0, 1, 2, 3, 4])\n",
    "y = np.array([0, 0, 2, 4, 4])\n",
    "\n",
    "# use parentheses\n",
    "print((x > 2) | (x == y))\n",
    "\n",
    "# ValueError:\n",
    "print(x > 2 | x == y)"
   ]
  },
  {
   "attachments": {},
   "cell_type": "markdown",
   "id": "704e6a1d-c5da-4e13-aa22-3f55d4972429",
   "metadata": {},
   "source": [
    "**ValueError:** The expression `x > 2 | x == y` is evaluated as follows:\n",
    "\n",
    "1. `|` has highest precedence. The expression `2 | x` is evaluated first and results in an array `z`.\n",
    "\n",
    "2. The expression `x > z == y` is a chain of the form `(x > z) and (z == y)`. \n",
    "\n",
    "Since two arrays are evaluated in Boolean context, NumPy raises a ValueError (see above).\n",
    "\n",
    "**Note:** We didn't cover bitwise operators. They have higher precedence than comparision operators but lower precedence than arithmetic operators. "
   ]
  },
  {
   "attachments": {},
   "cell_type": "markdown",
   "id": "bd5519de-e819-42f7-849d-bac5cddeb47a",
   "metadata": {},
   "source": [
    "---\n",
    "\n",
    "### 3.5. Math Functions\n",
    "\n",
    "\n",
    "Universal functions include common math operations [[>](https://numpy.org/doc/stable/reference/ufuncs.html#math-operations)] and trigonometric functions [[>](https://numpy.org/doc/stable/reference/ufuncs.html#trigonometric-functions)]  such as\n",
    "\n",
    "+ Math operations: `np.exp`, `np.log`, `np.tan`, ...\n",
    "\n",
    "+ Trigonemetric functions: `np.sin`, `np.cos`, `np.tan`, ...\n",
    "\n",
    "\n",
    "**Example:**"
   ]
  },
  {
   "cell_type": "code",
   "execution_count": 21,
   "id": "5c383813-2a4c-49e8-839d-5db238db9e8f",
   "metadata": {},
   "outputs": [
    {
     "name": "stdout",
     "output_type": "stream",
     "text": [
      "x      : [0.   1.57 3.14 4.71 6.28]\n",
      "sin(x) : [ 0.  1.  0. -1. -0.]\n"
     ]
    }
   ],
   "source": [
    "PI = np.pi\n",
    "\n",
    "x = np.array([0, PI/2, PI, 3*PI/2, 2*PI])\n",
    "y = np.sin(x)\n",
    "\n",
    "# output (suppress scientific notation)\n",
    "np.set_printoptions(precision=2, suppress=True)\n",
    "print('x      :', x)\n",
    "print('sin(x) :', y)"
   ]
  },
  {
   "attachments": {},
   "cell_type": "markdown",
   "id": "ca857ffc-2a1b-45e4-a799-1f888077f06e",
   "metadata": {},
   "source": [
    "---\n",
    "### 3.6. Reduction Functions\n",
    "\n",
    "<hr style=\"border-top: 0.5px dashed #7f7f7f;\">\n",
    "\n",
    "#### 3.6.1. Overview\n",
    "\n",
    "Reduction functions aggregate the values of an arrays. The following functions are some of the most commonly used reduction functions in data science and machine learning:\n",
    "\n",
    "<div style=\"text-align: left;\">\n",
    "<img src=\"./figs/ufuncs_reduction.png\" alt=\"tensors\" width=\"500\">\n",
    "</div>\n",
    "\n",
    "\n",
    "<br>\n",
    "\n",
    "\n",
    "**Remarks:** Reduction functions are not ufuncs. \n"
   ]
  },
  {
   "attachments": {},
   "cell_type": "markdown",
   "id": "d6d87b92-be92-4f22-ba2f-904d0e6e6e65",
   "metadata": {},
   "source": [
    "<hr style=\"border-top: 0.5px dashed #7f7f7f;\">\n",
    "\n",
    "#### 3.6.2 Example: `np.sum` for 1D Arrays\n",
    "\n",
    "`np.sum` returns the sum of all elements of a given 1d array:"
   ]
  },
  {
   "cell_type": "code",
   "execution_count": 10,
   "id": "4aef5c98-b8b1-427e-8822-7b29540e5f35",
   "metadata": {},
   "outputs": [
    {
     "name": "stdout",
     "output_type": "stream",
     "text": [
      "[1 2 3]\n"
     ]
    }
   ],
   "source": [
    "x = np.array([1, 2, 3])\n",
    "print(x)"
   ]
  },
  {
   "cell_type": "code",
   "execution_count": 11,
   "id": "a635e097-ad43-4459-883b-b944f7902418",
   "metadata": {},
   "outputs": [
    {
     "name": "stdout",
     "output_type": "stream",
     "text": [
      "6\n"
     ]
    }
   ],
   "source": [
    "s = np.sum(x)\n",
    "print(s)"
   ]
  },
  {
   "attachments": {},
   "cell_type": "markdown",
   "id": "ea09f129-eedd-4178-ad18-7c23f2771c32",
   "metadata": {},
   "source": [
    "<hr style=\"border-top: 0.5px dashed #7f7f7f;\">\n",
    "\n",
    "#### 3.6.3 Example: `np.sum` for 2D Arrays\n",
    "\n",
    "`np.sum` returns the sum of all elements of a given 2d array:"
   ]
  },
  {
   "cell_type": "code",
   "execution_count": 12,
   "id": "4309fe4e-1754-40ea-ab58-6c4efb032f8a",
   "metadata": {},
   "outputs": [
    {
     "name": "stdout",
     "output_type": "stream",
     "text": [
      "[[0 1]\n",
      " [2 3]\n",
      " [4 5]]\n"
     ]
    }
   ],
   "source": [
    "x = np.arange(6).reshape(-1,2)\n",
    "print(x)"
   ]
  },
  {
   "cell_type": "code",
   "execution_count": 13,
   "id": "95100131-f0bf-4d76-885e-4f239dffc344",
   "metadata": {},
   "outputs": [
    {
     "name": "stdout",
     "output_type": "stream",
     "text": [
      "15\n"
     ]
    }
   ],
   "source": [
    "s = np.sum(x)\n",
    "print(s)"
   ]
  },
  {
   "attachments": {},
   "cell_type": "markdown",
   "id": "d8bd79f9-2cbe-4b39-bb2e-6a9a2cba2e70",
   "metadata": {},
   "source": [
    "<hr style=\"border-top: 0.5px dashed #7f7f7f;\">\n",
    "\n",
    "#### 3.6.4 Example: `np.sum` for 2D Arrays along an axis\n",
    "\n",
    "The `np.sum()` function has an `axis` parameter that defaults to `None`. If unspecified, it returns the sum of all elements in the array. Specifying `axis=0` or `axis=1` returns the sum for each column or row, respectively.\n",
    "\n",
    "<div style=\"text-align: left;\">\n",
    "<img src=\"./figs/sum_axis.png\" alt=\"tensors\" width=\"450\">\n",
    "</div>\n",
    "\n",
    "<br>\n",
    "\n",
    "**Sum along axis = 0:**"
   ]
  },
  {
   "cell_type": "code",
   "execution_count": 14,
   "id": "d1d1e04d-d0b5-4aaa-aed1-b81ec44e5c95",
   "metadata": {},
   "outputs": [
    {
     "name": "stdout",
     "output_type": "stream",
     "text": [
      "matrix:\n",
      "[[0 1]\n",
      " [2 3]\n",
      " [4 5]]\n",
      "\n",
      "sum(x, axis=0):\n",
      "[6 9]\n"
     ]
    }
   ],
   "source": [
    "x = np.arange(6).reshape(-1,2)\n",
    "print('matrix:')\n",
    "print(x)\n",
    "\n",
    "print()\n",
    "print('sum(x, axis=0):')\n",
    "s = np.sum(x, axis=0)\n",
    "print(s)"
   ]
  },
  {
   "attachments": {},
   "cell_type": "markdown",
   "id": "3046b2af-70e2-4550-b5ca-71b50974e7a3",
   "metadata": {},
   "source": [
    "**Sum along axis = 1:**"
   ]
  },
  {
   "cell_type": "code",
   "execution_count": 15,
   "id": "5d2cae54-7615-459b-bf55-1779b2a9e535",
   "metadata": {},
   "outputs": [
    {
     "name": "stdout",
     "output_type": "stream",
     "text": [
      "matrix:\n",
      "[[0 1]\n",
      " [2 3]\n",
      " [4 5]]\n",
      "\n",
      "sum(x, axis=1):\n",
      "[1 5 9]\n"
     ]
    }
   ],
   "source": [
    "x = np.arange(6).reshape(-1,2)\n",
    "print('matrix:')\n",
    "print(x)\n",
    "\n",
    "print()\n",
    "print('sum(x, axis=1):')\n",
    "s = np.sum(x, axis=1)\n",
    "print(s)"
   ]
  },
  {
   "cell_type": "code",
   "execution_count": null,
   "id": "0c7416e2",
   "metadata": {},
   "outputs": [],
   "source": []
  }
 ],
 "metadata": {
  "kernelspec": {
   "display_name": "Python 3 (ipykernel)",
   "language": "python",
   "name": "python3"
  },
  "language_info": {
   "codemirror_mode": {
    "name": "ipython",
    "version": 3
   },
   "file_extension": ".py",
   "mimetype": "text/x-python",
   "name": "python",
   "nbconvert_exporter": "python",
   "pygments_lexer": "ipython3",
   "version": "3.11.5"
  },
  "toc-showcode": false,
  "toc-showtags": true
 },
 "nbformat": 4,
 "nbformat_minor": 5
}
