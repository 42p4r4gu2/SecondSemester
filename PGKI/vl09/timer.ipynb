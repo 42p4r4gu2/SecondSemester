{
 "cells": [
  {
   "cell_type": "code",
   "execution_count": 1,
   "id": "608bca26-7a8e-43d7-b27f-ce6fc432bb14",
   "metadata": {},
   "outputs": [],
   "source": [
    "import numpy as np\n",
    "import timeit"
   ]
  },
  {
   "cell_type": "code",
   "execution_count": 2,
   "id": "8deb42fd-4108-4af2-be22-720705104433",
   "metadata": {},
   "outputs": [],
   "source": [
    "num_runs = 30\n",
    "n = 10_000_000\n",
    "\n",
    "# python lists\n",
    "py_x = [float(i) for i in range(n)]\n",
    "py_y = [float(i) for i in range(n)]\n",
    "\n",
    "# numpy arrays\n",
    "np_x = np.arange(n, dtype=float)\n",
    "np_y = np.arange(n, dtype=float)\n",
    "\n",
    "\n",
    "def py_range():\n",
    "    z = 0\n",
    "    for i in range(len(py_x)):\n",
    "        z += py_x[i] * py_y[i]\n",
    "    return z \n",
    "\n",
    "def py_zip():\n",
    "    z = 0\n",
    "    for xi, yi in zip(py_x, py_y):\n",
    "        z += xi * yi\n",
    "    return z \n",
    "\n",
    "def py_sum():\n",
    "    return sum([xi * yi for xi, yi in zip(py_x, py_y)])\n",
    "\n",
    "def np_arr():\n",
    "    return np.sum(np_x * np_y)\n",
    "\n",
    "def np_dot():\n",
    "    return np.dot(np_x, np_y)\n",
    "\n",
    "def timer(func, num_runs):\n",
    "    time = timeit.Timer(func).timeit(number = num_runs)\n",
    "    return time/num_runs"
   ]
  },
  {
   "cell_type": "code",
   "execution_count": 4,
   "id": "aecf4883-cdbc-4262-aff6-12baaf0b1b3b",
   "metadata": {},
   "outputs": [
    {
     "name": "stdout",
     "output_type": "stream",
     "text": [
      "py range: 0.876472 seconds\n",
      "py zip  : 0.687910 seconds\n",
      "py sum  : 1.148210 seconds\n",
      "np_arr  : 0.031038 seconds\n",
      "np_dot  : 0.008579 seconds\n",
      "\n",
      "factor 1.0 1.3 0.8 28.2 102.2\n"
     ]
    }
   ],
   "source": [
    "# benchmark\n",
    "t0 = timer(py_range, num_runs)\n",
    "print(f'py range: {t0:.6f} seconds')\n",
    "\n",
    "t1 = timer(py_zip, num_runs)\n",
    "print(f'py zip  : {t1:.6f} seconds')\n",
    "\n",
    "t2 = timer(py_sum, num_runs)\n",
    "print(f'py sum  : {t2:.6f} seconds')\n",
    "\n",
    "t3 = timer(np_arr, num_runs)\n",
    "print(f'np_arr  : {t3:.6f} seconds')\n",
    "\n",
    "t4 = timer(np_dot, num_runs)\n",
    "print(f'np_dot  : {t4:.6f} seconds')\n",
    "\n",
    "print()\n",
    "print('factor', f'{t0/t0:.1f}', f'{t0/t1:.1f}', f'{t0/t2:.1f}', f'{t0/t3:.1f}', f'{t0/t4:.1f}')"
   ]
  },
  {
   "cell_type": "code",
   "execution_count": null,
   "id": "eb80b27e",
   "metadata": {},
   "outputs": [],
   "source": []
  }
 ],
 "metadata": {
  "kernelspec": {
   "display_name": "Python 3 (ipykernel)",
   "language": "python",
   "name": "python3"
  },
  "language_info": {
   "codemirror_mode": {
    "name": "ipython",
    "version": 3
   },
   "file_extension": ".py",
   "mimetype": "text/x-python",
   "name": "python",
   "nbconvert_exporter": "python",
   "pygments_lexer": "ipython3",
   "version": "3.11.5"
  }
 },
 "nbformat": 4,
 "nbformat_minor": 5
}
