{
 "cells": [
  {
   "cell_type": "code",
   "execution_count": 1,
   "id": "993fb6ba-98ac-4203-b92f-8393f12559ff",
   "metadata": {},
   "outputs": [],
   "source": [
    "import numpy as np"
   ]
  },
  {
   "attachments": {},
   "cell_type": "markdown",
   "id": "40656048-85ea-4bb8-9622-809d01f2e3ae",
   "metadata": {},
   "source": [
    "## 2. NumPy Arrays\n",
    "\n",
    "1. `ndarray`\n",
    "\n",
    "2. Array Creation Functions\n",
    "\n",
    "3. Attributes of an `ndarray`\n",
    "\n",
    "4. Indexing and Slicing\n",
    "\n",
    "5. Appendix"
   ]
  },
  {
   "attachments": {},
   "cell_type": "markdown",
   "id": "a5bd8dde",
   "metadata": {},
   "source": [
    "---\n",
    "\n",
    "### 2.1. `ndarray`\n",
    "\n",
    "NumPy's main data structure is the `ndarray`:\n",
    "\n",
    "+ `ndarray` stands for n-dimensional array\n",
    "\n",
    "+ used to represent vectors, matrices, and higher-dimensional arrays\n",
    "\n",
    "+ efficient and convenient for performing operations on large numerical datasets\n",
    "\n",
    "+ size of `ndarray` is usually fixed\n",
    "\n",
    "<br>\n",
    "\n",
    "In mathematics, we often work with numbers, vectors, and matrices. These concepts can be extended to higher dimensions:\n",
    "\n",
    "<br>\n",
    "\n",
    "<div style=\"text-align: center;\">\n",
    "<img src=\"./figs/tensors.png\" alt=\"tensors\" width=\"600\">\n",
    "</div>\n"
   ]
  },
  {
   "attachments": {},
   "cell_type": "markdown",
   "id": "efaccbf9",
   "metadata": {},
   "source": [
    "---\n",
    "\n",
    "### 2.2. Array Creation Functions\n",
    "\n",
    "There are several ways to create arrays in NumPy. Below, are commonly used examples. For a complete list with deatiled description, see the NumPy documentation [[>](https://numpy.org/doc/stable/reference/routines.array-creation.html)].\n",
    "\n",
    "| Numpy Function | Description |\n",
    "| --- | --- |\n",
    "| `array()` | creates an array from a list or tuple |\n",
    "| `empty()` | creates an uninitialized array of a given shape |\n",
    "| `zeros()` | creates an array filled with zeros |\n",
    "| `ones()` | creates an array filled with ones |\n",
    "| `full()` | creates an array filled with a specified value |\n",
    "| `arange()` | creates an array of evenly-spaced values within an interval |\n",
    "| `linspace()` | creates an array of evenly-spaced values within an interval |\n",
    "| `logspace()` | creates an array of logarithmically-spaced within an interval |\n",
    "\n",
    "In the following, we will discuss some of the functions shown in the table above.\n",
    "\n",
    "<br>"
   ]
  },
  {
   "attachments": {},
   "cell_type": "markdown",
   "id": "c56f128b",
   "metadata": {},
   "source": [
    "<hr style=\"border-top: 0.5px dashed #7f7f7f;\">\n",
    "\n",
    "#### 2.2.1. `np.array()` \n",
    "\n",
    "Use `np.array()` to create an `ndarray` from list or tupels.\n",
    "\n",
    "<br>\n",
    "\n",
    "**1D Arrays**"
   ]
  },
  {
   "cell_type": "code",
   "execution_count": 2,
   "id": "5f61d531",
   "metadata": {},
   "outputs": [
    {
     "name": "stdout",
     "output_type": "stream",
     "text": [
      "[1 2 3]\n",
      "<class 'numpy.ndarray'>\n"
     ]
    }
   ],
   "source": [
    "x = np.array([1, 2, 3])\n",
    "\n",
    "print(x)\n",
    "print(type(x))"
   ]
  },
  {
   "attachments": {},
   "cell_type": "markdown",
   "id": "0be2c84e-7d39-446a-b572-12d6519132fe",
   "metadata": {},
   "source": [
    "<br>\n",
    "\n",
    "**2D Arrays**"
   ]
  },
  {
   "cell_type": "code",
   "execution_count": 3,
   "id": "ef98e64a",
   "metadata": {},
   "outputs": [
    {
     "name": "stdout",
     "output_type": "stream",
     "text": [
      "[[1 2 3]\n",
      " [4 5 6]]\n"
     ]
    }
   ],
   "source": [
    "x = np.array([ [1, 2, 3], [4, 5, 6] ])\n",
    "\n",
    "print(x)"
   ]
  },
  {
   "attachments": {},
   "cell_type": "markdown",
   "id": "d7587c58",
   "metadata": {},
   "source": [
    "<br>\n",
    "\n",
    "**3D Arrays**"
   ]
  },
  {
   "cell_type": "code",
   "execution_count": 4,
   "id": "d490c1fe-d7c2-476f-9a54-7ae7479acb9e",
   "metadata": {},
   "outputs": [
    {
     "name": "stdout",
     "output_type": "stream",
     "text": [
      "[[[1 2 3]\n",
      "  [4 5 6]]\n",
      "\n",
      " [[0 0 0]\n",
      "  [1 1 1]]]\n"
     ]
    }
   ],
   "source": [
    "x = np.array([\n",
    "    [[1, 2, 3],\n",
    "     [4, 5, 6]],\n",
    "    [[0, 0, 0],\n",
    "     [1, 1, 1]]])\n",
    "\n",
    "print(x)"
   ]
  },
  {
   "attachments": {},
   "cell_type": "markdown",
   "id": "1e5a3f50-17d4-436a-80e8-3dbfc68a2960",
   "metadata": {},
   "source": [
    "<br>\n",
    "\n",
    "**Remark:** The `ndarray` is composed of two stacked $(2 \\times 3)$-matrices. It can be defined more compactly as: \n",
    "\n",
    "```python\n",
    "    X_3d = np.array([ [ [1, 2, 3], [4, 5, 6] ], [ [0, 0, 0], [1, 1, 1] ] ])\n",
    "```"
   ]
  },
  {
   "attachments": {},
   "cell_type": "markdown",
   "id": "9009c112-38ad-49e6-af9d-7495596a4865",
   "metadata": {},
   "source": [
    "<hr style=\"border-top: 0.5px dashed #7f7f7f;\">\n",
    "\n",
    "#### 2.2.2. `np.empty()`, `np.zeros()`, `np.ones()`\n",
    "\n",
    "The functions `np.empty`, `np.zeros`, and `np.ones` all create a new ndarray of a specified shape, but differ in how the array is initialized. \n",
    "\n",
    "+ `np.empty` creates an uninitialized array\n",
    "\n",
    "+ `np.zeros` fills the array with zeros\n",
    "\n",
    "+ `np.ones` fills the array with ones\n",
    "\n",
    "<br>\n",
    "\n",
    "**1d array with `np.empty`:**"
   ]
  },
  {
   "cell_type": "code",
   "execution_count": 5,
   "id": "0e2f311a-6184-48b2-ac73-9b61434f7d0b",
   "metadata": {},
   "outputs": [
    {
     "name": "stdout",
     "output_type": "stream",
     "text": [
      "[4.9e-324 9.9e-324 1.5e-323]\n"
     ]
    }
   ],
   "source": [
    "x = np.empty(3)\n",
    "\n",
    "print(x)"
   ]
  },
  {
   "attachments": {},
   "cell_type": "markdown",
   "id": "947a288b",
   "metadata": {},
   "source": [
    "The values in the array `x` are whatever values were present in memory at that location before the array was created. These values are essentially random and should not be relied upon.\n",
    "\n",
    "<br>\n",
    "\n",
    "**2d array with `np.zeors`:**"
   ]
  },
  {
   "cell_type": "code",
   "execution_count": 6,
   "id": "2980855a-0488-4635-9174-394c77448dfa",
   "metadata": {},
   "outputs": [
    {
     "name": "stdout",
     "output_type": "stream",
     "text": [
      "[[0. 0. 0.]\n",
      " [0. 0. 0.]]\n"
     ]
    }
   ],
   "source": [
    "x = np.zeros((2, 3))\n",
    "\n",
    "print(x)"
   ]
  },
  {
   "attachments": {},
   "cell_type": "markdown",
   "id": "1fa1c5aa",
   "metadata": {},
   "source": [
    "<br>\n",
    "\n",
    "**3d array with `np.ones`:**"
   ]
  },
  {
   "cell_type": "code",
   "execution_count": 7,
   "id": "7ee0d212-482e-41f6-9905-065b08edab0f",
   "metadata": {},
   "outputs": [
    {
     "name": "stdout",
     "output_type": "stream",
     "text": [
      "[[[1. 1. 1. 1.]\n",
      "  [1. 1. 1. 1.]\n",
      "  [1. 1. 1. 1.]]\n",
      "\n",
      " [[1. 1. 1. 1.]\n",
      "  [1. 1. 1. 1.]\n",
      "  [1. 1. 1. 1.]]]\n"
     ]
    }
   ],
   "source": [
    "# 3d array with ones\n",
    "x = np.ones((2, 3, 4))\n",
    "print(x)"
   ]
  },
  {
   "attachments": {},
   "cell_type": "markdown",
   "id": "b20ea64e-7f3e-44b1-b7f3-534a24a60d73",
   "metadata": {},
   "source": [
    "\n",
    "**Remarks:**\n",
    "\n",
    "+ The argument passed to one of the three functions determines the *shape* of the resulting `ndarray`. \n",
    "\n",
    "+ For 1D arrays, the argument can be a single non-negative integer. \n",
    "\n",
    "+ For higher-dimensional arrays, the argument must be a tuple or list of non-negative integers."
   ]
  },
  {
   "attachments": {},
   "cell_type": "markdown",
   "id": "ba8409c8",
   "metadata": {},
   "source": [
    "<hr style=\"border-top: 0.5px dashed #7f7f7f;\">\n",
    "\n",
    "#### 2.2.3. `numpy.arrange`\n",
    "\n",
    "Recall Python's `range` function:"
   ]
  },
  {
   "cell_type": "code",
   "execution_count": 8,
   "id": "dde71d1e",
   "metadata": {},
   "outputs": [
    {
     "name": "stdout",
     "output_type": "stream",
     "text": [
      "[0, 2, 4, 6, 8, 10]\n"
     ]
    }
   ],
   "source": [
    "x = range(0, 11, 2)\n",
    "\n",
    "print(list(x))"
   ]
  },
  {
   "attachments": {},
   "cell_type": "markdown",
   "id": "24e2c298-6b51-4ca7-a0d6-64c4b419d062",
   "metadata": {},
   "source": [
    "`np.arange` is NumPy's counterpart of Python's `range`:"
   ]
  },
  {
   "cell_type": "code",
   "execution_count": 9,
   "id": "aaf9253d-cb51-4a8f-a7c2-657cf4f75a29",
   "metadata": {},
   "outputs": [
    {
     "name": "stdout",
     "output_type": "stream",
     "text": [
      "[ 0  2  4  6  8 10]\n"
     ]
    }
   ],
   "source": [
    "x = np.arange(0, 11, 2)\n",
    "\n",
    "print(x)"
   ]
  },
  {
   "attachments": {},
   "cell_type": "markdown",
   "id": "25c2861b-ec6f-4d87-9a2d-a491dfee5e23",
   "metadata": {
    "tags": []
   },
   "source": [
    "<br>\n",
    "\n",
    "**Syntax**\n",
    "\n",
    "```python\n",
    "    numpy.arange(start, stop, step)\n",
    "```\n",
    "\n",
    "+ Returns an `ndarray` with evenly spaced values within `[ start, stop )`, where `stop` is excluded\n",
    "\n",
    "+ `start` is optional with default value `0`\n",
    "\n",
    "+ `step` is optional with default value `1`\n",
    "\n",
    "+ `start`, `stop`, `step` can be ints or floats\n",
    "\n",
    "\n",
    "<br>\n",
    "\n",
    "**Note:** `np.arrange` differs from `range` as follows:\n",
    "\n",
    "+ `range` can only generate integer sequences, `np.arrange` can also generate float sequences\n",
    "\n",
    "+ `range` only stores `start`, `stop`, and `step`, while `np.arrange` allocates memory for all elements\n",
    " \n",
    "<br>\n",
    " \n",
    "**Examples:**"
   ]
  },
  {
   "cell_type": "code",
   "execution_count": 10,
   "id": "9696ceb2-f7cb-41f6-8a8d-3893298f853b",
   "metadata": {},
   "outputs": [
    {
     "name": "stdout",
     "output_type": "stream",
     "text": [
      "[0 1 2 3 4]\n"
     ]
    }
   ],
   "source": [
    "x = np.arange(5)\n",
    "\n",
    "print(x)"
   ]
  },
  {
   "cell_type": "code",
   "execution_count": 11,
   "id": "683ebc0c-f4b7-489c-ac72-d6ca8bbeb7a8",
   "metadata": {},
   "outputs": [
    {
     "name": "stdout",
     "output_type": "stream",
     "text": [
      "[5 6 7 8 9]\n"
     ]
    }
   ],
   "source": [
    "x = np.arange(5, 10)\n",
    "\n",
    "print(x)"
   ]
  },
  {
   "cell_type": "code",
   "execution_count": 12,
   "id": "b8fc69bc-3325-4ab4-abfd-9e4af519345c",
   "metadata": {},
   "outputs": [
    {
     "name": "stdout",
     "output_type": "stream",
     "text": [
      "[0.5 1.  1.5 2.  2.5 3.  3.5 4.  4.5]\n"
     ]
    }
   ],
   "source": [
    "x = np.arange(0.5, 5, 0.5)\n",
    "\n",
    "print(x)"
   ]
  },
  {
   "attachments": {},
   "cell_type": "markdown",
   "id": "b796145f-b9d2-4a5a-b608-8d699de1e1c3",
   "metadata": {},
   "source": [
    "<br>\n",
    "\n",
    "**Question:** What is the output of the following code?"
   ]
  },
  {
   "cell_type": "code",
   "execution_count": 16,
   "id": "8214e1bd",
   "metadata": {},
   "outputs": [
    {
     "name": "stdout",
     "output_type": "stream",
     "text": [
      "[1.  1.1 1.2 1.3]\n"
     ]
    }
   ],
   "source": [
    "x = np.arange(1.0, 1.3, 0.1)\n",
    "\n",
    "print(x)"
   ]
  },
  {
   "attachments": {},
   "cell_type": "markdown",
   "id": "7b45aac9-ca66-44d2-9c65-f2eef88ff3b2",
   "metadata": {},
   "source": [
    "**Remark:** The inclusion of the value `1.3` in the output is due to the limitations of finite floating-point arithmetic. An explanation of why this error occurs can be found in the appendix at the end of this notebook. \n",
    "\n",
    "When using a non-integer step, such as 0.1, it is often better to use `np.linspace`."
   ]
  },
  {
   "attachments": {},
   "cell_type": "markdown",
   "id": "36819f82-927c-4a7b-973a-fde21dc10209",
   "metadata": {},
   "source": [
    "<hr style=\"border: 0.5px solid #7f7f7f;\">\n",
    "\n",
    "#### 2.2.4. `numpy.linspace`\n",
    "\n",
    "Consider the following example:"
   ]
  },
  {
   "cell_type": "code",
   "execution_count": 17,
   "id": "eff66b09-2b54-4c0c-b291-361547f77aeb",
   "metadata": {},
   "outputs": [
    {
     "name": "stdout",
     "output_type": "stream",
     "text": [
      "1.0, 1.5, 2.0, 2.5, 3.0, 3.5, 4.0, 4.5, 5.0\n"
     ]
    }
   ],
   "source": [
    "x = np.linspace(1, 5, 9)\n",
    "\n",
    "print(*x, sep=', ')"
   ]
  },
  {
   "attachments": {},
   "cell_type": "markdown",
   "id": "4dfb4eca-d4b7-410d-ad90-99088bb7cdeb",
   "metadata": {},
   "source": [
    "**Syntax**\n",
    "\n",
    "```python\n",
    "    numpy.linspace(start, stop, num=50)\n",
    "```\n",
    "\n",
    "+ returns an `ndarray` with `num` evenly spaced values within the interval `[ start, stop ]`\n",
    "\n",
    "+ `start` and `stop` \n",
    "    \n",
    "    + determine the first and last value\n",
    "    \n",
    "    + can be ints and floats\n",
    "    \n",
    "    + must be provided\n",
    "\n",
    "+ `num` \n",
    "\n",
    "    + number of elements within the interval `[ start, stop ]`\n",
    "    \n",
    "    + must be a non-negative integer\n",
    "    \n",
    "    + if `num == 0`, an empty `ndarray` is returned\n",
    "\n",
    "\n",
    "<br>\n",
    "\n",
    "\n",
    "**Examples:**"
   ]
  },
  {
   "cell_type": "code",
   "execution_count": 18,
   "id": "d2882115-a16f-4532-858c-1ebe6a8766d7",
   "metadata": {},
   "outputs": [
    {
     "name": "stdout",
     "output_type": "stream",
     "text": [
      "[ 1.  2.  3.  4.  5.  6.  7.  8.  9. 10.]\n",
      "\n",
      "[ 0.          0.20408163  0.40816327  0.6122449   0.81632653  1.02040816\n",
      "  1.2244898   1.42857143  1.63265306  1.83673469  2.04081633  2.24489796\n",
      "  2.44897959  2.65306122  2.85714286  3.06122449  3.26530612  3.46938776\n",
      "  3.67346939  3.87755102  4.08163265  4.28571429  4.48979592  4.69387755\n",
      "  4.89795918  5.10204082  5.30612245  5.51020408  5.71428571  5.91836735\n",
      "  6.12244898  6.32653061  6.53061224  6.73469388  6.93877551  7.14285714\n",
      "  7.34693878  7.55102041  7.75510204  7.95918367  8.16326531  8.36734694\n",
      "  8.57142857  8.7755102   8.97959184  9.18367347  9.3877551   9.59183673\n",
      "  9.79591837 10.        ]\n"
     ]
    }
   ],
   "source": [
    "x = np.linspace(1, 10, 10)\n",
    "print(x)\n",
    "\n",
    "print()\n",
    "\n",
    "x = np.linspace(0, 10)\n",
    "print(x)"
   ]
  },
  {
   "attachments": {},
   "cell_type": "markdown",
   "id": "d976e7a8-817e-4972-ab83-5bfb2f23da8b",
   "metadata": {},
   "source": [
    "---\n",
    "\n",
    "### 2.3. Attributes of an `ndarray`\n",
    "\n",
    "An `ndarray` object has several attributes. Below are some important ones:\n",
    "\n",
    "+ `ndarray.shape`: tuple representing the number of elements along each axis.\n",
    "\n",
    "+ `ndarray.ndim`: number of axes (dimensions) of the array.\n",
    "\n",
    "+ `ndarray.size`: total number of elements in the array.\n",
    "\n",
    "+ `ndarray.dtype`: data type of the array elements."
   ]
  },
  {
   "attachments": {},
   "cell_type": "markdown",
   "id": "636b5717",
   "metadata": {},
   "source": [
    "<hr style=\"border: 0.5px solid #7f7f7f;\">\n",
    "\n",
    "#### 2.3.1 Attributes related to the Shape\n",
    "\n",
    "\n",
    "We consider the attribtues `shape`, `ndim`, `size` and introduce the conept of `axis`. For this, consider the $(3 \\times 4)$-matrix \n",
    "\n",
    "$$\n",
    "    A = \\begin{pmatrix}\n",
    "    1 & 2 & 3 & 4\\\\\n",
    "    5 & 6 & 7 & 8\\\\\n",
    "    9 & 10 & 11 & 12\\\\\n",
    "    \\end{pmatrix}\n",
    "$$\n",
    "\n",
    "NumPy refers to specific dimensions as **axes**. A 2d array with 3 rows and 4 columns has the following axes: \n",
    "\n",
    "+ axis 0: The first dimension (size 3) refers to the number of rows\n",
    "\n",
    "+ axis 1: The second dimension (size 4) refers to the number of columns\n",
    "\n",
    "<br>\n",
    "\n",
    "**Attributes of a 2D Array:** The next example creates a 2D array with values from matrix $A$ and prints its shape, number of dimensions, and size."
   ]
  },
  {
   "cell_type": "code",
   "execution_count": 19,
   "id": "0ea00219",
   "metadata": {},
   "outputs": [
    {
     "name": "stdout",
     "output_type": "stream",
     "text": [
      "[[ 1  2  3  4]\n",
      " [ 5  6  7  8]\n",
      " [ 9 10 11 12]]\n",
      "\n",
      "shape      : (3, 4)\n",
      "dimensions : 2\n",
      "size       : 12\n"
     ]
    }
   ],
   "source": [
    "A = np.array([[1, 2, 3, 4],\n",
    "              [5, 6, 7, 8],\n",
    "              [9, 10, 11, 12]])\n",
    "\n",
    "print(A)\n",
    "\n",
    "print()\n",
    "print('shape      :', A.shape)\n",
    "print('dimensions :', A.ndim)\n",
    "print('size       :', A.size)"
   ]
  },
  {
   "attachments": {},
   "cell_type": "markdown",
   "id": "0dc77d54",
   "metadata": {},
   "source": [
    "<br>\n",
    "\n",
    "**Attributes of a 3d Array:**"
   ]
  },
  {
   "cell_type": "code",
   "execution_count": 20,
   "id": "3b1b1c9d",
   "metadata": {},
   "outputs": [
    {
     "name": "stdout",
     "output_type": "stream",
     "text": [
      "[[[ 1  2  3  4]\n",
      "  [ 5  6  7  8]\n",
      "  [ 9 10 11 12]]\n",
      "\n",
      " [[13 14 15 16]\n",
      "  [17 18 19 20]\n",
      "  [21 22 23 24]]]\n",
      "\n",
      "shape      : (2, 3, 4)\n",
      "dimensions : 3\n",
      "size       : 24\n"
     ]
    }
   ],
   "source": [
    "A = np.array([[[1, 2, 3, 4],\n",
    "               [5, 6, 7, 8],\n",
    "               [9, 10, 11, 12]],\n",
    "               \n",
    "               [[13, 14, 15, 16],\n",
    "                [17, 18, 19, 20],\n",
    "                [21, 22, 23, 24]]])\n",
    "\n",
    "print(A)\n",
    "\n",
    "print()\n",
    "print('shape      :', A.shape)\n",
    "print('dimensions :', A.ndim)\n",
    "print('size       :', A.size)"
   ]
  },
  {
   "attachments": {},
   "cell_type": "markdown",
   "id": "36ad221d",
   "metadata": {},
   "source": [
    "A 3d array with shape (2, 3, 4) has the following axes: \n",
    "\n",
    "+ axis 0: The first dimension (size 2) refers to the depth\n",
    "\n",
    "+ axis 1: The second dimension (size 3) refers to the number of rows\n",
    "\n",
    "+ axis 2: The third dimension (size 4) refers to the number of columns\n",
    "\n",
    "<br>\n",
    "\n",
    "The figure below illustrates how the axes of `ndarrays` are organized:\n",
    "\n",
    "<br>\n",
    "\n",
    "<div style=\"text-align: center;\">\n",
    "<img src=\"./figs/axes.png\" alt=\"tensors\" width=\"600\">\n",
    "</div>\n"
   ]
  },
  {
   "attachments": {},
   "cell_type": "markdown",
   "id": "cdbae0de",
   "metadata": {},
   "source": [
    "<hr style=\"border: 0.5px solid #7f7f7f;\">\n",
    "\n",
    "\n",
    "#### 2.3.2 Attribute `dtype`\n",
    "\n",
    "+ The `dtype` attribute \n",
    "\n",
    "    + represents the data type of the items in the array.\n",
    "    \n",
    "    + parameter in array creation functions\n",
    "    \n",
    "\n",
    "+ Types \n",
    "\n",
    "    + NumPy provides a range of data types that you can use to construct arrays.\n",
    "\n",
    "    + Types must fit to the precompiled C code.\n",
    "\n",
    "    + Common data types include the Python native types `int`, `float`, and `bool`.\n",
    "\n",
    "\n",
    "+ Setting the type\n",
    "\n",
    "    + Specify the data type when creating an array with the `dtype` parameter.\n",
    "\n",
    "    + Change the data type of an existing array with the `astype` method.\n",
    "\n",
    "<br>\n",
    "\n",
    "**Remarks:**\n",
    "\n",
    "+ Items of an `ndarray` are of the same type.\n",
    "\n",
    "+ For more details, see the documentation [[>](https://numpy.org/doc/stable/user/basics.types.html)].\n",
    "\n",
    "<br>\n",
    "\n",
    "**Example:** `dtype` is inferred by NumPy"
   ]
  },
  {
   "cell_type": "code",
   "execution_count": 21,
   "id": "2494310b-cf92-4914-8e7b-b2f6529f050e",
   "metadata": {},
   "outputs": [
    {
     "name": "stdout",
     "output_type": "stream",
     "text": [
      "int64\n"
     ]
    }
   ],
   "source": [
    "# items are int\n",
    "x = np.array([1, 2, 3])\n",
    "print(x.dtype)"
   ]
  },
  {
   "cell_type": "code",
   "execution_count": 22,
   "id": "d9192af7-20a1-4357-a149-4fb02b291ec9",
   "metadata": {},
   "outputs": [
    {
     "name": "stdout",
     "output_type": "stream",
     "text": [
      "float64\n"
     ]
    }
   ],
   "source": [
    "# items are float\n",
    "x = np.array([1., 2., 3.])\n",
    "print(x.dtype)"
   ]
  },
  {
   "cell_type": "code",
   "execution_count": 23,
   "id": "5e103a9d-726c-4da9-a9c1-5ca7a53d155e",
   "metadata": {},
   "outputs": [
    {
     "name": "stdout",
     "output_type": "stream",
     "text": [
      "float64 [1. 2. 3.]\n"
     ]
    }
   ],
   "source": [
    "# items are ints and floats\n",
    "x = np.array([1, 2, 3.])\n",
    "print(x.dtype, x)"
   ]
  },
  {
   "attachments": {},
   "cell_type": "markdown",
   "id": "c78805ce-ed60-4fd5-82f2-71fd4db26801",
   "metadata": {},
   "source": [
    "<br>\n",
    "\n",
    "**Example:** specify `dtype` during array creation"
   ]
  },
  {
   "cell_type": "code",
   "execution_count": 24,
   "id": "52fe4049-25e0-438c-9147-9ffca8f13449",
   "metadata": {},
   "outputs": [
    {
     "name": "stdout",
     "output_type": "stream",
     "text": [
      "float64 [1. 2. 3.]\n"
     ]
    }
   ],
   "source": [
    "x = np.array([1, 2, 3], dtype=float)\n",
    "print(x.dtype, x)"
   ]
  },
  {
   "attachments": {},
   "cell_type": "markdown",
   "id": "bf14ef22-1a06-4b71-aeb3-1e0b6267d000",
   "metadata": {},
   "source": [
    "<br>\n",
    "\n",
    "**Example:** change `dtype` for existing array"
   ]
  },
  {
   "cell_type": "code",
   "execution_count": 27,
   "id": "593a926a-a9ec-4a9d-a630-93212bb591c5",
   "metadata": {},
   "outputs": [
    {
     "name": "stdout",
     "output_type": "stream",
     "text": [
      "before: int64 [1 2 3]\n",
      "after: float64 [1. 2. 3.]\n"
     ]
    }
   ],
   "source": [
    "x = np.array([1, 2, 3])\n",
    "print('before:', x.dtype, x)\n",
    "\n",
    "y = x.astype(float)\n",
    "print('after:', y.dtype, y)"
   ]
  },
  {
   "attachments": {},
   "cell_type": "markdown",
   "id": "9b1c06f7-895c-4e11-8675-1203604af5f7",
   "metadata": {},
   "source": [
    "**Remark:** the function `astype` returns a new copy of the array. "
   ]
  },
  {
   "attachments": {},
   "cell_type": "markdown",
   "id": "54620a6a-f0be-477f-a3fe-cf5e85e31a7f",
   "metadata": {
    "tags": []
   },
   "source": [
    "---\n",
    "\n",
    "### 2.4. Indexing and Slicing\n",
    "\n",
    "Indexing in NumPy arrays works in a similar way to indexing in regular Python lists, but with some additional features: \n",
    "\n",
    "+ **Multidimensional indexing:** NumPy allows indexing of higher dimensional arrays with a single pair of square brackets.\n",
    "\n",
    "+ **Boolean indexing:** NumPy allows indexing of arrays using boolean masks.\n",
    "\n",
    "+ **Fancy indexing:** NumPy allows indexing of arays using other arrays or lists of indices.\n",
    "\n",
    "Here, we consider multidimensional indexing. The other two forms will be covered later.\n",
    "\n",
    "<br>\n",
    "\n",
    "---\n",
    "\n",
    "### 2.4.1. Multidimensional Indexing\n",
    "\n",
    "+ NumPy arrays can be indexed as Python's sequence types. \n",
    "\n",
    "+ Multidimensional arrays can be additionally indexed with a single pair of square brackets and a comma separated list of indices."
   ]
  },
  {
   "cell_type": "code",
   "execution_count": 28,
   "id": "f4ceda47-c20a-4da4-ad12-676a3dab2639",
   "metadata": {},
   "outputs": [
    {
     "name": "stdout",
     "output_type": "stream",
     "text": [
      "Python style : 3\n",
      "NumPy style  : 3\n"
     ]
    }
   ],
   "source": [
    "x = np.array([[1, 2, 3], \n",
    "              [4, 5, 6]])\n",
    "\n",
    "print('Python style :', x[0][2])\n",
    "print('NumPy style  :', x[0, 2])"
   ]
  },
  {
   "attachments": {},
   "cell_type": "markdown",
   "id": "b6c47fa0-dd47-4fc9-9ab9-5b00a2d17fc2",
   "metadata": {},
   "source": [
    "---\n",
    "### 2.4.2. Slicing \n",
    "\n",
    "Slicing in NumPy arrays works in a similar way to slicing in regular Python lists, but also with some additional features:\n",
    "\n",
    "+ **Multidimensional slicing:** In NumPy allows slice arrays with multiple dimensions using a single pair of square brackets.\n",
    "\n",
    "+ **Views instead of copies:** Slicing a regular Python list creates a new list containing a copy of the selected items. However, when slicing a NumPy array, a view of the original array is returned instead of a copy. This means that changes made to the view will affect the original array.\n",
    "\n",
    "\n",
    "<br>\n",
    "\n",
    "**Example 1:**"
   ]
  },
  {
   "cell_type": "code",
   "execution_count": 29,
   "id": "9c416fd3-6ced-4047-ae8a-5b18fc4efbdf",
   "metadata": {},
   "outputs": [
    {
     "name": "stdout",
     "output_type": "stream",
     "text": [
      "1 bracket  :\n",
      "[[5 6]\n",
      " [8 9]]\n",
      "\n",
      "2 brackets :\n",
      "[[7 8 9]]\n"
     ]
    }
   ],
   "source": [
    "x = np.array([[1, 2, 3], \n",
    "              [4, 5, 6],\n",
    "              [7, 8, 9]])\n",
    "\n",
    "print('1 bracket  :', x[1:, 1:], sep='\\n')\n",
    "print()\n",
    "print('2 brackets :', x[1:][1:], sep='\\n') "
   ]
  },
  {
   "attachments": {},
   "cell_type": "markdown",
   "id": "6acb9090-8d94-4733-828b-80a3ce439152",
   "metadata": {},
   "source": [
    "**Note:** \n",
    "\n",
    "+ Slicing `x[1:]` returns the view `v = [ [4, 5, 6], [7, 8, 9] ]`\n",
    "\n",
    "+ Slicing `v[1:] = x[1:][1:]` returns the view `[[7, 8, 9]]`"
   ]
  },
  {
   "attachments": {},
   "cell_type": "markdown",
   "id": "b8654e75-ffc3-40e4-b19c-17e976d09a38",
   "metadata": {},
   "source": [
    "**Example 2:** \n",
    "\n",
    "\n",
    "<div style=\"text-align: left;\">\n",
    "<img src=\"./figs/slicing.png\" alt=\"tensors\" width=\"400\">\n",
    "</div>\n"
   ]
  },
  {
   "attachments": {},
   "cell_type": "markdown",
   "id": "40a5f515-2bbc-4186-8a77-3bb444e68a57",
   "metadata": {},
   "source": [
    "---\n",
    "\n",
    "### 2.5. Appendix\n",
    "\n",
    "Consider the following code:  \n",
    "\n",
    "```python\n",
    "    x = np.arange(1.0, 1.3, 0.1)\n",
    "```\n",
    "\n",
    "The resulting array `x` erroneously includes the value `1.3`. This happens because `np.arange` calculates the number of steps `n` required to reach `stop` from `start` using the formula`\n",
    "\n",
    "```python\n",
    "    n = ceil((stop - start) / step)\n",
    "```\n",
    "\n",
    "where `ceil(a)` rounds to the the next integer equal or larger than `a`. Then `np.arange` uses a `for` loop to calculate `n` elements for the array `x`. However, due to the limitations of floating-point representation, the number `n` can be too large, as demonstrated in the following code snippet:"
   ]
  },
  {
   "cell_type": "code",
   "execution_count": null,
   "id": "8eac1c9d-e78f-42b4-9c40-f99c4fc32d8c",
   "metadata": {},
   "outputs": [],
   "source": [
    "start = 1.0\n",
    "stop = 1.3\n",
    "step = 0.1\n",
    "\n",
    "n = ((stop - start) / step)\n",
    "print(\"n before rounding up :\", n)\n",
    "n = int(np.ceil(n))\n",
    "print(\"n after rounding up  :\", n)\n",
    "\n",
    "print()\n",
    "print('values of array x:')\n",
    "x = start\n",
    "for i in range(n):\n",
    "    print(x)\n",
    "    x += step "
   ]
  },
  {
   "attachments": {},
   "cell_type": "markdown",
   "id": "d5200bc0-3883-4bc8-8104-dfe1041e470e",
   "metadata": {},
   "source": [
    "Note that when using a `while` loop, the value `1.3` is not included into the array:"
   ]
  },
  {
   "cell_type": "code",
   "execution_count": null,
   "id": "d6c539c9-ea20-4a68-8b84-d912dcc2b311",
   "metadata": {},
   "outputs": [],
   "source": [
    "start = 1.0\n",
    "stop = 1.3\n",
    "step = 0.1\n",
    "\n",
    "print('values of array x:')\n",
    "x = start\n",
    "while x < stop:\n",
    "    print(x)\n",
    "    x += step"
   ]
  }
 ],
 "metadata": {
  "kernelspec": {
   "display_name": "Python 3 (ipykernel)",
   "language": "python",
   "name": "python3"
  },
  "language_info": {
   "codemirror_mode": {
    "name": "ipython",
    "version": 3
   },
   "file_extension": ".py",
   "mimetype": "text/x-python",
   "name": "python",
   "nbconvert_exporter": "python",
   "pygments_lexer": "ipython3",
   "version": "3.11.5"
  }
 },
 "nbformat": 4,
 "nbformat_minor": 5
}
