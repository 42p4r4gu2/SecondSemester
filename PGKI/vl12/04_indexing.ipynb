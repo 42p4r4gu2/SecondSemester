{
 "cells": [
  {
   "cell_type": "markdown",
   "metadata": {},
   "source": [
    "## Accessing and Selecting Values\n"
   ]
  },
  {
   "cell_type": "code",
   "execution_count": 1,
   "metadata": {},
   "outputs": [
    {
     "data": {
      "text/html": [
       "<style>\n",
       "    table { display: inline-block }\n",
       "</style>\n"
      ],
      "text/plain": [
       "<IPython.core.display.HTML object>"
      ]
     },
     "metadata": {},
     "output_type": "display_data"
    }
   ],
   "source": [
    "%%html\n",
    "<style>\n",
    "    table { display: inline-block }\n",
    "</style>"
   ]
  },
  {
   "cell_type": "code",
   "execution_count": 3,
   "metadata": {},
   "outputs": [],
   "source": [
    "import numpy as np\n",
    "import pandas as pd"
   ]
  },
  {
   "cell_type": "markdown",
   "metadata": {},
   "source": [
    "### Contents\n",
    "\n",
    "    4.1 Data\n",
    "    4.2 Overview of Column and Row Accessors\n",
    "    4.3 .loc and .iloc\n",
    "    4.4 Final Remark\n",
    "    4.A Appendix\n",
    "\n",
    "\n"
   ]
  },
  {
   "cell_type": "markdown",
   "metadata": {},
   "source": [
    "---\n",
    "### 4.1 Data\n",
    "\n",
    "We use an excerpt from the female literacy dataset. "
   ]
  },
  {
   "cell_type": "code",
   "execution_count": 10,
   "metadata": {},
   "outputs": [
    {
     "data": {
      "text/html": [
       "<div>\n",
       "<style scoped>\n",
       "    .dataframe tbody tr th:only-of-type {\n",
       "        vertical-align: middle;\n",
       "    }\n",
       "\n",
       "    .dataframe tbody tr th {\n",
       "        vertical-align: top;\n",
       "    }\n",
       "\n",
       "    .dataframe thead th {\n",
       "        text-align: right;\n",
       "    }\n",
       "</style>\n",
       "<table border=\"1\" class=\"dataframe\">\n",
       "  <thead>\n",
       "    <tr style=\"text-align: right;\">\n",
       "      <th></th>\n",
       "      <th>population</th>\n",
       "      <th>m_literacy</th>\n",
       "      <th>f_literacy</th>\n",
       "    </tr>\n",
       "  </thead>\n",
       "  <tbody>\n",
       "    <tr>\n",
       "      <th>Uttar_Pradesh</th>\n",
       "      <td>199.8</td>\n",
       "      <td>79.24</td>\n",
       "      <td>59.26</td>\n",
       "    </tr>\n",
       "    <tr>\n",
       "      <th>Maharashtra</th>\n",
       "      <td>112.4</td>\n",
       "      <td>89.82</td>\n",
       "      <td>75.48</td>\n",
       "    </tr>\n",
       "    <tr>\n",
       "      <th>Bihar</th>\n",
       "      <td>104.1</td>\n",
       "      <td>73.39</td>\n",
       "      <td>53.33</td>\n",
       "    </tr>\n",
       "    <tr>\n",
       "      <th>West_Bengal</th>\n",
       "      <td>91.3</td>\n",
       "      <td>82.67</td>\n",
       "      <td>71.16</td>\n",
       "    </tr>\n",
       "    <tr>\n",
       "      <th>Madhya_Pradesh</th>\n",
       "      <td>72.6</td>\n",
       "      <td>80.53</td>\n",
       "      <td>60.02</td>\n",
       "    </tr>\n",
       "  </tbody>\n",
       "</table>\n",
       "</div>"
      ],
      "text/plain": [
       "                population  m_literacy  f_literacy\n",
       "Uttar_Pradesh        199.8       79.24       59.26\n",
       "Maharashtra          112.4       89.82       75.48\n",
       "Bihar                104.1       73.39       53.33\n",
       "West_Bengal           91.3       82.67       71.16\n",
       "Madhya_Pradesh        72.6       80.53       60.02"
      ]
     },
     "execution_count": 10,
     "metadata": {},
     "output_type": "execute_result"
    }
   ],
   "source": [
    "data = {\n",
    "    'population' : [199.8, 112.4, 104.1, 91.3, 72.6],       # in millions\n",
    "    'm_literacy' : [79.24, 89.82, 73.39, 82.67, 80.53],     # literacy male in %\n",
    "    'f_literacy' : [59.26, 75.48, 53.33, 71.16, 60.02]      # literacy female in %\n",
    "}\n",
    "index = ['Uttar_Pradesh', 'Maharashtra', 'Bihar', 'West_Bengal', 'Madhya_Pradesh']\n",
    "df = pd.DataFrame(data, index=index)\n",
    "df.head()"
   ]
  },
  {
   "cell_type": "markdown",
   "metadata": {},
   "source": [
    "---\n",
    "### 4.2 Overview of Column and Row Accessors\n",
    "\n",
    "The following accessors return a Series object:\n",
    "\n",
    "|Name                | Operation                      | Syntax          | Return |\n",
    "|:-------------------|:-------------------------------|:----------------|:-------|\n",
    "| Attribute accessor | Select column                  | `df.col`        | Series |\n",
    "| Indexing operator  | Select column                  | `df[col]`       | Series |\n",
    "| `.loc` accessor    | Select row by label            | `df.loc[label]` | Series |\n",
    "| `.iloc` accessor   | Select row by integer location | `df.iloc[loc]`  | Series |"
   ]
  },
  {
   "cell_type": "markdown",
   "metadata": {},
   "source": [
    "#### 4.2.1 Attribute Access\n",
    "\n",
    "The accessor `df.column_name` where is known as the *dot notation* or *attribute access* method for accessing a column in a DataFrame by using its name as an attribute of the DataFrame object. This method can only be used if the column name is a valid Python identifier."
   ]
  },
  {
   "cell_type": "code",
   "execution_count": 11,
   "metadata": {},
   "outputs": [
    {
     "data": {
      "text/plain": [
       "Index(['population', 'm_literacy', 'f_literacy'], dtype='object')"
      ]
     },
     "execution_count": 11,
     "metadata": {},
     "output_type": "execute_result"
    }
   ],
   "source": [
    "# show column names\n",
    "df.columns"
   ]
  },
  {
   "cell_type": "code",
   "execution_count": 12,
   "metadata": {},
   "outputs": [
    {
     "data": {
      "text/plain": [
       "Uttar_Pradesh     199.8\n",
       "Maharashtra       112.4\n",
       "Bihar             104.1\n",
       "West_Bengal        91.3\n",
       "Madhya_Pradesh     72.6\n",
       "Name: population, dtype: float64"
      ]
     },
     "execution_count": 12,
     "metadata": {},
     "output_type": "execute_result"
    }
   ],
   "source": [
    "# access column 'population'\n",
    "df.population"
   ]
  },
  {
   "cell_type": "markdown",
   "metadata": {},
   "source": [
    "#### 4.2.2 Indexing Operator `[]`\n",
    "\n",
    "The `df['column_name']` accessor is known as the **indexing operator** for accessing a column in a DataFrame by using the corresponding column name as a key, similar to how we would access a value in a dictionary using its key.\n",
    "\n",
    "This method is more flexible than attribute access, because it allows us to access columns with names that are not valid Python identifiers. It can also be used to access multiple columns at once by passing a list of column names within the square brackets. In this case, the return type is a DataFrame rather than a Series."
   ]
  },
  {
   "cell_type": "code",
   "execution_count": 13,
   "metadata": {},
   "outputs": [
    {
     "data": {
      "text/plain": [
       "Uttar_Pradesh     79.24\n",
       "Maharashtra       89.82\n",
       "Bihar             73.39\n",
       "West_Bengal       82.67\n",
       "Madhya_Pradesh    80.53\n",
       "Name: m_literacy, dtype: float64"
      ]
     },
     "execution_count": 13,
     "metadata": {},
     "output_type": "execute_result"
    }
   ],
   "source": [
    "df['m_literacy']"
   ]
  },
  {
   "cell_type": "code",
   "execution_count": 14,
   "metadata": {},
   "outputs": [
    {
     "data": {
      "text/html": [
       "<div>\n",
       "<style scoped>\n",
       "    .dataframe tbody tr th:only-of-type {\n",
       "        vertical-align: middle;\n",
       "    }\n",
       "\n",
       "    .dataframe tbody tr th {\n",
       "        vertical-align: top;\n",
       "    }\n",
       "\n",
       "    .dataframe thead th {\n",
       "        text-align: right;\n",
       "    }\n",
       "</style>\n",
       "<table border=\"1\" class=\"dataframe\">\n",
       "  <thead>\n",
       "    <tr style=\"text-align: right;\">\n",
       "      <th></th>\n",
       "      <th>f_literacy</th>\n",
       "      <th>population</th>\n",
       "    </tr>\n",
       "  </thead>\n",
       "  <tbody>\n",
       "    <tr>\n",
       "      <th>Uttar_Pradesh</th>\n",
       "      <td>59.26</td>\n",
       "      <td>199.8</td>\n",
       "    </tr>\n",
       "    <tr>\n",
       "      <th>Maharashtra</th>\n",
       "      <td>75.48</td>\n",
       "      <td>112.4</td>\n",
       "    </tr>\n",
       "    <tr>\n",
       "      <th>Bihar</th>\n",
       "      <td>53.33</td>\n",
       "      <td>104.1</td>\n",
       "    </tr>\n",
       "    <tr>\n",
       "      <th>West_Bengal</th>\n",
       "      <td>71.16</td>\n",
       "      <td>91.3</td>\n",
       "    </tr>\n",
       "    <tr>\n",
       "      <th>Madhya_Pradesh</th>\n",
       "      <td>60.02</td>\n",
       "      <td>72.6</td>\n",
       "    </tr>\n",
       "  </tbody>\n",
       "</table>\n",
       "</div>"
      ],
      "text/plain": [
       "                f_literacy  population\n",
       "Uttar_Pradesh        59.26       199.8\n",
       "Maharashtra          75.48       112.4\n",
       "Bihar                53.33       104.1\n",
       "West_Bengal          71.16        91.3\n",
       "Madhya_Pradesh       60.02        72.6"
      ]
     },
     "execution_count": 14,
     "metadata": {},
     "output_type": "execute_result"
    }
   ],
   "source": [
    "# returns data frame object\n",
    "df[['f_literacy', 'population']]"
   ]
  },
  {
   "cell_type": "markdown",
   "metadata": {},
   "source": [
    "**Note:** Slicing with index-labels or integer-locations is possible but refers to rows:\n",
    "\n",
    "+ Slicing with index-labels (if exists) includes the endpoint.\n",
    "\n",
    "+ Slicing with integer-locations excludes the endpoint."
   ]
  },
  {
   "cell_type": "code",
   "execution_count": 16,
   "metadata": {},
   "outputs": [
    {
     "data": {
      "text/html": [
       "<div>\n",
       "<style scoped>\n",
       "    .dataframe tbody tr th:only-of-type {\n",
       "        vertical-align: middle;\n",
       "    }\n",
       "\n",
       "    .dataframe tbody tr th {\n",
       "        vertical-align: top;\n",
       "    }\n",
       "\n",
       "    .dataframe thead th {\n",
       "        text-align: right;\n",
       "    }\n",
       "</style>\n",
       "<table border=\"1\" class=\"dataframe\">\n",
       "  <thead>\n",
       "    <tr style=\"text-align: right;\">\n",
       "      <th></th>\n",
       "      <th>population</th>\n",
       "      <th>m_literacy</th>\n",
       "      <th>f_literacy</th>\n",
       "    </tr>\n",
       "  </thead>\n",
       "  <tbody>\n",
       "    <tr>\n",
       "      <th>Uttar_Pradesh</th>\n",
       "      <td>199.8</td>\n",
       "      <td>79.24</td>\n",
       "      <td>59.26</td>\n",
       "    </tr>\n",
       "    <tr>\n",
       "      <th>Maharashtra</th>\n",
       "      <td>112.4</td>\n",
       "      <td>89.82</td>\n",
       "      <td>75.48</td>\n",
       "    </tr>\n",
       "    <tr>\n",
       "      <th>Bihar</th>\n",
       "      <td>104.1</td>\n",
       "      <td>73.39</td>\n",
       "      <td>53.33</td>\n",
       "    </tr>\n",
       "  </tbody>\n",
       "</table>\n",
       "</div>"
      ],
      "text/plain": [
       "               population  m_literacy  f_literacy\n",
       "Uttar_Pradesh       199.8       79.24       59.26\n",
       "Maharashtra         112.4       89.82       75.48\n",
       "Bihar               104.1       73.39       53.33"
      ]
     },
     "execution_count": 16,
     "metadata": {},
     "output_type": "execute_result"
    }
   ],
   "source": [
    "# 1. Slicing with index-labels\n",
    "#df[:'Bihar']\n",
    "\n",
    "# 2. Slicing with integer-locations\n",
    "#df[:3]"
   ]
  },
  {
   "cell_type": "markdown",
   "metadata": {},
   "source": [
    "#### 4.2.3 `.loc` Accessor\n",
    "\n",
    "The `.loc` accessor provides access to the data in a DataFrame using row and column labels. It supports various indexing and slicing operations.\n",
    "\n",
    "In its simplest form, the `.loc` accessor can be used to access a single row of data by specifying the row label. For example, `df.loc[row_label]` returns a Series containing the data in the specified row."
   ]
  },
  {
   "cell_type": "code",
   "execution_count": 17,
   "metadata": {},
   "outputs": [
    {
     "data": {
      "text/plain": [
       "population    104.10\n",
       "m_literacy     73.39\n",
       "f_literacy     53.33\n",
       "Name: Bihar, dtype: float64"
      ]
     },
     "execution_count": 17,
     "metadata": {},
     "output_type": "execute_result"
    }
   ],
   "source": [
    "df.loc['Bihar']"
   ]
  },
  {
   "cell_type": "markdown",
   "metadata": {},
   "source": [
    "#### 4.2.4 `.iloc` Accessor\n",
    "\n",
    "The accessor `df.iloc[]` is used for *purely integer-location based indexing* for selection by position in a DataFrame. Like the `.loc` accessor, the `.iloc` accessor also provides versatile access to the data.\n",
    "\n",
    "In its simplest form, the `.iloc` accessor can be used to access a single row of data by specifying the row index as an integer. For example, `df.iloc[row_index]` returns a Series containing the data in the specified row."
   ]
  },
  {
   "cell_type": "code",
   "execution_count": 18,
   "metadata": {},
   "outputs": [
    {
     "data": {
      "text/plain": [
       "population    104.10\n",
       "m_literacy     73.39\n",
       "f_literacy     53.33\n",
       "Name: Bihar, dtype: float64"
      ]
     },
     "execution_count": 18,
     "metadata": {},
     "output_type": "execute_result"
    }
   ],
   "source": [
    "df.iloc[2]"
   ]
  },
  {
   "cell_type": "markdown",
   "metadata": {},
   "source": [
    "---\n",
    "### 4.3 `.loc` and `.iloc`\n",
    "\n",
    "Section 4.2 introduced the `.loc` and `.iloc` accessors for retrieving rows. In this section, we will explore both accessors in more depth.\n",
    "\n",
    "#### 4.3.1 Overview\n",
    "\n",
    "1. `.loc` : \n",
    "\n",
    "    + **label-based selection:** access rows by their index-labels (names)\n",
    "\n",
    "    + slicing *includes* the endpoint\n",
    "\n",
    "    + supports boolean indexing\n",
    "\n",
    "2. `.iloc`: \n",
    "    \n",
    "    + **index-based selection:** access rows by their integer-location (positional)\n",
    "    \n",
    "    + slicing *excludes* the endpoint\n",
    "\n",
    "    + does not support boolean indexing\n"
   ]
  },
  {
   "cell_type": "markdown",
   "metadata": {},
   "source": [
    "#### 4.3.2 Accesing Individual Values\n",
    "\n",
    "The preferred way to access individual values from a DataFrame object `df` is\n",
    "\n",
    "+ `df.loc['row_name', 'col_name']`\n",
    "\n",
    "+ `df.iloc[row_index, col_index]`\n",
    "\n",
    "The appendix list alternative ways to access individual values. \n",
    "\n",
    "**Example:** Access the population of Bihar"
   ]
  },
  {
   "cell_type": "code",
   "execution_count": 20,
   "metadata": {},
   "outputs": [
    {
     "data": {
      "text/plain": [
       "104.1"
      ]
     },
     "execution_count": 20,
     "metadata": {},
     "output_type": "execute_result"
    }
   ],
   "source": [
    "# with .loc[]\n",
    "df.loc['Bihar', 'population'] "
   ]
  },
  {
   "cell_type": "code",
   "execution_count": 21,
   "metadata": {},
   "outputs": [
    {
     "data": {
      "text/plain": [
       "104.1"
      ]
     },
     "execution_count": 21,
     "metadata": {},
     "output_type": "execute_result"
    }
   ],
   "source": [
    "# with .iloc[]\n",
    "df.iloc[2, 0]"
   ]
  },
  {
   "cell_type": "markdown",
   "metadata": {},
   "source": [
    "#### 4.3.3 Selecting several Rows"
   ]
  },
  {
   "cell_type": "code",
   "execution_count": 25,
   "metadata": {},
   "outputs": [
    {
     "data": {
      "text/html": [
       "<div>\n",
       "<style scoped>\n",
       "    .dataframe tbody tr th:only-of-type {\n",
       "        vertical-align: middle;\n",
       "    }\n",
       "\n",
       "    .dataframe tbody tr th {\n",
       "        vertical-align: top;\n",
       "    }\n",
       "\n",
       "    .dataframe thead th {\n",
       "        text-align: right;\n",
       "    }\n",
       "</style>\n",
       "<table border=\"1\" class=\"dataframe\">\n",
       "  <thead>\n",
       "    <tr style=\"text-align: right;\">\n",
       "      <th></th>\n",
       "      <th>population</th>\n",
       "      <th>m_literacy</th>\n",
       "      <th>f_literacy</th>\n",
       "    </tr>\n",
       "  </thead>\n",
       "  <tbody>\n",
       "    <tr>\n",
       "      <th>Uttar_Pradesh</th>\n",
       "      <td>199.8</td>\n",
       "      <td>79.24</td>\n",
       "      <td>59.26</td>\n",
       "    </tr>\n",
       "    <tr>\n",
       "      <th>Maharashtra</th>\n",
       "      <td>112.4</td>\n",
       "      <td>89.82</td>\n",
       "      <td>75.48</td>\n",
       "    </tr>\n",
       "    <tr>\n",
       "      <th>Bihar</th>\n",
       "      <td>104.1</td>\n",
       "      <td>73.39</td>\n",
       "      <td>53.33</td>\n",
       "    </tr>\n",
       "  </tbody>\n",
       "</table>\n",
       "</div>"
      ],
      "text/plain": [
       "               population  m_literacy  f_literacy\n",
       "Uttar_Pradesh       199.8       79.24       59.26\n",
       "Maharashtra         112.4       89.82       75.48\n",
       "Bihar               104.1       73.39       53.33"
      ]
     },
     "execution_count": 25,
     "metadata": {},
     "output_type": "execute_result"
    }
   ],
   "source": [
    "# 1. with list of index-labels / index-positions\n",
    "# df.loc[['Bihar', 'Maharashtra']]\n",
    "# df.iloc[[2, 1]]\n",
    "\n",
    "# 2. with slicing\n",
    "# df.loc[:'Bihar']                                      # with endpoint 'Bihar'\n",
    "# df.iloc[:3]                                           # without endpoint"
   ]
  },
  {
   "cell_type": "markdown",
   "metadata": {},
   "source": [
    "#### 4.3.4 Selecting a sub-Series"
   ]
  },
  {
   "cell_type": "code",
   "execution_count": 26,
   "metadata": {},
   "outputs": [
    {
     "data": {
      "text/html": [
       "<div>\n",
       "<style scoped>\n",
       "    .dataframe tbody tr th:only-of-type {\n",
       "        vertical-align: middle;\n",
       "    }\n",
       "\n",
       "    .dataframe tbody tr th {\n",
       "        vertical-align: top;\n",
       "    }\n",
       "\n",
       "    .dataframe thead th {\n",
       "        text-align: right;\n",
       "    }\n",
       "</style>\n",
       "<table border=\"1\" class=\"dataframe\">\n",
       "  <thead>\n",
       "    <tr style=\"text-align: right;\">\n",
       "      <th></th>\n",
       "      <th>population</th>\n",
       "      <th>m_literacy</th>\n",
       "      <th>f_literacy</th>\n",
       "    </tr>\n",
       "  </thead>\n",
       "  <tbody>\n",
       "    <tr>\n",
       "      <th>Uttar_Pradesh</th>\n",
       "      <td>199.8</td>\n",
       "      <td>79.24</td>\n",
       "      <td>59.26</td>\n",
       "    </tr>\n",
       "    <tr>\n",
       "      <th>Maharashtra</th>\n",
       "      <td>112.4</td>\n",
       "      <td>89.82</td>\n",
       "      <td>75.48</td>\n",
       "    </tr>\n",
       "    <tr>\n",
       "      <th>Bihar</th>\n",
       "      <td>104.1</td>\n",
       "      <td>73.39</td>\n",
       "      <td>53.33</td>\n",
       "    </tr>\n",
       "    <tr>\n",
       "      <th>West_Bengal</th>\n",
       "      <td>91.3</td>\n",
       "      <td>82.67</td>\n",
       "      <td>71.16</td>\n",
       "    </tr>\n",
       "    <tr>\n",
       "      <th>Madhya_Pradesh</th>\n",
       "      <td>72.6</td>\n",
       "      <td>80.53</td>\n",
       "      <td>60.02</td>\n",
       "    </tr>\n",
       "  </tbody>\n",
       "</table>\n",
       "</div>"
      ],
      "text/plain": [
       "                population  m_literacy  f_literacy\n",
       "Uttar_Pradesh        199.8       79.24       59.26\n",
       "Maharashtra          112.4       89.82       75.48\n",
       "Bihar                104.1       73.39       53.33\n",
       "West_Bengal           91.3       82.67       71.16\n",
       "Madhya_Pradesh        72.6       80.53       60.02"
      ]
     },
     "execution_count": 26,
     "metadata": {},
     "output_type": "execute_result"
    }
   ],
   "source": [
    "df"
   ]
  },
  {
   "cell_type": "code",
   "execution_count": 28,
   "metadata": {},
   "outputs": [],
   "source": [
    "# 1. with indexer for rows\n",
    "# df.loc[['Bihar', 'Maharashtra'], 'population'] \n",
    "# df.iloc[[2, 1], 0]\n",
    "\n",
    "# 2. with indexer for columns\n",
    "# df.loc['Bihar', ['m_literacy', 'f_literacy']]\n",
    "# df.iloc[2, [1, 2]]\n",
    "\n",
    "# 3. with slicing for rows\n",
    "# df.loc[:'Bihar', 'population'] \n",
    "# df.iloc[:3, 0]\n",
    "\n",
    "# 4. with slicing for columns\n",
    "# df.loc['Bihar', 'm_literacy':'f_literacy'] \n",
    "# df.iloc[2, 1:]"
   ]
  },
  {
   "cell_type": "markdown",
   "metadata": {},
   "source": [
    "#### 4.3.5 Selecting a sub-DataFrame"
   ]
  },
  {
   "cell_type": "code",
   "execution_count": 31,
   "metadata": {},
   "outputs": [],
   "source": [
    "# 1. with indexers \n",
    "# df.loc[['Bihar', 'Maharashtra'], ['m_literacy', 'f_literacy']] \n",
    "# df.iloc[[2, 1], [1, 2]]\n",
    "\n",
    "# 2. with slicing\n",
    "# df.loc[:'Bihar', 'm_literacy':'f_literacy']\n",
    "# df.iloc[:3, 1:]\n",
    "\n",
    "# 3. with slicing and indexer\n",
    "# ..."
   ]
  },
  {
   "cell_type": "markdown",
   "metadata": {},
   "source": [
    "#### 4.3.6 Boolean Indexing"
   ]
  },
  {
   "cell_type": "code",
   "execution_count": 32,
   "metadata": {},
   "outputs": [
    {
     "data": {
      "text/html": [
       "<div>\n",
       "<style scoped>\n",
       "    .dataframe tbody tr th:only-of-type {\n",
       "        vertical-align: middle;\n",
       "    }\n",
       "\n",
       "    .dataframe tbody tr th {\n",
       "        vertical-align: top;\n",
       "    }\n",
       "\n",
       "    .dataframe thead th {\n",
       "        text-align: right;\n",
       "    }\n",
       "</style>\n",
       "<table border=\"1\" class=\"dataframe\">\n",
       "  <thead>\n",
       "    <tr style=\"text-align: right;\">\n",
       "      <th></th>\n",
       "      <th>population</th>\n",
       "      <th>m_literacy</th>\n",
       "      <th>f_literacy</th>\n",
       "    </tr>\n",
       "  </thead>\n",
       "  <tbody>\n",
       "    <tr>\n",
       "      <th>Uttar_Pradesh</th>\n",
       "      <td>199.8</td>\n",
       "      <td>79.24</td>\n",
       "      <td>59.26</td>\n",
       "    </tr>\n",
       "    <tr>\n",
       "      <th>Maharashtra</th>\n",
       "      <td>112.4</td>\n",
       "      <td>89.82</td>\n",
       "      <td>75.48</td>\n",
       "    </tr>\n",
       "    <tr>\n",
       "      <th>Bihar</th>\n",
       "      <td>104.1</td>\n",
       "      <td>73.39</td>\n",
       "      <td>53.33</td>\n",
       "    </tr>\n",
       "    <tr>\n",
       "      <th>West_Bengal</th>\n",
       "      <td>91.3</td>\n",
       "      <td>82.67</td>\n",
       "      <td>71.16</td>\n",
       "    </tr>\n",
       "    <tr>\n",
       "      <th>Madhya_Pradesh</th>\n",
       "      <td>72.6</td>\n",
       "      <td>80.53</td>\n",
       "      <td>60.02</td>\n",
       "    </tr>\n",
       "  </tbody>\n",
       "</table>\n",
       "</div>"
      ],
      "text/plain": [
       "                population  m_literacy  f_literacy\n",
       "Uttar_Pradesh        199.8       79.24       59.26\n",
       "Maharashtra          112.4       89.82       75.48\n",
       "Bihar                104.1       73.39       53.33\n",
       "West_Bengal           91.3       82.67       71.16\n",
       "Madhya_Pradesh        72.6       80.53       60.02"
      ]
     },
     "execution_count": 32,
     "metadata": {},
     "output_type": "execute_result"
    }
   ],
   "source": [
    "# show data\n",
    "df.head()"
   ]
  },
  {
   "attachments": {},
   "cell_type": "markdown",
   "metadata": {},
   "source": [
    "**Example 1:** Return all rows with at least 80% male literacy. "
   ]
  },
  {
   "cell_type": "code",
   "execution_count": 33,
   "metadata": {},
   "outputs": [
    {
     "name": "stdout",
     "output_type": "stream",
     "text": [
      "Uttar_Pradesh     False\n",
      "Maharashtra        True\n",
      "Bihar             False\n",
      "West_Bengal        True\n",
      "Madhya_Pradesh     True\n",
      "Name: m_literacy, dtype: bool\n",
      "type: <class 'pandas.core.series.Series'>\n"
     ]
    }
   ],
   "source": [
    "# boolean mask\n",
    "mask = df['m_literacy'] >= 80.0   # mask = df.loc[:, 'm_literacy'] >= 80.0\n",
    "\n",
    "# show mask\n",
    "print(mask)\n",
    "print('type:', type(mask))"
   ]
  },
  {
   "attachments": {},
   "cell_type": "markdown",
   "metadata": {},
   "source": [
    "When using a boolean mask with the `.loc` accessor, the mask selects all rows for which the corresponding mask value is `True`."
   ]
  },
  {
   "cell_type": "code",
   "execution_count": 36,
   "metadata": {},
   "outputs": [],
   "source": [
    "#df.loc[mask]\n",
    "\n",
    "# short form\n",
    "# df.loc[df['m_literacy'] >= 80.0]\n",
    "\n",
    "# not possible with .iloc\n",
    "# df.iloc[mask]"
   ]
  },
  {
   "attachments": {},
   "cell_type": "markdown",
   "metadata": {},
   "source": [
    "**Example 2:** Return all rows with more than 100 million people and female literacy greater than 75 %."
   ]
  },
  {
   "cell_type": "code",
   "execution_count": null,
   "metadata": {},
   "outputs": [],
   "source": [
    "df.loc[(df['population'] > 100) & (df['f_literacy'] > 75)]"
   ]
  },
  {
   "cell_type": "markdown",
   "metadata": {},
   "source": [
    "---\n",
    "## 4.4 Final Remark\n",
    "\n",
    "Unlike many other Python libraries, Pandas uses the indexing operator `[]` primarily for column selection rather than row selection. This design choice is consistent with the structure of a DataFrame. A DataFrame can be thought of as a dictionary of Series objects representing the columns. Series uses the indexing operator `[]` to access values by their labels. \n",
    "\n",
    "To access rows, you can use the `.loc[]` and `.iloc[]` methods. "
   ]
  },
  {
   "cell_type": "markdown",
   "metadata": {},
   "source": [
    "---\n",
    "## 4.A. Appendix\n",
    "\n",
    "The appendix shows alternative ways to access data using `.loc[]` and `.iloc[]`. "
   ]
  },
  {
   "cell_type": "markdown",
   "metadata": {},
   "source": [
    "---\n",
    "### 4.A.1. Example with `.loc`\n",
    "\n",
    "We demonstrate six different ways to access the population of Bihar using `df.loc['Bihar']`. In general, the preferred way to access a value is `df.loc['row_name', 'col_name']`."
   ]
  },
  {
   "cell_type": "code",
   "execution_count": null,
   "metadata": {},
   "outputs": [],
   "source": [
    "# 1. chaining the indexing operator with column-index\n",
    "#df.loc['Bihar'][0]                 \n",
    "\n",
    "# 2. chaining the indexing operator with column-label\n",
    "#df.loc['Bihar']['population']\n",
    "\n",
    "# 3. chaining the attribute access\n",
    "#df.loc['Bihar'].population\n",
    "\n",
    "# 4. chaining .iloc\n",
    "#df.loc['Bihar'].iloc[0] \n",
    "\n",
    "# 5. chaining .loc\n",
    "# df.loc['Bihar'].loc['population'] \n",
    "\n",
    "# 6. preferred access\n",
    "#df.loc['Bihar', 'population'] \n"
   ]
  },
  {
   "cell_type": "markdown",
   "metadata": {},
   "source": [
    "### 4.A.2. Example with `.iloc`\n",
    "\n",
    "As with `.loc`, we demonstrate six different ways to access the population of Bihar using `df.iloc[]`. In general, the preferred way to access a value is `df.iloc[row_index, col_index]`."
   ]
  },
  {
   "cell_type": "code",
   "execution_count": null,
   "metadata": {},
   "outputs": [],
   "source": [
    "# 1. chaining the indexing operator with column-index\n",
    "#df.iloc[2][0]                 \n",
    "\n",
    "# 2. chaining the indexing operator with column-label\n",
    "# df.iloc[2]['population']\n",
    "\n",
    "# 3. chaining the attribute access\n",
    "# df.iloc[2].population\n",
    "\n",
    "# 4. chaining .iloc\n",
    "# df.iloc[2].iloc[0] \n",
    "\n",
    "# 5. chaining .loc\n",
    "# df.iloc[2].loc['population'] \n",
    "\n",
    "# 6. preferred access\n",
    "# df.iloc[2, 0]"
   ]
  }
 ],
 "metadata": {
  "kernelspec": {
   "display_name": "Python 3 (ipykernel)",
   "language": "python",
   "name": "python3"
  },
  "language_info": {
   "codemirror_mode": {
    "name": "ipython",
    "version": 3
   },
   "file_extension": ".py",
   "mimetype": "text/x-python",
   "name": "python",
   "nbconvert_exporter": "python",
   "pygments_lexer": "ipython3",
   "version": "3.11.5"
  }
 },
 "nbformat": 4,
 "nbformat_minor": 4
}
