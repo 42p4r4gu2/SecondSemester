{
 "cells": [
  {
   "attachments": {},
   "cell_type": "markdown",
   "metadata": {},
   "source": [
    "## 2. Data Structures\n",
    "\n",
    "This notebook introduces the two most important data structures in Pandas: \n",
    "    \n",
    "    2.1 Series\n",
    "    2.2 DataFrame\n",
    "\n",
    "We will demonstrate how to create these data structures manually. In practice, it is rare to create Pandas Series and DataFrame objects manually. Therefore, this section focuses on providing a basic understanding of these data structures to serve as a foundation for working with them. For more detailed information, please refer to the official Pandas documentation.\n",
    "\n",
    "+ [Intro to data structures](https://pandas.pydata.org/docs/user_guide/dsintro.html)\n",
    "\n",
    "+ [Pandas.Series](https://pandas.pydata.org/docs/reference/api/pandas.Series.html)\n",
    "\n",
    "+ [Pandas.DataFrame](https://pandas.pydata.org/docs/reference/api/pandas.Series.html)"
   ]
  },
  {
   "cell_type": "code",
   "execution_count": 1,
   "metadata": {},
   "outputs": [
    {
     "data": {
      "text/html": [
       "<style>\n",
       "    table { display: inline-block }\n",
       "</style>\n"
      ],
      "text/plain": [
       "<IPython.core.display.HTML object>"
      ]
     },
     "metadata": {},
     "output_type": "display_data"
    }
   ],
   "source": [
    "%%html\n",
    "<style>\n",
    "    table { display: inline-block }\n",
    "</style>"
   ]
  },
  {
   "cell_type": "code",
   "execution_count": 2,
   "metadata": {},
   "outputs": [],
   "source": [
    "import numpy as np\n",
    "import pandas as pd"
   ]
  },
  {
   "attachments": {},
   "cell_type": "markdown",
   "metadata": {},
   "source": [
    "---\n",
    "### 2.1 Series\n",
    "\n",
    "A Pandas Series is a one-dimensional labeled array capable of holding data of any type. The axis labels are collectively referred to as the index. \n",
    "\n",
    "\n",
    "The components of a Series object are:\n",
    "\n",
    "+ index / axis \n",
    "\n",
    "+ data\n",
    "\n",
    "+ name "
   ]
  },
  {
   "attachments": {},
   "cell_type": "markdown",
   "metadata": {},
   "source": [
    "\n",
    "#### 2.1.1 Basic Form of Creating a Pandas Series\n",
    "\n",
    "The simplest way to create a Series is to call:"
   ]
  },
  {
   "cell_type": "code",
   "execution_count": 3,
   "metadata": {},
   "outputs": [
    {
     "name": "stdout",
     "output_type": "stream",
     "text": [
      "0    1\n",
      "1    2\n",
      "2    3\n",
      "dtype: int64\n"
     ]
    }
   ],
   "source": [
    "s = pd.Series((1, 2, 3))\n",
    "\n",
    "print(s)"
   ]
  },
  {
   "cell_type": "markdown",
   "metadata": {},
   "source": [
    "The first column of the series object `s` represents the index (0, 1, 2) and the second column the data (1, 2, 3). "
   ]
  },
  {
   "attachments": {},
   "cell_type": "markdown",
   "metadata": {},
   "source": [
    "The basic form to create a `Series` is to call\n",
    "\n",
    "```python\n",
    "    s = pd.Series(data, index=index)\n",
    "```\n",
    "\n",
    "where `data` can be \n",
    "\n",
    "+ a Python `dict`\n",
    "\n",
    "+ a NumPy `ndarray`\n",
    "\n",
    "+ a Python list or tuple\n",
    "\n",
    "+ a scalar value (like 2)\n",
    "\n",
    "The passed `index` is a list of axis labels. \n",
    "\n",
    "<br>\n",
    "\n",
    "**Note:**\n",
    "\n",
    "+ passing an `index` is optional. If no index is passed, Pandas will create the default index 0, 1, 2, ...\n",
    "\n",
    "+ `index` must be of the same length as the `data`\n",
    "\n",
    "+ axis labels do not need to be unique\n",
    "\n",
    "+ axis labels must be hashable (e.g. int, float, string but not dict)"
   ]
  },
  {
   "attachments": {},
   "cell_type": "markdown",
   "metadata": {},
   "source": [
    "#### 2.1.2 Creating a Series from a List\n",
    "\n",
    "In the following example, the data is passed as a Python **list**. In addition, an **index** and **name** is provided.  "
   ]
  },
  {
   "cell_type": "code",
   "execution_count": 4,
   "metadata": {},
   "outputs": [
    {
     "name": "stdout",
     "output_type": "stream",
     "text": [
      "Yangtze        6300\n",
      "Nile           6650\n",
      "Mississippi    6275\n",
      "Yenisei        5539\n",
      "Amazon         6400\n",
      "Name: Rivers, dtype: int64\n"
     ]
    }
   ],
   "source": [
    "rivers = pd.Series([6300, 6650, 6275, 5539, 6400],\n",
    "                   index=['Yangtze', 'Nile', 'Mississippi', 'Yenisei', 'Amazon'], # optional\n",
    "                   name='Rivers') # optional\n",
    "\n",
    "print(rivers)"
   ]
  },
  {
   "cell_type": "markdown",
   "metadata": {},
   "source": [
    "Instead of a Python list, a **tuple** and a **ndarray** can be passed in the same way to create a Series object. "
   ]
  },
  {
   "attachments": {},
   "cell_type": "markdown",
   "metadata": {},
   "source": [
    "#### 2.1.3 Creating a Series from a `dict`"
   ]
  },
  {
   "cell_type": "code",
   "execution_count": 6,
   "metadata": {},
   "outputs": [
    {
     "name": "stdout",
     "output_type": "stream",
     "text": [
      "Yangtze        6300\n",
      "Nile           6650\n",
      "Mississippi    6275\n",
      "Yenisei        5539\n",
      "Amazon         6400\n",
      "Name: Rivers, dtype: int64\n"
     ]
    }
   ],
   "source": [
    "data = dict(\n",
    "    Yangtze = 6300, \n",
    "    Nile = 6650, \n",
    "    Mississippi = 6275, \n",
    "    Yenisei = 5539, \n",
    "    Amazon = 6400)\n",
    "\n",
    "rivers = pd.Series(data, name='Rivers')\n",
    "\n",
    "print(rivers)"
   ]
  },
  {
   "cell_type": "markdown",
   "metadata": {},
   "source": [
    "#### 2.1.3 Creating a Series from a Scalar\n",
    "\n",
    "When passing a **scalar**, an **index** must be provided:"
   ]
  },
  {
   "cell_type": "code",
   "execution_count": 7,
   "metadata": {},
   "outputs": [
    {
     "data": {
      "text/plain": [
       "a    2.0\n",
       "b    2.0\n",
       "c    2.0\n",
       "dtype: float64"
      ]
     },
     "execution_count": 7,
     "metadata": {},
     "output_type": "execute_result"
    }
   ],
   "source": [
    "pd.Series(2.0, index=['a', 'b', 'c'])"
   ]
  },
  {
   "attachments": {},
   "cell_type": "markdown",
   "metadata": {},
   "source": [
    "---\n",
    "### 2.2 DataFrame\n",
    "\n",
    "A `DataFrame` is a 2-dimensional labeled data structure with columns of potentially different types. It is the most commonly used pandas object. You can think of a `DataFrame` as a tabular(rows, columns) representation of the data. \n",
    "\n",
    "<div style=\"text-align: center;\">\n",
    "<img src=\"./figs/df.png\" width=\"600\">\n",
    "</div>"
   ]
  },
  {
   "attachments": {},
   "cell_type": "markdown",
   "metadata": {},
   "source": [
    "#### 2.2.1 Basic Form of Creating a DataFrame\n",
    "\n",
    "The simplest way to create a Series is to call:"
   ]
  },
  {
   "cell_type": "code",
   "execution_count": 8,
   "metadata": {},
   "outputs": [
    {
     "name": "stdout",
     "output_type": "stream",
     "text": [
      "   0  1\n",
      "0  0  1\n",
      "1  2  3\n",
      "2  4  5\n",
      "3  6  7\n"
     ]
    }
   ],
   "source": [
    "# data\n",
    "d = np.arange(8).reshape(-1, 2)\n",
    "\n",
    "# DataFrame\n",
    "df = pd.DataFrame(d) \n",
    "\n",
    "# print\n",
    "print(df)"
   ]
  },
  {
   "attachments": {},
   "cell_type": "markdown",
   "metadata": {},
   "source": [
    "The basic form to create a `DataFrame` is to call\n",
    "\n",
    "```python\n",
    "    df = pd.DataFrame(data, index=index, column=columns)\n",
    "```\n",
    "\n",
    "where `data` can be \n",
    "\n",
    "+ a `dict` of 1D ndarrays, lists, dicts, or Series\n",
    "\n",
    "+ another `DataFrame`\n",
    "\n",
    "+ ...\n",
    "\n",
    "The index (row labels) and columns (column label) arguments are optional. If axis labels (index, columns) are not passed, they will be created from the input data using the labels 0, 1, ..."
   ]
  },
  {
   "attachments": {},
   "cell_type": "markdown",
   "metadata": {},
   "source": [
    "#### 2.2.2 Creating a DataFrame from a Dictionary"
   ]
  },
  {
   "cell_type": "code",
   "execution_count": 9,
   "metadata": {},
   "outputs": [
    {
     "name": "stdout",
     "output_type": "stream",
     "text": [
      "    name  age  program\n",
      "317  bob   20     math\n",
      "312  ann   21      art\n",
      "310  cat   22  physics\n"
     ]
    }
   ],
   "source": [
    "# index labels\n",
    "mat_num = [317, 312, 310]\n",
    "\n",
    "# data dictionary\n",
    "data = {\n",
    "        'name' : ['bob', 'ann', 'cat'],\n",
    "        'age'  : [20, 21, 22],\n",
    "        'program' : ['math', 'art', 'physics'] \n",
    "        }\n",
    "\n",
    "# dataframe object\n",
    "df = pd.DataFrame(data, index=mat_num)\n",
    "\n",
    "print(df)"
   ]
  },
  {
   "attachments": {},
   "cell_type": "markdown",
   "metadata": {},
   "source": [
    "#### 2.2.3 Creating a DataFrame from a Structured Array"
   ]
  },
  {
   "cell_type": "code",
   "execution_count": 10,
   "metadata": {},
   "outputs": [
    {
     "name": "stdout",
     "output_type": "stream",
     "text": [
      "    name  age  program\n",
      "317  bob   20     math\n",
      "312  ann   21      art\n",
      "310  cat   22  physics\n"
     ]
    }
   ],
   "source": [
    "# index labels\n",
    "rows = [317, 312, 310]\n",
    "\n",
    "# column labels\n",
    "cols = ['name', 'age', 'program']\n",
    "\n",
    "# structured array\n",
    "data = (['bob', 20, 'math'], ['ann', 21, 'art'], ['cat', 22, 'physics'])\n",
    "\n",
    "# dataframe object\n",
    "df = pd.DataFrame(data, index=rows, columns=cols)\n",
    "\n",
    "print(df)"
   ]
  },
  {
   "cell_type": "code",
   "execution_count": null,
   "metadata": {},
   "outputs": [],
   "source": []
  }
 ],
 "metadata": {
  "kernelspec": {
   "display_name": "Python 3 (ipykernel)",
   "language": "python",
   "name": "python3"
  },
  "language_info": {
   "codemirror_mode": {
    "name": "ipython",
    "version": 3
   },
   "file_extension": ".py",
   "mimetype": "text/x-python",
   "name": "python",
   "nbconvert_exporter": "python",
   "pygments_lexer": "ipython3",
   "version": "3.11.5"
  }
 },
 "nbformat": 4,
 "nbformat_minor": 4
}
