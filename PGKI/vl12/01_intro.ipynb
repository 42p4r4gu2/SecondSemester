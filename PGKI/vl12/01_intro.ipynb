{
 "cells": [
  {
   "attachments": {},
   "cell_type": "markdown",
   "metadata": {},
   "source": [
    "## 1 The Pandas Library\n",
    "\n",
    "\n",
    "---\n",
    "### Notebooks\n",
    "\n",
    "1. [Introduction](./01_intro.ipynb)\n",
    "\n",
    "2. [Data Structures](./02_ds.ipynb)\n",
    "\n",
    "3. [Read and Write](./03_io.ipynb)\n",
    "\n",
    "4. [Accessing and Selecting Values](./04_indexing.ipynb)\n",
    "\n",
    "5. [Application](./05_application.ipynb)\n",
    "\n",
    "---\n",
    "### 1.1 Overview\n",
    "\n",
    "+ Pandas\n",
    "\n",
    "    + popular open-source library for data manipulation and analysis\n",
    "\n",
    "    + provides a richer functionality than core Python\n",
    "\n",
    "    + much faster than core Python \n",
    "\n",
    "    + built on top of NumPy \n",
    "    \n",
    "    + integrates well with other libraries in the scientific Python ecosystem (e.g. Matplotlib, scikit-learn).\n",
    "\n",
    "+ Data structures\n",
    "\n",
    "    + **Series**: represents a single column\n",
    "\n",
    "    + **DataFrame**: represents a table\n",
    "\n",
    "+ Resources\n",
    "\n",
    "    + [pandas official website](https://pandas.pydata.org/)\n",
    "\n",
    "    + [pandas cheat sheet](https://pandas.pydata.org/Pandas_Cheat_Sheet.pdf)\n",
    "\n",
    "---\n",
    "### 1.2 Installation and Import\n",
    "\n",
    "**Installation**\n",
    "\n",
    "Pandas is already part of anaconda. If you use don't use anaconda, run the command \n",
    "\n",
    "        $ conda install pandas\n",
    "        $ pip install pandas\n",
    "\n",
    "to make pandas available. \n",
    "\n",
    "\n",
    "---\n",
    "### 1.3 Import Convention"
   ]
  },
  {
   "cell_type": "code",
   "execution_count": 1,
   "metadata": {},
   "outputs": [],
   "source": [
    "import pandas as pd"
   ]
  },
  {
   "cell_type": "code",
   "execution_count": null,
   "metadata": {},
   "outputs": [],
   "source": []
  }
 ],
 "metadata": {
  "kernelspec": {
   "display_name": "Python 3 (ipykernel)",
   "language": "python",
   "name": "python3"
  },
  "language_info": {
   "codemirror_mode": {
    "name": "ipython",
    "version": 3
   },
   "file_extension": ".py",
   "mimetype": "text/x-python",
   "name": "python",
   "nbconvert_exporter": "python",
   "pygments_lexer": "ipython3",
   "version": "3.11.5"
  }
 },
 "nbformat": 4,
 "nbformat_minor": 4
}
