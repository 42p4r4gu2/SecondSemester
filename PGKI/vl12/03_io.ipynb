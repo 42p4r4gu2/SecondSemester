{
 "cells": [
  {
   "attachments": {},
   "cell_type": "markdown",
   "metadata": {},
   "source": [
    "## 3. Read and Write\n",
    "\n",
    "Pandas provides a set of reader and writer functions:\n",
    "\n",
    "| Format | Data | Reader | Writer |\n",
    "|:-------|:-----|:-------|:-------|\n",
    "| text | CSV | read_csv | to_csv |\n",
    "| text | HTML | read_html | to_html |\n",
    "| binary | MS Excel | read_excel | to excel |\n",
    "| binary | OpenDocument | read_excel | |\n",
    "| SQL | SQL | read_sql | to_sql |\n",
    "| ... | ... | ... | ... |\n",
    "\n",
    "**Documentation**: pandas [IO tools](https://pandas.pydata.org/docs/user_guide/io.html)"
   ]
  },
  {
   "cell_type": "code",
   "execution_count": 1,
   "metadata": {},
   "outputs": [
    {
     "data": {
      "text/html": [
       "<style>\n",
       "    table { display: inline-block }\n",
       "</style>\n"
      ],
      "text/plain": [
       "<IPython.core.display.HTML object>"
      ]
     },
     "metadata": {},
     "output_type": "display_data"
    }
   ],
   "source": [
    "%%html\n",
    "<style>\n",
    "    table { display: inline-block }\n",
    "</style>"
   ]
  },
  {
   "cell_type": "code",
   "execution_count": 2,
   "metadata": {},
   "outputs": [],
   "source": [
    "import numpy as np\n",
    "import pandas as pd"
   ]
  },
  {
   "attachments": {},
   "cell_type": "markdown",
   "metadata": {},
   "source": [
    "---\n",
    "### Content\n",
    "\n",
    "    3.1 Reading CSV Files\n",
    "    3.2 Customized Reading\n",
    "    3.3 Writing to a CSV File"
   ]
  },
  {
   "attachments": {},
   "cell_type": "markdown",
   "metadata": {},
   "source": [
    "---\n",
    "### 3.1 Reading CSV Files\n",
    "\n",
    "Often, the data we want to process is stored in a CSV (Comma Separated Values) file. A typical CSV file has the following format:\n",
    "\n",
    "```\n",
    "    id,name,age,program\n",
    "    317,bob,20,math\n",
    "    312,ann,21,art\n",
    "    310,cat,22,physics\n",
    "```\n",
    "\n",
    "The first line often contains the column names, while the following rows represent data objects. In this example, values are separated by a comma. However, values can also be separated by other characters such as space or semicolon.\n",
    "\n",
    "To read a CSV file in Pandas, you can use the \n",
    "\n",
    "```python\n",
    "    pd.read_csv\n",
    "```\n",
    "\n",
    "function. Note that this function has about 50 parameters to customize the behavior of the file reading process."
   ]
  },
  {
   "attachments": {},
   "cell_type": "markdown",
   "metadata": {
    "tags": []
   },
   "source": [
    "#### 3.1.1 Example: `india.csv`\n",
    "\n",
    "+ Values in `india.csv` are separated by a comma\n",
    "\n",
    "+ `india.csv` has column names\n",
    "\n",
    "+ `sep`: argument to set the delimiter, default is a comma (`,`)\n",
    "\n",
    "+ `header`: header is inferred by pandas\n",
    "\n",
    "\n",
    "**Note:** The dataset `data/india.csv` was taken from [Data analysis: female literacy in India](https://scipython.com/book2/chapter-9-data-analysis-with-pandas/examples/data-analysis-female-literacy-in-india/)"
   ]
  },
  {
   "cell_type": "code",
   "execution_count": 3,
   "metadata": {},
   "outputs": [
    {
     "data": {
      "text/html": [
       "<div>\n",
       "<style scoped>\n",
       "    .dataframe tbody tr th:only-of-type {\n",
       "        vertical-align: middle;\n",
       "    }\n",
       "\n",
       "    .dataframe tbody tr th {\n",
       "        vertical-align: top;\n",
       "    }\n",
       "\n",
       "    .dataframe thead th {\n",
       "        text-align: right;\n",
       "    }\n",
       "</style>\n",
       "<table border=\"1\" class=\"dataframe\">\n",
       "  <thead>\n",
       "    <tr style=\"text-align: right;\">\n",
       "      <th></th>\n",
       "      <th>State/UT</th>\n",
       "      <th>Male Population</th>\n",
       "      <th>Female Population</th>\n",
       "      <th>Area (km2)</th>\n",
       "      <th>Male Literacy (%)</th>\n",
       "      <th>Fertility Rate</th>\n",
       "      <th>Female Literacy (%)</th>\n",
       "    </tr>\n",
       "  </thead>\n",
       "  <tbody>\n",
       "    <tr>\n",
       "      <th>0</th>\n",
       "      <td>Uttar Pradesh</td>\n",
       "      <td>104480510</td>\n",
       "      <td>95331831</td>\n",
       "      <td>240928</td>\n",
       "      <td>79.24</td>\n",
       "      <td>3.7</td>\n",
       "      <td>59.26</td>\n",
       "    </tr>\n",
       "    <tr>\n",
       "      <th>1</th>\n",
       "      <td>Maharashtra</td>\n",
       "      <td>58243056</td>\n",
       "      <td>54131277</td>\n",
       "      <td>307713</td>\n",
       "      <td>89.82</td>\n",
       "      <td>1.9</td>\n",
       "      <td>75.48</td>\n",
       "    </tr>\n",
       "    <tr>\n",
       "      <th>2</th>\n",
       "      <td>Bihar</td>\n",
       "      <td>54278157</td>\n",
       "      <td>49821295</td>\n",
       "      <td>94163</td>\n",
       "      <td>73.39</td>\n",
       "      <td>3.9</td>\n",
       "      <td>53.33</td>\n",
       "    </tr>\n",
       "    <tr>\n",
       "      <th>3</th>\n",
       "      <td>West Bengal</td>\n",
       "      <td>46809027</td>\n",
       "      <td>44467088</td>\n",
       "      <td>88752</td>\n",
       "      <td>82.67</td>\n",
       "      <td>1.9</td>\n",
       "      <td>71.16</td>\n",
       "    </tr>\n",
       "    <tr>\n",
       "      <th>4</th>\n",
       "      <td>Madhya Pradesh</td>\n",
       "      <td>37612306</td>\n",
       "      <td>35014503</td>\n",
       "      <td>308245</td>\n",
       "      <td>80.53</td>\n",
       "      <td>3.3</td>\n",
       "      <td>60.02</td>\n",
       "    </tr>\n",
       "  </tbody>\n",
       "</table>\n",
       "</div>"
      ],
      "text/plain": [
       "         State/UT  Male Population  Female Population  Area (km2)  \\\n",
       "0   Uttar Pradesh        104480510           95331831      240928   \n",
       "1     Maharashtra         58243056           54131277      307713   \n",
       "2           Bihar         54278157           49821295       94163   \n",
       "3     West Bengal         46809027           44467088       88752   \n",
       "4  Madhya Pradesh         37612306           35014503      308245   \n",
       "\n",
       "   Male Literacy (%)  Fertility Rate  Female Literacy (%)  \n",
       "0              79.24             3.7                59.26  \n",
       "1              89.82             1.9                75.48  \n",
       "2              73.39             3.9                53.33  \n",
       "3              82.67             1.9                71.16  \n",
       "4              80.53             3.3                60.02  "
      ]
     },
     "execution_count": 3,
     "metadata": {},
     "output_type": "execute_result"
    }
   ],
   "source": [
    "# relative path to file\n",
    "filename = './data/india.csv'\n",
    "\n",
    "# read csv file\n",
    "df = pd.read_csv(filename)\n",
    "\n",
    "# show first five rows\n",
    "df.head()"
   ]
  },
  {
   "attachments": {},
   "cell_type": "markdown",
   "metadata": {},
   "source": [
    "---\n",
    "#### 3.1.2 Example: `india_woh.csv`\n",
    "\n",
    "Similar to `india.csv`, but without header information. The code in the following cell interprets the first row of data as the header:"
   ]
  },
  {
   "cell_type": "code",
   "execution_count": 5,
   "metadata": {},
   "outputs": [
    {
     "data": {
      "text/html": [
       "<div>\n",
       "<style scoped>\n",
       "    .dataframe tbody tr th:only-of-type {\n",
       "        vertical-align: middle;\n",
       "    }\n",
       "\n",
       "    .dataframe tbody tr th {\n",
       "        vertical-align: top;\n",
       "    }\n",
       "\n",
       "    .dataframe thead th {\n",
       "        text-align: right;\n",
       "    }\n",
       "</style>\n",
       "<table border=\"1\" class=\"dataframe\">\n",
       "  <thead>\n",
       "    <tr style=\"text-align: right;\">\n",
       "      <th></th>\n",
       "      <th>Uttar Pradesh</th>\n",
       "      <th>104480510</th>\n",
       "      <th>95331831</th>\n",
       "      <th>240928</th>\n",
       "      <th>79.24</th>\n",
       "      <th>3.7</th>\n",
       "      <th>59.26</th>\n",
       "    </tr>\n",
       "  </thead>\n",
       "  <tbody>\n",
       "    <tr>\n",
       "      <th>0</th>\n",
       "      <td>Maharashtra</td>\n",
       "      <td>58243056</td>\n",
       "      <td>54131277</td>\n",
       "      <td>307713</td>\n",
       "      <td>89.82</td>\n",
       "      <td>1.9</td>\n",
       "      <td>75.48</td>\n",
       "    </tr>\n",
       "    <tr>\n",
       "      <th>1</th>\n",
       "      <td>Bihar</td>\n",
       "      <td>54278157</td>\n",
       "      <td>49821295</td>\n",
       "      <td>94163</td>\n",
       "      <td>73.39</td>\n",
       "      <td>3.9</td>\n",
       "      <td>53.33</td>\n",
       "    </tr>\n",
       "    <tr>\n",
       "      <th>2</th>\n",
       "      <td>West Bengal</td>\n",
       "      <td>46809027</td>\n",
       "      <td>44467088</td>\n",
       "      <td>88752</td>\n",
       "      <td>82.67</td>\n",
       "      <td>1.9</td>\n",
       "      <td>71.16</td>\n",
       "    </tr>\n",
       "    <tr>\n",
       "      <th>3</th>\n",
       "      <td>Madhya Pradesh</td>\n",
       "      <td>37612306</td>\n",
       "      <td>35014503</td>\n",
       "      <td>308245</td>\n",
       "      <td>80.53</td>\n",
       "      <td>3.3</td>\n",
       "      <td>60.02</td>\n",
       "    </tr>\n",
       "    <tr>\n",
       "      <th>4</th>\n",
       "      <td>Tamil Nadu</td>\n",
       "      <td>36137975</td>\n",
       "      <td>36009055</td>\n",
       "      <td>130058</td>\n",
       "      <td>86.81</td>\n",
       "      <td>1.7</td>\n",
       "      <td>73.86</td>\n",
       "    </tr>\n",
       "  </tbody>\n",
       "</table>\n",
       "</div>"
      ],
      "text/plain": [
       "    Uttar Pradesh  104480510  95331831  240928  79.24  3.7  59.26\n",
       "0     Maharashtra   58243056  54131277  307713  89.82  1.9  75.48\n",
       "1           Bihar   54278157  49821295   94163  73.39  3.9  53.33\n",
       "2     West Bengal   46809027  44467088   88752  82.67  1.9  71.16\n",
       "3  Madhya Pradesh   37612306  35014503  308245  80.53  3.3  60.02\n",
       "4      Tamil Nadu   36137975  36009055  130058  86.81  1.7  73.86"
      ]
     },
     "execution_count": 5,
     "metadata": {},
     "output_type": "execute_result"
    }
   ],
   "source": [
    "filename = 'data/india_woh.csv'\n",
    "df = pd.read_csv(filename)\n",
    "df.head()"
   ]
  },
  {
   "attachments": {},
   "cell_type": "markdown",
   "metadata": {},
   "source": [
    "Fix this issue by passing `header=None`:"
   ]
  },
  {
   "cell_type": "code",
   "execution_count": 6,
   "metadata": {},
   "outputs": [
    {
     "data": {
      "text/html": [
       "<div>\n",
       "<style scoped>\n",
       "    .dataframe tbody tr th:only-of-type {\n",
       "        vertical-align: middle;\n",
       "    }\n",
       "\n",
       "    .dataframe tbody tr th {\n",
       "        vertical-align: top;\n",
       "    }\n",
       "\n",
       "    .dataframe thead th {\n",
       "        text-align: right;\n",
       "    }\n",
       "</style>\n",
       "<table border=\"1\" class=\"dataframe\">\n",
       "  <thead>\n",
       "    <tr style=\"text-align: right;\">\n",
       "      <th></th>\n",
       "      <th>0</th>\n",
       "      <th>1</th>\n",
       "      <th>2</th>\n",
       "      <th>3</th>\n",
       "      <th>4</th>\n",
       "      <th>5</th>\n",
       "      <th>6</th>\n",
       "    </tr>\n",
       "  </thead>\n",
       "  <tbody>\n",
       "    <tr>\n",
       "      <th>0</th>\n",
       "      <td>Uttar Pradesh</td>\n",
       "      <td>104480510</td>\n",
       "      <td>95331831</td>\n",
       "      <td>240928</td>\n",
       "      <td>79.24</td>\n",
       "      <td>3.7</td>\n",
       "      <td>59.26</td>\n",
       "    </tr>\n",
       "    <tr>\n",
       "      <th>1</th>\n",
       "      <td>Maharashtra</td>\n",
       "      <td>58243056</td>\n",
       "      <td>54131277</td>\n",
       "      <td>307713</td>\n",
       "      <td>89.82</td>\n",
       "      <td>1.9</td>\n",
       "      <td>75.48</td>\n",
       "    </tr>\n",
       "    <tr>\n",
       "      <th>2</th>\n",
       "      <td>Bihar</td>\n",
       "      <td>54278157</td>\n",
       "      <td>49821295</td>\n",
       "      <td>94163</td>\n",
       "      <td>73.39</td>\n",
       "      <td>3.9</td>\n",
       "      <td>53.33</td>\n",
       "    </tr>\n",
       "    <tr>\n",
       "      <th>3</th>\n",
       "      <td>West Bengal</td>\n",
       "      <td>46809027</td>\n",
       "      <td>44467088</td>\n",
       "      <td>88752</td>\n",
       "      <td>82.67</td>\n",
       "      <td>1.9</td>\n",
       "      <td>71.16</td>\n",
       "    </tr>\n",
       "    <tr>\n",
       "      <th>4</th>\n",
       "      <td>Madhya Pradesh</td>\n",
       "      <td>37612306</td>\n",
       "      <td>35014503</td>\n",
       "      <td>308245</td>\n",
       "      <td>80.53</td>\n",
       "      <td>3.3</td>\n",
       "      <td>60.02</td>\n",
       "    </tr>\n",
       "  </tbody>\n",
       "</table>\n",
       "</div>"
      ],
      "text/plain": [
       "                0          1         2       3      4    5      6\n",
       "0   Uttar Pradesh  104480510  95331831  240928  79.24  3.7  59.26\n",
       "1     Maharashtra   58243056  54131277  307713  89.82  1.9  75.48\n",
       "2           Bihar   54278157  49821295   94163  73.39  3.9  53.33\n",
       "3     West Bengal   46809027  44467088   88752  82.67  1.9  71.16\n",
       "4  Madhya Pradesh   37612306  35014503  308245  80.53  3.3  60.02"
      ]
     },
     "execution_count": 6,
     "metadata": {},
     "output_type": "execute_result"
    }
   ],
   "source": [
    "filename = './data/india_woh.csv'\n",
    "df = pd.read_csv(filename, header=None)\n",
    "df.head()"
   ]
  },
  {
   "attachments": {},
   "cell_type": "markdown",
   "metadata": {},
   "source": [
    "---\n",
    "### 3.2 Customized Reading\n",
    "\n",
    "Often the form of the data is inconvenient for our purposes. Here, we customize reading the data in the following way: \n",
    "\n",
    "+ select subset of columns\n",
    "\n",
    "+ change column identifiers\n",
    "\n",
    "+ use the states of India as index"
   ]
  },
  {
   "cell_type": "code",
   "execution_count": 6,
   "metadata": {},
   "outputs": [
    {
     "data": {
      "text/html": [
       "<div>\n",
       "<style scoped>\n",
       "    .dataframe tbody tr th:only-of-type {\n",
       "        vertical-align: middle;\n",
       "    }\n",
       "\n",
       "    .dataframe tbody tr th {\n",
       "        vertical-align: top;\n",
       "    }\n",
       "\n",
       "    .dataframe thead th {\n",
       "        text-align: right;\n",
       "    }\n",
       "</style>\n",
       "<table border=\"1\" class=\"dataframe\">\n",
       "  <thead>\n",
       "    <tr style=\"text-align: right;\">\n",
       "      <th></th>\n",
       "      <th>m_literacy</th>\n",
       "      <th>fert_rate</th>\n",
       "      <th>f_literacy</th>\n",
       "    </tr>\n",
       "    <tr>\n",
       "      <th>state</th>\n",
       "      <th></th>\n",
       "      <th></th>\n",
       "      <th></th>\n",
       "    </tr>\n",
       "  </thead>\n",
       "  <tbody>\n",
       "    <tr>\n",
       "      <th>Uttar Pradesh</th>\n",
       "      <td>79.24</td>\n",
       "      <td>3.7</td>\n",
       "      <td>59.26</td>\n",
       "    </tr>\n",
       "    <tr>\n",
       "      <th>Maharashtra</th>\n",
       "      <td>89.82</td>\n",
       "      <td>1.9</td>\n",
       "      <td>75.48</td>\n",
       "    </tr>\n",
       "    <tr>\n",
       "      <th>Bihar</th>\n",
       "      <td>73.39</td>\n",
       "      <td>3.9</td>\n",
       "      <td>53.33</td>\n",
       "    </tr>\n",
       "    <tr>\n",
       "      <th>West Bengal</th>\n",
       "      <td>82.67</td>\n",
       "      <td>1.9</td>\n",
       "      <td>71.16</td>\n",
       "    </tr>\n",
       "    <tr>\n",
       "      <th>Madhya Pradesh</th>\n",
       "      <td>80.53</td>\n",
       "      <td>3.3</td>\n",
       "      <td>60.02</td>\n",
       "    </tr>\n",
       "  </tbody>\n",
       "</table>\n",
       "</div>"
      ],
      "text/plain": [
       "                m_literacy  fert_rate  f_literacy\n",
       "state                                            \n",
       "Uttar Pradesh        79.24        3.7       59.26\n",
       "Maharashtra          89.82        1.9       75.48\n",
       "Bihar                73.39        3.9       53.33\n",
       "West Bengal          82.67        1.9       71.16\n",
       "Madhya Pradesh       80.53        3.3       60.02"
      ]
     },
     "execution_count": 6,
     "metadata": {},
     "output_type": "execute_result"
    }
   ],
   "source": [
    "# relative path to file\n",
    "filename = './data/india.csv'\n",
    "\n",
    "# new names for selected columns\n",
    "names=['state', 'm_literacy', 'fert_rate', 'f_literacy']\n",
    "\n",
    "# read data\n",
    "df = pd.read_csv(filename, \n",
    "                 header=0,                               # pass header=0 to be able to replace existing names\n",
    "                 names=names,                            # replace existing names\n",
    "                 index_col=0,                            # use column 0 as index\n",
    "                 usecols=[0, 4, 5, 6])                   # return subset of the columns\n",
    "\n",
    "# peek into data\n",
    "df.head()"
   ]
  },
  {
   "attachments": {},
   "cell_type": "markdown",
   "metadata": {},
   "source": [
    "**Note:** \n",
    "\n",
    "The `header` argument specifies the row(s) in the dataset to be used as column names.  The next row starts with the data.\n",
    "\n",
    "Default behavior is to infer the column names: if no column names are passed the behavior is identical to `header=0` and column names are inferred from the first line of the file.\n",
    "\n",
    "If column names are passed explicitly then the behavior is identical to `header=None`, which tells pandas that there are no column names in the dataset. In this case, pandas will assign default column names 0, 1, 2, ...\n",
    "\n",
    "Therefore, it is necessary to explicitly pass `header=0` to be able to replace existing names.\n"
   ]
  },
  {
   "attachments": {},
   "cell_type": "markdown",
   "metadata": {},
   "source": [
    "---\n",
    "### 3.3 Writing to a CSV File\n",
    "\n",
    "The Series and DataFrame objects have a method `to_csv` which allows storing the contents of the object as a CSV file."
   ]
  },
  {
   "attachments": {},
   "cell_type": "markdown",
   "metadata": {},
   "source": [
    "#### 3.3.1 Example 1\n",
    "\n",
    "If you store data in a CSV file using a DataFrame object without specifying index and column names, the resulting CSV file will contain default index and column labels."
   ]
  },
  {
   "cell_type": "code",
   "execution_count": 7,
   "metadata": {},
   "outputs": [],
   "source": [
    "data = np.arange(8).reshape(-1, 4)\n",
    "df = pd.DataFrame(data)\n",
    "df.to_csv('./data/eggs_01.csv')"
   ]
  },
  {
   "attachments": {},
   "cell_type": "markdown",
   "metadata": {},
   "source": [
    "#### 3.3.2 Example 2\n",
    "\n",
    "The code in the following cell saves data to a CSV file without including the index and column labels:"
   ]
  },
  {
   "cell_type": "code",
   "execution_count": 8,
   "metadata": {},
   "outputs": [],
   "source": [
    "df.to_csv('./data/eggs_02.csv', index=False, header=False)"
   ]
  },
  {
   "cell_type": "markdown",
   "metadata": {},
   "source": [
    "#### 3.3.3 Example 3\n",
    "\n",
    "The following code saves the data to a CSV file including the index and column labels:"
   ]
  },
  {
   "cell_type": "code",
   "execution_count": 9,
   "metadata": {},
   "outputs": [],
   "source": [
    "data = {\n",
    "        'name' : ['bob', 'ann', 'cat'],\n",
    "        'age'  : [20, 21, 22],\n",
    "        'program' : ['math', 'art', 'physics'] \n",
    "        }\n",
    "df = pd.DataFrame(data, index=[317, 312, 310])\n",
    "df.to_csv('./data/students.csv')"
   ]
  },
  {
   "cell_type": "code",
   "execution_count": null,
   "metadata": {},
   "outputs": [],
   "source": []
  }
 ],
 "metadata": {
  "kernelspec": {
   "display_name": "Python 3 (ipykernel)",
   "language": "python",
   "name": "python3"
  },
  "language_info": {
   "codemirror_mode": {
    "name": "ipython",
    "version": 3
   },
   "file_extension": ".py",
   "mimetype": "text/x-python",
   "name": "python",
   "nbconvert_exporter": "python",
   "pygments_lexer": "ipython3",
   "version": "3.11.5"
  }
 },
 "nbformat": 4,
 "nbformat_minor": 4
}
