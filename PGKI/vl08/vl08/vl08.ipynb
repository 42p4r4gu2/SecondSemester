{
 "cells": [
  {
   "cell_type": "markdown",
   "id": "28b615ee",
   "metadata": {},
   "source": [
    "# <a id='toc1_'></a>[AI Programming - Lecture 8](#toc0_)"
   ]
  },
  {
   "cell_type": "markdown",
   "id": "4ae72ae2",
   "metadata": {},
   "source": [
    "---\n",
    "### Content\n",
    "\n",
    "1. [Dictionaries](#toc1_1_)  \n",
    "\n",
    "2. [Function Parameters](#toc1_2_) \n",
    "\n",
    "3. [List Comprehension](#toc1_4_)    \n",
    "\n",
    "4. [Lambda Expressions](#toc1_5_)    \n",
    "\n"
   ]
  },
  {
   "cell_type": "markdown",
   "metadata": {},
   "source": [
    "---\n",
    "---\n",
    "## <a id='toc1_1_'></a>[Dictionaries](#toc0_)\n",
    "\n",
    "---\n",
    "### What are Dictionaries?\n",
    "\n",
    "+ A **dictionary** is a reference book containing words (key) and their meanings (value)\n",
    "\n",
    "+ An **English-German dictionary** is a reference book containing English words (key) and their German translations (value)\n",
    "\n",
    "+ We can generalize this idea to arbitrary **key-value pairs** \n",
    "\n",
    "+ A **key-value pairs** is a unique name (key) that identifies the value part of the pair\n",
    "\n",
    "<br>\n",
    "\n",
    "<img src=\"figs/dict.png\" alt=\"Image\" width=\"700\" style=\"display: block; margin: auto;\"/>\n",
    "\n",
    "<br>\n",
    "\n",
    "##### Example:"
   ]
  },
  {
   "cell_type": "code",
   "execution_count": null,
   "id": "925211d2",
   "metadata": {},
   "outputs": [],
   "source": [
    "phone = {'ann' : 110, 'bob' : 911, 'cat' : 112, 'dan' : 999}\n",
    "print('phone  : ', phone)"
   ]
  },
  {
   "cell_type": "markdown",
   "id": "2f5d0a83",
   "metadata": {},
   "source": [
    "##### Components of a Dictionary\n",
    "\n",
    "+ key-value pairs: separated by commas and enclosed in braces\n",
    "\n",
    "+ colon `:` separates each key from its value \n",
    "\n",
    "+ keys can be any immutable objects\n",
    "\n",
    "+ values can be any objects\n",
    "\n",
    "\n",
    "##### Properties of a Dictionary\n",
    "\n",
    "+ mutable\n",
    "\n",
    "+ iterable\n",
    "\n",
    "+ type: `dict`\n",
    "\n",
    "+ constructor: `dict( **kwargs )`\n",
    "\n"
   ]
  },
  {
   "cell_type": "markdown",
   "metadata": {},
   "source": [
    "---\n",
    "### Creating Dictionaries\n",
    "\n",
    "#### Variants"
   ]
  },
  {
   "cell_type": "code",
   "execution_count": null,
   "id": "5f61d531",
   "metadata": {},
   "outputs": [],
   "source": [
    "# empty\n",
    "empty = dict()\n",
    "\n",
    "# variant 1\n",
    "phone = {'ann' : 110, 'bob' : 911, 'cat' : 112, 'dan' : 999}\n",
    "\n",
    "# variant 2\n",
    "month = dict(((1, 'Jan'), (2, 'Feb'), (3, 'Mar')))\n",
    "\n",
    "# variant 3\n",
    "mass = dict(Mercury=3.3e23, Venus=4.8e24, Earth=6.0e24)\n",
    "\n",
    "# output\n",
    "print('empty  : ', empty)\n",
    "print('phone  : ', phone)\n",
    "print('month  : ', month)\n",
    "print('mass   : ', mass)"
   ]
  },
  {
   "cell_type": "markdown",
   "id": "bc685dc5",
   "metadata": {},
   "source": [
    "#### Examples"
   ]
  },
  {
   "cell_type": "code",
   "execution_count": null,
   "id": "5ecee51f",
   "metadata": {},
   "outputs": [],
   "source": [
    "# nested\n",
    "person = {\n",
    "    1: {'name': 'ann', 'age': '23'}, \n",
    "    2: {'name': 'bob', 'age': '21'}\n",
    "}\n",
    "\n",
    "# keys and values of different types\n",
    "spam = {\n",
    "    'eggs' : 1, \n",
    "    (1, 2) : 'ham', \n",
    "    1.5 : [1, 'a']\n",
    "}\n",
    "\n",
    "# output\n",
    "print('person : ', person)\n",
    "print('spam   : ', spam)"
   ]
  },
  {
   "attachments": {},
   "cell_type": "markdown",
   "id": "4e304a68",
   "metadata": {},
   "source": [
    "Keys in a dictionary are unique. What happens if we reassign a new value to an existing key?"
   ]
  },
  {
   "cell_type": "code",
   "execution_count": null,
   "id": "40649c7e",
   "metadata": {},
   "outputs": [],
   "source": [
    "# key 'bob' occurs twice with different values\n",
    "phone = {'ann' : 110, 'bob' : 991, 'cat' : 112, 'bob' : 999}\n",
    "print(phone)"
   ]
  },
  {
   "cell_type": "markdown",
   "id": "9f209252",
   "metadata": {},
   "source": [
    "+ Only the most recently assigned value of a key is retained.\n",
    "\n",
    "+ Changing a key's value does not alter its insertion order.\n",
    "\n",
    "+ Insertion order is preserved in dictionaries (since Python 3.6)."
   ]
  },
  {
   "cell_type": "markdown",
   "metadata": {},
   "source": [
    "---\n",
    "### Indexing\n",
    "\n",
    "##### Accessing the values of a dictionary"
   ]
  },
  {
   "cell_type": "code",
   "execution_count": null,
   "id": "dde71d1e",
   "metadata": {},
   "outputs": [],
   "source": [
    "phone = {'ann' : 110, 'bob' : 911, 'cat' : 113, 'dan' : 999}\n",
    "print(phone['cat'])\n",
    "\n",
    "name = 'bob'\n",
    "print(phone[name])"
   ]
  },
  {
   "attachments": {},
   "cell_type": "markdown",
   "id": "0280f07b",
   "metadata": {},
   "source": [
    "+ **Sequence indices:** for strings, lists, tuples, etc.,indices are integers (0, 1, 2, ...)\n",
    "\n",
    "+ **Dictionary indices:** the keys of a dictionary serve as its indices\n",
    "\n",
    "+ **Simplicity:** dictionaries are often simpler to use, maintain, and modify than sequence types"
   ]
  },
  {
   "cell_type": "code",
   "execution_count": null,
   "id": "99591962",
   "metadata": {},
   "outputs": [],
   "source": [
    "# maintaining contacts without dictionaries\n",
    "contacts = ['ann', 'bob', 'cat', 'dan']\n",
    "numbers = [110, 911, 113, 999]\n",
    "\n",
    "# maintaining contacts with dictionaries\n",
    "phone = {'ann' : 110, 'bob' : 911, 'cat' : 113, 'dan' : 999}\n",
    "\n",
    "# accessing the number of bob using lists\n",
    "bobs_number_v0 = numbers[1]\n",
    "bobs_number_v1 = numbers[contacts.index('bob')]\n",
    "\n",
    "# accessing the number of bob using dictionaries\n",
    "bobs_number_v2 = phone['bob']\n",
    "\n",
    "# output\n",
    "print(bobs_number_v0, bobs_number_v1, bobs_number_v2)"
   ]
  },
  {
   "cell_type": "markdown",
   "metadata": {},
   "source": [
    "##### Assigning values to keys"
   ]
  },
  {
   "cell_type": "code",
   "execution_count": null,
   "id": "d071810c",
   "metadata": {},
   "outputs": [],
   "source": [
    "phone = {'ann' : 110, 'bob' : 911, 'cat' : 113, 'dan' : 999}\n",
    "\n",
    "# assign new value for key 'bob'\n",
    "phone['bob'] = 999\n",
    "\n",
    "# assign value to new key 'eve'\n",
    "phone['eve'] = 111\n",
    "print(phone)"
   ]
  },
  {
   "cell_type": "markdown",
   "metadata": {},
   "source": [
    "##### Method get()\n",
    "\n",
    "Indexing a dictionary with a non-existing key raises an error."
   ]
  },
  {
   "cell_type": "code",
   "execution_count": null,
   "id": "0adbeee1",
   "metadata": {},
   "outputs": [],
   "source": [
    "# KeyError\n",
    "# phone['pat']"
   ]
  },
  {
   "cell_type": "code",
   "execution_count": null,
   "id": "9a269786",
   "metadata": {},
   "outputs": [],
   "source": [
    "num_pat = phone.get('pat')\n",
    "print(num_pat)\n",
    "\n",
    "num_pat = phone.get('pat', -1)\n",
    "print(num_pat)"
   ]
  },
  {
   "cell_type": "markdown",
   "id": "a4ced833",
   "metadata": {},
   "source": [
    "+ Method `get()` retreives the value of the speecified key if it exists in the dictionary\n",
    "\n",
    "+ If the key does not exist, the method returns `None` or a default value specified as an optinonal second argument"
   ]
  },
  {
   "cell_type": "markdown",
   "metadata": {},
   "source": [
    "---\n",
    "### Methods `keys(), values(), items()`\n",
    "\n",
    "\n",
    "+ The `keys()` method returns a view of the keys\n",
    "\n",
    "+ The `values()` method returns a view of the values \n",
    "\n",
    "+ The `items()` method returns a view of the key-value pairs\n"
   ]
  },
  {
   "cell_type": "code",
   "execution_count": null,
   "id": "9ffd3f59",
   "metadata": {},
   "outputs": [],
   "source": [
    "phone = {'ann' : 110, 'bob' : 911, 'cat' : 113, 'dan' : 999}\n",
    "\n",
    "keys = phone.keys()\n",
    "values = phone.values()\n",
    "items = phone.items()\n",
    "\n",
    "print('keys   :', keys)\n",
    "print('values :', values)\n",
    "print('items  :', items)"
   ]
  },
  {
   "attachments": {},
   "cell_type": "markdown",
   "id": "8b35daa0",
   "metadata": {},
   "source": [
    "What is the output of `values()` when different keys have the same value?"
   ]
  },
  {
   "cell_type": "code",
   "execution_count": null,
   "id": "539e8a50",
   "metadata": {},
   "outputs": [],
   "source": [
    "phone = {'ann' : 110, 'bob' : 110, 'cat' : 110, 'dan' : 110}\n",
    "print('values :', phone.values())"
   ]
  },
  {
   "cell_type": "markdown",
   "metadata": {},
   "source": [
    "##### View Objects"
   ]
  },
  {
   "cell_type": "code",
   "execution_count": null,
   "id": "ec5931a1",
   "metadata": {},
   "outputs": [],
   "source": [
    "# print types\n",
    "print(type(keys), type(values), type(items))"
   ]
  },
  {
   "cell_type": "markdown",
   "metadata": {},
   "source": [
    "Dictionary methods `keys()`, `values()`, and `items()` return view objects:\n",
    "\n",
    "+ view objects are not lists and cannot be indexed or assigned\n",
    "\n",
    "+ a list can be created from a view object by using the `list()`constructor\n",
    "\n",
    "+ view objects maintain a reference to the parent dictionary\n",
    "\n",
    "+ when the dictionary changes the view reflects these changes\n",
    "\n",
    "+ view objects are useful for looping\n",
    "\n",
    "##### Examples"
   ]
  },
  {
   "cell_type": "code",
   "execution_count": null,
   "id": "6d53fb0b",
   "metadata": {},
   "outputs": [],
   "source": [
    "# Creating a view object\n",
    "contacts = phone.keys()\n",
    "\n",
    "# Indexing raises an error\n",
    "# contacts[0]"
   ]
  },
  {
   "cell_type": "code",
   "execution_count": null,
   "id": "11c45d5e",
   "metadata": {},
   "outputs": [],
   "source": [
    "# Creating a list\n",
    "contact_list = list(contacts)\n",
    "print(contact_list)\n",
    "\n",
    "# modifying the list\n",
    "contact_list[0] = 'alf'      # does not alter contacts / phone   \n",
    "print(contact_list)\n",
    "\n",
    "# printing the original keys\n",
    "print(contacts)"
   ]
  },
  {
   "cell_type": "markdown",
   "id": "c52d5ea6",
   "metadata": {},
   "source": [
    "---\n",
    "### Iterating over Dictionaries\n",
    "\n",
    "+ Dictionaries are iterable\n",
    "+ Looping over dictionaries is different than looping over sequence types"
   ]
  },
  {
   "cell_type": "markdown",
   "metadata": {},
   "source": [
    "##### The for loop\n",
    "\n",
    "+ The for loop iterates over the keys of the dictionary\n",
    "+ The keys are retrieved in order of their insertion"
   ]
  },
  {
   "cell_type": "code",
   "execution_count": null,
   "id": "56c34a13",
   "metadata": {},
   "outputs": [],
   "source": [
    "phone = {'ann' : 110, 'bob' : 911, 'cat' : 113, 'dan' : 999}\n",
    "for key in phone:\n",
    "    print(key, phone[key])"
   ]
  },
  {
   "cell_type": "markdown",
   "metadata": {},
   "source": [
    "##### Looping over keys, values, and items"
   ]
  },
  {
   "cell_type": "code",
   "execution_count": null,
   "id": "5ac3db10",
   "metadata": {},
   "outputs": [],
   "source": [
    "# looping over keys\n",
    "print('looping over keys:')\n",
    "for contact in phone.keys():\n",
    "    print(contact)"
   ]
  },
  {
   "cell_type": "code",
   "execution_count": null,
   "id": "f3ae7434",
   "metadata": {},
   "outputs": [],
   "source": [
    "# looping over values\n",
    "print()\n",
    "print('looping over values:')\n",
    "for number in phone.values():\n",
    "    print(number)"
   ]
  },
  {
   "cell_type": "code",
   "execution_count": null,
   "id": "8eb37de0",
   "metadata": {},
   "outputs": [],
   "source": [
    "# looping over items (a)\n",
    "print()\n",
    "print('looping over items:')\n",
    "for contact, number in phone.items():\n",
    "    print(contact, number)"
   ]
  },
  {
   "cell_type": "code",
   "execution_count": null,
   "id": "2cde73a7",
   "metadata": {},
   "outputs": [],
   "source": [
    "# looping over items (b)\n",
    "print()\n",
    "print('looping over items:')\n",
    "for t in phone.items():\n",
    "    print(t)"
   ]
  },
  {
   "cell_type": "markdown",
   "id": "46682ab0",
   "metadata": {},
   "source": [
    "---\n",
    "---\n",
    "## <a id='toc1_2_'></a>[Function Parameters](#toc0_)"
   ]
  },
  {
   "cell_type": "markdown",
   "metadata": {},
   "source": [
    "### Recap: Variable Number of Positional Arguments\n",
    "\n",
    "\n",
    "**`*args`**\n",
    "\n",
    "+ is used to pass any number of  positional arguments to a function\n",
    "\n",
    "+ arguments are packed into a tuple\n",
    "\n",
    "+ tuple of arguments can be indexed and iterated\n"
   ]
  },
  {
   "cell_type": "code",
   "execution_count": null,
   "id": "10bd14ce",
   "metadata": {},
   "outputs": [],
   "source": [
    "def f(*args):\n",
    "    print('args as tuple :', args)\n",
    "    print('args as items :', *args)\n",
    "\n",
    "f(1, 2, 3, 4, 5)"
   ]
  },
  {
   "cell_type": "markdown",
   "metadata": {},
   "source": [
    "### Variable Number of Keyword Arguments\n",
    "\n",
    "**`**kwargs`**\n",
    "\n",
    "+ is used to pass any number of  keyword arguments to a function\n",
    "\n",
    "+ keyword arguments are packed into a dictionary\n",
    "\n",
    "+ dictionary of arguments can be indexed and iterated\n"
   ]
  },
  {
   "cell_type": "code",
   "execution_count": null,
   "id": "e6b8a165",
   "metadata": {},
   "outputs": [],
   "source": [
    "def f(**kwargs):\n",
    "    print('kwargs as dict :', kwargs)\n",
    "    print('kwargs as keys :', *kwargs)\n",
    "\n",
    "\n",
    "f(x=1, y=2, z=3)"
   ]
  },
  {
   "cell_type": "markdown",
   "id": "72dabd3f",
   "metadata": {},
   "source": [
    "---\n",
    "---\n",
    "## <a id='toc1_3_'></a>[Syntactic Sugar](#toc0_)\n",
    "\n",
    "**Syntactic sugar**\n",
    "\n",
    "+ syntax to make common tasks easier, shorter, and clearer to code\n",
    "\n",
    "+ can be removed without affecting functionality\n",
    "\n",
    "\n",
    "**Examples**\n",
    "\n",
    "+ compound assignment `a += 1` simplifies `a = a + 1`\n",
    "\n",
    "+ negative indexing `a[-1]` simplifies `a[len(a)-1]`\n",
    "\n",
    "**Content**\n",
    "\n",
    "+ 3.1. list comprehensions\n",
    "\n",
    "+ 3.2. lambda expression\n"
   ]
  },
  {
   "cell_type": "markdown",
   "id": "1229dbcb",
   "metadata": {},
   "source": [
    "---\n",
    "---\n",
    "\n",
    "## <a id='toc1_4_'></a>[List Comprehension](#toc0_)\n",
    "\n",
    "\n",
    "\n",
    "List comprehensions provide a concise and more readable way to create new lists by performing some operation on each item in an existing list or other iterable object. \n",
    "\n"
   ]
  },
  {
   "cell_type": "markdown",
   "id": "923b38fa",
   "metadata": {},
   "source": [
    "\n",
    "#### **Remark:** Syntactic Sugar\n",
    "\n",
    "**Syntactic sugar**\n",
    "\n",
    "+ syntax to make common tasks easier, shorter, and clearer to code\n",
    "\n",
    "+ can be removed without affecting functionality\n",
    "\n",
    "\n",
    "**Examples**\n",
    "\n",
    "+ compound assignment `a += 1` simplifies `a = a + 1`\n",
    "\n",
    "+ negative indexing `a[-1]` simplifies `a[len(a)-1]`\n",
    "\n",
    "**Content**\n",
    "\n",
    "+ list comprehensions\n",
    "\n",
    "+ lambda expressions\n"
   ]
  },
  {
   "cell_type": "markdown",
   "metadata": {},
   "source": [
    "---\n",
    "### Example:\n",
    "\n",
    "Create a list of squares from a given list of numbers"
   ]
  },
  {
   "cell_type": "code",
   "execution_count": null,
   "id": "3a4f26c1",
   "metadata": {},
   "outputs": [],
   "source": [
    "# given list to be squared\n",
    "x = range(7)\n",
    "print('x   :', list(x))"
   ]
  },
  {
   "cell_type": "code",
   "execution_count": null,
   "id": "2e11426b",
   "metadata": {},
   "outputs": [],
   "source": [
    "# standard syntax\n",
    "x_squared = []\n",
    "for value in x:\n",
    "    x_squared.append(value**2)\n",
    "\n",
    "# show result\n",
    "print('x^2 :', x_squared)"
   ]
  },
  {
   "cell_type": "code",
   "execution_count": null,
   "id": "0a2c49f4",
   "metadata": {},
   "outputs": [],
   "source": [
    "# list comprehension\n",
    "x_squared = [value**2 for value in x]\n",
    "\n",
    "# show result\n",
    "print('x^2 :', x_squared)"
   ]
  },
  {
   "cell_type": "markdown",
   "id": "b9132776",
   "metadata": {},
   "source": [
    "---\n",
    "### List Comprehension Syntax\n",
    "\n",
    "<br>\n",
    "\n",
    "```python\n",
    "    new_list = [expression for item in iterable]\n",
    "```\n",
    "\n",
    "<br>\n",
    "\n",
    "+ `new_list`  is the list returned by the list comprehension\n",
    "\n",
    "+ `expression` is evaluated for each `item` in the `iterable`\n",
    "\n",
    "+ `iterable` is the collection from which the new list is created\n",
    "\n",
    "<br>\n",
    "\n",
    "**Note:** list comprehension resemble set notation in math:\n",
    "\n",
    "```python\n",
    "    [x**2 for x in S] \n",
    "```\n",
    "\n",
    "corresponds to $\\left\\{x^2 : x \\in S \\right\\}$ which reads as *set of $x^2$ for all $x$ in $S$*"
   ]
  },
  {
   "cell_type": "markdown",
   "metadata": {},
   "source": [
    "---\n",
    "### List Comprehension Syntax with Conditional Filtering\n",
    "\n",
    "<br>\n",
    "\n",
    "```python\n",
    "    new_list = [expression for item in iterable if condition]\n",
    "```\n",
    "\n",
    "<br>\n",
    "\n",
    "+ The `if` condition filters the items from the `iterable` \n",
    "\n",
    "+ Only items for which the condition evaluates to `True` are included in the new list\n",
    "\n",
    "\n",
    "##### Example:"
   ]
  },
  {
   "cell_type": "code",
   "execution_count": null,
   "id": "9712223f",
   "metadata": {},
   "outputs": [],
   "source": [
    "x = range(7)\n",
    "z = [val**2 for val in x if val%2==0]\n",
    "\n",
    "print('x :', list(x))\n",
    "print('z :', z)"
   ]
  },
  {
   "cell_type": "markdown",
   "metadata": {},
   "source": [
    "---\n",
    "### List Comprehension Syntax with Conditional Expression\n",
    "\n",
    "<br>\n",
    "\n",
    "```python\n",
    "    new_list = [if_expr if condition else else_expr for item in iterable]\n",
    "```\n",
    "\n",
    "<br>\n",
    "\n",
    "+ The if-else conditional expression must appear before the for loop \n",
    "\n",
    "+ The if-else conditional expression determines the value to be included in the new list.\n",
    "\n",
    "\n",
    "##### Example:"
   ]
  },
  {
   "cell_type": "code",
   "execution_count": null,
   "id": "a7ddb344",
   "metadata": {},
   "outputs": [],
   "source": [
    "x = range(7)\n",
    "z = [val**2 if val%2==0 else 0 for val in x]\n",
    "\n",
    "print('x :', list(x))\n",
    "print('z :', z)"
   ]
  },
  {
   "cell_type": "markdown",
   "metadata": {},
   "source": [
    "---\n",
    "#### List Comprehension Syntax with Nested Loops\n",
    "\n",
    "<br>\n",
    "\n",
    "```python\n",
    "    new_list = [expression for item_1 in iterable_1 for item_2 in iterable_2]\n",
    "```\n",
    "\n",
    "<br>\n",
    "\n",
    "+ Equivalent to a nested `for` loop\n",
    "\n",
    "+ The left `for` loop is the outer loop\n",
    "\n",
    "+ The right `for` loop is the inner loop\n",
    "\n",
    "+ `expression` is evaluated for each `item_1` in `iterable_1` and each `item_2` in `iterable_2`\n",
    "\n",
    "\n",
    "##### Example:"
   ]
  },
  {
   "cell_type": "code",
   "execution_count": null,
   "id": "400ce90d",
   "metadata": {},
   "outputs": [],
   "source": [
    "x = [\n",
    "    [1, 2], \n",
    "    [3, 4],\n",
    "    [5, 6]\n",
    "    ]\n",
    "\n",
    "z = [val**2 for row in x for val in row]\n",
    "\n",
    "print('x :', x)\n",
    "print('z :', z)"
   ]
  },
  {
   "cell_type": "markdown",
   "id": "8e641e79",
   "metadata": {},
   "source": [
    "---\n",
    "### Dictionary Comprehension \n",
    "\n",
    "A list comprehension transforms an iterable object into a list using the [...]-syntax of lists. A dictionary comprehension transforms an iterable object into a dictionary using the {...}-syntax of dictionaries.\n",
    "\n",
    "The next example creates a dictionary with numbers as keys and their squares as values:"
   ]
  },
  {
   "cell_type": "code",
   "execution_count": null,
   "id": "de938aa4",
   "metadata": {},
   "outputs": [],
   "source": [
    "x = range(7)\n",
    "x_squared = { i : i**2 for i in x }\n",
    "print(x_squared)"
   ]
  },
  {
   "cell_type": "markdown",
   "id": "3e5e752c",
   "metadata": {},
   "source": [
    "Conditional filtering, conditional expression and nested loop can be applied to dictionary comprehensions in the same way as to list comprehensions.\n",
    "\n",
    "**Note:** 'Tuple comprehension' is also possible but behaves differently. It returns an generator object that can be iterated. This topic is out of scope."
   ]
  },
  {
   "cell_type": "markdown",
   "id": "8e2b02b2",
   "metadata": {},
   "source": [
    "---\n",
    "---\n",
    "## <a id='toc1_5_'></a>[Lambda Expressions](#toc0_)\n",
    "\n",
    "A lambda expression, also known as an anonymous function, is a way to create small functions. Lambda expressions allow you to define the function inline, making your code more concise and readable. They are often used as arguments to higher-order functions that take functions as inputs, such as the `map()`, `filter()`, and `sorted()` functions."
   ]
  },
  {
   "cell_type": "markdown",
   "id": "a8a68441",
   "metadata": {},
   "source": [
    "---\n",
    "### Syntax\n",
    "\n",
    "```python\n",
    "    lambda parameters : expression\n",
    "```\n",
    "\n",
    "\n",
    "+ keyword `lambda`\n",
    "\n",
    "+ parameter list\n",
    "\n",
    "+ colon `:` separates parameters from expression\n",
    "\n",
    "+ expression is evaluated and returned by function is call\n",
    "\n",
    "+ returns function object"
   ]
  },
  {
   "cell_type": "markdown",
   "metadata": {},
   "source": [
    "---\n",
    "### Lambda Expressions with a single Parameter\n",
    "\n",
    "A lambda function returns a function object which can be assigned to a variable. The variable can be used to call the lambda functions.  "
   ]
  },
  {
   "cell_type": "code",
   "execution_count": null,
   "id": "dfb707e7",
   "metadata": {},
   "outputs": [],
   "source": [
    "f = lambda x : x**2\n",
    "\n",
    "print(f(4))"
   ]
  },
  {
   "cell_type": "markdown",
   "metadata": {},
   "source": [
    "---\n",
    "### Lambda Expressions with two Parameters"
   ]
  },
  {
   "cell_type": "code",
   "execution_count": null,
   "id": "d6fd504e",
   "metadata": {},
   "outputs": [],
   "source": [
    "f = lambda x, y : (x + y)**2 \n",
    "\n",
    "print(f(2, 3))"
   ]
  },
  {
   "cell_type": "markdown",
   "metadata": {},
   "source": [
    "----\n",
    "### Lambda Expressions without Parameters"
   ]
  },
  {
   "cell_type": "code",
   "execution_count": null,
   "id": "7a9a6e54",
   "metadata": {},
   "outputs": [],
   "source": [
    "f = lambda : \"hi\"\n",
    "\n",
    "print(f())"
   ]
  },
  {
   "cell_type": "markdown",
   "metadata": {},
   "source": [
    "---\n",
    "### Immediatley invoking Lambda Expressions\n",
    "\n",
    "Lambda expressions can be used without being assigned to a variable. They can be called immediately after being defined. "
   ]
  },
  {
   "cell_type": "code",
   "execution_count": null,
   "id": "60bb51c1",
   "metadata": {},
   "outputs": [],
   "source": [
    "y = (lambda x : x**2)(10)\n",
    "\n",
    "print(y)"
   ]
  },
  {
   "cell_type": "code",
   "execution_count": null,
   "id": "d68897e6",
   "metadata": {},
   "outputs": [],
   "source": [
    "print((lambda x : x**2)(10))"
   ]
  },
  {
   "cell_type": "markdown",
   "metadata": {},
   "source": [
    "### Parameters\n",
    "\n",
    "Lambda expressions support the same types of parameters as functions defined using the `def` keyword, such as\n",
    "\n",
    "+ Positional parameters\n",
    "+ Keyword parameters\n",
    "+ ..."
   ]
  },
  {
   "cell_type": "code",
   "execution_count": null,
   "id": "a9d9a830",
   "metadata": {},
   "outputs": [],
   "source": [
    "# 3 positional, 0 keyword\n",
    "(lambda x, y, z: x + y + z)(1, 2, 3)"
   ]
  },
  {
   "cell_type": "code",
   "execution_count": null,
   "id": "9551d0c7",
   "metadata": {},
   "outputs": [],
   "source": [
    "# 2 positional, 1 keyword\n",
    "(lambda x, y, z=3: x + y + z)(1, 2)"
   ]
  },
  {
   "cell_type": "code",
   "execution_count": null,
   "id": "d1c736f1",
   "metadata": {},
   "outputs": [],
   "source": [
    "# keyword arguments\n",
    "(lambda x, y, z=3: x + y + z)(1, y=2)"
   ]
  },
  {
   "cell_type": "code",
   "execution_count": null,
   "id": "e0d32f10",
   "metadata": {},
   "outputs": [],
   "source": [
    "# variable number of positional arguments\n",
    "(lambda *args: sum(args))(1, 2, 3)"
   ]
  },
  {
   "cell_type": "code",
   "execution_count": null,
   "id": "3bea8ed9",
   "metadata": {},
   "outputs": [],
   "source": [
    "# variable number of keyword arguments\n",
    "(lambda **kwargs: sum(kwargs.values()))(one=1, two=2, three=3)"
   ]
  },
  {
   "cell_type": "markdown",
   "metadata": {},
   "source": [
    "### Example\n",
    "\n",
    "In Python, functions are first-class objects, which means they can be treated like any other object, such as an integer or a string. This allows us to store functions in data structures like lists. Using lambda expressions, we can create anonymous functions on-the-fly and add them to a list without having to define named functions beforehand."
   ]
  },
  {
   "cell_type": "code",
   "execution_count": null,
   "id": "0f228d04",
   "metadata": {},
   "outputs": [],
   "source": [
    "# construction without lambda expressions\n",
    "def const(x):\n",
    "    return 1\n",
    "\n",
    "def linear(x):\n",
    "    return x\n",
    "\n",
    "def square(x):\n",
    "    return x**2\n",
    "\n",
    "def cube(x):\n",
    "    return x**3\n",
    "\n",
    "funs = [const, linear, square, cube]\n",
    "\n",
    "for f in funs:\n",
    "    print(f(5))"
   ]
  },
  {
   "cell_type": "code",
   "execution_count": null,
   "id": "531b1611",
   "metadata": {},
   "outputs": [],
   "source": [
    "# construction with lambdas defined inline during list construction\n",
    "funs = [lambda x : 1,\n",
    "        lambda x : x,\n",
    "        lambda x : x**2,\n",
    "        lambda x : x**3]\n",
    "\n",
    "for f in funs:\n",
    "    print(f(5))"
   ]
  },
  {
   "cell_type": "markdown",
   "id": "7b7c8c5d",
   "metadata": {},
   "source": [
    "---\n",
    "### Using `map` and `filter` with Lambda Expressions\n",
    "\n",
    "In this section, we will introduce the combination of lambda expressions with the `map()` and `filter()` functions. "
   ]
  },
  {
   "cell_type": "markdown",
   "metadata": {},
   "source": [
    "\n",
    "#### The `map` Function\n",
    "\n",
    "The function\n",
    "\n",
    "```python\n",
    "    r = map(f, seq)\n",
    "```\n",
    "\n",
    "returns an iterator `r` that applies the function `f` to every item of sequence `seq`. Note that we need to explicitly cast the iterator `r` to a list by `list(r)` to access the elements of `r`.\n",
    "\n",
    "##### Example: `map()` with named functions"
   ]
  },
  {
   "cell_type": "code",
   "execution_count": null,
   "id": "20c5f02e",
   "metadata": {},
   "outputs": [],
   "source": [
    "def f(x):\n",
    "    return x**2\n",
    "\n",
    "x = range(7)\n",
    "y = map(f, x)\n",
    "\n",
    "print(list(y))"
   ]
  },
  {
   "cell_type": "markdown",
   "metadata": {},
   "source": [
    "##### Example: `map()` with lambdas"
   ]
  },
  {
   "cell_type": "code",
   "execution_count": null,
   "id": "c4fd9e86",
   "metadata": {},
   "outputs": [],
   "source": [
    "x = range(7)\n",
    "y = map(lambda x : x**2, x)\n",
    "\n",
    "print(list(y))"
   ]
  },
  {
   "cell_type": "markdown",
   "metadata": {},
   "source": [
    "#### The `filter()` Function\n",
    "\n",
    "The built-in function\n",
    "\n",
    "```python\n",
    "    r = filter(f, seq)\n",
    "```\n",
    "returns an iterator `r` from the elements of the sequence `seq` for which the function `f` returns `True`.\n",
    "\n",
    "##### Example:"
   ]
  },
  {
   "cell_type": "code",
   "execution_count": null,
   "id": "0a837048",
   "metadata": {},
   "outputs": [],
   "source": [
    "# filter the odd numbers from the sequence 0, ..., 9:\n",
    "y = filter(lambda x : x % 2 != 0, range(10))\n",
    "print(list(y))"
   ]
  },
  {
   "cell_type": "markdown",
   "metadata": {},
   "source": [
    "#### Lambdas and List Comprehensions\n",
    "\n",
    "The next two examples implement the map- and filter-function by using list comprehensions."
   ]
  },
  {
   "cell_type": "code",
   "execution_count": null,
   "id": "88a1ba07",
   "metadata": {},
   "outputs": [],
   "source": [
    "# map\n",
    "y = [(lambda x : x**2)(x) for x in range(6)]\n",
    "print(y)"
   ]
  },
  {
   "cell_type": "code",
   "execution_count": null,
   "id": "fb34857f",
   "metadata": {},
   "outputs": [],
   "source": [
    "# filter\n",
    "y = [x for x in range(6) if (lambda x : x % 2 != 0)(x)]\n",
    "print(y)"
   ]
  }
 ],
 "metadata": {
  "kernelspec": {
   "display_name": "Python 3 (ipykernel)",
   "language": "python",
   "name": "python3"
  },
  "language_info": {
   "codemirror_mode": {
    "name": "ipython",
    "version": 3
   },
   "file_extension": ".py",
   "mimetype": "text/x-python",
   "name": "python",
   "nbconvert_exporter": "python",
   "pygments_lexer": "ipython3",
   "version": "3.11.5"
  }
 },
 "nbformat": 4,
 "nbformat_minor": 5
}
