{
 "cells": [
  {
   "cell_type": "markdown",
   "id": "9fa83eb2-5d21-4008-bf9e-568af60939fc",
   "metadata": {},
   "source": [
    "### Parameters of a Function"
   ]
  },
  {
   "cell_type": "code",
   "execution_count": 6,
   "id": "7185ddd8-05fd-4e0d-863f-41498a145270",
   "metadata": {},
   "outputs": [],
   "source": [
    "def pos_or_kwd(x):\n",
    "    print(x)\n",
    "\n",
    "def pos_only(x, /):\n",
    "    print(x)\n",
    "\n",
    "def kwd_only(*, x):\n",
    "    print(x)\n",
    "\n",
    "def params(pos_only, /, pos_or_kwd, *, kwd_only):\n",
    "    print(pos_only, pos_or_kwd, kwd_only)"
   ]
  },
  {
   "cell_type": "markdown",
   "id": "8137554c-7ecb-4d8f-9c74-576f125f612a",
   "metadata": {},
   "source": [
    "### Position or Keyword Parameters"
   ]
  },
  {
   "cell_type": "code",
   "execution_count": 12,
   "id": "9c16ac82-b37f-4cdd-8221-ae213246c048",
   "metadata": {},
   "outputs": [
    {
     "name": "stdout",
     "output_type": "stream",
     "text": [
      "0\n"
     ]
    }
   ],
   "source": [
    "pos_or_kwd(0)"
   ]
  },
  {
   "cell_type": "code",
   "execution_count": 13,
   "id": "3082673c-7428-4116-9881-5df68f67db22",
   "metadata": {},
   "outputs": [
    {
     "name": "stdout",
     "output_type": "stream",
     "text": [
      "1\n"
     ]
    }
   ],
   "source": [
    "pos_or_kwd(x=1)"
   ]
  },
  {
   "cell_type": "markdown",
   "id": "212a2a33-9679-4181-a55a-6324b70a8883",
   "metadata": {},
   "source": [
    "### Position-Only Parameters"
   ]
  },
  {
   "cell_type": "code",
   "execution_count": 8,
   "id": "bb83af49-8c95-4e3c-9c0d-f4699eeac29f",
   "metadata": {},
   "outputs": [
    {
     "name": "stdout",
     "output_type": "stream",
     "text": [
      "0\n"
     ]
    }
   ],
   "source": [
    "pos_only(0)"
   ]
  },
  {
   "cell_type": "code",
   "execution_count": 11,
   "id": "ac36636e-707d-4182-90db-7b18007e275d",
   "metadata": {},
   "outputs": [
    {
     "ename": "TypeError",
     "evalue": "pos_only() got some positional-only arguments passed as keyword arguments: 'x'",
     "output_type": "error",
     "traceback": [
      "\u001b[0;31m---------------------------------------------------------------------------\u001b[0m",
      "\u001b[0;31mTypeError\u001b[0m                                 Traceback (most recent call last)",
      "\u001b[0;32m/var/folders/wp/v8v4fs3n0vs0ybt6k4pjy27w0000gn/T/ipykernel_79758/437175208.py\u001b[0m in \u001b[0;36m<module>\u001b[0;34m\u001b[0m\n\u001b[0;32m----> 1\u001b[0;31m \u001b[0mpos_only\u001b[0m\u001b[0;34m(\u001b[0m\u001b[0mx\u001b[0m\u001b[0;34m=\u001b[0m\u001b[0;36m1\u001b[0m\u001b[0;34m)\u001b[0m\u001b[0;34m\u001b[0m\u001b[0;34m\u001b[0m\u001b[0m\n\u001b[0m",
      "\u001b[0;31mTypeError\u001b[0m: pos_only() got some positional-only arguments passed as keyword arguments: 'x'"
     ]
    }
   ],
   "source": [
    "pos_only(x=1)"
   ]
  },
  {
   "cell_type": "markdown",
   "id": "40942b78-00ba-4571-8fd5-7234ea504a45",
   "metadata": {},
   "source": [
    "### Keyword-Only Parameters"
   ]
  },
  {
   "cell_type": "code",
   "execution_count": 14,
   "id": "1ca9faf6-74f7-412f-85f6-186f2c9d40ff",
   "metadata": {},
   "outputs": [
    {
     "ename": "TypeError",
     "evalue": "kwd_only() takes 0 positional arguments but 1 was given",
     "output_type": "error",
     "traceback": [
      "\u001b[0;31m---------------------------------------------------------------------------\u001b[0m",
      "\u001b[0;31mTypeError\u001b[0m                                 Traceback (most recent call last)",
      "\u001b[0;32m/var/folders/wp/v8v4fs3n0vs0ybt6k4pjy27w0000gn/T/ipykernel_79758/2897655035.py\u001b[0m in \u001b[0;36m<module>\u001b[0;34m\u001b[0m\n\u001b[0;32m----> 1\u001b[0;31m \u001b[0mkwd_only\u001b[0m\u001b[0;34m(\u001b[0m\u001b[0;36m0\u001b[0m\u001b[0;34m)\u001b[0m\u001b[0;34m\u001b[0m\u001b[0;34m\u001b[0m\u001b[0m\n\u001b[0m",
      "\u001b[0;31mTypeError\u001b[0m: kwd_only() takes 0 positional arguments but 1 was given"
     ]
    }
   ],
   "source": [
    "kwd_only(0)"
   ]
  },
  {
   "cell_type": "code",
   "execution_count": 15,
   "id": "058fdee0-ae19-445f-abf8-39efc8182034",
   "metadata": {},
   "outputs": [
    {
     "name": "stdout",
     "output_type": "stream",
     "text": [
      "1\n"
     ]
    }
   ],
   "source": [
    "kwd_only(x=1)"
   ]
  },
  {
   "cell_type": "markdown",
   "id": "69e592b8-6be3-40bb-88fd-92ffad42905c",
   "metadata": {},
   "source": [
    "### Combined Parameters"
   ]
  },
  {
   "cell_type": "code",
   "execution_count": 4,
   "id": "efe3b261-fe14-486b-bee6-b9489df10d7a",
   "metadata": {},
   "outputs": [
    {
     "name": "stdout",
     "output_type": "stream",
     "text": [
      "0 1 2\n"
     ]
    }
   ],
   "source": [
    "params(0, 1, kwd_only=2)"
   ]
  },
  {
   "cell_type": "code",
   "execution_count": 17,
   "id": "8fc62db9-1960-467a-8153-d7649f70632d",
   "metadata": {},
   "outputs": [
    {
     "name": "stdout",
     "output_type": "stream",
     "text": [
      "0 1 2\n"
     ]
    }
   ],
   "source": [
    "params(0, pos_or_kwd=1, kwd_only=2)"
   ]
  },
  {
   "cell_type": "code",
   "execution_count": 24,
   "id": "0cefa160-6ad7-4dbe-8139-85d1acb528b6",
   "metadata": {},
   "outputs": [
    {
     "name": "stdout",
     "output_type": "stream",
     "text": [
      "None\n"
     ]
    }
   ],
   "source": [
    "def f():\n",
    "    return\n",
    "\n",
    "x = f()\n",
    "print(x)"
   ]
  },
  {
   "cell_type": "code",
   "execution_count": null,
   "id": "e064dc65-db73-4386-8f04-4d4ee612484a",
   "metadata": {},
   "outputs": [],
   "source": []
  }
 ],
 "metadata": {
  "kernelspec": {
   "display_name": "Python 3 (ipykernel)",
   "language": "python",
   "name": "python3"
  },
  "language_info": {
   "codemirror_mode": {
    "name": "ipython",
    "version": 3
   },
   "file_extension": ".py",
   "mimetype": "text/x-python",
   "name": "python",
   "nbconvert_exporter": "python",
   "pygments_lexer": "ipython3",
   "version": "3.8.12"
  }
 },
 "nbformat": 4,
 "nbformat_minor": 5
}
