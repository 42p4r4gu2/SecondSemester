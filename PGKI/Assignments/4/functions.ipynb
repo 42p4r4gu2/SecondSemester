{
 "cells": [
  {
   "cell_type": "markdown",
   "metadata": {},
   "source": [
    "## Functions are Objects\n",
    "\n",
    "\n",
    "#### Functions assigned to Variables"
   ]
  },
  {
   "cell_type": "code",
   "execution_count": 1,
   "metadata": {},
   "outputs": [
    {
     "name": "stdout",
     "output_type": "stream",
     "text": [
      "6\n",
      "True\n"
     ]
    }
   ],
   "source": [
    "length = len\n",
    "n = length('python')\n",
    "print(n)\n",
    "print(id(length) == id(len))"
   ]
  },
  {
   "cell_type": "markdown",
   "metadata": {},
   "source": [
    "#### Functions as Arguments of another Function"
   ]
  },
  {
   "cell_type": "code",
   "execution_count": 2,
   "metadata": {},
   "outputs": [],
   "source": [
    "def integral(func, a, b, n=1000):\n",
    "    \"\"\"\n",
    "    Estimate the definite integral of func from a to b using the trapezoidal rule.\n",
    "\n",
    "    Parameters\n",
    "    ----------\n",
    "    func (function): The function to integrate.\n",
    "    a (int, float) : The lower bound of the integral.\n",
    "    b (int, float) : The upper bound of the integral.\n",
    "    n (int)        : The number of trapezoids to use (default 1000).\n",
    "    \n",
    "    Returns\n",
    "    -------\n",
    "    float : The estimated value of the definite integral.\n",
    "    \"\"\"\n",
    "    dx = (b - a) / n\n",
    "    area = 0\n",
    "    x = a\n",
    "    for _ in range(n):\n",
    "        area += dx * (func(x) + func(x + dx)) / 2\n",
    "        x += dx\n",
    "    return area"
   ]
  },
  {
   "cell_type": "code",
   "execution_count": 3,
   "metadata": {},
   "outputs": [
    {
     "name": "stdout",
     "output_type": "stream",
     "text": [
      "area sin =  -0.00\n",
      "area exp =   2.35\n",
      "area log =  14.03\n"
     ]
    }
   ],
   "source": [
    "import math as m\n",
    "\n",
    "area = integral(m.sin, 0, 2*m.pi)\n",
    "print(f'area sin = {area: 6.2f}')\n",
    "\n",
    "area = integral(m.exp, -1, 1)\n",
    "print(f'area exp = {area: 6.2f}')\n",
    "\n",
    "area = integral(m.log, 1, 10)\n",
    "print(f'area log = {area: 6.2f}')"
   ]
  },
  {
   "cell_type": "markdown",
   "metadata": {},
   "source": [
    "#### Functions as Items of a List"
   ]
  },
  {
   "cell_type": "code",
   "execution_count": 4,
   "metadata": {},
   "outputs": [
    {
     "name": "stdout",
     "output_type": "stream",
     "text": [
      "cos(0) = 1.0\n",
      "sin(0) = 0.0\n"
     ]
    }
   ],
   "source": [
    "import math as m\n",
    "\n",
    "f = [m.cos, m.sin]\n",
    "print('cos(0) =', f[0](0))\n",
    "print('sin(0) =', f[1](0))"
   ]
  }
 ],
 "metadata": {
  "kernelspec": {
   "display_name": "Python 3 (ipykernel)",
   "language": "python",
   "name": "python3"
  },
  "language_info": {
   "codemirror_mode": {
    "name": "ipython",
    "version": 3
   },
   "file_extension": ".py",
   "mimetype": "text/x-python",
   "name": "python",
   "nbconvert_exporter": "python",
   "pygments_lexer": "ipython3",
   "version": "3.8.13"
  }
 },
 "nbformat": 4,
 "nbformat_minor": 4
}
