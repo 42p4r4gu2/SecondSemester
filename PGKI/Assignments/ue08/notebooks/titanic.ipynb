{
 "cells": [
  {
   "cell_type": "code",
   "execution_count": null,
   "metadata": {},
   "outputs": [],
   "source": [
    "import numpy as np"
   ]
  },
  {
   "attachments": {},
   "cell_type": "markdown",
   "metadata": {},
   "source": [
    "# Titanic Dataset\n",
    "\n",
    "1. **S** survived (1 survived, 0 drowned)\n",
    "2. **C** passenger-class (1 upper, 2 middle, 3 lower)\n",
    "3. **G** gender (0 male, 1 female)\n",
    "4. **A** age\n",
    "5. **F** fare\n",
    "\n",
    "The first column `S` of the Titanic dataset represents the class label. "
   ]
  },
  {
   "attachments": {},
   "cell_type": "markdown",
   "metadata": {},
   "source": [
    "\n",
    "---\n",
    "### Load Data\n",
    "\n",
    "The next cell reads the Titanic dataset and stores the table in the 2D array `Z`. Rows represent examples and columns represent features. "
   ]
  },
  {
   "cell_type": "code",
   "execution_count": null,
   "metadata": {},
   "outputs": [],
   "source": [
    "file = './data/titanic.csv'\n",
    "Z = np.loadtxt(file, skiprows=1, delimiter=',')"
   ]
  },
  {
   "attachments": {},
   "cell_type": "markdown",
   "metadata": {},
   "source": [
    "---\n",
    "### Split Data\n",
    "\n",
    "Write a function that accepts two arguments: a dataset `Z` and a parameter `test_size`. The function randomly splits the dataset `Z` into two sets: a training set and a test set. The `test_size` parameter specifies the proportion of the data in `Z` that should be allocated to the test set. The function returns both the training and test sets."
   ]
  },
  {
   "cell_type": "code",
   "execution_count": 9,
   "metadata": {},
   "outputs": [],
   "source": [
    "def split(Z, test_size=0.2):\n",
    "    pass"
   ]
  },
  {
   "attachments": {},
   "cell_type": "markdown",
   "metadata": {},
   "source": [
    "---\n",
    "### Data Exploration\n",
    "\n",
    "Write a function `info` that takes a dataset as 2D array and the index of the class label as input and displays the following information:\n",
    "\n",
    "+ Number of examples\n",
    "+ Number of features (including class label)\n",
    "+ Numer of unique class labels\n",
    "+ Total Number of values\n",
    "+ Type of elements in the dataset\n",
    "+ Mean and standard deviation of each feature \n",
    "\n",
    "Additional parameters may be added if necessary."
   ]
  },
  {
   "cell_type": "code",
   "execution_count": null,
   "metadata": {},
   "outputs": [],
   "source": [
    "def info(X, label_index):\n",
    "    pass"
   ]
  },
  {
   "attachments": {},
   "cell_type": "markdown",
   "metadata": {},
   "source": [
    "---\n",
    "### Standardization\n",
    "\n",
    "Implement standardization to scale the feature matrix (excluding class labels) so that each column has a mean of zero and a standard deviation of one.\n",
    "\n",
    "**Note:** Estimate the mean and standard deviation using only the training feature matrix. Then, scale both the training and test feature matrices using the estimated values.\n"
   ]
  },
  {
   "cell_type": "code",
   "execution_count": null,
   "metadata": {},
   "outputs": [],
   "source": [
    "# code"
   ]
  },
  {
   "attachments": {},
   "cell_type": "markdown",
   "metadata": {},
   "source": [
    "---\n",
    "### Nearest-Neighbor Classifier\n",
    "\n",
    "Write a score function that returns the classification accuracy on the test set using the training set. "
   ]
  },
  {
   "cell_type": "code",
   "execution_count": null,
   "metadata": {},
   "outputs": [],
   "source": [
    "# code"
   ]
  },
  {
   "attachments": {},
   "cell_type": "markdown",
   "metadata": {},
   "source": [
    "---\n",
    "### Evaluation\n",
    "\n",
    "Evaluate the 1-NN classifier with and without data standardization.\n"
   ]
  },
  {
   "cell_type": "code",
   "execution_count": null,
   "metadata": {},
   "outputs": [],
   "source": [
    "# code"
   ]
  }
 ],
 "metadata": {
  "kernelspec": {
   "display_name": "Python 3",
   "language": "python",
   "name": "python3"
  },
  "language_info": {
   "codemirror_mode": {
    "name": "ipython",
    "version": 3
   },
   "file_extension": ".py",
   "mimetype": "text/x-python",
   "name": "python",
   "nbconvert_exporter": "python",
   "pygments_lexer": "ipython3",
   "version": "3.11.3"
  }
 },
 "nbformat": 4,
 "nbformat_minor": 4
}
