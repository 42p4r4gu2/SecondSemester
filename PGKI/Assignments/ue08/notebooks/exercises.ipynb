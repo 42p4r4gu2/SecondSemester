{
 "cells": [
  {
   "attachments": {},
   "cell_type": "markdown",
   "metadata": {},
   "source": [
    "## NumPy Arrays\n",
    "\n",
    "In the following, the term 'array' refers to `ndarray` objects. Avoid loops whenever possible. Let $a, b$ two numbers with $a \\leq b$. The colloquial phrases \n",
    "\n",
    "* from a to b\n",
    "* between a and b\n",
    "\n",
    "include **both** numbers $a$ and $b$. \n"
   ]
  },
  {
   "attachments": {},
   "cell_type": "markdown",
   "metadata": {},
   "source": [
    "### Exercise 0\n",
    "\n",
    "Import NumPy"
   ]
  },
  {
   "cell_type": "code",
   "execution_count": 3,
   "metadata": {},
   "outputs": [],
   "source": [
    "# code\n",
    "\n",
    "import numpy as np"
   ]
  },
  {
   "attachments": {},
   "cell_type": "markdown",
   "metadata": {},
   "source": [
    "---\n",
    "### Exercise 1\n",
    "Write a function that converts Python lists or tuples to NumPy arrays. Test for which Python lists / tuples the conversion works (e.g. nested lists and so on, lists consisting of items of different types, and so on)."
   ]
  },
  {
   "cell_type": "code",
   "execution_count": 4,
   "metadata": {},
   "outputs": [
    {
     "name": "stdout",
     "output_type": "stream",
     "text": [
      "[0, 1, 2, 3, 4, 5, 6, 7, 8, 9, 10, 11, 12, 13, 14, 15, 16, 17, 18, 19]\n",
      "[ 0  1  2  3  4  5  6  7  8  9 10 11 12 13 14 15 16 17 18 19]\n",
      "<class 'numpy.ndarray'>\n"
     ]
    }
   ],
   "source": [
    "# code\n",
    "\n",
    "test = [x for x in range(20)]\n",
    "print(test)\n",
    "test = np.array(test)\n",
    "print(test)\n",
    "print(type(test))"
   ]
  },
  {
   "attachments": {},
   "cell_type": "markdown",
   "metadata": {},
   "source": [
    "---\n",
    "### Exercise 2\n",
    "Create an array of all the even integers from 60 to 90."
   ]
  },
  {
   "cell_type": "code",
   "execution_count": 5,
   "metadata": {},
   "outputs": [
    {
     "name": "stdout",
     "output_type": "stream",
     "text": [
      "[60 61 62 63 64 65 66 67 68 69 70 71 72 73 74 75 76 77 78 79 80 81 82 83\n",
      " 84 85 86 87 88 89 90]\n"
     ]
    }
   ],
   "source": [
    "# code\n",
    "test = np.arange(60,91)\n",
    "print(test)"
   ]
  },
  {
   "attachments": {},
   "cell_type": "markdown",
   "metadata": {},
   "source": [
    "---\n",
    "### Exercise 3\n",
    "Create an array with values from 25 to 50 and print all values except the first and last. Use two statements, one for creating the array, the other for printing."
   ]
  },
  {
   "cell_type": "code",
   "execution_count": 6,
   "metadata": {},
   "outputs": [
    {
     "name": "stdout",
     "output_type": "stream",
     "text": [
      "[26 27 28 29 30 31 32 33 34 35 36 37 38 39 40 41 42 43 44 45 46 47 48 49]\n"
     ]
    }
   ],
   "source": [
    "# code\n",
    "test = np.arange(25,51)\n",
    "print(test[1:-1])"
   ]
  },
  {
   "attachments": {},
   "cell_type": "markdown",
   "metadata": {},
   "source": [
    "---\n",
    "### Exercise 4\n",
    "\n",
    "Create an array of length 10 with values evenly distributed between 15 and 60."
   ]
  },
  {
   "cell_type": "code",
   "execution_count": 7,
   "metadata": {},
   "outputs": [
    {
     "name": "stdout",
     "output_type": "stream",
     "text": [
      "[15. 20. 25. 30. 35. 40. 45. 50. 55. 60.]\n",
      "[10.         15.55555556 21.11111111 26.66666667 32.22222222 37.77777778\n",
      " 43.33333333 48.88888889 54.44444444 60.        ]\n"
     ]
    }
   ],
   "source": [
    "# code\n",
    "test = np.linspace(15,60,10)\n",
    "print(test)\n",
    "test = np.arange(10,61,50/9)\n",
    "print(test)"
   ]
  },
  {
   "attachments": {},
   "cell_type": "markdown",
   "metadata": {},
   "source": [
    "---\n",
    "### Exercise 5\n",
    "\n",
    "Create a $(5 \\times 5)$ identity matrix (see NumPy docs) and a $(5 \\times 5)$ matrix of ones. Add both matrices and print the sum."
   ]
  },
  {
   "cell_type": "code",
   "execution_count": 8,
   "metadata": {},
   "outputs": [
    {
     "name": "stdout",
     "output_type": "stream",
     "text": [
      "[[2. 1. 1. 1. 1.]\n",
      " [1. 2. 1. 1. 1.]\n",
      " [1. 1. 2. 1. 1.]\n",
      " [1. 1. 1. 2. 1.]\n",
      " [1. 1. 1. 1. 2.]]\n",
      "\n",
      "30.0\n"
     ]
    }
   ],
   "source": [
    "# code\n",
    "id_matrix = np.eye(5)\n",
    "one_matrix = np.ones((5,5))\n",
    "sum = id_matrix + one_matrix\n",
    "print(sum)\n",
    "print()\n",
    "print(np.sum(id_matrix) + np.sum(one_matrix))"
   ]
  },
  {
   "attachments": {},
   "cell_type": "markdown",
   "metadata": {},
   "source": [
    "---\n",
    "### Exercise 6\n",
    "\n",
    "Write a function that accepts two arrays of the same shape and returns their Euclidean distance. Test the correctness of your implementation by comparing it with the function `np.linalg.norm`."
   ]
  },
  {
   "cell_type": "code",
   "execution_count": 9,
   "metadata": {},
   "outputs": [
    {
     "name": "stdout",
     "output_type": "stream",
     "text": [
      "160.67392791337093\n",
      "160.67392791337093\n"
     ]
    }
   ],
   "source": [
    "# code\n",
    "import math\n",
    "def euclid_dist(X, Y):\n",
    "    if(X.shape != Y.shape):\n",
    "        print(\"Not the same shape\")\n",
    "        return\n",
    "    dist = math.sqrt(np.sum((X-Y)**2))\n",
    "    \n",
    "            \n",
    "    return dist\n",
    "    \n",
    "X = np.eye(5)\n",
    "Y = np.linspace(10,50, 25).reshape(5,5)\n",
    "\n",
    "print(euclid_dist(X=X, Y=Y))\n",
    "print(np.linalg.norm((X-Y)))\n",
    "    "
   ]
  },
  {
   "attachments": {},
   "cell_type": "markdown",
   "metadata": {},
   "source": [
    "---\n",
    "### Exercise 7\n",
    "\n",
    "The following figure illustrates the max pooling operation on a 2D array `X` (left) of shape $(4, 4)$ with a max-pool filter of `pool_size` $(2, 2)$. The output of max pooling is a 2D array (right) of shape $(2, 2)$ containing the maximum values of the corresponding blocks of the same color in `X`. \n",
    "\n",
    "<div style=\"text-align: left;\">\n",
    "<img src=\"./img/maxpool.png\" alt=\"Image\" width=\"300\" />\n",
    "</div>\n",
    "\n",
    "Write a max pooling function that takes as input a 2D array `X` and a tuple `pool_size`. The function divides the input `X` into non-overlapping blocks of size `pool_size` and returns a new matrix where each element is the maximum value of the corresponding block in the input matrix. Assume that `X` can be partitioned into non-overlapping blocks of the specified `pool_size`. \n",
    "\n",
    "\n",
    "Image source. [[>](https://computersciencewiki.org/index.php/File:MaxpoolSample2.png)]"
   ]
  },
  {
   "cell_type": "code",
   "execution_count": 21,
   "metadata": {},
   "outputs": [
    {
     "name": "stdout",
     "output_type": "stream",
     "text": [
      "0 0\n",
      "0 1\n",
      "0 2\n",
      "0 3\n",
      "0 4\n",
      "0 5\n",
      "0 6\n",
      "0 7\n",
      "1 0\n",
      "1 1\n",
      "1 2\n",
      "1 3\n",
      "1 4\n",
      "1 5\n",
      "1 6\n",
      "1 7\n",
      "2 0\n",
      "2 1\n",
      "2 2\n",
      "2 3\n",
      "2 4\n",
      "2 5\n",
      "2 6\n",
      "2 7\n",
      "3 0\n",
      "3 1\n",
      "3 2\n",
      "3 3\n",
      "3 4\n",
      "3 5\n",
      "3 6\n",
      "3 7\n",
      "4 0\n",
      "4 1\n",
      "4 2\n",
      "4 3\n",
      "4 4\n",
      "4 5\n",
      "4 6\n",
      "4 7\n",
      "5 0\n",
      "5 1\n",
      "5 2\n",
      "5 3\n",
      "5 4\n",
      "5 5\n",
      "5 6\n",
      "5 7\n",
      "6 0\n",
      "6 1\n",
      "6 2\n",
      "6 3\n",
      "6 4\n",
      "6 5\n",
      "6 6\n",
      "6 7\n",
      "7 0\n",
      "7 1\n",
      "7 2\n",
      "7 3\n",
      "7 4\n",
      "7 5\n",
      "7 6\n",
      "7 7\n",
      "None\n"
     ]
    }
   ],
   "source": [
    "# code\n",
    "\"\"\"\n",
    "def max_pooling(X, poolsize=(2,2)):\n",
    "    list = [0 for i in range(X.size//(poolsize[0] * poolsize[1]))]\n",
    "    for i in range(X.size//(poolsize[0] * poolsize[1])):\n",
    "        \"\"\"\n",
    "    \n",
    "original_matrix = np.array([12,20,30,0,8,12,2,0,34,70,37,4,112,100,25,12]).reshape(4,4)\n",
    "#print(max_pooling(original_matrix))"
   ]
  }
 ],
 "metadata": {
  "kernelspec": {
   "display_name": "Python 3",
   "language": "python",
   "name": "python3"
  },
  "language_info": {
   "codemirror_mode": {
    "name": "ipython",
    "version": 3
   },
   "file_extension": ".py",
   "mimetype": "text/x-python",
   "name": "python",
   "nbconvert_exporter": "python",
   "pygments_lexer": "ipython3",
   "version": "3.11.7"
  }
 },
 "nbformat": 4,
 "nbformat_minor": 4
}
