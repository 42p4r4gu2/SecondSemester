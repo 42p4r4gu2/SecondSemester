{
 "cells": [
  {
   "attachments": {},
   "cell_type": "markdown",
   "metadata": {},
   "source": [
    "## NumPy Arrays\n",
    "\n",
    "In the following, the term 'array' refers to `ndarray` objects. Avoid loops whenever possible. Let $a, b$ two numbers with $a \\leq b$. The colloquial phrases \n",
    "\n",
    "* from a to b\n",
    "* between a and b\n",
    "\n",
    "include **both** numbers $a$ and $b$. \n"
   ]
  },
  {
   "attachments": {},
   "cell_type": "markdown",
   "metadata": {},
   "source": [
    "### Exercise 0\n",
    "\n",
    "Import NumPy"
   ]
  },
  {
   "cell_type": "code",
   "execution_count": 2,
   "metadata": {},
   "outputs": [],
   "source": [
    "# code\n",
    "\n",
    "import numpy as np"
   ]
  },
  {
   "attachments": {},
   "cell_type": "markdown",
   "metadata": {},
   "source": [
    "---\n",
    "### Exercise 1\n",
    "Write a function that converts Python lists or tuples to NumPy arrays. Test for which Python lists / tuples the conversion works (e.g. nested lists and so on, lists consisting of items of different types, and so on)."
   ]
  },
  {
   "cell_type": "code",
   "execution_count": 7,
   "metadata": {},
   "outputs": [
    {
     "name": "stdout",
     "output_type": "stream",
     "text": [
      "[0, 1, 2, 3, 4, 5, 6, 7, 8, 9, 10, 11, 12, 13, 14, 15, 16, 17, 18, 19]\n",
      "[ 0  1  2  3  4  5  6  7  8  9 10 11 12 13 14 15 16 17 18 19]\n",
      "<class 'numpy.ndarray'>\n"
     ]
    }
   ],
   "source": [
    "# code\n",
    "\n",
    "test = [x for x in range(20)]\n",
    "print(test)\n",
    "test = np.array(test)\n",
    "print(test)\n",
    "print(type(test))"
   ]
  },
  {
   "attachments": {},
   "cell_type": "markdown",
   "metadata": {},
   "source": [
    "---\n",
    "### Exercise 2\n",
    "Create an array of all the even integers from 60 to 90."
   ]
  },
  {
   "cell_type": "code",
   "execution_count": 14,
   "metadata": {},
   "outputs": [
    {
     "name": "stdout",
     "output_type": "stream",
     "text": [
      "[60 61 62 63 64 65 66 67 68 69 70 71 72 73 74 75 76 77 78 79 80 81 82 83\n",
      " 84 85 86 87 88 89 90]\n"
     ]
    }
   ],
   "source": [
    "# code\n",
    "test = np.array(range(60,91))\n",
    "print(test)"
   ]
  },
  {
   "attachments": {},
   "cell_type": "markdown",
   "metadata": {},
   "source": [
    "---\n",
    "### Exercise 3\n",
    "Create an array with values from 25 to 50 and print all values except the first and last. Use two statements, one for creating the array, the other for printing."
   ]
  },
  {
   "cell_type": "code",
   "execution_count": 18,
   "metadata": {},
   "outputs": [
    {
     "name": "stdout",
     "output_type": "stream",
     "text": [
      "[]\n"
     ]
    }
   ],
   "source": [
    "# code\n",
    "test = np.array(range(25,51))\n",
    "print(test[1:test.size-1])"
   ]
  },
  {
   "attachments": {},
   "cell_type": "markdown",
   "metadata": {},
   "source": [
    "---\n",
    "### Exercise 4\n",
    "\n",
    "Create an array of length 10 with values evenly distributed between 15 and 60."
   ]
  },
  {
   "cell_type": "code",
   "execution_count": null,
   "metadata": {},
   "outputs": [],
   "source": [
    "# code\n"
   ]
  },
  {
   "attachments": {},
   "cell_type": "markdown",
   "metadata": {},
   "source": [
    "---\n",
    "### Exercise 5\n",
    "\n",
    "Create a $(5 \\times 5)$ identity matrix (see NumPy docs) and a $(5 \\times 5)$ matrix of ones. Add both matrices and print the sum."
   ]
  },
  {
   "cell_type": "code",
   "execution_count": null,
   "metadata": {},
   "outputs": [],
   "source": [
    "# code"
   ]
  },
  {
   "attachments": {},
   "cell_type": "markdown",
   "metadata": {},
   "source": [
    "---\n",
    "### Exercise 6\n",
    "\n",
    "Write a function that accepts two arrays of the same shape and returns their Euclidean distance. Test the correctness of your implementation by comparing it with the function `np.linalg.norm`."
   ]
  },
  {
   "cell_type": "code",
   "execution_count": null,
   "metadata": {},
   "outputs": [],
   "source": [
    "# code"
   ]
  },
  {
   "attachments": {},
   "cell_type": "markdown",
   "metadata": {},
   "source": [
    "---\n",
    "### Exercise 7\n",
    "\n",
    "The following figure illustrates the max pooling operation on a 2D array `X` (left) of shape $(4, 4)$ with a max-pool filter of `pool_size` $(2, 2)$. The output of max pooling is a 2D array (right) of shape $(2, 2)$ containing the maximum values of the corresponding blocks of the same color in `X`. \n",
    "\n",
    "<div style=\"text-align: left;\">\n",
    "<img src=\"./img/maxpool.png\" alt=\"Image\" width=\"300\" />\n",
    "</div>\n",
    "\n",
    "Write a max pooling function that takes as input a 2D array `X` and a tuple `pool_size`. The function divides the input `X` into non-overlapping blocks of size `pool_size` and returns a new matrix where each element is the maximum value of the corresponding block in the input matrix. Assume that `X` can be partitioned into non-overlapping blocks of the specified `pool_size`. \n",
    "\n",
    "\n",
    "Image source. [[>](https://computersciencewiki.org/index.php/File:MaxpoolSample2.png)]"
   ]
  },
  {
   "cell_type": "code",
   "execution_count": null,
   "metadata": {},
   "outputs": [],
   "source": [
    "# code"
   ]
  }
 ],
 "metadata": {
  "kernelspec": {
   "display_name": "Python 3",
   "language": "python",
   "name": "python3"
  },
  "language_info": {
   "codemirror_mode": {
    "name": "ipython",
    "version": 3
   },
   "file_extension": ".py",
   "mimetype": "text/x-python",
   "name": "python",
   "nbconvert_exporter": "python",
   "pygments_lexer": "ipython3",
   "version": "3.1.undefined"
  }
 },
 "nbformat": 4,
 "nbformat_minor": 4
}
