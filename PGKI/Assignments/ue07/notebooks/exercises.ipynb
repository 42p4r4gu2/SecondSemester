{
 "cells": [
  {
   "cell_type": "markdown",
   "metadata": {},
   "source": [
    "# Exercises\n",
    "\n",
    "1. [Dictionaries](#toc1_1_)    \n",
    "\n",
    "2. [List Comprehension](#toc1_2_)    \n",
    "\n",
    "3. [Dictionary Comprehension](#toc1_3_)    \n",
    "\n",
    "4. [Lambdas](#toc1_4_)    \n",
    "\n",
    "5. [Sorting with Lambdas](#toc1_5_)    \n",
    "\n",
    "\n"
   ]
  },
  {
   "cell_type": "markdown",
   "metadata": {},
   "source": [
    "---\n",
    "## <a id='toc1_1_'></a>[Dictionaries](#toc0_)"
   ]
  },
  {
   "cell_type": "markdown",
   "metadata": {},
   "source": [
    "---\n",
    "### Exercise 1\n",
    "\n",
    "Given are the three most populated cities in the world:\n",
    "\n",
    "1. Tokyo: 37.5 million\n",
    "\n",
    "2. Delhi: 29.4 million\n",
    "\n",
    "3. Shanghai: 26.3 million\n",
    "\n",
    "Create a (meaningful) dictionary of world city populations in three different ways."
   ]
  },
  {
   "cell_type": "code",
   "execution_count": 11,
   "metadata": {},
   "outputs": [
    {
     "name": "stdout",
     "output_type": "stream",
     "text": [
      "{'Tokyo': 37500000, 'Delhi': 29400000, 'Shanghai': 26300000}\n",
      "{'Tokyo': 37500000, 'Delhi': 29400000, 'Shanghai': 26300000}\n",
      "{'Tokyo': 37500000, 'Delhi': 29400000, 'Shanghai': 26300000}\n"
     ]
    }
   ],
   "source": [
    "# code\n",
    "\n",
    "pop = {\"Tokyo\" : 37_500_000, \"Delhi\" : 29_400_000, \"Shanghai\" : 26_300_000}\n",
    "print(pop)\n",
    "\n",
    "pop = dict(((\"Tokyo\", 37500000), (\"Delhi\", 29400000), (\"Shanghai\", 26300000)))\n",
    "print(pop)\n",
    "\n",
    "pop = dict(Tokyo = 37500000, Delhi = 29400000, Shanghai = 26300000)\n",
    "print(pop)"
   ]
  },
  {
   "cell_type": "markdown",
   "metadata": {},
   "source": [
    "---\n",
    "### Exercise 2\n",
    "\n",
    "Change the population of Tokyo to 37.1 million."
   ]
  },
  {
   "cell_type": "code",
   "execution_count": 9,
   "metadata": {},
   "outputs": [
    {
     "name": "stdout",
     "output_type": "stream",
     "text": [
      "{'Tokyo': 37100000, 'Delhi': 29400000, 'Shanghai': 26300000}\n"
     ]
    }
   ],
   "source": [
    "# code\n",
    "pop[\"Tokyo\"] = 37_100_000\n",
    "print(pop)"
   ]
  },
  {
   "cell_type": "markdown",
   "metadata": {},
   "source": [
    "---\n",
    "### Exercise 3\n",
    "\n",
    "Add Dhaka with 23.2 million to the dictionary"
   ]
  },
  {
   "cell_type": "code",
   "execution_count": 14,
   "metadata": {},
   "outputs": [
    {
     "name": "stdout",
     "output_type": "stream",
     "text": [
      "{'Tokyo': 37500000, 'Delhi': 29400000, 'Shanghai': 26300000, 'Dhaka': 23200000}\n"
     ]
    }
   ],
   "source": [
    "# code\n",
    "pop.update({\"Dhaka\" : 23200000})\n",
    "print(pop)"
   ]
  },
  {
   "cell_type": "markdown",
   "metadata": {},
   "source": [
    "---\n",
    "### Exercise 4\n",
    "\n",
    "1. Loop over the dictionary and print all cities\n",
    "\n",
    "2. Loop over the dictionary and print all populations\n",
    "\n",
    "3. Loop over the dictionary and print all cities together with their populations"
   ]
  },
  {
   "cell_type": "code",
   "execution_count": 22,
   "metadata": {},
   "outputs": [
    {
     "name": "stdout",
     "output_type": "stream",
     "text": [
      "Tokyo\n",
      "Delhi\n",
      "Shanghai\n",
      "Dhaka\n",
      "37500000\n",
      "29400000\n",
      "26300000\n",
      "23200000\n",
      "Tokyo 37500000\n",
      "Delhi 29400000\n",
      "Shanghai 26300000\n",
      "Dhaka 23200000\n"
     ]
    }
   ],
   "source": [
    "# code\n",
    "\n",
    "for cities in pop:\n",
    "    print(cities)\n",
    "\n",
    "for val in pop.values():\n",
    "    print(val)\n",
    "\n",
    "for key, val in pop.items():\n",
    "    print(key, val)"
   ]
  },
  {
   "cell_type": "markdown",
   "metadata": {},
   "source": [
    "### Exercise 5\n",
    "\n",
    "Write a function that takes a string as input and counts the number of occurrences of each word in the string. The function returns a dictionary that stores the word counts.\n",
    "\n",
    "**Example:** Given the input string \"the cat in the hat\", the function returns a dictionary with the following key-value pairs: \n",
    "\n",
    "```python\n",
    "    {'the': 2, 'cat': 1, 'in': 1, 'hat': 1}\n",
    "```"
   ]
  },
  {
   "cell_type": "code",
   "execution_count": 24,
   "metadata": {},
   "outputs": [
    {
     "name": "stdout",
     "output_type": "stream",
     "text": [
      "{'the': 2, 'cat': 1, 'in': 1, 'hat': 1}\n"
     ]
    }
   ],
   "source": [
    "# code\n",
    "\n",
    "s = \"the cat in the hat\"\n",
    "sliced = s.split(\" \")\n",
    "occ = dict()\n",
    "\n",
    "def count(string):\n",
    "    for word in string:\n",
    "        if occ.get(word) != None:\n",
    "            occ[word] += 1\n",
    "        else:\n",
    "            occ.update({word : 1})\n",
    "\n",
    "count(sliced)\n",
    "print(occ)"
   ]
  },
  {
   "cell_type": "markdown",
   "metadata": {},
   "source": [
    "---\n",
    "### Exercise 6: Phone Book\n",
    "\n",
    "Given is the following phone book \n",
    "\n",
    "```python\n",
    "    phone_book = {'ann':'110', 'bob':'991', 'cat':'112'}\n",
    "```\n",
    "\n",
    "Write a program that takes a query name as input from the user and returns the corresponding phone number. If the query name is not in the phone book, prompt the user to enter the phone number of the query name to update the phone book. Terminate the interaction by entering a space ' ' when prompted to enter a query name. When the user dialogue is complete, output the entire phone book.\n",
    "\n",
    "Use `str = input()` to receive and store the string object entered by the user.  \n",
    "\n",
    "**Example dialog:**\n",
    "\n",
    "        Enter name: (blank to quit)\n",
    "        bob\n",
    "        phone number of bob is 991\n",
    "        \n",
    "        Enter name: (blank to quit)\n",
    "        don\n",
    "        don is not listed.\n",
    "        Enter phone number:\n",
    "        0\n",
    "        Phone book updated\n",
    "        ..."
   ]
  },
  {
   "cell_type": "code",
   "execution_count": 28,
   "metadata": {},
   "outputs": [
    {
     "name": "stdout",
     "output_type": "stream",
     "text": [
      "Enter name: (blank to quit)\n",
      "asdf is not listes \n",
      "Enter phone number:\n",
      "Enter name: (blank to quit)\n",
      "phone number of asdf is 1234\n",
      "Enter name: (blank to quit)\n",
      "phone number of ann is 110\n",
      "Enter name: (blank to quit)\n"
     ]
    }
   ],
   "source": [
    "# code\n",
    "\n",
    "phone_book = {'ann':'110', 'bob':'991', 'cat':'112'}\n",
    "\n",
    "def func():\n",
    "    while(True):\n",
    "        print(\"Enter name: (blank to quit)\")\n",
    "        name = input()\n",
    "        if name == \"\":\n",
    "            return \n",
    "        if phone_book.get(name) != None:\n",
    "            print(\"phone number of\", name, \"is\", phone_book.get(name))\n",
    "        else:\n",
    "            print(name, \"is not listes \\nEnter phone number:\")\n",
    "            phone_book.update({name : input()})\n",
    "\n",
    "func()"
   ]
  },
  {
   "cell_type": "markdown",
   "metadata": {},
   "source": [
    "---\n",
    "### Exercise 7: Polynomials\n",
    "\n",
    "A polynomial of degree $n \\geq 0$ is a function of the form\n",
    "\n",
    "$$f(x)=a_0 + a_1x + a_2x^2 + \\cdots + a_nx^n,$$ \n",
    "\n",
    "with $a_n \\neq 0$. \n",
    "\n",
    "**Task**:\n",
    "Write two Python functions \n",
    "\n",
    "+ `f_list(a, x)`\n",
    "\n",
    "+ `f_dict(a, x)` \n",
    "\n",
    "that evaluate a polynomial defined by its coefficients `a` at point `x`. The first function `f_list` takes a list `a` of coefficients as input, while the second function `f_dict` takes a dictionary `a` of coefficients as input.\n",
    "\n",
    "Test both functions to evaluate the polynomial $1+2x^9$ at $x=0, 1, 2$. Which of both functions is more convenient to use when most coefficients $a_i$ are zero?"
   ]
  },
  {
   "cell_type": "code",
   "execution_count": 16,
   "metadata": {},
   "outputs": [
    {
     "name": "stdout",
     "output_type": "stream",
     "text": [
      "1025\n",
      "1025\n"
     ]
    }
   ],
   "source": [
    "# code\n",
    "\n",
    "f = lambda a, x, pwr : a * (x ** pwr) \n",
    "\n",
    "def f_list(a,x):\n",
    "    pwr = 0\n",
    "    result = 0\n",
    "    for elemtents in a:\n",
    "        if a != 0:\n",
    "            result += f(elemtents, x, pwr)\n",
    "        pwr += 1\n",
    "    print(result)\n",
    "    \n",
    "\n",
    "def f_dict(a,x):\n",
    "    result = 0\n",
    "    for pwr, coef in a.items():\n",
    "        if coef != 0:\n",
    "            result += f(coef, x, int(pwr))\n",
    "    print(result)\n",
    "\n",
    "list = [1,0,0,0,0,0,0,0,0,2]\n",
    "dict = {\"0\":1, \"1\":0, \"2\":0, \"3\":0, \"4\":0, \"5\":0, \"6\":0, \"7\":0, \"8\":0, \"9\":2}\n",
    "f_list(list,2)\n",
    "f_dict(dict, 2)"
   ]
  },
  {
   "cell_type": "markdown",
   "metadata": {},
   "source": [
    "---\n",
    "## <a id='toc1_2_'></a>[List Comprehension](#toc0_)\n",
    "\n",
    "Solve the following exercises using list comprehensions."
   ]
  },
  {
   "cell_type": "markdown",
   "metadata": {},
   "source": [
    "---\n",
    "### Exercise 8\n",
    "\n",
    "Create a list of numbers from 1 to 100 that are divisible by 17."
   ]
  },
  {
   "cell_type": "code",
   "execution_count": 18,
   "metadata": {},
   "outputs": [
    {
     "name": "stdout",
     "output_type": "stream",
     "text": [
      "[17, 34, 51, 68, 85]\n"
     ]
    }
   ],
   "source": [
    "# code\n",
    "list = [x for x in range(1,101) if x % 17 == 0]\n",
    "print(list)"
   ]
  },
  {
   "cell_type": "markdown",
   "metadata": {},
   "source": [
    "---\n",
    "### Exercise 9\n",
    "\n",
    "Create 10 random numbers from a standard normal distribution and round them to 2 decimal places. Then create a list of the indices of all positive random numbers\n",
    "\n",
    "The following example code shows how to generate a random number from a standard normal distribution and round it to 2 decimal places: \n",
    "\n",
    "```python\n",
    "    import random\n",
    "    x = random.gauss(0, 1)\n",
    "    x_rounded = round(x, 2)\n",
    "```"
   ]
  },
  {
   "cell_type": "code",
   "execution_count": 22,
   "metadata": {},
   "outputs": [
    {
     "name": "stdout",
     "output_type": "stream",
     "text": [
      "[0.28, 0.72, -0.28, -0.64, -0.07, -0.86, 1.23, -1.06, -1.09, 1.06]\n",
      "[0.28, 0.72, 1.23, 1.06]\n"
     ]
    }
   ],
   "source": [
    "# code\n",
    "\n",
    "import random\n",
    "\n",
    "list = [round(random.gauss(0,1),2) for i in range(10)]\n",
    "pos_list = [element for element in list if element > 0]\n",
    "\n",
    "print(list)\n",
    "print(pos_list)"
   ]
  },
  {
   "cell_type": "markdown",
   "metadata": {},
   "source": [
    "---\n",
    "### Exercise 10\n",
    "Find the intersection between two lists consisting of unique numbers.\n",
    "\n",
    "**Example:** The intersection of the lists\n",
    "\n",
    "```python\n",
    "    x = [1, 2, 3, 4, 5]\n",
    "    y = [2, 4, 6]\n",
    "````\n",
    "\n",
    "is the list `z = [2, 4]`."
   ]
  },
  {
   "cell_type": "code",
   "execution_count": 30,
   "metadata": {},
   "outputs": [
    {
     "name": "stdout",
     "output_type": "stream",
     "text": [
      "[2, 4]\n"
     ]
    }
   ],
   "source": [
    "# code\n",
    "\n",
    "x = [1,2,3,4,5]\n",
    "y = [2,4,6]\n",
    "intersec = [ely for elx in x for ely in y if elx == ely]\n",
    "print(intersec)"
   ]
  },
  {
   "cell_type": "markdown",
   "metadata": {},
   "source": [
    "---\n",
    "### Exercise 11\n",
    "\n",
    "Create a list of all numbers from 0 to 100 that contain a 7 as digit."
   ]
  },
  {
   "cell_type": "code",
   "execution_count": 34,
   "metadata": {},
   "outputs": [
    {
     "name": "stdout",
     "output_type": "stream",
     "text": [
      "[7, 17, 27, 37, 47, 57, 67, 70, 71, 72, 73, 74, 75, 76, 77, 78, 79, 87, 97]\n"
     ]
    }
   ],
   "source": [
    "# code\n",
    "\n",
    "list = [x*10 + y for x in range(10) for y in range(10) if x == 7 or y == 7]\n",
    "print(list)"
   ]
  },
  {
   "cell_type": "markdown",
   "metadata": {},
   "source": [
    "---\n",
    "## <a id='toc1_3_'></a>[Dictionary Comprehension](#toc0_)"
   ]
  },
  {
   "cell_type": "markdown",
   "metadata": {},
   "source": [
    "---\n",
    "### Exercise 12\n",
    "\n",
    "Given is the following dictionary:\n",
    "\n",
    "```python\n",
    "    x = {'a': 0, 'b': 1, 'c': 2, 'd' : 3, 'e': 4}\n",
    "```\n",
    "\n",
    "Create a dictionary from `x` consisting of items whose values are less than 3."
   ]
  },
  {
   "cell_type": "code",
   "execution_count": 39,
   "metadata": {},
   "outputs": [
    {
     "name": "stdout",
     "output_type": "stream",
     "text": [
      "{'a': 0, 'b': 1, 'c': 2}\n"
     ]
    }
   ],
   "source": [
    "# code\n",
    "x = {\"a\":0, \"b\":1, \"c\":2, \"d\":3, \"e\":4}\n",
    "less = {elements : x.get(elements) for elements in x if x.get(elements) < 3}\n",
    "print(less)"
   ]
  },
  {
   "cell_type": "markdown",
   "metadata": {},
   "source": [
    "---\n",
    "### Exercise 13\n",
    "\n",
    "Consider the list $D = \\{1, 2, .., 9\\}$ of non-zero digits. Write a function that takes a list $L$ of integers and returns a dictionary. The keys of the dictionary are the integers occurring in the list $L$ and their corresponding values are the greatest divisors from the list $D$. \n",
    "\n",
    "**Example:** For `[4, 20, 45, 64]`, the function returns the dictionary `{4:4, 20:5, 45:9, 64:8}`."
   ]
  },
  {
   "cell_type": "code",
   "execution_count": 48,
   "metadata": {},
   "outputs": [
    {
     "name": "stdout",
     "output_type": "stream",
     "text": [
      "{4: 4, 20: 5, 25: 5, 64: 8}\n"
     ]
    }
   ],
   "source": [
    "# code\n",
    "\n",
    "D = [x for x in range(1,10)]\n",
    "L = [4,20,25,64]\n",
    "dict = {enum : denum for enum in L for denum in D if enum % denum == 0}\n",
    "print(dict)"
   ]
  },
  {
   "cell_type": "markdown",
   "metadata": {},
   "source": [
    "---\n",
    "## <a id='toc1_4_'></a>[Lambdas](#toc0_)\n",
    "\n",
    "Solve the following exercises using lambda expressions and the `map` and `filter` function."
   ]
  },
  {
   "cell_type": "markdown",
   "metadata": {},
   "source": [
    "---\n",
    "### Exercise 14\n",
    "\n",
    "Write a program that takes a list of random numbers from the standard normal distribution and returns a new list containing the absolute values of the numbers."
   ]
  },
  {
   "cell_type": "code",
   "execution_count": null,
   "metadata": {},
   "outputs": [],
   "source": [
    "# code"
   ]
  },
  {
   "cell_type": "markdown",
   "metadata": {},
   "source": [
    "---\n",
    "### Exercise 15\n",
    "\n",
    "Write a program that takes a list of words as input and returns a new list containing only the words that have at least 5 characters. "
   ]
  },
  {
   "cell_type": "code",
   "execution_count": null,
   "metadata": {},
   "outputs": [],
   "source": [
    "words = '''Write a program that takes a list of words as input and returns a \n",
    "        new list containing only the words that have at least 5 characters'''\n",
    "\n",
    "# code"
   ]
  },
  {
   "cell_type": "markdown",
   "metadata": {},
   "source": [
    "---\n",
    "### Exercise 16\n",
    "\n",
    "Write a program that takes two lists of numbers as input and returns a new list containing the element-wise product of the two lists. "
   ]
  },
  {
   "cell_type": "code",
   "execution_count": null,
   "metadata": {},
   "outputs": [],
   "source": [
    "# code"
   ]
  },
  {
   "cell_type": "markdown",
   "metadata": {},
   "source": [
    "---\n",
    "### Exercise 17\n",
    "\n",
    "Given the following lists of numbers of the same length:\n",
    "\n",
    "```python\n",
    "    x = [1, 2, 3, 4]\n",
    "    y = [5, 6, 7, 8]\n",
    "    z = [9, 10, 11, 12]\n",
    "````\n",
    "\n",
    "Create a list containing the column-wise sum of the three lists."
   ]
  },
  {
   "cell_type": "code",
   "execution_count": null,
   "metadata": {},
   "outputs": [],
   "source": [
    "x = [1, 2, 3, 4]\n",
    "y = [5, 6, 7, 8]\n",
    "z = [9, 10, 11, 12]\n",
    "\n",
    "# code"
   ]
  },
  {
   "cell_type": "markdown",
   "metadata": {},
   "source": [
    "---\n",
    "### Exercise 18\n",
    "\n",
    "Write a Python program that takes two lists of numbers of the same length as input and computes the mean sum of squares between them. \n",
    "\n",
    "**Example:** The mean sum of squares of two lists $(x_1, \\ldots, x_n)$ and $(y_1, \\ldots, y_n)$ of real numbers is\n",
    "\n",
    "$$\n",
    "\\text{MSE} = \\frac{1}{n} \\sum_{i=1}^n (x_i - y_i)^2.\n",
    "$$"
   ]
  },
  {
   "cell_type": "code",
   "execution_count": null,
   "metadata": {},
   "outputs": [],
   "source": [
    "# code"
   ]
  },
  {
   "cell_type": "markdown",
   "metadata": {},
   "source": [
    "---\n",
    "## <a id='toc1_5_'></a>[Sorting with Lambdas](#toc0_)\n",
    "\n",
    "Use the [sorted](https://docs.python.org/3/library/functions.html#sorted) function and specify its `key` parameter with a suitable lambda expression. "
   ]
  },
  {
   "cell_type": "markdown",
   "metadata": {},
   "source": [
    "---\n",
    "### Exercise 19\n",
    "\n",
    "Given a dictionary with numeric values, create a new dictionary sorted by value in ascending order. \n",
    "\n",
    "**Example:** \n",
    "Sorting the dictionary \n",
    "\n",
    "```python\n",
    "    {'a':3, 'b':1, 'c':5, 'd':4}\n",
    "````\n",
    "\n",
    "by value yields \n",
    "\n",
    "```python\n",
    "    {'b': 1, 'a': 3, 'd': 4, 'c': 5}\n",
    "```"
   ]
  },
  {
   "cell_type": "code",
   "execution_count": null,
   "metadata": {},
   "outputs": [],
   "source": [
    "x = {'a':3, 'b':1, 'c':5, 'd':4}\n",
    "\n",
    "# code"
   ]
  },
  {
   "cell_type": "markdown",
   "metadata": {},
   "source": [
    "---\n",
    "### Exercise 20\n",
    "\n",
    "Given is the following data set:"
   ]
  },
  {
   "cell_type": "code",
   "execution_count": null,
   "metadata": {},
   "outputs": [],
   "source": [
    "# gender, weight, height\n",
    "data = (\n",
    "    ('male', 71, 168),\n",
    "    ('female', 63, 170),\n",
    "    ('male', 87, 193),\n",
    "    ('female', 57, 166),\n",
    "    ('male', 91, 186),\n",
    "    ('female', 61, 172)\n",
    ")\n",
    "print(*data, sep='\\n')"
   ]
  },
  {
   "attachments": {},
   "cell_type": "markdown",
   "metadata": {},
   "source": [
    "Solve the following problems:\n",
    "\n",
    "1. Sort all persons by weight in descending order\n",
    "\n",
    "2. Sort females by height in descending order\n",
    "\n",
    "3. Sort all persons first lexicographically by gender in ascending order and then by height in descending order"
   ]
  },
  {
   "cell_type": "code",
   "execution_count": null,
   "metadata": {},
   "outputs": [],
   "source": [
    "# code"
   ]
  }
 ],
 "metadata": {
  "kernelspec": {
   "display_name": "sklearn-env",
   "language": "python",
   "name": "python3"
  },
  "language_info": {
   "codemirror_mode": {
    "name": "ipython",
    "version": 3
   },
   "file_extension": ".py",
   "mimetype": "text/x-python",
   "name": "python",
   "nbconvert_exporter": "python",
   "pygments_lexer": "ipython3",
   "version": "3.11.5"
  },
  "orig_nbformat": 4
 },
 "nbformat": 4,
 "nbformat_minor": 2
}
