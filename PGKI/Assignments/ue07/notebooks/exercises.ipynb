{
 "cells": [
  {
   "cell_type": "markdown",
   "metadata": {},
   "source": [
    "# Exercises\n",
    "\n",
    "1. [Dictionaries](#toc1_1_)    \n",
    "\n",
    "2. [List Comprehension](#toc1_2_)    \n",
    "\n",
    "3. [Dictionary Comprehension](#toc1_3_)    \n",
    "\n",
    "4. [Lambdas](#toc1_4_)    \n",
    "\n",
    "5. [Sorting with Lambdas](#toc1_5_)    \n",
    "\n",
    "\n"
   ]
  },
  {
   "cell_type": "markdown",
   "metadata": {},
   "source": [
    "---\n",
    "## <a id='toc1_1_'></a>[Dictionaries](#toc0_)"
   ]
  },
  {
   "cell_type": "markdown",
   "metadata": {},
   "source": [
    "---\n",
    "### Exercise 1\n",
    "\n",
    "Given are the three most populated cities in the world:\n",
    "\n",
    "1. Tokyo: 37.5 million\n",
    "\n",
    "2. Delhi: 29.4 million\n",
    "\n",
    "3. Shanghai: 26.3 million\n",
    "\n",
    "Create a (meaningful) dictionary of world city populations in three different ways."
   ]
  },
  {
   "cell_type": "code",
   "execution_count": null,
   "metadata": {},
   "outputs": [],
   "source": [
    "# code"
   ]
  },
  {
   "cell_type": "markdown",
   "metadata": {},
   "source": [
    "---\n",
    "### Exercise 2\n",
    "\n",
    "Change the population of Tokyo to 37.1 million."
   ]
  },
  {
   "cell_type": "code",
   "execution_count": null,
   "metadata": {},
   "outputs": [],
   "source": [
    "# code"
   ]
  },
  {
   "cell_type": "markdown",
   "metadata": {},
   "source": [
    "---\n",
    "### Exercise 3\n",
    "\n",
    "Add Dhaka with 23.2 million to the dictionary"
   ]
  },
  {
   "cell_type": "code",
   "execution_count": null,
   "metadata": {},
   "outputs": [],
   "source": [
    "# code"
   ]
  },
  {
   "cell_type": "markdown",
   "metadata": {},
   "source": [
    "---\n",
    "### Exercise 4\n",
    "\n",
    "1. Loop over the dictionary and print all cities\n",
    "\n",
    "2. Loop over the dictionary and print all populations\n",
    "\n",
    "3. Loop over the dictionary and print all cities together with their populations"
   ]
  },
  {
   "cell_type": "code",
   "execution_count": null,
   "metadata": {},
   "outputs": [],
   "source": [
    "# code"
   ]
  },
  {
   "cell_type": "markdown",
   "metadata": {},
   "source": [
    "### Exercise 5\n",
    "\n",
    "Write a function that takes a string as input and counts the number of occurrences of each word in the string. The function returns a dictionary that stores the word counts.\n",
    "\n",
    "**Example:** Given the input string \"the cat in the hat\", the function returns a dictionary with the following key-value pairs: \n",
    "\n",
    "```python\n",
    "    {'the': 2, 'cat': 1, 'in': 1, 'hat': 1}\n",
    "```"
   ]
  },
  {
   "cell_type": "code",
   "execution_count": null,
   "metadata": {},
   "outputs": [],
   "source": [
    "# code"
   ]
  },
  {
   "cell_type": "markdown",
   "metadata": {},
   "source": [
    "---\n",
    "### Exercise 6: Phone Book\n",
    "\n",
    "Given is the following phone book \n",
    "\n",
    "```python\n",
    "    phone_book = {'ann':'110', 'bob':'991', 'cat':'112'}\n",
    "```\n",
    "\n",
    "Write a program that takes a query name as input from the user and returns the corresponding phone number. If the query name is not in the phone book, prompt the user to enter the phone number of the query name to update the phone book. Terminate the interaction by entering a space ' ' when prompted to enter a query name. When the user dialogue is complete, output the entire phone book.\n",
    "\n",
    "Use `str = input()` to receive and store the string object entered by the user.  \n",
    "\n",
    "**Example dialog:**\n",
    "\n",
    "        Enter name: (blank to quit)\n",
    "        bob\n",
    "        phone number of bob is 991\n",
    "        \n",
    "        Enter name: (blank to quit)\n",
    "        don\n",
    "        don is not listed.\n",
    "        Enter phone number:\n",
    "        0\n",
    "        Phone book updated\n",
    "        ..."
   ]
  },
  {
   "cell_type": "code",
   "execution_count": null,
   "metadata": {},
   "outputs": [],
   "source": [
    "# code"
   ]
  },
  {
   "cell_type": "markdown",
   "metadata": {},
   "source": [
    "---\n",
    "### Exercise 7: Polynomials\n",
    "\n",
    "A polynomial of degree $n \\geq 0$ is a function of the form\n",
    "\n",
    "$$f(x)=a_0 + a_1x + a_2x^2 + \\cdots + a_nx^n,$$ \n",
    "\n",
    "with $a_n \\neq 0$. \n",
    "\n",
    "**Task**:\n",
    "Write two Python functions \n",
    "\n",
    "+ `f_list(a, x)`\n",
    "\n",
    "+ `f_dict(a, x)` \n",
    "\n",
    "that evaluate a polynomial defined by its coefficients `a` at point `x`. The first function `f_list` takes a list `a` of coefficients as input, while the second function `f_dict` takes a dictionary `a` of coefficients as input.\n",
    "\n",
    "Test both functions to evaluate the polynomial $1+2x^9$ at $x=0, 1, 2$. Which of both functions is more convenient to use when most coefficients $a_i$ are zero?"
   ]
  },
  {
   "cell_type": "code",
   "execution_count": null,
   "metadata": {},
   "outputs": [],
   "source": [
    "# code"
   ]
  },
  {
   "cell_type": "markdown",
   "metadata": {},
   "source": [
    "---\n",
    "## <a id='toc1_2_'></a>[List Comprehension](#toc0_)\n",
    "\n",
    "Solve the following exercises using list comprehensions."
   ]
  },
  {
   "cell_type": "markdown",
   "metadata": {},
   "source": [
    "---\n",
    "### Exercise 8\n",
    "\n",
    "Create a list of numbers from 1 to 100 that are divisible by 17."
   ]
  },
  {
   "cell_type": "code",
   "execution_count": null,
   "metadata": {},
   "outputs": [],
   "source": [
    "# code"
   ]
  },
  {
   "cell_type": "markdown",
   "metadata": {},
   "source": [
    "---\n",
    "### Exercise 9\n",
    "\n",
    "Create 10 random numbers from a standard normal distribution and round them to 2 decimal places. Then create a list of the indices of all positive random numbers\n",
    "\n",
    "The following example code shows how to generate a random number from a standard normal distribution and round it to 2 decimal places: \n",
    "\n",
    "```python\n",
    "    import random\n",
    "    x = random.gauss(0, 1)\n",
    "    x_rounded = round(x, 2)\n",
    "```"
   ]
  },
  {
   "cell_type": "code",
   "execution_count": null,
   "metadata": {},
   "outputs": [],
   "source": [
    "# code"
   ]
  },
  {
   "cell_type": "markdown",
   "metadata": {},
   "source": [
    "---\n",
    "### Exercise 10\n",
    "Find the intersection between two lists consisting of unique numbers.\n",
    "\n",
    "**Example:** The intersection of the lists\n",
    "\n",
    "```python\n",
    "    x = [1, 2, 3, 4, 5]\n",
    "    y = [2, 4, 6]\n",
    "````\n",
    "\n",
    "is the list `z = [2, 4]`."
   ]
  },
  {
   "cell_type": "code",
   "execution_count": null,
   "metadata": {},
   "outputs": [],
   "source": [
    "# code"
   ]
  },
  {
   "cell_type": "markdown",
   "metadata": {},
   "source": [
    "---\n",
    "### Exercise 11\n",
    "\n",
    "Create a list of all numbers from 0 to 100 that contain a 7 as digit."
   ]
  },
  {
   "cell_type": "code",
   "execution_count": null,
   "metadata": {},
   "outputs": [],
   "source": [
    "# code"
   ]
  },
  {
   "cell_type": "markdown",
   "metadata": {},
   "source": [
    "---\n",
    "## <a id='toc1_3_'></a>[Dictionary Comprehension](#toc0_)"
   ]
  },
  {
   "cell_type": "markdown",
   "metadata": {},
   "source": [
    "---\n",
    "### Exercise 12\n",
    "\n",
    "Given is the following dictionary:\n",
    "\n",
    "```python\n",
    "    x = {'a': 0, 'b': 1, 'c': 2, 'd' : 3, 'e': 4}\n",
    "```\n",
    "\n",
    "Create a dictionary from `x` consisting of items whose values are less than 3."
   ]
  },
  {
   "cell_type": "code",
   "execution_count": null,
   "metadata": {},
   "outputs": [],
   "source": [
    "# code"
   ]
  },
  {
   "cell_type": "markdown",
   "metadata": {},
   "source": [
    "---\n",
    "### Exercise 13\n",
    "\n",
    "Consider the list $D = \\{1, 2, .., 9\\}$ of non-zero digits. Write a function that takes a list $L$ of integers and returns a dictionary. The keys of the dictionary are the integers occurring in the list $L$ and their corresponding values are the greatest divisors from the list $D$. \n",
    "\n",
    "**Example:** For `[4, 20, 45, 64]`, the function returns the dictionary `{4:4, 20:5, 45:9, 64:8}`."
   ]
  },
  {
   "cell_type": "code",
   "execution_count": null,
   "metadata": {},
   "outputs": [],
   "source": [
    "# code"
   ]
  },
  {
   "cell_type": "markdown",
   "metadata": {},
   "source": [
    "---\n",
    "## <a id='toc1_4_'></a>[Lambdas](#toc0_)\n",
    "\n",
    "Solve the following exercises using lambda expressions and the `map` and `filter` function."
   ]
  },
  {
   "cell_type": "markdown",
   "metadata": {},
   "source": [
    "---\n",
    "### Exercise 14\n",
    "\n",
    "Write a program that takes a list of random numbers from the standard normal distribution and returns a new list containing the absolute values of the numbers."
   ]
  },
  {
   "cell_type": "code",
   "execution_count": null,
   "metadata": {},
   "outputs": [],
   "source": [
    "# code"
   ]
  },
  {
   "cell_type": "markdown",
   "metadata": {},
   "source": [
    "---\n",
    "### Exercise 15\n",
    "\n",
    "Write a program that takes a list of words as input and returns a new list containing only the words that have at least 5 characters. "
   ]
  },
  {
   "cell_type": "code",
   "execution_count": null,
   "metadata": {},
   "outputs": [],
   "source": [
    "words = '''Write a program that takes a list of words as input and returns a \n",
    "        new list containing only the words that have at least 5 characters'''\n",
    "\n",
    "# code"
   ]
  },
  {
   "cell_type": "markdown",
   "metadata": {},
   "source": [
    "---\n",
    "### Exercise 16\n",
    "\n",
    "Write a program that takes two lists of numbers as input and returns a new list containing the element-wise product of the two lists. "
   ]
  },
  {
   "cell_type": "code",
   "execution_count": null,
   "metadata": {},
   "outputs": [],
   "source": [
    "# code"
   ]
  },
  {
   "cell_type": "markdown",
   "metadata": {},
   "source": [
    "---\n",
    "### Exercise 17\n",
    "\n",
    "Given the following lists of numbers of the same length:\n",
    "\n",
    "```python\n",
    "    x = [1, 2, 3, 4]\n",
    "    y = [5, 6, 7, 8]\n",
    "    z = [9, 10, 11, 12]\n",
    "````\n",
    "\n",
    "Create a list containing the column-wise sum of the three lists."
   ]
  },
  {
   "cell_type": "code",
   "execution_count": null,
   "metadata": {},
   "outputs": [],
   "source": [
    "x = [1, 2, 3, 4]\n",
    "y = [5, 6, 7, 8]\n",
    "z = [9, 10, 11, 12]\n",
    "\n",
    "# code"
   ]
  },
  {
   "cell_type": "markdown",
   "metadata": {},
   "source": [
    "---\n",
    "### Exercise 18\n",
    "\n",
    "Write a Python program that takes two lists of numbers of the same length as input and computes the mean sum of squares between them. \n",
    "\n",
    "**Example:** The mean sum of squares of two lists $(x_1, \\ldots, x_n)$ and $(y_1, \\ldots, y_n)$ of real numbers is\n",
    "\n",
    "$$\n",
    "\\text{MSE} = \\frac{1}{n} \\sum_{i=1}^n (x_i - y_i)^2.\n",
    "$$"
   ]
  },
  {
   "cell_type": "code",
   "execution_count": null,
   "metadata": {},
   "outputs": [],
   "source": [
    "# code"
   ]
  },
  {
   "cell_type": "markdown",
   "metadata": {},
   "source": [
    "---\n",
    "## <a id='toc1_5_'></a>[Sorting with Lambdas](#toc0_)\n",
    "\n",
    "Use the [sorted](https://docs.python.org/3/library/functions.html#sorted) function and specify its `key` parameter with a suitable lambda expression. "
   ]
  },
  {
   "cell_type": "markdown",
   "metadata": {},
   "source": [
    "---\n",
    "### Exercise 19\n",
    "\n",
    "Given a dictionary with numeric values, create a new dictionary sorted by value in ascending order. \n",
    "\n",
    "**Example:** \n",
    "Sorting the dictionary \n",
    "\n",
    "```python\n",
    "    {'a':3, 'b':1, 'c':5, 'd':4}\n",
    "````\n",
    "\n",
    "by value yields \n",
    "\n",
    "```python\n",
    "    {'b': 1, 'a': 3, 'd': 4, 'c': 5}\n",
    "```"
   ]
  },
  {
   "cell_type": "code",
   "execution_count": null,
   "metadata": {},
   "outputs": [],
   "source": [
    "x = {'a':3, 'b':1, 'c':5, 'd':4}\n",
    "\n",
    "# code"
   ]
  },
  {
   "cell_type": "markdown",
   "metadata": {},
   "source": [
    "---\n",
    "### Exercise 20\n",
    "\n",
    "Given is the following data set:"
   ]
  },
  {
   "cell_type": "code",
   "execution_count": null,
   "metadata": {},
   "outputs": [],
   "source": [
    "# gender, weight, height\n",
    "data = (\n",
    "    ('male', 71, 168),\n",
    "    ('female', 63, 170),\n",
    "    ('male', 87, 193),\n",
    "    ('female', 57, 166),\n",
    "    ('male', 91, 186),\n",
    "    ('female', 61, 172)\n",
    ")\n",
    "print(*data, sep='\\n')"
   ]
  },
  {
   "attachments": {},
   "cell_type": "markdown",
   "metadata": {},
   "source": [
    "Solve the following problems:\n",
    "\n",
    "1. Sort all persons by weight in descending order\n",
    "\n",
    "2. Sort females by height in descending order\n",
    "\n",
    "3. Sort all persons first lexicographically by gender in ascending order and then by height in descending order"
   ]
  },
  {
   "cell_type": "code",
   "execution_count": null,
   "metadata": {},
   "outputs": [],
   "source": [
    "# code"
   ]
  }
 ],
 "metadata": {
  "kernelspec": {
   "display_name": "sklearn-env",
   "language": "python",
   "name": "python3"
  },
  "language_info": {
   "codemirror_mode": {
    "name": "ipython",
    "version": 3
   },
   "file_extension": ".py",
   "mimetype": "text/x-python",
   "name": "python",
   "nbconvert_exporter": "python",
   "pygments_lexer": "ipython3",
   "version": "3.11.5"
  },
  "orig_nbformat": 4
 },
 "nbformat": 4,
 "nbformat_minor": 2
}
