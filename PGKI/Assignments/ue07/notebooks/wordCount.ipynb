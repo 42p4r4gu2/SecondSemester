{
 "cells": [
  {
   "cell_type": "markdown",
   "metadata": {},
   "source": [
    " Write a program that records the top n most frequently occurring words\n",
    "of a text document. For each of the n words, the program should output the\n",
    "following information: the word, the number of occurrences, the ratio of occurrences to the total number of words, and the length of the word. Test your\n",
    "program on the books Moby Dick and The Crowd."
   ]
  },
  {
   "cell_type": "code",
   "execution_count": 2,
   "metadata": {},
   "outputs": [],
   "source": [
    "import re\n"
   ]
  },
  {
   "cell_type": "code",
   "execution_count": 3,
   "metadata": {},
   "outputs": [
    {
     "name": "stdout",
     "output_type": "stream",
     "text": [
      "6016\n"
     ]
    }
   ],
   "source": [
    "theCrown = \"./data/books/LeBon.txt\"\n",
    "mobyDick = \"./data/books/moby_dick.txt\"\n",
    "\n",
    "\"\"\"\n",
    "charmap error can't decode\n",
    "with open(mobyDick, \"r\") as file:\n",
    "    mobyBook = file.read()\n",
    "\"\"\"\n",
    "\n",
    "\n",
    "with open(theCrown, \"r\") as file:\n",
    "    CrownBook = file.read()\n",
    "\n",
    "CrownBook = re.sub(r'[^a-zA-Z]', ' ', CrownBook)\n",
    "\n",
    "CrownBook = CrownBook.lower().split(\" \")\n",
    "\n",
    "wordCount = dict()\n",
    "for element in CrownBook:\n",
    "    if wordCount.get(element) == None:\n",
    "        wordCount.update({element:1})\n",
    "    else:\n",
    "        wordCount.update({element:wordCount.get(element)+1})\n",
    "\n",
    "for element in wordCount.keys():\n",
    "    wordCount.update({element:(wordCount.get(element), round(wordCount.get(element)/len(wordCount), 5))})\n",
    "\n",
    "print(wordCount)\n",
    "\n"
   ]
  }
 ],
 "metadata": {
  "kernelspec": {
   "display_name": "Python 3",
   "language": "python",
   "name": "python3"
  },
  "language_info": {
   "codemirror_mode": {
    "name": "ipython",
    "version": 3
   },
   "file_extension": ".py",
   "mimetype": "text/x-python",
   "name": "python",
   "nbconvert_exporter": "python",
   "pygments_lexer": "ipython3",
   "version": "3.11.5"
  }
 },
 "nbformat": 4,
 "nbformat_minor": 2
}
