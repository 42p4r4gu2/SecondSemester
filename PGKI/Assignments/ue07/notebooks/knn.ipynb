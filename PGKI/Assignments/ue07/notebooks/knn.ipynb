{
 "cells": [
  {
   "attachments": {},
   "cell_type": "markdown",
   "metadata": {},
   "source": [
    "## Exercise 3: k-NN Algorithm\n"
   ]
  },
  {
   "cell_type": "markdown",
   "metadata": {},
   "source": [
    "---\n",
    "### Counter\n",
    "\n",
    "The kNN classifier assigns an input $\\bm{x}$ to the majoirty class of its $k$ nearest neighbors. You can use `Counter` from the module `collections` to identify the majority class:\n",
    "\n",
    "```python\n",
    "    from collections import Counter\n",
    "    predicted_label = Counter(k_nearest_labels).most_common(1)[0][0]\n",
    "```\n",
    "\n",
    "The next example shows how the `most_common` method of `Counter` works: "
   ]
  },
  {
   "cell_type": "code",
   "execution_count": 8,
   "metadata": {},
   "outputs": [
    {
     "name": "stdout",
     "output_type": "stream",
     "text": [
      "counts :  Counter({2: 4, 3: 1, 4: 1, 5: 1, 7: 1})\n",
      "label and frequency :  [(2, 4)]\n",
      "predicted label : 2\n"
     ]
    }
   ],
   "source": [
    "from collections import Counter\n",
    "\n",
    "# class labels of the k = 8 nearest neighbors\n",
    "y_labels = [2, 3, 2, 2, 4, 2, 5, 7]\n",
    "\n",
    "# counts is a Counter object containing the class labels and their frequency in descending order\n",
    "counts = Counter(y_labels)\n",
    "print('counts : ', counts)\n",
    "\n",
    "# get the most common label together with its frequency\n",
    "label_frequency = counts.most_common(1)\n",
    "print('label and frequency : ', label_frequency)\n",
    "\n",
    "# get the most common class label anduse it as prediction\n",
    "y_predicted = label_frequency[0][0]\n",
    "print('predicted label :', y_predicted)"
   ]
  },
  {
   "attachments": {},
   "cell_type": "markdown",
   "metadata": {},
   "source": [
    "---\n",
    "### The k-Nearest Neighbor Classifier"
   ]
  },
  {
   "cell_type": "code",
   "execution_count": 9,
   "metadata": {},
   "outputs": [],
   "source": [
    "from collections import Counter\n",
    "import math\n",
    "\n",
    "train_file = './data/Lightning7/train.tsv'\n",
    "test_file = './data/Lightning7/test.tsv'"
   ]
  },
  {
   "cell_type": "code",
   "execution_count": 11,
   "metadata": {},
   "outputs": [
    {
     "ename": "SyntaxError",
     "evalue": "invalid syntax (625963383.py, line 47)",
     "output_type": "error",
     "traceback": [
      "\u001b[0;36m  Cell \u001b[0;32mIn[11], line 47\u001b[0;36m\u001b[0m\n\u001b[0;31m    leastCost = dict({classCosts[i][0]:leastCost.get(classCosts[i][0])+1} for i in range(nn) if leastCost.get(classCosts[i][0]) else {classCosts[i][0]:1})\u001b[0m\n\u001b[0m                                                                                                                                ^\u001b[0m\n\u001b[0;31mSyntaxError\u001b[0m\u001b[0;31m:\u001b[0m invalid syntax\n"
     ]
    }
   ],
   "source": [
    "# code\n",
    "\n",
    "test = test_file #lines to be classified\n",
    "train = train_file #check distances\n",
    "\n",
    "with open(test, \"r\") as f:\n",
    "    testData = [line.split(\"\\t\") for line in f]\n",
    "for line in testData:\n",
    "    for i in range(0,len(line)):\n",
    "        if i == 0:\n",
    "            line[i] = int(line[i])\n",
    "        else:\n",
    "            line[i] = float(line[i])\n",
    "            \n",
    "with open(train, \"r\") as f:\n",
    "    trainData = [line.split(\"\\t\") for line in f]\n",
    "for line in trainData:\n",
    "    for i in range(0,len(line)):\n",
    "        if i == 0:\n",
    "            line[i] = int(line[i])\n",
    "        else:\n",
    "            line[i] = float(line[i])\n",
    "\n",
    "\n",
    "#TODO: not working!\n",
    "def dtw(i, j, X=None, Y=None):\n",
    "    if i == 0 or j == 0:\n",
    "        return 0\n",
    "    if i == 1 and j == 1:\n",
    "        return 1\n",
    "    if (i == 1 and j != 1) or (i != 1 and j == 1):\n",
    "        return float(\"inf\")\n",
    "    else:\n",
    "        return ((X[i] - Y[i]) ** 2 + min(dtw(i-1, j, X=X, Y=Y), dtw(i,j-1, X=X, Y=Y), dtw(i-1,j-1, X=X, Y=Y)))\n",
    "    \n",
    "def euclidDist(X, Y):\n",
    "    cost = 0\n",
    "    for i in range(1, int(min(len(X), len(Y)))):\n",
    "        cost += (X[i] - Y[i])**2\n",
    "    return math.sqrt(cost)\n",
    "\n",
    "def knn(line, nn = 1):\n",
    "    print(\"number of Neighbours: \", nn)\n",
    "    classCosts = [(lines[0],euclidDist(lines, line)) for lines in trainData]\n",
    "    classCosts.sort()\n",
    "    print(classCosts)\n",
    "    #TODO: error\n",
    "    leastCost = dict({classCosts[i][0]:leastCost.get(classCosts[i][0])+1} for i in range(nn) if leastCost.get(classCosts[i][0]) else {classCosts[i][0]:1})\n",
    "    print(leastCost)\n",
    "    \n",
    "knn(testData[4])\n",
    "    \n",
    "    "
   ]
  }
 ],
 "metadata": {
  "kernelspec": {
   "display_name": "Python 3",
   "language": "python",
   "name": "python3"
  },
  "language_info": {
   "codemirror_mode": {
    "name": "ipython",
    "version": 3
   },
   "file_extension": ".py",
   "mimetype": "text/x-python",
   "name": "python",
   "nbconvert_exporter": "python",
   "pygments_lexer": "ipython3",
   "version": "3.11.7"
  },
  "orig_nbformat": 4
 },
 "nbformat": 4,
 "nbformat_minor": 2
}
