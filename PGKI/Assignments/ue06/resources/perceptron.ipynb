{
 "cells": [
  {
   "attachments": {},
   "cell_type": "markdown",
   "metadata": {},
   "source": [
    "## Perceptron \n",
    "\n",
    "#### Imports and settings"
   ]
  },
  {
   "cell_type": "code",
   "execution_count": 1,
   "metadata": {},
   "outputs": [],
   "source": [
    "from random import uniform    # for generating initial values for the weights and bias\n",
    "from random import shuffle    # for randomly splitting the data into a training and test set\n",
    "from random import seed       # for reproducability\n",
    "\n",
    "# sets seed for reproducability\n",
    "seed(10)\n",
    "\n",
    "# path to data file\n",
    "file = 'data/banknote.csv'"
   ]
  },
  {
   "cell_type": "code",
   "execution_count": 2,
   "metadata": {},
   "outputs": [
    {
     "name": "stdout",
     "output_type": "stream",
     "text": [
      "feature: min    max    average\n"
     ]
    },
    {
     "ename": "ValueError",
     "evalue": "could not convert string to float: ''",
     "output_type": "error",
     "traceback": [
      "\u001b[0;31m---------------------------------------------------------------------------\u001b[0m",
      "\u001b[0;31mValueError\u001b[0m                                Traceback (most recent call last)",
      "Cell \u001b[0;32mIn[2], line 78\u001b[0m\n\u001b[1;32m     70\u001b[0m     \u001b[38;5;28mprint\u001b[39m(average1, average2, average3, average4, sep\u001b[38;5;241m=\u001b[39m\u001b[38;5;124m\"\u001b[39m\u001b[38;5;124m||\u001b[39m\u001b[38;5;124m\"\u001b[39m)\n\u001b[1;32m     73\u001b[0m \u001b[38;5;124;03m'''   \u001b[39;00m\n\u001b[1;32m     74\u001b[0m \u001b[38;5;124;03mprint()\u001b[39;00m\n\u001b[1;32m     75\u001b[0m \u001b[38;5;124;03mread_csv(file)\u001b[39;00m\n\u001b[1;32m     76\u001b[0m \u001b[38;5;124;03mprint()\u001b[39;00m\n\u001b[1;32m     77\u001b[0m \u001b[38;5;124;03m'''\u001b[39;00m\n\u001b[0;32m---> 78\u001b[0m info(data)\n\u001b[1;32m     79\u001b[0m \u001b[38;5;28mprint\u001b[39m()\n\u001b[1;32m     80\u001b[0m head(\u001b[38;5;241m5\u001b[39m)\n",
      "Cell \u001b[0;32mIn[2], line 60\u001b[0m, in \u001b[0;36minfo\u001b[0;34m(data)\u001b[0m\n\u001b[1;32m     58\u001b[0m line \u001b[38;5;241m=\u001b[39m lines[j\u001b[38;5;241m+\u001b[39m\u001b[38;5;241m1\u001b[39m:]\n\u001b[1;32m     59\u001b[0m j \u001b[38;5;241m=\u001b[39m line\u001b[38;5;241m.\u001b[39mfind(\u001b[38;5;124m\"\u001b[39m\u001b[38;5;124m,\u001b[39m\u001b[38;5;124m\"\u001b[39m)\n\u001b[0;32m---> 60\u001b[0m average3 \u001b[38;5;241m+\u001b[39m\u001b[38;5;241m=\u001b[39m \u001b[38;5;28mfloat\u001b[39m(line[:j])\n\u001b[1;32m     62\u001b[0m line \u001b[38;5;241m=\u001b[39m line[j\u001b[38;5;241m+\u001b[39m\u001b[38;5;241m1\u001b[39m:]\n\u001b[1;32m     63\u001b[0m j \u001b[38;5;241m=\u001b[39m line\u001b[38;5;241m.\u001b[39mfind(\u001b[38;5;124m\"\u001b[39m\u001b[38;5;124m,\u001b[39m\u001b[38;5;124m\"\u001b[39m)\n",
      "\u001b[0;31mValueError\u001b[0m: could not convert string to float: ''"
     ]
    }
   ],
   "source": [
    "# Your code\n",
    "\n",
    "with open(file, \"r\") as f:\n",
    "    next(f)\n",
    "    data = f.readlines()\n",
    "    \n",
    "    \n",
    "\"\"\"read_csv: the function takes a file name as parameter and optional ad-\n",
    "ditional parameters. It reads the data table from the file and returns it\n",
    "values. \"\"\"\n",
    "\n",
    "def read_csv(filename):\n",
    "    print(data)\n",
    "    \n",
    "\n",
    "\n",
    "\"\"\"head: the function accepts the data table returned by read_csv and a\n",
    "maximum number n of rows as parameters. It displays the top n rows in\n",
    "the following format (for n = 5):\"\"\"\n",
    "\n",
    "def head(number = 0):\n",
    "    if not number:\n",
    "        print(\"no number given\")\n",
    "        return\n",
    "    print(\"x1        x2      x3     x4        y\")\n",
    "    for i in range(0,number+2):\n",
    "        print(data[i].replace(\",\",\"  \"))\n",
    "        \n",
    "\n",
    "\n",
    "\"\"\"info: the function accepts the data table returned by read_csv as pa-\n",
    "rameter. It displays the minimum, maximum and average of each column\n",
    "in the following format:\n",
    "feature: min max average\n",
    "\"\"\"\n",
    "\n",
    "def info(data):\n",
    "    if not data:\n",
    "        print(\"No data given to function\")\n",
    "        return\n",
    "    print(\"feature: min    max    average\")\n",
    "    for lines in data:\n",
    "        average1 = 0\n",
    "        average2 = 0\n",
    "        average3 = 0\n",
    "        average4 = 0\n",
    "        count = 0\n",
    "        count += 1\n",
    "        \n",
    "        line = str(lines)\n",
    "        j = line.find(\",\")\n",
    "        average1 += float(line[:j])\n",
    "        \n",
    "        line = lines[j+1:]\n",
    "        j = line.find(\",\")\n",
    "        average2 += float(line[:j])\n",
    "        \n",
    "        line = lines[j+1:]\n",
    "        j = line.find(\",\")\n",
    "        average3 += float(line[:j])\n",
    "        \n",
    "        line = line[j+1:]\n",
    "        j = line.find(\",\")\n",
    "        average4 += float(line[:j])\n",
    "        \n",
    "    average1 = average1 / count\n",
    "    average2 = average2 / count\n",
    "    average3 = average3 / count\n",
    "    average4 = average4 / count\n",
    "    print(average1, average2, average3, average4, sep=\"||\")\n",
    "        \n",
    "                \n",
    "'''   \n",
    "print()\n",
    "read_csv(file)\n",
    "print()\n",
    "'''\n",
    "info(data)\n",
    "print()\n",
    "head(5)"
   ]
  }
 ],
 "metadata": {
  "kernelspec": {
   "display_name": "Python 3 (ipykernel)",
   "language": "python",
   "name": "python3"
  },
  "language_info": {
   "codemirror_mode": {
    "name": "ipython",
    "version": 3
   },
   "file_extension": ".py",
   "mimetype": "text/x-python",
   "name": "python",
   "nbconvert_exporter": "python",
   "pygments_lexer": "ipython3",
   "version": "3.11.7"
  }
 },
 "nbformat": 4,
 "nbformat_minor": 4
}
