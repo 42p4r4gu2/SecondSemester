{
 "cells": [
  {
   "attachments": {},
   "cell_type": "markdown",
   "id": "79c77f41-dfaf-4265-8807-dac500f16bcb",
   "metadata": {},
   "source": [
    "---\n",
    "## World Population\n",
    "\n",
    "This exercise requires the `lxml` and `html5lib` libraries (see the appendix for installation information). If installation fails, you can use the `world_population.csv` file located in the `./data/` directory.\n",
    "\n",
    "It may be helpful to consult the documentation to find suitable functions and methods to solve the problems."
   ]
  },
  {
   "attachments": {},
   "cell_type": "markdown",
   "id": "e73078e5-5bfc-4da7-8269-0f423f42da24",
   "metadata": {},
   "source": [
    "---\n",
    "### Exercise\n",
    "\n",
    "Parse the list of countries by population from [Wikipedia](https://en.wikipedia.org/wiki/List_of_countries_by_population_(United_Nations)). Set the index to the countries.\n"
   ]
  },
  {
   "cell_type": "code",
   "execution_count": 2,
   "id": "30fa259e-91b9-439a-808d-229731fa171c",
   "metadata": {},
   "outputs": [],
   "source": [
    "url = 'https://en.wikipedia.org/wiki/List_of_countries_by_population_(United_Nations)'\n",
    "\n",
    "# code"
   ]
  },
  {
   "attachments": {},
   "cell_type": "markdown",
   "id": "79998725",
   "metadata": {},
   "source": [
    "---\n",
    "### Exercise\n",
    "\n",
    "Change the index and column names to less verbose ones. "
   ]
  },
  {
   "cell_type": "code",
   "execution_count": 3,
   "id": "22cb07c8",
   "metadata": {},
   "outputs": [],
   "source": [
    "# code"
   ]
  },
  {
   "attachments": {},
   "cell_type": "markdown",
   "id": "ab90e1ad",
   "metadata": {},
   "source": [
    "---\n",
    "### Exercise\n",
    "\n",
    "Inspect the data. "
   ]
  },
  {
   "cell_type": "code",
   "execution_count": 4,
   "id": "f4390088",
   "metadata": {},
   "outputs": [],
   "source": [
    "# code"
   ]
  },
  {
   "attachments": {},
   "cell_type": "markdown",
   "id": "f0075c69",
   "metadata": {},
   "source": [
    "---\n",
    "### Exercise\n",
    "\n",
    "Display the row(s) with missing values. "
   ]
  },
  {
   "cell_type": "code",
   "execution_count": 5,
   "id": "d29f10ff",
   "metadata": {},
   "outputs": [],
   "source": [
    "# code"
   ]
  },
  {
   "cell_type": "markdown",
   "id": "1a6c383f",
   "metadata": {},
   "source": [
    "---\n",
    "### Exercise\n",
    "\n",
    "The rows with missing values shoulb be the 'World' and 'Vatican City'. Discard the 'World' row and impute a suitable value for the missing value of 'Vatican City'."
   ]
  },
  {
   "cell_type": "code",
   "execution_count": 41,
   "id": "f95f1c74",
   "metadata": {},
   "outputs": [],
   "source": [
    "# code"
   ]
  },
  {
   "attachments": {},
   "cell_type": "markdown",
   "id": "c880bd99",
   "metadata": {},
   "source": [
    "---\n",
    "### Exercise\n",
    "\n",
    "Calculate the world populations for 2022 and 2023 and the change (the row `World` should be not accessible)."
   ]
  },
  {
   "cell_type": "code",
   "execution_count": 47,
   "id": "93c5fdef",
   "metadata": {},
   "outputs": [
    {
     "name": "stdout",
     "output_type": "stream",
     "text": [
      "population 2022: 7,975,102,497\n",
      "population 2023: 8,044,762,071\n",
      "change         : 0.87%\n"
     ]
    }
   ],
   "source": [
    "# code"
   ]
  },
  {
   "attachments": {},
   "cell_type": "markdown",
   "id": "0cf35d20",
   "metadata": {},
   "source": [
    "---\n",
    "### Exercise\n",
    "\n",
    "Sort the DataFrame by Population 2023 in ascending order. Display the first few rows."
   ]
  },
  {
   "cell_type": "code",
   "execution_count": 6,
   "id": "213cebfe",
   "metadata": {},
   "outputs": [],
   "source": [
    "# code"
   ]
  },
  {
   "attachments": {},
   "cell_type": "markdown",
   "id": "6408f8ae",
   "metadata": {},
   "source": [
    "---\n",
    "### Exercise\n",
    "\n",
    "Plot the sorted values of Population 2023. "
   ]
  },
  {
   "cell_type": "code",
   "execution_count": 7,
   "id": "5260452b",
   "metadata": {},
   "outputs": [],
   "source": [
    "# code "
   ]
  },
  {
   "attachments": {},
   "cell_type": "markdown",
   "id": "cee62ba7",
   "metadata": {},
   "source": [
    "---\n",
    "### Exercise\n",
    "\n",
    "Compute the total population of each region. Print the result and display them as a pie chart."
   ]
  },
  {
   "cell_type": "code",
   "execution_count": 8,
   "id": "a1a0ed4b",
   "metadata": {},
   "outputs": [],
   "source": [
    "# code"
   ]
  },
  {
   "attachments": {},
   "cell_type": "markdown",
   "id": "7bd034bb",
   "metadata": {},
   "source": [
    "---\n",
    "### Exercise\n",
    "\n",
    "Write a function that takes as input the population DataFrame and a percentage `p`. The function returns the rows of the countries and their populations in 2023 that contribute to `p` percent of the world population in 2023. The top countries should be sorted in descending order by their population in 2023."
   ]
  },
  {
   "cell_type": "code",
   "execution_count": 9,
   "id": "6643ddaf",
   "metadata": {},
   "outputs": [],
   "source": [
    "# code"
   ]
  },
  {
   "attachments": {},
   "cell_type": "markdown",
   "id": "95290961",
   "metadata": {},
   "source": [
    "## Appendix\n",
    "\n",
    "---\n",
    "### Installing `lxml`\n",
    "\n",
    "\n",
    "The `lxml` library is used for processing XML and HTML data in Python. To install the `lxml` library, you can try running the following command:\n",
    "\n",
    "\n",
    "```\n",
    "    %conda install -c anaconda lxml -y \n",
    "```\n",
    "\n",
    "This command uses the `conda` package manager to install the `lxml` library from the `anaconda` channel. The `-y` flag automatically answers `yes` to any prompts that may appear during the installation process.\n",
    "\n",
    "If the installation fails, you can try following the instructions provided in this [link](https://github.com/conda-forge/lxml-feedstock) for alternative installation methods. \n",
    "\n",
    "\n",
    "---\n",
    "### Installing `html5lib`\n",
    "\n",
    "The `html5lib` library is used for parsing HTML. To install the `html5lib` library, you can try running the following command:\n",
    "\n",
    "\n",
    "```\n",
    "    %conda install -c anaconda html5lib -y \n",
    "```\n",
    "\n",
    "If the installation fails, you can try following the instructions provided in this [link](https://github.com/conda-forge/html5lib-feedstock) for alternative installation methods. \n"
   ]
  },
  {
   "cell_type": "markdown",
   "id": "56bfbb87",
   "metadata": {},
   "source": []
  }
 ],
 "metadata": {
  "kernelspec": {
   "display_name": "Python 3 (ipykernel)",
   "language": "python",
   "name": "python3"
  },
  "language_info": {
   "codemirror_mode": {
    "name": "ipython",
    "version": 3
   },
   "file_extension": ".py",
   "mimetype": "text/x-python",
   "name": "python",
   "nbconvert_exporter": "python",
   "pygments_lexer": "ipython3",
   "version": "3.11.5"
  }
 },
 "nbformat": 4,
 "nbformat_minor": 5
}
