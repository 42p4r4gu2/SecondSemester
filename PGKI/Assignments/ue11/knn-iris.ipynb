{
 "cells": [
  {
   "attachments": {},
   "cell_type": "markdown",
   "id": "6c675b76-a553-4273-842c-42ac1cf9d5e8",
   "metadata": {},
   "source": [
    "## k-Nearest-Neighbor Classifier\n",
    "\n",
    "The goal of this exercise is to practice using `pandas`, `numpy`, `matplotlib`, and `sklearn` to select the best hyperparameter `k` for a k-nearest-neighbor classifier on a modified version of the Iris dataset.\n",
    "\n",
    "---\n",
    "### Imports"
   ]
  },
  {
   "cell_type": "code",
   "execution_count": 2,
   "id": "d8dfbebe-550e-4467-934c-e7c7b420b6c6",
   "metadata": {},
   "outputs": [],
   "source": [
    "# code"
   ]
  },
  {
   "attachments": {},
   "cell_type": "markdown",
   "id": "28056e69",
   "metadata": {},
   "source": [
    "---\n",
    "### Read the Data\n",
    "\n",
    "Use `pandas` to read the `iris.csv` dataset located in the `./data/` directory. Note that this is not the original Iris dataset; it has been modified for the purpose of this exercise. After reading the data, the resulting DataFrame should have the following columns in this order:\n",
    "\n",
    "1. `sepal_length`\n",
    "2. `sepal_width`\n",
    "3. `petal_length`\n",
    "4. `petal_width`\n",
    "5. `class`"
   ]
  },
  {
   "cell_type": "code",
   "execution_count": 3,
   "id": "0a1ec05f",
   "metadata": {},
   "outputs": [],
   "source": [
    "# code"
   ]
  },
  {
   "attachments": {},
   "cell_type": "markdown",
   "id": "72de4362",
   "metadata": {},
   "source": [
    "---\n",
    "### Clean the Data\n",
    "\n",
    "Check for the existence of missing data and duplicate rows. Decide how to handle these issues."
   ]
  },
  {
   "attachments": {},
   "cell_type": "markdown",
   "id": "4de86c5d",
   "metadata": {},
   "source": [
    "#### Missing Data"
   ]
  },
  {
   "cell_type": "code",
   "execution_count": 4,
   "id": "d3735c9c",
   "metadata": {},
   "outputs": [],
   "source": [
    "# code"
   ]
  },
  {
   "attachments": {},
   "cell_type": "markdown",
   "id": "9541d59c",
   "metadata": {},
   "source": [
    "---\n",
    "### Duplicates"
   ]
  },
  {
   "cell_type": "code",
   "execution_count": 5,
   "id": "f563e0be",
   "metadata": {},
   "outputs": [
    {
     "name": "stdout",
     "output_type": "stream",
     "text": [
      "Number of duplicates: 3\n"
     ]
    }
   ],
   "source": [
    "# code"
   ]
  },
  {
   "attachments": {},
   "cell_type": "markdown",
   "id": "c22178ce",
   "metadata": {},
   "source": [
    "---\n",
    "### Explore the Data\n",
    "\n",
    "Use the `seaborn` library to create a pairwise scatter plot of the data. Try to figure out how to color the points and distributions by class.\n",
    "\n",
    "Examine the plot. If you were asked to discard one of the features, which one would you choose to drop?"
   ]
  },
  {
   "cell_type": "code",
   "execution_count": 5,
   "id": "47100610",
   "metadata": {},
   "outputs": [],
   "source": [
    "# code"
   ]
  },
  {
   "attachments": {},
   "cell_type": "markdown",
   "id": "821e3b36",
   "metadata": {},
   "source": [
    "---\n",
    "### Encode Class Labels\n",
    "\n",
    "Convert the string class labels to numeric class labels 0, 1, and 2."
   ]
  },
  {
   "cell_type": "code",
   "execution_count": 8,
   "id": "243464f1",
   "metadata": {},
   "outputs": [],
   "source": [
    "class_map = {'Iris-setosa': 0, 'Iris-versicolor': 1, 'Iris-virginica': 2}\n",
    "df['class'] = df['class'].replace(class_map)"
   ]
  },
  {
   "attachments": {},
   "cell_type": "markdown",
   "id": "4398be26",
   "metadata": {},
   "source": [
    "---\n",
    "### k-NN Classifier\n",
    "\n",
    "Implement the following function. Use the sklearn's `KNeighborsClassifier`. "
   ]
  },
  {
   "cell_type": "code",
   "execution_count": 8,
   "id": "74fb0167",
   "metadata": {},
   "outputs": [],
   "source": [
    "from sklearn.neighbors import KNeighborsClassifier\n",
    "\n",
    "def knn(X_train, y_train, X_test, y_test, k=1):\n",
    "     \"\"\"\n",
    "    This function trains a k-nearest neighbors classifier on the training data and evaluates its performance on \n",
    "    both the training and test sets. The function takes as input the feature matrices and target vectors of the \n",
    "    training and test sets (X_train, y_train, X_test, y_test), as well as an optional parameter k that specifies \n",
    "    the number of neighbors to use (default value is 1). The function returns the training and test error rates \n",
    "    as percentages.\n",
    "\n",
    "    Parameter:\n",
    "    ----------\n",
    "        X_train : numpy array representing the train feature matrix\n",
    "        y_train : numpy array representing the train classes\n",
    "        X_test  : numpy array representing the test feature matrix\n",
    "        y_test  : numpy array representing the test classes\n",
    "\n",
    "    Return:\n",
    "    -------\n",
    "        train_error :  training error rate in percentage\n",
    "        test_error  :  test error rate in percentage\n",
    "    \"\"\""
   ]
  },
  {
   "attachments": {},
   "cell_type": "markdown",
   "id": "a8e06be8",
   "metadata": {},
   "source": [
    "### Experiment\n",
    "\n",
    "Write a Python script that performs k-Nearest Neighbors (kNN) classification on the cleaned Iris DataFrame `df` using different values of k and different train-test splits. \n",
    "\n",
    "The script should:\n",
    "\n",
    "1. Split the data into training and test sets using a 2:1 ratio.\n",
    "2. Standardize the training and test data.\n",
    "3. Perform kNN classification for k ranging from 1 to 20.\n",
    "4. Repeat the above steps for 100 trials.\n",
    "\n",
    "Store the train and test errors for each trial and value of k in two 2D arrays: train_error and test_error.\n",
    "\n",
    "**Hints:**\n",
    "\n",
    "+ Use `sklearn.model_selection.train_test_split` for splitting the data into a training and test set. \n",
    "\n",
    "+ Use `sklearn.preprocessing.StandardScaler`to standardize your data.\n",
    "\n",
    "+ Consult the `sklearn` documentation for more details.\n"
   ]
  },
  {
   "cell_type": "code",
   "execution_count": 9,
   "id": "f05d6bca",
   "metadata": {},
   "outputs": [],
   "source": [
    "# code"
   ]
  },
  {
   "attachments": {},
   "cell_type": "markdown",
   "id": "6f2cc152",
   "metadata": {},
   "source": [
    "---\n",
    "### Calculate Average and Standard Deviation of Error Rates\n",
    "\n",
    "Calculate and store the average and standard deviation of the training and test error rates for each number  `k` of nearest neighbors. "
   ]
  },
  {
   "cell_type": "code",
   "execution_count": 13,
   "id": "00291645",
   "metadata": {},
   "outputs": [],
   "source": [
    "# code"
   ]
  },
  {
   "attachments": {},
   "cell_type": "markdown",
   "id": "dc657ab8",
   "metadata": {},
   "source": [
    "---\n",
    "### Plot Training and Test Error Rates\n",
    "\n",
    "Plot the average training and test error rates as a function of the number k of nearest neighbors. The plot should include a legend that indicates which line corresponds to the average training error and which line corresponds to the average test error.\n",
    "\n",
    "What do you observe and which number `k` of nearest neighbor would you choose for predicting future data?"
   ]
  },
  {
   "cell_type": "code",
   "execution_count": 10,
   "id": "4f63035e",
   "metadata": {},
   "outputs": [],
   "source": [
    "# code"
   ]
  }
 ],
 "metadata": {
  "kernelspec": {
   "display_name": "Python 3 (ipykernel)",
   "language": "python",
   "name": "python3"
  },
  "language_info": {
   "codemirror_mode": {
    "name": "ipython",
    "version": 3
   },
   "file_extension": ".py",
   "mimetype": "text/x-python",
   "name": "python",
   "nbconvert_exporter": "python",
   "pygments_lexer": "ipython3",
   "version": "3.11.5"
  }
 },
 "nbformat": 4,
 "nbformat_minor": 5
}
