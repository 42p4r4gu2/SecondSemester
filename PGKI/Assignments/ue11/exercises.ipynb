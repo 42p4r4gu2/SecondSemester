{
 "cells": [
  {
   "cell_type": "code",
   "execution_count": null,
   "id": "05157209-e07c-4669-8215-f3b7c12d3822",
   "metadata": {},
   "outputs": [],
   "source": [
    "import numpy as np\n",
    "import pandas as pd"
   ]
  },
  {
   "attachments": {},
   "cell_type": "markdown",
   "id": "f5952c69-6576-4705-94e3-eb5c488bb172",
   "metadata": {},
   "source": [
    "---\n",
    "### Creating a DataFrame"
   ]
  },
  {
   "attachments": {},
   "cell_type": "markdown",
   "id": "94efe8f9-acbb-473a-a8ac-897cecdea64a",
   "metadata": {},
   "source": [
    "Create a DataFrame with \n",
    "\n",
    "+ index 'a', ..., 'e'\n",
    "\n",
    "+ column `even` with values 0, 2, 4, 6, 8\n",
    "\n",
    "+ column `odd` with values 1, 3, 5, 7, 9\n",
    "\n",
    "in two ways, with and without a dictionary."
   ]
  },
  {
   "cell_type": "code",
   "execution_count": null,
   "id": "ed6a89ae-0a77-4677-84ee-4cf43335c1a7",
   "metadata": {
    "tags": []
   },
   "outputs": [],
   "source": [
    "# code"
   ]
  },
  {
   "cell_type": "code",
   "execution_count": null,
   "id": "3ae172ee-70ab-437d-b514-f06b3e846ed7",
   "metadata": {},
   "outputs": [],
   "source": [
    "# code"
   ]
  },
  {
   "attachments": {},
   "cell_type": "markdown",
   "id": "804fe731-626c-4356-8d8e-5f715e1ae946",
   "metadata": {},
   "source": [
    "---\n",
    "## Indexing"
   ]
  },
  {
   "attachments": {},
   "cell_type": "markdown",
   "id": "f81cd407-d264-4363-a8ff-50fd7d1b4b78",
   "metadata": {},
   "source": [
    "---\n",
    "### Exercise\n",
    "\n",
    "Access the column with odd values."
   ]
  },
  {
   "cell_type": "code",
   "execution_count": null,
   "id": "0050fab7-b369-4916-b605-24d22582478e",
   "metadata": {},
   "outputs": [],
   "source": [
    "# code"
   ]
  },
  {
   "attachments": {},
   "cell_type": "markdown",
   "id": "d0fc15db-7c65-4225-8302-36991c8cfbf4",
   "metadata": {},
   "source": [
    "---\n",
    "### Exercise:\n",
    "\n",
    "Access the row with index `c`."
   ]
  },
  {
   "cell_type": "code",
   "execution_count": null,
   "id": "43d6b12d-26f1-4209-b34b-9b134a22af9f",
   "metadata": {},
   "outputs": [],
   "source": [
    "# code"
   ]
  },
  {
   "attachments": {},
   "cell_type": "markdown",
   "id": "901521b2-d609-40a4-96a0-282535916b27",
   "metadata": {},
   "source": [
    "---\n",
    "### Exercise\n",
    "\n",
    "\n",
    "Access the even value of row `d`."
   ]
  },
  {
   "cell_type": "code",
   "execution_count": null,
   "id": "5e0733f8-d780-48a4-854d-80c017ef1509",
   "metadata": {},
   "outputs": [],
   "source": [
    "# code"
   ]
  },
  {
   "attachments": {},
   "cell_type": "markdown",
   "id": "2b38cb0e-9ad7-4283-b565-541bf4135c3b",
   "metadata": {},
   "source": [
    "---\n",
    "### Exercise \n",
    "\n",
    "Consider the following DataFrame:"
   ]
  },
  {
   "cell_type": "code",
   "execution_count": null,
   "id": "e7093608-fb01-4389-bf5e-f5663440d292",
   "metadata": {},
   "outputs": [],
   "source": [
    "df = pd.DataFrame(\n",
    "    np.arange(12).reshape(4, 3) + 10,\n",
    "    index=[1, 2, 3, 4], \n",
    "    columns=[1,2,3])\n",
    "print(df)"
   ]
  },
  {
   "attachments": {},
   "cell_type": "markdown",
   "id": "7ac903dc-8675-44f2-9045-71906a914c36",
   "metadata": {},
   "source": [
    "**Task:** Predict the output:"
   ]
  },
  {
   "cell_type": "code",
   "execution_count": null,
   "id": "94fc7322-4615-4597-82f3-34b11bd5c44e",
   "metadata": {},
   "outputs": [],
   "source": [
    "# df[1]\n",
    "# df.loc[1]\n",
    "# df.iloc[2]\n",
    "# df[1,1]\n",
    "# df[1].loc[1]\n",
    "# df[1].iloc[1]\n",
    "# df.loc[1,1]\n",
    "# df.iloc[1,1]"
   ]
  },
  {
   "attachments": {},
   "cell_type": "markdown",
   "id": "cd285752-a5cc-4d44-95fd-0edc5e747716",
   "metadata": {},
   "source": [
    "---\n",
    "## Reading CSV Files"
   ]
  },
  {
   "attachments": {},
   "cell_type": "markdown",
   "id": "926d6b3f-a91b-4364-a4a6-21260465da50",
   "metadata": {},
   "source": [
    "---\n",
    "### Exercise\n",
    "\n",
    "Read the dataset `data/bmi01.csv` and inspect the DataFrame in different ways. "
   ]
  },
  {
   "cell_type": "code",
   "execution_count": null,
   "id": "3832a333-4c13-47b5-8377-05d62e5cd662",
   "metadata": {},
   "outputs": [],
   "source": [
    "filename = 'data/bmi01.csv'\n",
    "\n",
    "# code"
   ]
  },
  {
   "attachments": {},
   "cell_type": "markdown",
   "id": "a8ee1901-3eca-4516-b6b9-e936f84624b1",
   "metadata": {},
   "source": [
    "---\n",
    "### Exercise\n",
    "\n",
    "Read the dataset `data/bmi02.csv` and inspect the DataFrame. "
   ]
  },
  {
   "cell_type": "code",
   "execution_count": null,
   "id": "9abc8c4c-c0d5-4d34-978c-bd4942f936b9",
   "metadata": {},
   "outputs": [],
   "source": [
    "# code"
   ]
  },
  {
   "attachments": {},
   "cell_type": "markdown",
   "id": "f0dcb70d-91a1-4a16-94f4-7b5dd378f4aa",
   "metadata": {},
   "source": [
    "---\n",
    "### Exercise\n",
    "\n",
    "Read the dataset `data/bmi03.csv` and inspect the DataFrame. "
   ]
  },
  {
   "cell_type": "code",
   "execution_count": null,
   "id": "84d4f92a-4e8c-4e78-aa64-e53f10a3d328",
   "metadata": {},
   "outputs": [],
   "source": [
    "# code"
   ]
  },
  {
   "attachments": {},
   "cell_type": "markdown",
   "id": "7c1e6600-d86c-4509-a113-ed24f2c81074",
   "metadata": {},
   "source": [
    "---\n",
    "### Exercise\n",
    "\n",
    "Add columns names 'Gender', 'Height', 'Weight' to the DataFrame from the previous exercise."
   ]
  },
  {
   "cell_type": "code",
   "execution_count": null,
   "id": "f7036a1e-b928-45a7-abc8-c166e453047b",
   "metadata": {},
   "outputs": [],
   "source": [
    "# code"
   ]
  },
  {
   "attachments": {},
   "cell_type": "markdown",
   "id": "ce96ae15-3978-4d66-bdd1-a6d8bff240e2",
   "metadata": {},
   "source": [
    "---\n",
    "### Exercise\n",
    "\n",
    "Rename the `Gender` column of the DataFrame from the previous exercise to `Sex`."
   ]
  },
  {
   "cell_type": "code",
   "execution_count": null,
   "id": "1e5fe09b-5b9a-43ba-83f8-eb1dadcbb27c",
   "metadata": {},
   "outputs": [],
   "source": [
    "# code"
   ]
  },
  {
   "attachments": {},
   "cell_type": "markdown",
   "id": "e97b96d4-5263-44be-9728-c3f750c8c589",
   "metadata": {},
   "source": [
    "---\n",
    "### Exercise\n",
    "\n",
    "Read `data/bmi03.csv` and add column names 'Gender', 'Height', 'Weight' while creating the DataFrame. "
   ]
  },
  {
   "cell_type": "code",
   "execution_count": null,
   "id": "c117c895-b95b-4c7e-b799-4604fbebc6ed",
   "metadata": {},
   "outputs": [],
   "source": [
    "# code"
   ]
  },
  {
   "attachments": {},
   "cell_type": "markdown",
   "id": "d8f0c093-7809-4483-9dce-aaf70e73b44c",
   "metadata": {},
   "source": [
    "---\n",
    "## Slicing\n",
    "\n",
    "All exercises in the slicing section refer to the DataFrame of the first exercise. "
   ]
  },
  {
   "attachments": {},
   "cell_type": "markdown",
   "id": "d1626a64-c3a2-4e5c-a327-07c957ca386b",
   "metadata": {},
   "source": [
    "---\n",
    "### Exercise\n",
    "\n",
    "Create a DataFrame to store a 10x10 matrix with values from 1 to 100. The column names are 'a', ..., 'j' and the index-labels are 'A', ..., 'J'."
   ]
  },
  {
   "cell_type": "code",
   "execution_count": null,
   "id": "dd7854b1-619f-4280-9136-4501906cf1fe",
   "metadata": {},
   "outputs": [],
   "source": [
    "# code"
   ]
  },
  {
   "attachments": {},
   "cell_type": "markdown",
   "id": "0501a377-d322-434f-9665-e03741c28813",
   "metadata": {},
   "source": [
    "---\n",
    "### Exercise \n",
    "\n",
    "Access every second column starting with the second column."
   ]
  },
  {
   "cell_type": "code",
   "execution_count": null,
   "id": "2378d976-601d-4e58-986c-9f091b7280bc",
   "metadata": {},
   "outputs": [],
   "source": [
    "# code"
   ]
  },
  {
   "attachments": {},
   "cell_type": "markdown",
   "id": "890cfffc-e3e0-450c-8f98-8815c9947bf7",
   "metadata": {},
   "source": [
    "---\n",
    "### Exercise\n",
    "\n",
    "Access every second row and every second column. Start with the second row and the first column."
   ]
  },
  {
   "cell_type": "code",
   "execution_count": null,
   "id": "4190ee78-9878-4e35-9575-a6d0df59e57e",
   "metadata": {},
   "outputs": [],
   "source": [
    "# code"
   ]
  },
  {
   "attachments": {},
   "cell_type": "markdown",
   "id": "52eb6da4-3ff2-4aed-9a54-45b071a87d90",
   "metadata": {},
   "source": [
    "---\n",
    "### Exercise \n",
    "\n",
    "Access rows 'D' to 'G' and columns 'f' to 'i'."
   ]
  },
  {
   "cell_type": "code",
   "execution_count": null,
   "id": "9cea353c-97f0-44da-abe8-a4c1e71a0c1b",
   "metadata": {},
   "outputs": [],
   "source": [
    "# code"
   ]
  }
 ],
 "metadata": {
  "kernelspec": {
   "display_name": "Python 3 (ipykernel)",
   "language": "python",
   "name": "python3"
  },
  "language_info": {
   "codemirror_mode": {
    "name": "ipython",
    "version": 3
   },
   "file_extension": ".py",
   "mimetype": "text/x-python",
   "name": "python",
   "nbconvert_exporter": "python",
   "pygments_lexer": "ipython3",
   "version": "3.11.5"
  }
 },
 "nbformat": 4,
 "nbformat_minor": 5
}
