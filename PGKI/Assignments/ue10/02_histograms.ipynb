{
 "cells": [
  {
   "attachments": {},
   "cell_type": "markdown",
   "metadata": {},
   "source": [
    "## Histograms\n",
    "A histogram is a graphical representation that approximates the distribution of numerical data:\n",
    "\n",
    "![Histograms](./imgs/hist_01.png)\n",
    "\n",
    "To construct a histogram:\n",
    "\n",
    "1. Divide the entire range of values into consecutive intervals, called *bins*.\n",
    "\n",
    "2. Count how many values fall into each bin.\n",
    "\n",
    "The bins are often (but not necessarily) of equal size. To construct a histogram, erect a rectangle over each bin with height proportional to the number of values in the bin. There are two cases to consider when constructing a histogram:\n",
    "\n",
    "+ **Case 1: The bins are of equal size**\n",
    "    The heights of the rectangles represent the *frequencies* or *relative frequencies* of the values in each bin.\n",
    "\n",
    "+ **Case 2: The bins are of different sizes**\n",
    "    The heights of the rectangles represent the *frequency-densities* of the values in each bin.\n",
    "\n",
    "**Definitions:**\n",
    "+ *Frequency*: The number of values in a bin.\n",
    "\n",
    "+ *Relative frequency*: The number of values in a bin divided by the total number of values.\n",
    "\n",
    "+ *Frequency-density*: The number of values in a bin divided by the width of the bin.\n",
    "\n",
    "<br>\n",
    "\n",
    "**Resources:**\n",
    "\n",
    "+ [Histograms](https://en.wikipedia.org/wiki/Histogram)\n",
    "\n",
    "+ [matplotlib.pyplot.hist](https://matplotlib.org/stable/api/_as_gen/matplotlib.pyplot.hist.html#matplotlib.pyplot.hist)\n"
   ]
  },
  {
   "cell_type": "code",
   "execution_count": 1,
   "metadata": {},
   "outputs": [],
   "source": [
    "import numpy as np\n",
    "import matplotlib.pyplot as plt"
   ]
  },
  {
   "attachments": {},
   "cell_type": "markdown",
   "metadata": {},
   "source": [
    "---\n",
    "### Example\n",
    "\n",
    "Generate an array with $n$ values drawn from a standard normal distribution. Plot a default histogram. Then vary the number of values and the bin width. "
   ]
  },
  {
   "cell_type": "code",
   "execution_count": 2,
   "metadata": {},
   "outputs": [
    {
     "data": {
      "image/png": "[encoded data removed]",
      "text/plain": [
       "<Figure size 400x300 with 1 Axes>"
      ]
     },
     "metadata": {},
     "output_type": "display_data"
    }
   ],
   "source": [
    "# default histogram\n",
    "x = np.random.normal(0, 1, 1000)\n",
    "plt.figure(figsize=(4, 3))\n",
    "plt.hist(x)\n",
    "plt.show()"
   ]
  },
  {
   "attachments": {},
   "cell_type": "markdown",
   "metadata": {},
   "source": [
    "---\n",
    "### Example\n",
    "Customize the histogram by experimenting with different parameters of `plt.hist`"
   ]
  },
  {
   "cell_type": "code",
   "execution_count": 10,
   "metadata": {},
   "outputs": [
    {
     "data": {
      "image/png": "[encoded data removed]",
      "text/plain": [
       "<Figure size 400x300 with 1 Axes>"
      ]
     },
     "metadata": {},
     "output_type": "display_data"
    }
   ],
   "source": [
    "# customized histogram\n",
    "x = np.random.normal(0, 1, 20)\n",
    "plt.figure(figsize=(4, 3))\n",
    "plt.hist(x, bins=30, density=True, alpha=0.5, histtype='stepfilled', color='steelblue');"
   ]
  },
  {
   "attachments": {},
   "cell_type": "markdown",
   "metadata": {},
   "source": [
    "---\n",
    "### Example: Comparing Distributions with Histograms\n",
    "\n",
    "Generate three arrays and compare the distributions by plotting their histograms. Follow these steps:\n",
    "\n",
    "1. Generate three arrays `x1`, `x2`, and `x3`, each consisting of 1000 values drawn from different normal distributions:\n",
    "\n",
    "    + `x1`: mean 0 and standard deviation 0.8\n",
    "\n",
    "    + `x2`: mean -2 and standard deviation 1.0\n",
    "    \n",
    "    + `x3`: mean 3 and standard deviation 2.0\n",
    "\n",
    "2. Plot the histograms of the three arrays on the same axes.\n",
    "\n",
    "3. Use the transparency parameter `alpha` for blending (to make the histograms semi-transparent). For this, pass the keyword argument `alpha=0.4`  (or any other scalar in the 0-1 range, inclusive).\n",
    "\n",
    "3. Pass arguments that are common for all three histograms as keyword arguments using a dictionary.\n",
    "\n",
    "Here is an example of what the resulting plot might look like:\n",
    "\n",
    "![Histograms with alpha](./imgs/hist_02.png)\n",
    "\n",
    "\n",
    "**Hint:** To pass common arguments for all three histograms as keyword arguments, create a dictionary (e.g., `kwargs = dict(bins=30, ...)`) and pass it as an argument using the `**` syntax (e.g., `plt.hist(x, **kwargs)`)."
   ]
  },
  {
   "cell_type": "code",
   "execution_count": 11,
   "metadata": {},
   "outputs": [
    {
     "data": {
      "image/png": "[encoded data removed]",
      "text/plain": [
       "<Figure size 400x300 with 1 Axes>"
      ]
     },
     "metadata": {},
     "output_type": "display_data"
    }
   ],
   "source": [
    "n = 1000\n",
    "x1 = np.random.normal( 0, 0.8, n)\n",
    "x2 = np.random.normal(-2, 1.0, n)\n",
    "x3 = np.random.normal( 3, 2.0, n)\n",
    "\n",
    "kwargs = dict(bins=30, density=True, histtype='stepfilled', alpha=0.4)\n",
    "\n",
    "plt.figure(figsize=(4, 3))\n",
    "plt.hist(x1, **kwargs)\n",
    "plt.hist(x2, **kwargs)\n",
    "plt.hist(x3, **kwargs)\n",
    "\n",
    "plt.show()"
   ]
  },
  {
   "cell_type": "code",
   "execution_count": null,
   "metadata": {},
   "outputs": [],
   "source": []
  }
 ],
 "metadata": {
  "kernelspec": {
   "display_name": "Python 3 (ipykernel)",
   "language": "python",
   "name": "python3"
  },
  "language_info": {
   "codemirror_mode": {
    "name": "ipython",
    "version": 3
   },
   "file_extension": ".py",
   "mimetype": "text/x-python",
   "name": "python",
   "nbconvert_exporter": "python",
   "pygments_lexer": "ipython3",
   "version": "3.1.undefined"
  }
 },
 "nbformat": 4,
 "nbformat_minor": 4
}
