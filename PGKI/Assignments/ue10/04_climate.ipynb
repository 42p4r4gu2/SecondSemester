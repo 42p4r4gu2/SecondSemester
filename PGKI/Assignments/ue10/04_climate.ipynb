{
 "cells": [
  {
   "attachments": {},
   "cell_type": "markdown",
   "metadata": {},
   "source": [
    "## Global Warming\n",
    "\n",
    "The `temperature.csv` file contains a summary of the land monthly average high temperature in Celsius. The data was produced using the Berkeley Earth [[>](https://berkeleyearth.org/data/)] averaging method and covers the period from January 1850 to July 2023. The data set has the following columns:\n",
    "\n",
    "+ column 1 : `year` \n",
    "+ column 2 : `month`\n",
    "+ column 4 : `anomaly`\n",
    "+ column 5 : `absolute`  \n",
    "\n",
    "Anomalies represent the deviation from the average temperature for the period from January 1951 to December 1980 (14.39°C ± 0.09). The `absolute` column shows the monthly average temperature obtained by adding the average of 14.39°C to the anomalies."
   ]
  },
  {
   "attachments": {},
   "cell_type": "markdown",
   "metadata": {},
   "source": [
    "### Imports"
   ]
  },
  {
   "cell_type": "code",
   "execution_count": 2,
   "metadata": {},
   "outputs": [],
   "source": [
    "import numpy as np\n",
    "import matplotlib.pyplot as plt"
   ]
  },
  {
   "attachments": {},
   "cell_type": "markdown",
   "metadata": {},
   "source": [
    "---\n",
    "### Data"
   ]
  },
  {
   "cell_type": "code",
   "execution_count": 3,
   "metadata": {},
   "outputs": [],
   "source": [
    "# load data and display info"
   ]
  },
  {
   "attachments": {},
   "cell_type": "markdown",
   "metadata": {},
   "source": [
    "---\n",
    "### Visualizing the Temperature Time Series\n",
    "\n",
    "Create a plot of the absolute temperatures. Set the x-axis ticks to display the years 1860, 1910, 1960, and 2010. Add a descriptive title and labels for both the x- and y-axis."
   ]
  },
  {
   "cell_type": "code",
   "execution_count": 1,
   "metadata": {},
   "outputs": [],
   "source": [
    "# code"
   ]
  },
  {
   "attachments": {},
   "cell_type": "markdown",
   "metadata": {},
   "source": [
    "---\n",
    "### Rolling Average of the Temperature\n",
    "\n",
    "The previous plot shows that the temperature strongly oscillates, making it difficult to detect a trend. To address this issue, we can use a rolling average to smooth out the data.\n",
    "\n",
    "A rolling average (moving average) calculates the average of a timeseries over a fixed number of consecutive time steps. For example, if we have a time series with daily data and we want to calculate a 7-day rolling average, we would take the average of the first 7 days, then the average of days 2-8, then days 3-9, and so on.\n",
    "\n",
    "Write a function that returns a rolling average over k steps for a given time series. Write your own (slow) function with a for loop."
   ]
  },
  {
   "cell_type": "code",
   "execution_count": 2,
   "metadata": {},
   "outputs": [],
   "source": [
    "# code"
   ]
  },
  {
   "attachments": {},
   "cell_type": "markdown",
   "metadata": {},
   "source": [
    "---\n",
    "### Visualizing Rolling Averages"
   ]
  },
  {
   "attachments": {},
   "cell_type": "markdown",
   "metadata": {},
   "source": [
    "Create a line plot to display the original temperature time series along with its rolling averages over 1, 10, and 30 years. Include a legend to distinguish between the different lines. Add a title, axis labels, and axis ticks as in the previous plot."
   ]
  },
  {
   "cell_type": "code",
   "execution_count": 3,
   "metadata": {},
   "outputs": [],
   "source": [
    "# code"
   ]
  },
  {
   "attachments": {},
   "cell_type": "markdown",
   "metadata": {},
   "source": [
    "---\n",
    "### Temperature Heatmap\n",
    "\n",
    "Create a heatmap similar to the one shown below:\n",
    "\n",
    "<img src=\"./imgs/heatmap.png\" width=\"50%\" height=\"50%\">\n",
    "\n",
    "In this heatmap, each column represents the 12 months of a year and each row represents a fixed month over all years between 1880 and 2022. Blue colors indicate lower temperatures and red colors indicate higher temperatures.\n",
    "\n",
    "**Hints:**\n",
    "\n",
    "- Remove the temperatures for the first month of the year 2023.\n",
    "\n",
    "- Reshape the temperature time series into a matrix.\n",
    "\n",
    "- Use `pyplot.imshow()` to display the matrix as an image. You can control the aspect ratio of the image using the `aspect` parameter and the coloring using a colormap. The colormap shown here is `coolwarm`. You can find an overview of colormaps in the [Matplotlib documentation](https://matplotlib.org/stable/tutorials/colors/colormaps.html). For more details on `pyplot.imshow()`, consult its [documentation](https://matplotlib.org/stable/api/_as_gen/matplotlib.axes.Axes.imshow.html).\n",
    "\n",
    "- Add a colorbar using `plt.colorbar(shrink=0.55)`. You can control the size of the colorbar using the optional `shrink` parameter."
   ]
  },
  {
   "cell_type": "code",
   "execution_count": 4,
   "metadata": {},
   "outputs": [],
   "source": [
    "# code"
   ]
  }
 ],
 "metadata": {
  "kernelspec": {
   "display_name": "Python 3 (ipykernel)",
   "language": "python",
   "name": "python3"
  },
  "language_info": {
   "codemirror_mode": {
    "name": "ipython",
    "version": 3
   },
   "file_extension": ".py",
   "mimetype": "text/x-python",
   "name": "python",
   "nbconvert_exporter": "python",
   "pygments_lexer": "ipython3",
   "version": "3.11.3"
  }
 },
 "nbformat": 4,
 "nbformat_minor": 4
}
