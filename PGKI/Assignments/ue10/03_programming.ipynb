{
 "cells": [
  {
   "cell_type": "code",
   "execution_count": 1,
   "metadata": {},
   "outputs": [],
   "source": [
    "import numpy as np\n",
    "import matplotlib.pyplot as plt"
   ]
  },
  {
   "attachments": {},
   "cell_type": "markdown",
   "metadata": {},
   "source": [
    "---\n",
    "### Exercise: Histograms\n",
    "\n",
    "Walk through the notebook on histograms [[>](./histograms.ipynb)]. "
   ]
  },
  {
   "attachments": {},
   "cell_type": "markdown",
   "metadata": {},
   "source": [
    "---\n",
    "### Exercise: Plotting Normalized Functions\n",
    "\n",
    "Consider the functions $f_n(x) = x^n \\sin(x)$ over the interval $[-10, 10]$. Let $f_n^*$ denote the maximum of $|f_n(x)|$ over $[-10, 10]$. Plot the normalized functions $f_n/f_n^*$ for $n = 1, 2, 3, 4$. Follow these steps:\n",
    "\n",
    "1. Plot each normalized function using a different line style.\n",
    "\n",
    "2. Add a title to the plot.\n",
    "\n",
    "3. Label the x- and y-axes.\n",
    "\n",
    "4. Add a grid to the plot.\n",
    "\n",
    "5. Display a legend."
   ]
  },
  {
   "cell_type": "code",
   "execution_count": 17,
   "metadata": {},
   "outputs": [
    {
     "data": {
      "image/png": "[encoded data removed]",
      "text/plain": [
       "<Figure size 500x1000 with 4 Axes>"
      ]
     },
     "metadata": {},
     "output_type": "display_data"
    }
   ],
   "source": [
    "# code\n",
    "\n",
    "x = np.linspace(-10,10,100)\n",
    "f = [x ** n * np.sin(x) for n in range(1,5)]\n",
    "figs, axes = plt.subplots(4, figsize=(5,10))\n"
   ]
  },
  {
   "attachments": {},
   "cell_type": "markdown",
   "metadata": {},
   "source": [
    "---\n",
    "### Exercise: Creating a Scatter Plot of Height and Weight\n",
    "\n",
    "The `bmi.csv` dataset consists of 10,000 rows with three columns: `gender`, `height`, and `weight`. Males are encoded as 0 and females as 1. Show the relationship between height against weights using a default scatter plot.\n",
    "\n",
    "Follow these steps:\n",
    "1. Randomly select a smaller number of examples (e.g., 200) from the dataset.\n",
    "\n",
    "2. Create a scatter plot of the randomly selected examples, showing the relationship between height and weight.\n",
    "\n",
    "3. Use different colors and markers for each gender.\n",
    "\n",
    "4. Add a title, x-label, y-label, grid, and legend to the plot."
   ]
  },
  {
   "cell_type": "code",
   "execution_count": 2,
   "metadata": {},
   "outputs": [],
   "source": [
    "# code"
   ]
  },
  {
   "attachments": {},
   "cell_type": "markdown",
   "metadata": {},
   "source": [
    "---\n",
    "### Exercise: Comparing Temperature Distributions \n",
    "\n",
    "Compare the daily average temperature distributions in 2020 of three cities: Munich, Kuwait, and Fairbanks (Alaska). The temperatures (in degrees Fahrenheit) are provided in the file `./data/temp2020.csv`.\n",
    "\n",
    "Follow these steps:\n",
    "1. Load the temperature data from the file `data/temp2020.csv`.\n",
    "\n",
    "2. Convert the temperatures from degrees Fahrenheit to degrees Celsius using the formula $C = 5(F - 32)/9$.\n",
    "\n",
    "3. Plot histograms of the temperature distributions for each city on the same axes.\n",
    "\n",
    "4. Customize the histograms by setting the bins from -40 to 35 with a width of 5, adding a legend showing the cities, and adding a title, x-label, and y-label."
   ]
  },
  {
   "cell_type": "code",
   "execution_count": 3,
   "metadata": {},
   "outputs": [],
   "source": [
    "# code"
   ]
  },
  {
   "attachments": {},
   "cell_type": "markdown",
   "metadata": {},
   "source": [
    "---\n",
    "### Exercise: Creating a Pairwise Scatter Plot of the Pima Indians Diabetes Dataset\n",
    "\n",
    "The Pima Indians Diabetes dataset is a table consisting of $m$ rows and $n+1$ columns. Each row corresponds to a female patient of Pima Indian heritage. The columns correspond to medical features, with the last column representing the class label indicating whether a patient has diabetes or not.\n",
    "\n",
    "\n",
    "Load the Pima dataset from the file `./data/pima.csv` using the following statement:\n",
    "\n",
    "```python\n",
    "    data = np.genfromtxt('../data/pima.csv', delimiter=',')\n",
    "```\n",
    "\n",
    "Create a pairwise scatter plot of the features, excluding the class labels. For diagonal grid cells (i, i), show a histogram of the i-th feature. Save the plot to a file.\n",
    "\n",
    "Here is an example of what the pairwise scatter plot might look like:\n",
    "\n",
    "<div>\n",
    "<img src=\"./imgs/scatter_02.png\" width=\"600\"/>\n",
    "</div>"
   ]
  },
  {
   "cell_type": "code",
   "execution_count": 4,
   "metadata": {},
   "outputs": [],
   "source": [
    "# code"
   ]
  },
  {
   "attachments": {},
   "cell_type": "markdown",
   "metadata": {},
   "source": [
    "---\n",
    "### Exercise\n",
    "\n",
    "Enhance your solution from the previous exercise by coloring the points in the pairwise scatter plot based on their class membership. \n",
    "\n",
    "Here is an example of what the colored pairwise scatter plot might look like:\n",
    "\n",
    "<div>\n",
    "<img src=\"./imgs/scatter_03.png\" width=\"600\"/>\n",
    "</div>"
   ]
  },
  {
   "cell_type": "code",
   "execution_count": 5,
   "metadata": {},
   "outputs": [],
   "source": [
    "# code "
   ]
  }
 ],
 "metadata": {
  "kernelspec": {
   "display_name": "Python 3 (ipykernel)",
   "language": "python",
   "name": "python3"
  },
  "language_info": {
   "codemirror_mode": {
    "name": "ipython",
    "version": 3
   },
   "file_extension": ".py",
   "mimetype": "text/x-python",
   "name": "python",
   "nbconvert_exporter": "python",
   "pygments_lexer": "ipython3",
   "version": "3.11.7"
  }
 },
 "nbformat": 4,
 "nbformat_minor": 4
}
