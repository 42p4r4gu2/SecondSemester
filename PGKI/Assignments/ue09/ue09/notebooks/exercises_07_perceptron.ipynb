{
 "cells": [
  {
   "attachments": {},
   "cell_type": "markdown",
   "metadata": {},
   "source": [
    "## Perceptron \n",
    "\n",
    "The task of this exercise is to reimplement and test the perceptron algorithm from UE 06 for verifying the authenticity of banknotes. Rewrite the program and replace basic Python with NumPy as much as possible. \n",
    "\n",
    "A revised version of the Perceptron algorithm from UE 06 is shown below. Use the dataset `./data/banknote.csv`. To read the data into a NumPy array call \n",
    "\n",
    "```python\n",
    "    Z = np.loadtxt('./data/banknote.csv', delimiter=',')\n",
    "```\n",
    "\n",
    "<br>\n",
    "\n",
    "**Task**\n",
    "\n",
    "+ Load the data\n",
    "\n",
    "+ Display information about the data set (see below)\n",
    "\n",
    "+ Randomly split the data into a training set (80 %) and test set (20 %)\n",
    "\n",
    "+ Train a model using the Perceptron algorithm on the training set\n",
    "\n",
    "+ Evaluate the error rate of the trained model on the test set\n",
    "\n",
    "<br>\n",
    "\n",
    "**Note:** Before training a model, it is important to explore the data you want to learn from. Display some general statistics such as the number of examples, number of features, number of classes, mean, standard deviation, minimum, and maximum of each feature, and so on."
   ]
  },
  {
   "attachments": {},
   "cell_type": "markdown",
   "metadata": {},
   "source": [
    "\n",
    "---\n",
    "### Perceptron Algorithm\n",
    "\n",
    "The perceptron algorithm described here assumes class labels of $\\pm 1$. A feature vector is denoted by $\\mathbf{x} \\in \\mathbb{R}^n$ and its corresponding class label by $y \\in \\{\\pm 1\\}$.\n",
    "\n",
    "A perceptron with weight vector $\\mathbf{w} \\in \\mathbb{R}^n$ and bias $b \\in \\mathbb{R}$ classifies a point $\\mathbf{x} \\in \\mathbb{R}^n$ to class $y$ according to the rule\n",
    "\n",
    "$$\n",
    "    f_{\\mathbf{w}, b}(\\mathbf{x}) = \\begin{cases}\n",
    "    +1 & \\mathbf{w}^{t}\\mathbf{x} + b \\geq 0\\\\\n",
    "    -1 & \\text{otherwise}\n",
    "    \\end{cases},\n",
    "$$\n",
    "\n",
    "where $\\mathbf{w}^{t}\\mathbf{x} = w_1x_1 + \\cdots + w_n x_n$ is the dot product of $\\mathbf{w}$ and $\\mathbf{x}$. The prediction $f_{\\mathbf{w}, b}(\\mathbf{x})$ is correct if $f_{\\mathbf{w}, b}(\\mathbf{x}) = y$. Otherwise, there is a misclassification.\n",
    "\n",
    "The goal of learning is to find suitable parameters $\\mathbf{w}$ and $b$ such that the learned function $f_{\\mathbf{w}, b}$ misclassifies as few training examples as possible. \n",
    "\n",
    "The perceptron algorithm describes how suitable parameters $\\mathbf{w}$ and $b$ can be learned.\n",
    "\n",
    "**Perceptron Algorithm**\n",
    "\n",
    "1. Initialize the weight vector $\\mathbf{w}$ and bias $b$\n",
    "2. Repeat for `max_iter` times\n",
    "    1. For each training example $(\\mathbf{x}, y)$:\n",
    "        1. calculate $\\hat{y} = f_{\\mathbf{w}, b}(\\mathbf{x})$\n",
    "        2. update $\\mathbf{w}$ and $b$ according to the rule\n",
    "        \n",
    "            $\\mathbf{w} \\leftarrow \\mathbf{w} + \\eta(y-\\hat{y}) \\mathbf{x}$\n",
    "\n",
    "            $b \\leftarrow b + \\eta(y-\\hat{y})$\n",
    "        \n",
    "        where $\\eta \\in [0, 1]$ is the learning rate (step size).\n",
    "    2. Output the classification accuracy over all training examples\n",
    "3. Return $\\mathbf{w}$ and $b$.\n",
    "\n",
    "In **Step 1**, the weights $\\mathbf{w}$ and the bias $b$ are initialized with random values between $[-\\sigma, +\\sigma]$. Use a suitable NumPy function for this purpose. In **Step 2**, the algorithm is repeated for a predetermined number of iterations (`max_iter`). In each iteration, all training examples are visited, the prediction is calculated, and the weight vector and bias are updated. After each iteration, the classification accuracy on the training set is calculated and displayed. In **Step 3**, the learned weight vector and bias are returned.\n",
    "\n",
    "You can use the following parameter setting: \n",
    "\n",
    "```\n",
    "    sigma = 0.1\t\n",
    "    num_epochs = 10\t\n",
    "    eta = 0.1\n",
    "```"
   ]
  },
  {
   "attachments": {},
   "cell_type": "markdown",
   "metadata": {},
   "source": [
    "---\n",
    "### Imports and settings"
   ]
  },
  {
   "cell_type": "code",
   "execution_count": 53,
   "metadata": {},
   "outputs": [],
   "source": [
    "import numpy as np\n",
    "\n",
    "filename = 'data/banknote.csv'"
   ]
  }
 ],
 "metadata": {
  "kernelspec": {
   "display_name": "Python 3 (ipykernel)",
   "language": "python",
   "name": "python3"
  },
  "language_info": {
   "codemirror_mode": {
    "name": "ipython",
    "version": 3
   },
   "file_extension": ".py",
   "mimetype": "text/x-python",
   "name": "python",
   "nbconvert_exporter": "python",
   "pygments_lexer": "ipython3",
   "version": "3.11.3"
  }
 },
 "nbformat": 4,
 "nbformat_minor": 4
}
