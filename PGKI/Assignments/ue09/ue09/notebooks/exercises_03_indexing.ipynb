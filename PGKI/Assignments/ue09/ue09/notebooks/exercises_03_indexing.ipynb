{
 "cells": [
  {
   "cell_type": "code",
   "execution_count": 1,
   "metadata": {},
   "outputs": [],
   "source": [
    "import numpy as np"
   ]
  },
  {
   "attachments": {},
   "cell_type": "markdown",
   "metadata": {},
   "source": [
    "---\n",
    "## Indexing\n",
    "\n",
    "Solve the following exercises without using loops and without inserting the values manually. Let $a, b$ two numbers with $a \\leq b$ The colloquial phrases \n",
    "\n",
    "* from a to b\n",
    "* between a and b\n",
    "\n",
    "include **both** numbers $a$ and $b$. "
   ]
  },
  {
   "attachments": {},
   "cell_type": "markdown",
   "metadata": {},
   "source": [
    "---\n",
    "### Exercise 1\n",
    "\n",
    "Create an array with values from 0 to 10 and set even numbers to zero."
   ]
  },
  {
   "cell_type": "code",
   "execution_count": 13,
   "metadata": {},
   "outputs": [],
   "source": [
    "# code"
   ]
  },
  {
   "attachments": {},
   "cell_type": "markdown",
   "metadata": {},
   "source": [
    "---\n",
    "### Exercise 2\n",
    "\n",
    "Create an array with values from 0 to 10 and change the sign of the numbers from 3 to 7. "
   ]
  },
  {
   "cell_type": "code",
   "execution_count": 17,
   "metadata": {},
   "outputs": [],
   "source": [
    "# code"
   ]
  },
  {
   "attachments": {},
   "cell_type": "markdown",
   "metadata": {},
   "source": [
    "---\n",
    "### Exercise 3\n",
    "\n",
    "Select the values 6, 7, 17, and 18 from the given 2D array using a single statement. "
   ]
  },
  {
   "cell_type": "code",
   "execution_count": 42,
   "metadata": {},
   "outputs": [],
   "source": [
    "x = np.arange(25).reshape(5, 5)\n",
    "print(x)"
   ]
  },
  {
   "cell_type": "code",
   "execution_count": 46,
   "metadata": {},
   "outputs": [],
   "source": [
    "# code"
   ]
  },
  {
   "attachments": {},
   "cell_type": "markdown",
   "metadata": {},
   "source": [
    "\n",
    "---\n",
    "### Exercise 4: Finding Top Math Students\n",
    "\n",
    "In this exercise, you will work with a dataset of student grades stored in a 2D array. Each row represents a student and each column represents a subject. The values in the array are the scores of the students in each subject. The first column refers to math.\n",
    "\n",
    "**Task:**\n",
    "\n",
    "1. Find all the students who scored above 90 in math.\n",
    "\n",
    "2. Print all the scores of the top math students."
   ]
  },
  {
   "cell_type": "code",
   "execution_count": 28,
   "metadata": {},
   "outputs": [],
   "source": [
    "grades = np.array([[85, 88, 92],\n",
    "                   [78, 95, 80],\n",
    "                   [91, 88, 84],\n",
    "                   [92, 97, 89]])"
   ]
  },
  {
   "cell_type": "code",
   "execution_count": 44,
   "metadata": {},
   "outputs": [],
   "source": [
    "# code"
   ]
  },
  {
   "attachments": {},
   "cell_type": "markdown",
   "metadata": {},
   "source": [
    "---\n",
    "### Exercise 5: Predicting Class Labels\n",
    "\n",
    "In this exercise, you will create two arrays representing class labels and scores for each class. Then, you will use the scores to make predictions and compute the error rate between the true labels and the predictions.\n",
    "\n",
    "1. Create a 1D array `y` with 1,000 random integers from 0 to 2. This array represents the true class labels from three classes.\n",
    "\n",
    "2. Create a 2D array `scores` of shape 1,000 x 3 with random values uniformly drawn from the interval [0, 1]. This array represents the scores for each class, where `scores[i, j]` is the score of class `j` for the `i-th` example.\n",
    "\n",
    "3. For each row `i` of array `scores`, select the index `j` for which `scores[i, j]` is the maximum over all `scores[i,:]` in the i-th row. Collect the results in a 1D array `y_pred` with 1,000 elements.\n",
    "\n",
    "4. Compute the error rate between the true labels `y` and the predictions `y_pred`.\n"
   ]
  },
  {
   "cell_type": "code",
   "execution_count": 45,
   "metadata": {},
   "outputs": [],
   "source": [
    "# code"
   ]
  }
 ],
 "metadata": {
  "kernelspec": {
   "display_name": "Python 3",
   "language": "python",
   "name": "python3"
  },
  "language_info": {
   "codemirror_mode": {
    "name": "ipython",
    "version": 3
   },
   "file_extension": ".py",
   "mimetype": "text/x-python",
   "name": "python",
   "nbconvert_exporter": "python",
   "pygments_lexer": "ipython3",
   "version": "3.11.3"
  }
 },
 "nbformat": 4,
 "nbformat_minor": 4
}
