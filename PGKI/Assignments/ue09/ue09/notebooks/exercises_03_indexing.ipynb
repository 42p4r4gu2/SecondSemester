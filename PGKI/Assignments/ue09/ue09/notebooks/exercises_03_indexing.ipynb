{
 "cells": [
  {
   "cell_type": "code",
   "execution_count": 2,
   "metadata": {},
   "outputs": [],
   "source": [
    "import numpy as np"
   ]
  },
  {
   "attachments": {},
   "cell_type": "markdown",
   "metadata": {},
   "source": [
    "---\n",
    "## Indexing\n",
    "\n",
    "Solve the following exercises without using loops and without inserting the values manually. Let $a, b$ two numbers with $a \\leq b$ The colloquial phrases \n",
    "\n",
    "* from a to b\n",
    "* between a and b\n",
    "\n",
    "include **both** numbers $a$ and $b$. "
   ]
  },
  {
   "attachments": {},
   "cell_type": "markdown",
   "metadata": {},
   "source": [
    "---\n",
    "### Exercise 1\n",
    "\n",
    "Create an array with values from 0 to 10 and set even numbers to zero."
   ]
  },
  {
   "cell_type": "code",
   "execution_count": 3,
   "metadata": {},
   "outputs": [
    {
     "name": "stdout",
     "output_type": "stream",
     "text": [
      "[0 1 0 3 0 5 0 7 0 9 0]\n"
     ]
    }
   ],
   "source": [
    "# code\n",
    "\n",
    "X = np.arange(0,11)\n",
    "mask = X%2 == 0\n",
    "X[mask] = 0\n",
    "print(X)"
   ]
  },
  {
   "attachments": {},
   "cell_type": "markdown",
   "metadata": {},
   "source": [
    "---\n",
    "### Exercise 2\n",
    "\n",
    "Create an array with values from 0 to 10 and change the sign of the numbers from 3 to 7. "
   ]
  },
  {
   "cell_type": "code",
   "execution_count": 4,
   "metadata": {},
   "outputs": [
    {
     "name": "stdout",
     "output_type": "stream",
     "text": [
      "[ 0  1  2 -3  4  5  6 -7  8  9 10]\n"
     ]
    }
   ],
   "source": [
    "# code\n",
    "X = np.arange(0,11)\n",
    "mask = X%4 == 3\n",
    "X[mask] = -X[mask]\n",
    "print(X)"
   ]
  },
  {
   "attachments": {},
   "cell_type": "markdown",
   "metadata": {},
   "source": [
    "---\n",
    "### Exercise 3\n",
    "\n",
    "Select the values 6, 7, 17, and 18 from the given 2D array using a single statement. "
   ]
  },
  {
   "cell_type": "code",
   "execution_count": 10,
   "metadata": {},
   "outputs": [
    {
     "name": "stdout",
     "output_type": "stream",
     "text": [
      "[[ 0  1  2  3  4]\n",
      " [ 5  6  7  8  9]\n",
      " [10 11 12 13 14]\n",
      " [15 16 17 18 19]\n",
      " [20 21 22 23 24]]\n"
     ]
    }
   ],
   "source": [
    "x = np.arange(25).reshape(5, 5)\n",
    "print(x)"
   ]
  },
  {
   "cell_type": "code",
   "execution_count": 13,
   "metadata": {},
   "outputs": [
    {
     "name": "stdout",
     "output_type": "stream",
     "text": [
      "[ 6  7 17 18]\n"
     ]
    }
   ],
   "source": [
    "# code\n",
    "x = np.array((x[1,1], x[1,2], x[3,2], x[3,3]))\n",
    "print(x)"
   ]
  },
  {
   "attachments": {},
   "cell_type": "markdown",
   "metadata": {},
   "source": [
    "\n",
    "---\n",
    "### Exercise 4: Finding Top Math Students\n",
    "\n",
    "In this exercise, you will work with a dataset of student grades stored in a 2D array. Each row represents a student and each column represents a subject. The values in the array are the scores of the students in each subject. The first column refers to math.\n",
    "\n",
    "**Task:**\n",
    "\n",
    "1. Find all the students who scored above 90 in math.\n",
    "\n",
    "2. Print all the scores of the top math students."
   ]
  },
  {
   "cell_type": "code",
   "execution_count": 14,
   "metadata": {},
   "outputs": [
    {
     "name": "stdout",
     "output_type": "stream",
     "text": [
      "[[85 88 92]\n",
      " [78 95 80]\n",
      " [91 88 84]\n",
      " [92 97 89]]\n"
     ]
    }
   ],
   "source": [
    "grades = np.array([[85, 88, 92],\n",
    "                   [78, 95, 80],\n",
    "                   [91, 88, 84],\n",
    "                   [92, 97, 89]])\n",
    "\n",
    "print(grades)"
   ]
  },
  {
   "cell_type": "code",
   "execution_count": 15,
   "metadata": {},
   "outputs": [
    {
     "name": "stdout",
     "output_type": "stream",
     "text": [
      "[[91 88 84]\n",
      " [92 97 89]]\n"
     ]
    }
   ],
   "source": [
    "# code\n",
    "\n",
    "mask = grades[:, 0] > 90\n",
    "top_students = grades[mask]\n",
    "print(top_students)"
   ]
  },
  {
   "attachments": {},
   "cell_type": "markdown",
   "metadata": {},
   "source": [
    "---\n",
    "### Exercise 5: Predicting Class Labels\n",
    "\n",
    "In this exercise, you will create two arrays representing class labels and scores for each class. Then, you will use the scores to make predictions and compute the error rate between the true labels and the predictions.\n",
    "\n",
    "1. Create a 1D array `y` with 1,000 random integers from 0 to 2. This array represents the true class labels from three classes.\n",
    "\n",
    "2. Create a 2D array `scores` of shape 1,000 x 3 with random values uniformly drawn from the interval [0, 1]. This array represents the scores for each class, where `scores[i, j]` is the score of class `j` for the `i-th` example.\n",
    "\n",
    "3. For each row `i` of array `scores`, select the index `j` for which `scores[i, j]` is the maximum over all `scores[i,:]` in the i-th row. Collect the results in a 1D array `y_pred` with 1,000 elements.\n",
    "\n",
    "4. Compute the error rate between the true labels `y` and the predictions `y_pred`.\n"
   ]
  },
  {
   "cell_type": "code",
   "execution_count": 20,
   "metadata": {},
   "outputs": [
    {
     "name": "stdout",
     "output_type": "stream",
     "text": [
      "1.0\n"
     ]
    }
   ],
   "source": [
    "# code\n",
    "\n",
    "y = np.random.randint(0,3, size=1000)\n",
    "scores = np.random.uniform(0,1, size=(1000,3))\n",
    "y_pred = np.array(np.max(a=scores, axis=1))\n",
    "\n",
    "error_rate = np.mean(y != y_pred)\n",
    "\n",
    "print(error_rate)\n",
    "\n",
    "#TODO Fragen was da so abgeht eiegentlich?"
   ]
  },
  {
   "cell_type": "code",
   "execution_count": null,
   "metadata": {},
   "outputs": [],
   "source": []
  }
 ],
 "metadata": {
  "kernelspec": {
   "display_name": "Python 3",
   "language": "python",
   "name": "python3"
  },
  "language_info": {
   "codemirror_mode": {
    "name": "ipython",
    "version": 3
   },
   "file_extension": ".py",
   "mimetype": "text/x-python",
   "name": "python",
   "nbconvert_exporter": "python",
   "pygments_lexer": "ipython3",
   "version": "3.11.7"
  }
 },
 "nbformat": 4,
 "nbformat_minor": 4
}
