{
 "cells": [
  {
   "cell_type": "code",
   "execution_count": 4,
   "id": "1cd316a4-51eb-4ea6-8f04-01518732ae43",
   "metadata": {},
   "outputs": [],
   "source": [
    "import numpy as np"
   ]
  },
  {
   "attachments": {},
   "cell_type": "markdown",
   "id": "925f9073-7f64-45d5-b59f-95d8cc6ce1fe",
   "metadata": {},
   "source": [
    "## Shape Manipulations\n",
    "\n",
    "This notebook does not only contain exercises but also covers useful new material on shape manipulations. "
   ]
  },
  {
   "attachments": {},
   "cell_type": "markdown",
   "id": "5f5e362b-0772-4c13-a419-06820bee0b4c",
   "metadata": {
    "tags": []
   },
   "source": [
    "---\n",
    "### Overview\n",
    "\n",
    "| Method/Function     | Type      | Reference  | Returns\n",
    "|---------------------|-----------|------------|----------------------------------------|\n",
    "| `ndarray.flatten`   | method    | copy       | flattened copy of input array          |\n",
    "| `ndarray.ravel`     | method    | view       | flattened view of input array          |\n",
    "| `numpy.ravel`       | function  | view       | flattened view of input array          |\n",
    "| `ndarray.resize`    | method    | in-place   | reshaped input array of specified size |\n",
    "| `numpy.resize`      | function  | copy       | reshaped copy of specified size        |\n",
    "| `ndarray.reshape`   | method    | view       | reshaped view of same size             |\n",
    "| `numpy.reshape`     | function  | view       | reshaped view of same size             |\n",
    "| `ndarray.transpose` | method    | view       | array with permuted axes               |\n",
    "| `numpy.transpose`   | function  | view       | array with permuted axes               |\n",
    "| `ndarray.T`         | method    | view       | array with permuted axes               |\n"
   ]
  },
  {
   "attachments": {},
   "cell_type": "markdown",
   "id": "a2f0519d",
   "metadata": {},
   "source": [
    "---\n",
    "### Exercise 1\n",
    "\n",
    "Apply `ndarray.reshape` to change the shape of `x` into a 2D array in all possible forms"
   ]
  },
  {
   "cell_type": "code",
   "execution_count": 5,
   "id": "ae51220e",
   "metadata": {},
   "outputs": [],
   "source": [
    "x = np.arange(10)"
   ]
  },
  {
   "cell_type": "code",
   "execution_count": 9,
   "id": "46bfec2b",
   "metadata": {},
   "outputs": [],
   "source": [
    "# code"
   ]
  },
  {
   "attachments": {},
   "cell_type": "markdown",
   "id": "4038f33e",
   "metadata": {},
   "source": [
    "---\n",
    "### Exercise 2\n",
    "\n",
    "Predict the output:"
   ]
  },
  {
   "cell_type": "code",
   "execution_count": 10,
   "id": "3c2e86b0",
   "metadata": {},
   "outputs": [
    {
     "name": "stdout",
     "output_type": "stream",
     "text": [
      "None\n"
     ]
    }
   ],
   "source": [
    "x = np.arange(10).resize(5, 2)\n",
    "print(x)"
   ]
  },
  {
   "attachments": {},
   "cell_type": "markdown",
   "id": "e12dc364",
   "metadata": {},
   "source": [
    "---\n",
    "### Exercise 3\n",
    "\n",
    "Flatten the following array in different ways and predict the output:"
   ]
  },
  {
   "cell_type": "code",
   "execution_count": 11,
   "id": "0f21b96d",
   "metadata": {},
   "outputs": [
    {
     "name": "stdout",
     "output_type": "stream",
     "text": [
      "[[[ 0  1  2  3]\n",
      "  [ 4  5  6  7]]\n",
      "\n",
      " [[ 8  9 10 11]\n",
      "  [12 13 14 15]]\n",
      "\n",
      " [[16 17 18 19]\n",
      "  [20 21 22 23]]]\n"
     ]
    }
   ],
   "source": [
    "A = np.arange(24).reshape(3, 2, 4)\n",
    "print(A)"
   ]
  },
  {
   "cell_type": "code",
   "execution_count": 16,
   "id": "d2139cc3",
   "metadata": {},
   "outputs": [
    {
     "name": "stdout",
     "output_type": "stream",
     "text": [
      "[ 0  1  2  3  4  5  6  7  8  9 10 11 12 13 14 15 16 17 18 19 20 21 22 23]\n",
      "[ 0  1  2  3  4  5  6  7  8  9 10 11 12 13 14 15 16 17 18 19 20 21 22 23]\n",
      "[ 0  1  2  3  4  5  6  7  8  9 10 11 12 13 14 15 16 17 18 19 20 21 22 23]\n"
     ]
    }
   ],
   "source": [
    "# code\n",
    "\n",
    "print(A.flatten())\n",
    "print(A.ravel())\n",
    "print(A.reshape(-1))"
   ]
  },
  {
   "attachments": {},
   "cell_type": "markdown",
   "id": "5cf9f6d6",
   "metadata": {},
   "source": [
    "---\n",
    "### Let NumPy do the Work\n",
    "\n",
    "+ `reshape` admits one negative integer as argument\n",
    "\n",
    "+ in this case, NumPy infers the correct number from the other dimensions\n",
    "\n",
    "+ **Note:** `resize` does not accept negative integers as arguments \n",
    "\n",
    "<br>\n",
    "\n",
    "**Example:**"
   ]
  },
  {
   "cell_type": "code",
   "execution_count": 18,
   "id": "c2a7d327",
   "metadata": {},
   "outputs": [
    {
     "name": "stdout",
     "output_type": "stream",
     "text": [
      "[[0 1 2 3 4]\n",
      " [5 6 7 8 9]]\n"
     ]
    }
   ],
   "source": [
    "x = np.arange(10).reshape(-1, 5)    # NumPy infers 10/5 = 2 rows\n",
    "print(x)"
   ]
  },
  {
   "cell_type": "code",
   "execution_count": 19,
   "id": "84058718",
   "metadata": {},
   "outputs": [
    {
     "name": "stdout",
     "output_type": "stream",
     "text": [
      "[[0 1]\n",
      " [2 3]\n",
      " [4 5]\n",
      " [6 7]\n",
      " [8 9]]\n"
     ]
    }
   ],
   "source": [
    "x = np.arange(10).reshape(5, -1)    # NumPy infers 10/5 = 2 columns\n",
    "print(x)"
   ]
  },
  {
   "attachments": {},
   "cell_type": "markdown",
   "id": "522511a4",
   "metadata": {},
   "source": [
    "---\n",
    "### Add and Axis\n",
    "\n",
    "Adding an axis is occassionally requires, e.g. in sklearn and PyTorch. An example is provided in the broadcasting exercises. "
   ]
  },
  {
   "cell_type": "code",
   "execution_count": 20,
   "id": "93bc190c",
   "metadata": {},
   "outputs": [
    {
     "name": "stdout",
     "output_type": "stream",
     "text": [
      "shape : (10,)\n"
     ]
    }
   ],
   "source": [
    "x = np.arange(10)\n",
    "print('shape :', x.shape)"
   ]
  },
  {
   "attachments": {},
   "cell_type": "markdown",
   "id": "03ea8bc5",
   "metadata": {},
   "source": [
    "**Adding an axis from the right**\n",
    "\n",
    "The desired shape is (10, 1), that is the resulting 2D array looks like a column vector."
   ]
  },
  {
   "cell_type": "code",
   "execution_count": 21,
   "id": "e2ef8e6d",
   "metadata": {},
   "outputs": [
    {
     "name": "stdout",
     "output_type": "stream",
     "text": [
      "[[0]\n",
      " [1]\n",
      " [2]\n",
      " [3]\n",
      " [4]\n",
      " [5]\n",
      " [6]\n",
      " [7]\n",
      " [8]\n",
      " [9]]\n"
     ]
    }
   ],
   "source": [
    "y = x.reshape(-1, 1)\n",
    "print(y)"
   ]
  },
  {
   "cell_type": "code",
   "execution_count": 22,
   "id": "efdcd611",
   "metadata": {},
   "outputs": [
    {
     "name": "stdout",
     "output_type": "stream",
     "text": [
      "[[0]\n",
      " [1]\n",
      " [2]\n",
      " [3]\n",
      " [4]\n",
      " [5]\n",
      " [6]\n",
      " [7]\n",
      " [8]\n",
      " [9]]\n"
     ]
    }
   ],
   "source": [
    "y = x[:, np.newaxis]\n",
    "print(y)"
   ]
  },
  {
   "attachments": {},
   "cell_type": "markdown",
   "id": "4248ca0c",
   "metadata": {},
   "source": [
    "**Adding an axis from the left**\n",
    "\n",
    "The desired shape is (1, 10), that is the resulting 2D array looks like a row vector."
   ]
  },
  {
   "cell_type": "code",
   "execution_count": 23,
   "id": "94a51213",
   "metadata": {},
   "outputs": [
    {
     "name": "stdout",
     "output_type": "stream",
     "text": [
      "[[0 1 2 3 4 5 6 7 8 9]]\n"
     ]
    }
   ],
   "source": [
    "y = x.reshape(1, -1)\n",
    "print(y)"
   ]
  },
  {
   "cell_type": "code",
   "execution_count": 29,
   "id": "de92e540",
   "metadata": {},
   "outputs": [
    {
     "name": "stdout",
     "output_type": "stream",
     "text": [
      "[[0 1 2 3 4 5 6 7 8 9]] (1, 10)\n"
     ]
    }
   ],
   "source": [
    "y = x[np.newaxis, :]\n",
    "print(y, y.shape)"
   ]
  },
  {
   "attachments": {},
   "cell_type": "markdown",
   "id": "b165aa71",
   "metadata": {},
   "source": [
    "#### **np.newaxis**\n",
    "\n",
    "`np.newaxis` is a pseudo-index that uses the slicing operator to add an additional dimension to the array. Like `reshape`, the resulting array is a view. `np.newaxis` is equivalent to the `None` object, so `None` can be used in place of `np.newaxis` to add axes. "
   ]
  },
  {
   "cell_type": "code",
   "execution_count": 30,
   "id": "b199fb4c",
   "metadata": {},
   "outputs": [
    {
     "name": "stdout",
     "output_type": "stream",
     "text": [
      "True\n"
     ]
    }
   ],
   "source": [
    "print(np.newaxis is None)"
   ]
  },
  {
   "cell_type": "code",
   "execution_count": null,
   "id": "3699b96c",
   "metadata": {},
   "outputs": [],
   "source": []
  }
 ],
 "metadata": {
  "kernelspec": {
   "display_name": "Python 3 (ipykernel)",
   "language": "python",
   "name": "python3"
  },
  "language_info": {
   "codemirror_mode": {
    "name": "ipython",
    "version": 3
   },
   "file_extension": ".py",
   "mimetype": "text/x-python",
   "name": "python",
   "nbconvert_exporter": "python",
   "pygments_lexer": "ipython3",
   "version": "3.11.3"
  }
 },
 "nbformat": 4,
 "nbformat_minor": 5
}
