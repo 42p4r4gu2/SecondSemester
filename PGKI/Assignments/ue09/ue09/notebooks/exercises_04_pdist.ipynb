{
 "cells": [
  {
   "attachments": {},
   "cell_type": "markdown",
   "metadata": {},
   "source": [
    "## Pairwise Distances\n",
    "\n",
    "Given an $(m \\times n)$ feature matrix $\\mathbf{X} = (x_{ij})$, where rows represent objects and columns represent features of those objects. For example, rows could represent patients and columns could represent clinical data about these patients. \n",
    "\n",
    "A pairwise distance matrix $\\mathbf{D} = (d_{ij})$ of $\\mathbf{X}$ is an ($m \\times m$) matrix whose elements $d_{ij}$ are the Euclidean distances between the i-th and j-th row of matrix $\\mathbf{X}$. Thus, the squared elements of $\\mathbf{D}$ are of the form\n",
    "\n",
    "$$\n",
    "    d_{ij}^2 = \\sum_{k=1}^n (x_{ik} - x_{jk})^2 \n",
    "$$\n",
    "\n",
    "for all $i,j \\in \\{1, \\ldots, m\\}$.\n",
    "\n",
    "**Task:** Write a function that accepts a feature matrix $\\mathbf{X}$ and returns a pairwise distance matrix $\\mathbf{D}$. Compute $\\mathbf{D}$ without using loops.\n",
    "\n"
   ]
  },
  {
   "cell_type": "code",
   "execution_count": 4,
   "metadata": {},
   "outputs": [],
   "source": [
    "# code\n",
    "import numpy as np"
   ]
  },
  {
   "cell_type": "code",
   "execution_count": 22,
   "metadata": {},
   "outputs": [
    {
     "name": "stdout",
     "output_type": "stream",
     "text": [
      "[[0 1]\n",
      " [8 9]]\n",
      "[[ 0 49]\n",
      " [49  0]]\n"
     ]
    },
    {
     "data": {
      "text/plain": [
       "'\\nY = np.transpose(X)\\nprint(X)\\nprint()\\nprint(Y)\\nprint()\\nprint((X-Y)**2)\\n'"
      ]
     },
     "execution_count": 22,
     "metadata": {},
     "output_type": "execute_result"
    }
   ],
   "source": [
    "def force_reshape(X, m):\n",
    "    if(X.shape[1] > m):\n",
    "        return X[: , :m]\n",
    "    else:\n",
    "        return np.pad(array=X, pad_width=((0,0),(0,m-X.shape[1])))\n",
    "\n",
    "def pairwise_dist(A):\n",
    "    A = force_reshape(A, A.shape[0])\n",
    "    print(A)\n",
    "    A_t = A.transpose()\n",
    "    ret = (A-A_t)**2\n",
    "    return ret\n",
    "\n",
    "X = np.arange(16).reshape(2,-1)\n",
    "Dst = pairwise_dist(X)\n",
    "print(Dst)\n",
    "\n",
    "\"\"\"\n",
    "Y = np.transpose(X)\n",
    "print(X)\n",
    "print()\n",
    "print(Y)\n",
    "print()\n",
    "print((X-Y)**2)\n",
    "\"\"\""
   ]
  },
  {
   "cell_type": "code",
   "execution_count": null,
   "metadata": {},
   "outputs": [],
   "source": []
  }
 ],
 "metadata": {
  "kernelspec": {
   "display_name": "Python 3",
   "language": "python",
   "name": "python3"
  },
  "language_info": {
   "codemirror_mode": {
    "name": "ipython",
    "version": 3
   },
   "file_extension": ".py",
   "mimetype": "text/x-python",
   "name": "python",
   "nbconvert_exporter": "python",
   "pygments_lexer": "ipython3",
   "version": "3.11.7"
  }
 },
 "nbformat": 4,
 "nbformat_minor": 4
}
