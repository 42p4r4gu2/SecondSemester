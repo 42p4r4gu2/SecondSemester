{
 "cells": [
  {
   "attachments": {},
   "cell_type": "markdown",
   "metadata": {},
   "source": [
    "## Pairwise Distances\n",
    "\n",
    "Given an $(m \\times n)$ feature matrix $\\mathbf{X} = (x_{ij})$, where rows represent objects and columns represent features of those objects. For example, rows could represent patients and columns could represent clinical data about these patients. \n",
    "\n",
    "A pairwise distance matrix $\\mathbf{D} = (d_{ij})$ of $\\mathbf{X}$ is an ($m \\times m$) matrix whose elements $d_{ij}$ are the Euclidean distances between the i-th and j-th row of matrix $\\mathbf{X}$. Thus, the squared elements of $\\mathbf{D}$ are of the form\n",
    "\n",
    "$$\n",
    "    d_{ij}^2 = \\sum_{k=1}^n (x_{ik} - x_{jk})^2 \n",
    "$$\n",
    "\n",
    "for all $i,j \\in \\{1, \\ldots, m\\}$.\n",
    "\n",
    "**Task:** Write a function that accepts a feature matrix $\\mathbf{X}$ and returns a pairwise distance matrix $\\mathbf{D}$. Compute $\\mathbf{D}$ without using loops.\n",
    "\n"
   ]
  },
  {
   "cell_type": "code",
   "execution_count": 2,
   "metadata": {},
   "outputs": [],
   "source": [
    "# code"
   ]
  }
 ],
 "metadata": {
  "kernelspec": {
   "display_name": "Python 3",
   "language": "python",
   "name": "python3"
  },
  "language_info": {
   "codemirror_mode": {
    "name": "ipython",
    "version": 3
   },
   "file_extension": ".py",
   "mimetype": "text/x-python",
   "name": "python",
   "nbconvert_exporter": "python",
   "pygments_lexer": "ipython3",
   "version": "3.11.3"
  }
 },
 "nbformat": 4,
 "nbformat_minor": 4
}
