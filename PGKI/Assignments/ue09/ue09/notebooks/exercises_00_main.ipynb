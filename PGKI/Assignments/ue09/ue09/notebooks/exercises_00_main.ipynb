{
 "cells": [
  {
   "attachments": {},
   "cell_type": "markdown",
   "metadata": {},
   "source": [
    "## Exercises 9\n",
    "\n",
    "1. [Shape Manipulation](./exercises_01_shapes.ipynb)\n",
    "\n",
    "2. [Broadcasting](./exercises_02_broadcasting.ipynb)\n",
    "\n",
    "3. [Indexing](./exercises_03_indexing.ipynb)\n",
    "\n",
    "4. [Pairwise Distances](./exercises_04_pdist.ipynb)\n",
    "\n",
    "5. [Image Processing](./exercises_05_images.ipynb)\n",
    "\n",
    "6. [Titanic](./exercises_06_titanic.ipynb)\n",
    "\n",
    "7. [Perceptron](./exercises_07_perceptron.ipynb) (revisited)"
   ]
  }
 ],
 "metadata": {
  "language_info": {
   "name": "python"
  },
  "orig_nbformat": 4
 },
 "nbformat": 4,
 "nbformat_minor": 2
}
