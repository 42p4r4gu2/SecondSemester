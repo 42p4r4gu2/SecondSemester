{
 "cells": [
  {
   "cell_type": "code",
   "execution_count": 1,
   "id": "1cd316a4-51eb-4ea6-8f04-01518732ae43",
   "metadata": {},
   "outputs": [],
   "source": [
    "import numpy as np"
   ]
  },
  {
   "attachments": {},
   "cell_type": "markdown",
   "id": "925f9073-7f64-45d5-b59f-95d8cc6ce1fe",
   "metadata": {},
   "source": [
    "## Broadcasting\n",
    "\n",
    "**Remark:** For convenience, explanations omit commas in ndarray objects."
   ]
  },
  {
   "attachments": {},
   "cell_type": "markdown",
   "id": "5f5e362b-0772-4c13-a419-06820bee0b4c",
   "metadata": {
    "tags": []
   },
   "source": [
    "---\n",
    "### Exercise 1:\n",
    "\n",
    "Predict the output and explain step-by-step how broadcasting rules are applied:"
   ]
  },
  {
   "cell_type": "code",
   "execution_count": 2,
   "id": "fc1996da-47a5-4440-8ec5-2fdd40942c6c",
   "metadata": {},
   "outputs": [
    {
     "data": {
      "text/plain": [
       "array([[0., 1., 2.],\n",
       "       [0., 1., 2.]])"
      ]
     },
     "execution_count": 2,
     "metadata": {},
     "output_type": "execute_result"
    }
   ],
   "source": [
    "A = np.ones((2, 3))\n",
    "x = np.arange(3)\n",
    "\n",
    "A * x"
   ]
  },
  {
   "attachments": {},
   "cell_type": "markdown",
   "id": "5e19aaa3-6c90-4c6f-af0d-62f2b9ceb26c",
   "metadata": {
    "tags": []
   },
   "source": [
    "---\n",
    "### Exercise 2:\n",
    "\n",
    "Predict the output and explain step-by-step how broadcasting rules are applied:"
   ]
  },
  {
   "cell_type": "code",
   "execution_count": 3,
   "id": "68f50cf6-0985-49ab-88e3-59532311e7bd",
   "metadata": {},
   "outputs": [
    {
     "data": {
      "text/plain": [
       "array([[ 0, -1, -2],\n",
       "       [ 1,  0, -1],\n",
       "       [ 2,  1,  0]])"
      ]
     },
     "execution_count": 3,
     "metadata": {},
     "output_type": "execute_result"
    }
   ],
   "source": [
    "A = np.arange(3).reshape(3, 1)\n",
    "x = np.arange(3)\n",
    "\n",
    "A - x"
   ]
  },
  {
   "attachments": {},
   "cell_type": "markdown",
   "id": "2f226ea1-cb94-47cf-a31b-ed4a9c96e909",
   "metadata": {},
   "source": [
    "---\n",
    "### Exercise 3:\n",
    "\n",
    "Predict the output and explain step-by-step how broadcasting rules are applied:"
   ]
  },
  {
   "cell_type": "code",
   "execution_count": 4,
   "id": "d6df7a13-2c50-4670-850a-b6f21921f44e",
   "metadata": {},
   "outputs": [
    {
     "ename": "ValueError",
     "evalue": "operands could not be broadcast together with shapes (3,2) (3,) ",
     "output_type": "error",
     "traceback": [
      "\u001b[0;31m---------------------------------------------------------------------------\u001b[0m",
      "\u001b[0;31mValueError\u001b[0m                                Traceback (most recent call last)",
      "Cell \u001b[0;32mIn[4], line 4\u001b[0m\n\u001b[1;32m      1\u001b[0m A \u001b[39m=\u001b[39m np\u001b[39m.\u001b[39mones((\u001b[39m3\u001b[39m, \u001b[39m2\u001b[39m))\n\u001b[1;32m      2\u001b[0m x \u001b[39m=\u001b[39m np\u001b[39m.\u001b[39marange(\u001b[39m3\u001b[39m)\n\u001b[0;32m----> 4\u001b[0m A \u001b[39m+\u001b[39;49m x\n",
      "\u001b[0;31mValueError\u001b[0m: operands could not be broadcast together with shapes (3,2) (3,) "
     ]
    }
   ],
   "source": [
    "A = np.ones((3, 2))\n",
    "x = np.arange(3)\n",
    "\n",
    "A + x"
   ]
  },
  {
   "attachments": {},
   "cell_type": "markdown",
   "id": "d71eeb6a-6cc5-4f00-951d-6807bb989428",
   "metadata": {},
   "source": [
    "---\n",
    "### Exercise 4:\n",
    "\n",
    "Predict the output and explain step-by-step how broadcasting rules are applied:"
   ]
  },
  {
   "cell_type": "code",
   "execution_count": 5,
   "id": "d2c7a243-d46a-4409-92b8-76d379d503c5",
   "metadata": {},
   "outputs": [
    {
     "data": {
      "text/plain": [
       "array([[[0, 1],\n",
       "        [1, 2],\n",
       "        [2, 3]],\n",
       "\n",
       "       [[2, 3],\n",
       "        [3, 4],\n",
       "        [4, 5]]])"
      ]
     },
     "execution_count": 5,
     "metadata": {},
     "output_type": "execute_result"
    }
   ],
   "source": [
    "A = np.arange(4).reshape(2, 1, 2)\n",
    "x = np.arange(3).reshape(3, 1)\n",
    "A + x"
   ]
  },
  {
   "attachments": {},
   "cell_type": "markdown",
   "id": "0a0c78e1-9f04-4bff-b1de-1e1ca8ad451f",
   "metadata": {
    "tags": []
   },
   "source": [
    "---\n",
    "### Exercise 5:\n",
    "\n",
    "Mean center the rows of a matrix $A \\in \\mathbb{R}^{m \\times n}$. The elements of the mean-centered matrix are given by\n",
    "\n",
    "$$\n",
    "    \\bar{a}_{ij} = a_{ij} - \\mu_i,\n",
    "$$\n",
    "\n",
    "where \n",
    "\n",
    "$$\n",
    "    \\mu_i = \\frac{1}{n} \\sum_{j=1}^n a_{ij}\n",
    "$$\n",
    "\n",
    "is the mean of the i-th row of $A$. \n",
    "\n",
    "<br>\n",
    "\n",
    "Perform row-wise mean centering on the following matrix:"
   ]
  },
  {
   "cell_type": "code",
   "execution_count": null,
   "id": "e8e0444a-838c-405d-847f-e99230e3390e",
   "metadata": {},
   "outputs": [],
   "source": [
    "A = np.linspace(1, 8, 8).reshape(4,2)\n",
    "print(A)"
   ]
  },
  {
   "attachments": {},
   "cell_type": "markdown",
   "id": "69944cc2",
   "metadata": {},
   "source": [
    "---\n",
    "### Exercise 6: Sinkhorn's algorithm\n",
    "\n",
    "Suppose that $X = (x_{ij})$ is a square matrix with non-negative elements $x_{ij} \\in \\mathbb{R}$. Consider Sinkhorn's algorithm that alternates between row and column normalization:\n",
    "\n",
    "```\n",
    "    repeat\n",
    "    \n",
    "        # row normalization\n",
    "        for each row i of matrix X\n",
    "            for each column j of matrix X\n",
    "                X[i,j] = X[i,j] / sum(X[i,:])  # sum(X[i,:]) = total sum of i-th row\n",
    "        \n",
    "        # column normalization\n",
    "        for each column j of matrix X\n",
    "            for each row i of matrix X\n",
    "                X[i,j] = X[i,j] / sum(X[:,j])  # sum(X[:,j]) = total sum of j-th column\n",
    "    \n",
    "    until termination\n",
    "```            \n",
    "\n",
    "Write a function `sinkhorn(X)` that returns the matrix obtained by applying Sinkhorn's algorithm to the square matrix `X` with non-negative elements. Test your implementation with different square matrices and print the sum of each row and each column. What do you observe?"
   ]
  }
 ],
 "metadata": {
  "kernelspec": {
   "display_name": "Python 3 (ipykernel)",
   "language": "python",
   "name": "python3"
  },
  "language_info": {
   "codemirror_mode": {
    "name": "ipython",
    "version": 3
   },
   "file_extension": ".py",
   "mimetype": "text/x-python",
   "name": "python",
   "nbconvert_exporter": "python",
   "pygments_lexer": "ipython3",
   "version": "3.11.3"
  }
 },
 "nbformat": 4,
 "nbformat_minor": 5
}
